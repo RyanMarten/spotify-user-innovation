{
 "cells": [
  {
   "cell_type": "code",
   "execution_count": 7,
   "id": "australian-bernard",
   "metadata": {},
   "outputs": [
    {
     "name": "stderr",
     "output_type": "stream",
     "text": [
      "/var/folders/nw/8x6xycw50x793r_4z9sbn7hw0000gn/T/ipykernel_73396/3361336789.py:12: DeprecationWarning: headless property is deprecated, instead use add_argument('--headless') or add_argument('--headless=new')\n",
      "  options.headless = True\n"
     ]
    }
   ],
   "source": [
    "import selenium, os, re\n",
    "import pandas as pd\n",
    "from bs4 import BeautifulSoup\n",
    "from tqdm import tqdm\n",
    "from langdetect import detect\n",
    "\n",
    "from selenium import webdriver\n",
    "from selenium.webdriver.chrome.options import Options\n",
    "from selenium.webdriver.chrome.service import Service\n",
    "from webdriver_manager.chrome import ChromeDriverManager\n",
    "options = Options()\n",
    "options.headless = True\n",
    "options.add_argument(\"start-maximized\")\n",
    "driver = webdriver.Chrome()\n"
   ]
  },
  {
   "cell_type": "markdown",
   "id": "superb-projection",
   "metadata": {},
   "source": [
    "## Scrape Post Data"
   ]
  },
  {
   "cell_type": "code",
   "execution_count": 8,
   "id": "asian-wound",
   "metadata": {},
   "outputs": [
    {
     "name": "stderr",
     "output_type": "stream",
     "text": [
      "  0%|          | 0/648 [00:00<?, ?it/s]"
     ]
    },
    {
     "name": "stdout",
     "output_type": "stream",
     "text": [
      "Scraping  10  comments\n",
      "Scraping  10  comments\n",
      "Scraping  10  comments\n",
      "Scraping  10  comments\n",
      "Scraping  10  comments\n",
      "Scraping  10  comments\n",
      "Scraping  10  comments\n",
      "Scraping  10  comments\n",
      "Scraping  10  comments\n",
      "Scraping  10  comments\n",
      "Scraping  10  comments\n",
      "Scraping  10  comments\n",
      "Scraping  10  comments\n",
      "Scraping  10  comments\n",
      "Scraping  10  comments\n",
      "Scraping  10  comments\n",
      "Scraping  10  comments\n",
      "Scraping  10  comments\n",
      "Scraping  10  comments\n"
     ]
    },
    {
     "name": "stderr",
     "output_type": "stream",
     "text": [
      "  0%|          | 1/648 [00:26<4:45:22, 26.46s/it]"
     ]
    },
    {
     "name": "stdout",
     "output_type": "stream",
     "text": [
      "Scraping  9  comments\n",
      "Scraping  10  comments\n",
      "Scraping  10  comments\n",
      "Scraping  10  comments\n",
      "Scraping  10  comments\n",
      "Scraping  10  comments\n",
      "Scraping  10  comments\n",
      "Scraping  10  comments\n",
      "Scraping  10  comments\n",
      "Scraping  10  comments\n",
      "Scraping  10  comments\n",
      "Scraping  10  comments\n",
      "Scraping  10  comments\n",
      "Scraping  10  comments\n",
      "Scraping  10  comments\n",
      "Scraping  10  comments\n",
      "Scraping  10  comments\n",
      "Scraping  10  comments\n",
      "Scraping  10  comments\n",
      "Scraping  10  comments\n",
      "Scraping  10  comments\n",
      "Scraping  10  comments\n",
      "Scraping  10  comments\n",
      "Scraping  10  comments\n",
      "Scraping  10  comments\n",
      "Scraping  10  comments\n",
      "Scraping  10  comments\n",
      "Scraping  10  comments\n",
      "Scraping  10  comments\n",
      "Scraping  10  comments\n",
      "Scraping  10  comments\n",
      "Scraping  10  comments\n",
      "Scraping  10  comments\n",
      "Scraping  10  comments\n",
      "Scraping  10  comments\n",
      "Scraping  10  comments\n",
      "Scraping  10  comments\n",
      "Scraping  10  comments\n",
      "Scraping  10  comments\n",
      "Scraping  10  comments\n",
      "Scraping  10  comments\n",
      "Scraping  10  comments\n",
      "Scraping  10  comments\n",
      "Scraping  10  comments\n",
      "Scraping  10  comments\n",
      "Scraping  10  comments\n",
      "Scraping  10  comments\n",
      "Scraping  10  comments\n",
      "Scraping  10  comments\n",
      "Scraping  10  comments\n",
      "Scraping  10  comments\n",
      "Scraping  10  comments\n",
      "Scraping  10  comments\n",
      "Scraping  10  comments\n",
      "Scraping  10  comments\n",
      "Scraping  10  comments\n",
      "Scraping  10  comments\n",
      "Scraping  10  comments\n",
      "Scraping  10  comments\n",
      "Scraping  10  comments\n",
      "Scraping  10  comments\n",
      "Scraping  10  comments\n",
      "Scraping  10  comments\n",
      "Scraping  10  comments\n",
      "Scraping  10  comments\n",
      "Scraping  10  comments\n",
      "Scraping  10  comments\n",
      "Scraping  10  comments\n",
      "Scraping  10  comments\n",
      "Scraping  10  comments\n",
      "Scraping  10  comments\n",
      "Scraping  10  comments\n",
      "Scraping  10  comments\n",
      "Scraping  10  comments\n",
      "Scraping  10  comments\n",
      "Scraping  10  comments\n",
      "Scraping  10  comments\n",
      "Scraping  10  comments\n",
      "Scraping  10  comments\n",
      "Scraping  10  comments\n",
      "Scraping  10  comments\n",
      "Scraping  10  comments\n",
      "Scraping  10  comments\n",
      "Scraping  10  comments\n",
      "Scraping  10  comments\n",
      "Scraping  10  comments\n",
      "Scraping  10  comments\n",
      "Scraping  10  comments\n",
      "Scraping  10  comments\n",
      "Scraping  10  comments\n",
      "Scraping  10  comments\n",
      "Scraping  10  comments\n",
      "Scraping  10  comments\n",
      "Scraping  10  comments\n",
      "Scraping  10  comments\n",
      "Scraping  10  comments\n",
      "Scraping  10  comments\n",
      "Scraping  10  comments\n",
      "Scraping  10  comments\n",
      "Scraping  10  comments\n",
      "Scraping  10  comments\n",
      "Scraping  10  comments\n",
      "Scraping  10  comments\n",
      "Scraping  10  comments\n",
      "Scraping  10  comments\n",
      "Scraping  10  comments\n",
      "Scraping  10  comments\n",
      "Scraping  10  comments\n",
      "Scraping  10  comments\n",
      "Scraping  10  comments\n",
      "Scraping  10  comments\n",
      "Scraping  10  comments\n",
      "Scraping  10  comments\n",
      "Scraping  10  comments\n",
      "Scraping  10  comments\n",
      "Scraping  10  comments\n",
      "Scraping  10  comments\n",
      "Scraping  10  comments\n",
      "Scraping  10  comments\n",
      "Scraping  10  comments\n",
      "Scraping  10  comments\n",
      "Scraping  10  comments\n",
      "Scraping  10  comments\n",
      "Scraping  10  comments\n",
      "Scraping  10  comments\n",
      "Scraping  10  comments\n",
      "Scraping  10  comments\n",
      "Scraping  10  comments\n",
      "Scraping  10  comments\n",
      "Scraping  10  comments\n",
      "Scraping  10  comments\n",
      "Scraping  10  comments\n",
      "Scraping  10  comments\n",
      "Scraping  10  comments\n",
      "Scraping  10  comments\n",
      "Scraping  10  comments\n",
      "Scraping  10  comments\n",
      "Scraping  10  comments\n",
      "Scraping  10  comments\n",
      "Scraping  10  comments\n",
      "Scraping  10  comments\n",
      "Scraping  10  comments\n",
      "Scraping  10  comments\n",
      "Scraping  10  comments\n",
      "Scraping  10  comments\n",
      "Scraping  10  comments\n",
      "Scraping  10  comments\n",
      "Scraping  10  comments\n",
      "Scraping  10  comments\n",
      "Scraping  10  comments\n",
      "Scraping  10  comments\n",
      "Scraping  10  comments\n",
      "Scraping  10  comments\n",
      "Scraping  10  comments\n",
      "Scraping  10  comments\n",
      "Scraping  10  comments\n",
      "Scraping  10  comments\n",
      "Scraping  10  comments\n",
      "Scraping  10  comments\n",
      "Scraping  10  comments\n",
      "Scraping  10  comments\n",
      "Scraping  10  comments\n",
      "Scraping  10  comments\n",
      "Scraping  10  comments\n",
      "Scraping  10  comments\n"
     ]
    },
    {
     "name": "stderr",
     "output_type": "stream",
     "text": [
      "  0%|          | 2/648 [05:51<36:16:46, 202.18s/it]"
     ]
    },
    {
     "name": "stdout",
     "output_type": "stream",
     "text": [
      "Scraping  2  comments\n",
      "Scraping  10  comments\n",
      "Scraping  10  comments\n",
      "Scraping  10  comments\n",
      "Scraping  10  comments\n",
      "Scraping  10  comments\n",
      "Scraping  10  comments\n",
      "Scraping  10  comments\n"
     ]
    },
    {
     "name": "stderr",
     "output_type": "stream",
     "text": [
      "  0%|          | 3/648 [06:04<20:44:07, 115.73s/it]"
     ]
    },
    {
     "name": "stdout",
     "output_type": "stream",
     "text": [
      "Scraping  6  comments\n",
      "Scraping  10  comments\n",
      "Scraping  10  comments\n",
      "Scraping  10  comments\n",
      "Scraping  10  comments\n",
      "Scraping  10  comments\n",
      "Scraping  10  comments\n",
      "Scraping  10  comments\n",
      "Scraping  10  comments\n",
      "Scraping  10  comments\n",
      "Scraping  10  comments\n",
      "Scraping  10  comments\n",
      "Scraping  10  comments\n",
      "Scraping  10  comments\n",
      "Scraping  10  comments\n",
      "Scraping  10  comments\n",
      "Scraping  10  comments\n",
      "Scraping  10  comments\n"
     ]
    },
    {
     "name": "stderr",
     "output_type": "stream",
     "text": [
      "  1%|          | 4/648 [06:31<14:26:03, 80.69s/it] "
     ]
    },
    {
     "name": "stdout",
     "output_type": "stream",
     "text": [
      "Scraping  3  comments\n"
     ]
    },
    {
     "name": "stderr",
     "output_type": "stream",
     "text": [
      "  1%|          | 5/648 [06:34<9:23:17, 52.56s/it] "
     ]
    },
    {
     "name": "stdout",
     "output_type": "stream",
     "text": [
      "Scraping  1  comments\n",
      "Scraping  10  comments\n",
      "Scraping  10  comments\n"
     ]
    },
    {
     "name": "stderr",
     "output_type": "stream",
     "text": [
      "  1%|          | 6/648 [06:40<6:32:38, 36.70s/it]"
     ]
    },
    {
     "name": "stdout",
     "output_type": "stream",
     "text": [
      "Scraping  5  comments\n",
      "Scraping  10  comments\n",
      "Scraping  10  comments\n",
      "Scraping  10  comments\n",
      "Scraping  10  comments\n",
      "Scraping  10  comments\n",
      "Scraping  10  comments\n",
      "Scraping  10  comments\n",
      "Scraping  10  comments\n",
      "Scraping  10  comments\n",
      "Scraping  10  comments\n"
     ]
    },
    {
     "name": "stderr",
     "output_type": "stream",
     "text": [
      "  1%|          | 7/648 [06:57<5:24:39, 30.39s/it]"
     ]
    },
    {
     "name": "stdout",
     "output_type": "stream",
     "text": [
      "Scraping  6  comments\n"
     ]
    },
    {
     "name": "stderr",
     "output_type": "stream",
     "text": [
      "  1%|          | 8/648 [06:59<3:48:33, 21.43s/it]"
     ]
    },
    {
     "name": "stdout",
     "output_type": "stream",
     "text": [
      "Scraping  1  comments\n",
      "Scraping  10  comments\n",
      "Scraping  10  comments\n",
      "Scraping  10  comments\n",
      "Scraping  10  comments\n",
      "Scraping  10  comments\n",
      "Scraping  10  comments\n",
      "Scraping  10  comments\n",
      "Scraping  10  comments\n",
      "Scraping  10  comments\n"
     ]
    },
    {
     "name": "stderr",
     "output_type": "stream",
     "text": [
      "  1%|▏         | 9/648 [07:16<3:34:15, 20.12s/it]"
     ]
    },
    {
     "name": "stdout",
     "output_type": "stream",
     "text": [
      "Scraping  7  comments\n",
      "Scraping  10  comments\n",
      "Scraping  10  comments\n",
      "Scraping  10  comments\n",
      "Scraping  10  comments\n",
      "Scraping  10  comments\n",
      "Scraping  10  comments\n",
      "Scraping  10  comments\n"
     ]
    },
    {
     "name": "stderr",
     "output_type": "stream",
     "text": [
      "  2%|▏         | 10/648 [07:30<3:13:05, 18.16s/it]"
     ]
    },
    {
     "name": "stdout",
     "output_type": "stream",
     "text": [
      "Scraping  6  comments\n"
     ]
    },
    {
     "name": "stderr",
     "output_type": "stream",
     "text": [
      "  2%|▏         | 11/648 [07:33<2:21:27, 13.32s/it]"
     ]
    },
    {
     "name": "stdout",
     "output_type": "stream",
     "text": [
      "Scraping  2  comments\n"
     ]
    },
    {
     "name": "stderr",
     "output_type": "stream",
     "text": [
      "  2%|▏         | 12/648 [07:36<1:49:44, 10.35s/it]"
     ]
    },
    {
     "name": "stdout",
     "output_type": "stream",
     "text": [
      "Scraping  1  comments\n"
     ]
    },
    {
     "name": "stderr",
     "output_type": "stream",
     "text": [
      "  2%|▏         | 13/648 [07:38<1:22:18,  7.78s/it]"
     ]
    },
    {
     "name": "stdout",
     "output_type": "stream",
     "text": [
      "Scraping  1  comments\n",
      "Scraping  10  comments\n",
      "Scraping  10  comments\n",
      "Scraping  10  comments\n",
      "Scraping  10  comments\n",
      "Scraping  10  comments\n",
      "Scraping  10  comments\n",
      "Scraping  10  comments\n",
      "Scraping  10  comments\n",
      "Scraping  10  comments\n",
      "Scraping  10  comments\n",
      "Scraping  10  comments\n",
      "Scraping  10  comments\n",
      "Scraping  10  comments\n",
      "Scraping  10  comments\n",
      "Scraping  10  comments\n",
      "Scraping  10  comments\n",
      "Scraping  10  comments\n",
      "Scraping  10  comments\n",
      "Scraping  10  comments\n",
      "Scraping  10  comments\n",
      "Scraping  10  comments\n",
      "Scraping  10  comments\n",
      "Scraping  10  comments\n",
      "Scraping  10  comments\n",
      "Scraping  10  comments\n",
      "Scraping  10  comments\n",
      "Scraping  10  comments\n",
      "Scraping  10  comments\n",
      "Scraping  10  comments\n",
      "Scraping  10  comments\n",
      "Scraping  10  comments\n",
      "Scraping  10  comments\n",
      "Scraping  10  comments\n",
      "Scraping  10  comments\n",
      "Scraping  10  comments\n",
      "Scraping  10  comments\n",
      "Scraping  10  comments\n",
      "Scraping  10  comments\n",
      "Scraping  10  comments\n",
      "Scraping  10  comments\n",
      "Scraping  10  comments\n",
      "Scraping  10  comments\n",
      "Scraping  10  comments\n",
      "Scraping  10  comments\n",
      "Scraping  10  comments\n",
      "Scraping  10  comments\n",
      "Scraping  10  comments\n",
      "Scraping  10  comments\n",
      "Scraping  10  comments\n",
      "Scraping  10  comments\n",
      "Scraping  10  comments\n",
      "Scraping  10  comments\n",
      "Scraping  10  comments\n",
      "Scraping  10  comments\n",
      "Scraping  10  comments\n",
      "Scraping  10  comments\n",
      "Scraping  10  comments\n",
      "Scraping  10  comments\n",
      "Scraping  10  comments\n",
      "Scraping  10  comments\n",
      "Scraping  10  comments\n",
      "Scraping  10  comments\n",
      "Scraping  10  comments\n",
      "Scraping  10  comments\n",
      "Scraping  10  comments\n",
      "Scraping  10  comments\n",
      "Scraping  10  comments\n",
      "Scraping  10  comments\n",
      "Scraping  10  comments\n",
      "Scraping  10  comments\n",
      "Scraping  10  comments\n",
      "Scraping  10  comments\n",
      "Scraping  10  comments\n",
      "Scraping  10  comments\n",
      "Scraping  10  comments\n",
      "Scraping  10  comments\n",
      "Scraping  10  comments\n",
      "Scraping  10  comments\n",
      "Scraping  10  comments\n",
      "Scraping  10  comments\n",
      "Scraping  10  comments\n",
      "Scraping  10  comments\n",
      "Scraping  10  comments\n",
      "Scraping  10  comments\n",
      "Scraping  10  comments\n",
      "Scraping  10  comments\n"
     ]
    },
    {
     "name": "stderr",
     "output_type": "stream",
     "text": [
      "  2%|▏         | 14/648 [09:51<8:02:41, 45.68s/it]"
     ]
    },
    {
     "name": "stdout",
     "output_type": "stream",
     "text": [
      "Scraping  9  comments\n",
      "Scraping  10  comments\n",
      "Scraping  10  comments\n",
      "Scraping  10  comments\n",
      "Scraping  10  comments\n",
      "Scraping  10  comments\n",
      "Scraping  10  comments\n"
     ]
    },
    {
     "name": "stderr",
     "output_type": "stream",
     "text": [
      "  2%|▏         | 15/648 [10:01<6:07:54, 34.87s/it]"
     ]
    },
    {
     "name": "stdout",
     "output_type": "stream",
     "text": [
      "Scraping  6  comments\n",
      "Scraping  10  comments\n",
      "Scraping  10  comments\n",
      "Scraping  10  comments\n"
     ]
    },
    {
     "name": "stderr",
     "output_type": "stream",
     "text": [
      "  2%|▏         | 16/648 [10:08<4:40:16, 26.61s/it]"
     ]
    },
    {
     "name": "stdout",
     "output_type": "stream",
     "text": [
      "Scraping  8  comments\n",
      "Scraping  10  comments\n",
      "Scraping  10  comments\n",
      "Scraping  10  comments\n",
      "Scraping  10  comments\n",
      "Scraping  10  comments\n",
      "Scraping  10  comments\n",
      "Scraping  10  comments\n",
      "Scraping  10  comments\n",
      "Scraping  10  comments\n",
      "Scraping  10  comments\n",
      "Scraping  10  comments\n",
      "Scraping  10  comments\n",
      "Scraping  10  comments\n",
      "Scraping  10  comments\n",
      "Scraping  10  comments\n",
      "Scraping  10  comments\n",
      "Scraping  10  comments\n",
      "Scraping  10  comments\n",
      "Scraping  10  comments\n",
      "Scraping  10  comments\n",
      "Scraping  10  comments\n",
      "Scraping  10  comments\n",
      "Scraping  10  comments\n",
      "Scraping  10  comments\n",
      "Scraping  10  comments\n",
      "Scraping  10  comments\n",
      "Scraping  10  comments\n",
      "Scraping  10  comments\n",
      "Scraping  10  comments\n",
      "Scraping  10  comments\n",
      "Scraping  10  comments\n"
     ]
    },
    {
     "name": "stderr",
     "output_type": "stream",
     "text": [
      "  3%|▎         | 17/648 [10:58<5:52:28, 33.52s/it]"
     ]
    },
    {
     "name": "stdout",
     "output_type": "stream",
     "text": [
      "Scraping  10  comments\n",
      "Scraping  10  comments\n",
      "Scraping  10  comments\n",
      "Scraping  10  comments\n",
      "Scraping  10  comments\n",
      "Scraping  10  comments\n",
      "Scraping  10  comments\n",
      "Scraping  10  comments\n",
      "Scraping  10  comments\n",
      "Scraping  10  comments\n",
      "Scraping  10  comments\n",
      "Scraping  10  comments\n",
      "Scraping  10  comments\n",
      "Scraping  10  comments\n",
      "Scraping  10  comments\n",
      "Scraping  10  comments\n",
      "Scraping  10  comments\n",
      "Scraping  10  comments\n",
      "Scraping  10  comments\n",
      "Scraping  10  comments\n",
      "Scraping  10  comments\n",
      "Scraping  10  comments\n",
      "Scraping  10  comments\n",
      "Scraping  10  comments\n",
      "Scraping  10  comments\n",
      "Scraping  10  comments\n",
      "Scraping  10  comments\n",
      "Scraping  10  comments\n",
      "Scraping  10  comments\n",
      "Scraping  10  comments\n",
      "Scraping  10  comments\n",
      "Scraping  10  comments\n",
      "Scraping  10  comments\n",
      "Scraping  10  comments\n",
      "Scraping  10  comments\n"
     ]
    },
    {
     "name": "stderr",
     "output_type": "stream",
     "text": [
      "  3%|▎         | 18/648 [11:52<6:56:38, 39.68s/it]"
     ]
    },
    {
     "name": "stdout",
     "output_type": "stream",
     "text": [
      "Scraping  8  comments\n"
     ]
    },
    {
     "name": "stderr",
     "output_type": "stream",
     "text": [
      "  3%|▎         | 19/648 [11:55<5:00:26, 28.66s/it]"
     ]
    },
    {
     "name": "stdout",
     "output_type": "stream",
     "text": [
      "Scraping  2  comments\n",
      "Scraping  10  comments\n",
      "Scraping  10  comments\n",
      "Scraping  10  comments\n",
      "Scraping  10  comments\n",
      "Scraping  10  comments\n",
      "Scraping  10  comments\n",
      "Scraping  10  comments\n",
      "Scraping  10  comments\n",
      "Scraping  10  comments\n",
      "Scraping  10  comments\n",
      "Scraping  10  comments\n",
      "Scraping  10  comments\n",
      "Scraping  10  comments\n",
      "Scraping  10  comments\n",
      "Scraping  10  comments\n",
      "Scraping  10  comments\n",
      "Scraping  10  comments\n",
      "Scraping  10  comments\n",
      "Scraping  10  comments\n",
      "Scraping  10  comments\n",
      "Scraping  10  comments\n",
      "Scraping  10  comments\n",
      "Scraping  10  comments\n",
      "Scraping  10  comments\n",
      "Scraping  10  comments\n",
      "Scraping  10  comments\n",
      "Scraping  10  comments\n",
      "Scraping  10  comments\n",
      "Scraping  10  comments\n",
      "Scraping  10  comments\n",
      "Scraping  10  comments\n",
      "Scraping  10  comments\n",
      "Scraping  10  comments\n",
      "Scraping  10  comments\n",
      "Scraping  10  comments\n",
      "Scraping  10  comments\n",
      "Scraping  10  comments\n",
      "Scraping  10  comments\n",
      "Scraping  10  comments\n",
      "Scraping  10  comments\n",
      "Scraping  10  comments\n",
      "Scraping  10  comments\n",
      "Scraping  10  comments\n",
      "Scraping  10  comments\n",
      "Scraping  10  comments\n",
      "Scraping  10  comments\n",
      "Scraping  10  comments\n",
      "Scraping  10  comments\n",
      "Scraping  10  comments\n",
      "Scraping  10  comments\n",
      "Scraping  10  comments\n",
      "Scraping  10  comments\n",
      "Scraping  10  comments\n",
      "Scraping  10  comments\n",
      "Scraping  10  comments\n",
      "Scraping  10  comments\n",
      "Scraping  10  comments\n",
      "Scraping  10  comments\n",
      "Scraping  10  comments\n",
      "Scraping  10  comments\n",
      "Scraping  10  comments\n",
      "Scraping  10  comments\n",
      "Scraping  10  comments\n",
      "Scraping  10  comments\n",
      "Scraping  10  comments\n",
      "Scraping  10  comments\n",
      "Scraping  10  comments\n",
      "Scraping  10  comments\n",
      "Scraping  10  comments\n",
      "Scraping  10  comments\n",
      "Scraping  10  comments\n",
      "Scraping  10  comments\n",
      "Scraping  10  comments\n",
      "Scraping  10  comments\n",
      "Scraping  10  comments\n",
      "Scraping  10  comments\n",
      "Scraping  10  comments\n",
      "Scraping  10  comments\n",
      "Scraping  10  comments\n",
      "Scraping  10  comments\n",
      "Scraping  10  comments\n",
      "Scraping  10  comments\n",
      "Scraping  10  comments\n",
      "Scraping  10  comments\n",
      "Scraping  10  comments\n"
     ]
    },
    {
     "name": "stderr",
     "output_type": "stream",
     "text": [
      "  3%|▎         | 20/648 [14:01<10:04:45, 57.78s/it]"
     ]
    },
    {
     "name": "stdout",
     "output_type": "stream",
     "text": [
      "Scraping  4  comments\n",
      "Scraping  10  comments\n",
      "Scraping  10  comments\n",
      "Scraping  10  comments\n",
      "Scraping  10  comments\n"
     ]
    },
    {
     "name": "stderr",
     "output_type": "stream",
     "text": [
      "  3%|▎         | 21/648 [14:10<7:31:55, 43.25s/it] "
     ]
    },
    {
     "name": "stdout",
     "output_type": "stream",
     "text": [
      "Scraping  1  comments\n",
      "Scraping  10  comments\n",
      "Scraping  10  comments\n",
      "Scraping  10  comments\n",
      "Scraping  10  comments\n",
      "Scraping  10  comments\n",
      "Scraping  10  comments\n",
      "Scraping  10  comments\n",
      "Scraping  10  comments\n",
      "Scraping  10  comments\n",
      "Scraping  10  comments\n",
      "Scraping  10  comments\n",
      "Scraping  10  comments\n",
      "Scraping  10  comments\n",
      "Scraping  10  comments\n",
      "Scraping  10  comments\n",
      "Scraping  10  comments\n",
      "Scraping  10  comments\n",
      "Scraping  10  comments\n",
      "Scraping  10  comments\n",
      "Scraping  10  comments\n",
      "Scraping  10  comments\n",
      "Scraping  10  comments\n",
      "Scraping  10  comments\n",
      "Scraping  10  comments\n",
      "Scraping  10  comments\n",
      "Scraping  10  comments\n",
      "Scraping  10  comments\n",
      "Scraping  10  comments\n",
      "Scraping  10  comments\n",
      "Scraping  10  comments\n",
      "Scraping  10  comments\n",
      "Scraping  10  comments\n",
      "Scraping  10  comments\n",
      "Scraping  10  comments\n",
      "Scraping  10  comments\n",
      "Scraping  10  comments\n",
      "Scraping  10  comments\n",
      "Scraping  10  comments\n",
      "Scraping  10  comments\n",
      "Scraping  10  comments\n",
      "Scraping  10  comments\n",
      "Scraping  10  comments\n",
      "Scraping  10  comments\n",
      "Scraping  10  comments\n",
      "Scraping  10  comments\n",
      "Scraping  10  comments\n",
      "Scraping  10  comments\n",
      "Scraping  10  comments\n",
      "Scraping  10  comments\n",
      "Scraping  10  comments\n"
     ]
    },
    {
     "name": "stderr",
     "output_type": "stream",
     "text": [
      "  3%|▎         | 22/648 [15:31<9:29:04, 54.54s/it]"
     ]
    },
    {
     "name": "stdout",
     "output_type": "stream",
     "text": [
      "Scraping  8  comments\n",
      "Scraping  10  comments\n",
      "Scraping  10  comments\n",
      "Scraping  10  comments\n",
      "Scraping  10  comments\n",
      "Scraping  10  comments\n",
      "Scraping  10  comments\n",
      "Scraping  10  comments\n",
      "Scraping  10  comments\n",
      "Scraping  10  comments\n",
      "Scraping  10  comments\n",
      "Scraping  10  comments\n",
      "Scraping  10  comments\n",
      "Scraping  10  comments\n",
      "Scraping  10  comments\n",
      "Scraping  10  comments\n",
      "Scraping  10  comments\n",
      "Scraping  10  comments\n",
      "Scraping  10  comments\n",
      "Scraping  10  comments\n",
      "Scraping  10  comments\n",
      "Scraping  10  comments\n",
      "Scraping  10  comments\n",
      "Scraping  10  comments\n",
      "Scraping  10  comments\n",
      "Scraping  10  comments\n",
      "Scraping  10  comments\n",
      "Scraping  10  comments\n",
      "Scraping  10  comments\n",
      "Scraping  10  comments\n",
      "Scraping  10  comments\n",
      "Scraping  10  comments\n",
      "Scraping  10  comments\n",
      "Scraping  10  comments\n",
      "Scraping  10  comments\n",
      "Scraping  10  comments\n",
      "Scraping  10  comments\n",
      "Scraping  10  comments\n",
      "Scraping  10  comments\n",
      "Scraping  10  comments\n",
      "Scraping  10  comments\n",
      "Scraping  10  comments\n",
      "Scraping  10  comments\n"
     ]
    },
    {
     "name": "stderr",
     "output_type": "stream",
     "text": [
      "  4%|▎         | 23/648 [16:41<10:17:52, 59.32s/it]"
     ]
    },
    {
     "name": "stdout",
     "output_type": "stream",
     "text": [
      "Scraping  4  comments\n",
      "Scraping  10  comments\n",
      "Scraping  10  comments\n",
      "Scraping  10  comments\n",
      "Scraping  10  comments\n",
      "Scraping  10  comments\n",
      "Scraping  10  comments\n",
      "Scraping  10  comments\n",
      "Scraping  10  comments\n",
      "Scraping  10  comments\n"
     ]
    },
    {
     "name": "stderr",
     "output_type": "stream",
     "text": [
      "  4%|▎         | 24/648 [16:57<8:01:51, 46.33s/it] "
     ]
    },
    {
     "name": "stdout",
     "output_type": "stream",
     "text": [
      "Scraping  5  comments\n",
      "Scraping  10  comments\n",
      "Scraping  10  comments\n",
      "Scraping  10  comments\n",
      "Scraping  10  comments\n",
      "Scraping  10  comments\n",
      "Scraping  10  comments\n",
      "Scraping  10  comments\n",
      "Scraping  10  comments\n",
      "Scraping  10  comments\n",
      "Scraping  10  comments\n",
      "Scraping  10  comments\n",
      "Scraping  10  comments\n",
      "Scraping  10  comments\n",
      "Scraping  10  comments\n",
      "Scraping  10  comments\n",
      "Scraping  10  comments\n",
      "Scraping  10  comments\n",
      "Scraping  10  comments\n",
      "Scraping  10  comments\n",
      "Scraping  10  comments\n",
      "Scraping  10  comments\n"
     ]
    },
    {
     "name": "stderr",
     "output_type": "stream",
     "text": [
      "  4%|▍         | 25/648 [17:35<7:34:11, 43.74s/it]"
     ]
    },
    {
     "name": "stdout",
     "output_type": "stream",
     "text": [
      "Scraping  5  comments\n",
      "Scraping  10  comments\n",
      "Scraping  10  comments\n",
      "Scraping  10  comments\n",
      "Scraping  10  comments\n",
      "Scraping  10  comments\n",
      "Scraping  10  comments\n",
      "Scraping  10  comments\n",
      "Scraping  10  comments\n",
      "Scraping  10  comments\n",
      "Scraping  10  comments\n",
      "Scraping  10  comments\n",
      "Scraping  10  comments\n",
      "Scraping  10  comments\n",
      "Scraping  10  comments\n",
      "Scraping  10  comments\n",
      "Scraping  10  comments\n",
      "Scraping  10  comments\n",
      "Scraping  10  comments\n",
      "Scraping  10  comments\n",
      "Scraping  10  comments\n",
      "Scraping  10  comments\n",
      "Scraping  10  comments\n",
      "Scraping  10  comments\n",
      "Scraping  10  comments\n",
      "Scraping  10  comments\n",
      "Scraping  10  comments\n",
      "Scraping  10  comments\n",
      "Scraping  10  comments\n",
      "Scraping  10  comments\n",
      "Scraping  10  comments\n",
      "Scraping  10  comments\n",
      "Scraping  10  comments\n",
      "Scraping  10  comments\n",
      "Scraping  10  comments\n",
      "Scraping  10  comments\n",
      "Scraping  10  comments\n",
      "Scraping  10  comments\n",
      "Scraping  10  comments\n",
      "Scraping  10  comments\n",
      "Scraping  10  comments\n",
      "Scraping  10  comments\n",
      "Scraping  10  comments\n",
      "Scraping  10  comments\n",
      "Scraping  10  comments\n",
      "Scraping  10  comments\n",
      "Scraping  10  comments\n",
      "Scraping  10  comments\n",
      "Scraping  10  comments\n",
      "Scraping  10  comments\n",
      "Scraping  10  comments\n",
      "Scraping  10  comments\n",
      "Scraping  10  comments\n",
      "Scraping  10  comments\n",
      "Scraping  10  comments\n",
      "Scraping  10  comments\n",
      "Scraping  10  comments\n",
      "Scraping  10  comments\n",
      "Scraping  10  comments\n",
      "Scraping  10  comments\n",
      "Scraping  10  comments\n",
      "Scraping  10  comments\n",
      "Scraping  10  comments\n",
      "Scraping  10  comments\n",
      "Scraping  10  comments\n",
      "Scraping  10  comments\n",
      "Scraping  10  comments\n",
      "Scraping  10  comments\n",
      "Scraping  10  comments\n",
      "Scraping  10  comments\n",
      "Scraping  10  comments\n",
      "Scraping  10  comments\n",
      "Scraping  10  comments\n",
      "Scraping  10  comments\n",
      "Scraping  10  comments\n",
      "Scraping  10  comments\n",
      "Scraping  10  comments\n",
      "Scraping  10  comments\n",
      "Scraping  10  comments\n",
      "Scraping  10  comments\n",
      "Scraping  10  comments\n",
      "Scraping  10  comments\n",
      "Scraping  10  comments\n",
      "Scraping  10  comments\n",
      "Scraping  10  comments\n",
      "Scraping  10  comments\n",
      "Scraping  10  comments\n",
      "Scraping  10  comments\n",
      "Scraping  10  comments\n",
      "Scraping  10  comments\n",
      "Scraping  10  comments\n",
      "Scraping  10  comments\n",
      "Scraping  10  comments\n",
      "Scraping  10  comments\n",
      "Scraping  10  comments\n",
      "Scraping  10  comments\n",
      "Scraping  10  comments\n",
      "Scraping  10  comments\n",
      "Scraping  10  comments\n",
      "Scraping  10  comments\n",
      "Scraping  10  comments\n",
      "Scraping  10  comments\n",
      "Scraping  10  comments\n",
      "Scraping  10  comments\n",
      "Scraping  10  comments\n",
      "Scraping  10  comments\n",
      "Scraping  10  comments\n",
      "Scraping  10  comments\n",
      "Scraping  10  comments\n",
      "Scraping  10  comments\n",
      "Scraping  10  comments\n",
      "Scraping  10  comments\n",
      "Scraping  10  comments\n",
      "Scraping  10  comments\n",
      "Scraping  10  comments\n",
      "Scraping  10  comments\n"
     ]
    },
    {
     "name": "stderr",
     "output_type": "stream",
     "text": [
      "  4%|▍         | 26/648 [20:11<13:22:58, 77.46s/it]"
     ]
    },
    {
     "name": "stdout",
     "output_type": "stream",
     "text": [
      "Scraping  6  comments\n",
      "Scraping  10  comments\n",
      "Scraping  10  comments\n",
      "Scraping  10  comments\n",
      "Scraping  10  comments\n",
      "Scraping  10  comments\n",
      "Scraping  10  comments\n",
      "Scraping  10  comments\n",
      "Scraping  10  comments\n",
      "Scraping  10  comments\n",
      "Scraping  10  comments\n",
      "Scraping  10  comments\n",
      "Scraping  10  comments\n",
      "Scraping  10  comments\n",
      "Scraping  10  comments\n",
      "Scraping  10  comments\n",
      "Scraping  10  comments\n",
      "Scraping  10  comments\n",
      "Scraping  10  comments\n",
      "Scraping  10  comments\n",
      "Scraping  10  comments\n",
      "Scraping  10  comments\n",
      "Scraping  10  comments\n",
      "Scraping  10  comments\n",
      "Scraping  10  comments\n",
      "Scraping  10  comments\n",
      "Scraping  10  comments\n",
      "Scraping  10  comments\n",
      "Scraping  10  comments\n",
      "Scraping  10  comments\n",
      "Scraping  10  comments\n",
      "Scraping  10  comments\n",
      "Scraping  10  comments\n",
      "Scraping  10  comments\n",
      "Scraping  10  comments\n",
      "Scraping  10  comments\n",
      "Scraping  10  comments\n",
      "Scraping  10  comments\n",
      "Scraping  10  comments\n",
      "Scraping  10  comments\n",
      "Scraping  10  comments\n",
      "Scraping  10  comments\n",
      "Scraping  10  comments\n",
      "Scraping  10  comments\n",
      "Scraping  10  comments\n",
      "Scraping  10  comments\n",
      "Scraping  10  comments\n",
      "Scraping  10  comments\n",
      "Scraping  10  comments\n",
      "Scraping  10  comments\n",
      "Scraping  10  comments\n",
      "Scraping  10  comments\n",
      "Scraping  10  comments\n",
      "Scraping  10  comments\n",
      "Scraping  10  comments\n",
      "Scraping  10  comments\n",
      "Scraping  10  comments\n",
      "Scraping  10  comments\n",
      "Scraping  10  comments\n",
      "Scraping  10  comments\n",
      "Scraping  10  comments\n",
      "Scraping  10  comments\n",
      "Scraping  10  comments\n",
      "Scraping  10  comments\n",
      "Scraping  10  comments\n",
      "Scraping  10  comments\n",
      "Scraping  10  comments\n",
      "Scraping  10  comments\n",
      "Scraping  10  comments\n",
      "Scraping  10  comments\n",
      "Scraping  10  comments\n",
      "Scraping  10  comments\n",
      "Scraping  10  comments\n",
      "Scraping  10  comments\n",
      "Scraping  10  comments\n",
      "Scraping  10  comments\n",
      "Scraping  10  comments\n",
      "Scraping  10  comments\n",
      "Scraping  10  comments\n",
      "Scraping  10  comments\n",
      "Scraping  10  comments\n",
      "Scraping  10  comments\n",
      "Scraping  10  comments\n",
      "Scraping  10  comments\n",
      "Scraping  10  comments\n",
      "Scraping  10  comments\n",
      "Scraping  10  comments\n",
      "Scraping  10  comments\n",
      "Scraping  10  comments\n",
      "Scraping  10  comments\n",
      "Scraping  10  comments\n",
      "Scraping  10  comments\n",
      "Scraping  10  comments\n",
      "Scraping  10  comments\n",
      "Scraping  10  comments\n",
      "Scraping  10  comments\n",
      "Scraping  10  comments\n",
      "Scraping  10  comments\n",
      "Scraping  10  comments\n",
      "Scraping  10  comments\n",
      "Scraping  10  comments\n",
      "Scraping  10  comments\n",
      "Scraping  10  comments\n",
      "Scraping  10  comments\n",
      "Scraping  10  comments\n",
      "Scraping  10  comments\n",
      "Scraping  10  comments\n",
      "Scraping  10  comments\n",
      "Scraping  10  comments\n",
      "Scraping  10  comments\n",
      "Scraping  10  comments\n",
      "Scraping  10  comments\n",
      "Scraping  10  comments\n",
      "Scraping  10  comments\n",
      "Scraping  10  comments\n",
      "Scraping  10  comments\n",
      "Scraping  10  comments\n",
      "Scraping  10  comments\n",
      "Scraping  10  comments\n",
      "Scraping  10  comments\n",
      "Scraping  10  comments\n",
      "Scraping  10  comments\n",
      "Scraping  10  comments\n",
      "Scraping  10  comments\n",
      "Scraping  10  comments\n",
      "Scraping  10  comments\n",
      "Scraping  10  comments\n",
      "Scraping  10  comments\n",
      "Scraping  10  comments\n",
      "Scraping  10  comments\n",
      "Scraping  10  comments\n",
      "Scraping  10  comments\n",
      "Scraping  10  comments\n",
      "Scraping  10  comments\n",
      "Scraping  10  comments\n",
      "Scraping  10  comments\n",
      "Scraping  10  comments\n",
      "Scraping  10  comments\n",
      "Scraping  10  comments\n",
      "Scraping  10  comments\n",
      "Scraping  10  comments\n",
      "Scraping  10  comments\n"
     ]
    },
    {
     "name": "stderr",
     "output_type": "stream",
     "text": [
      "  4%|▍         | 27/648 [23:38<20:04:25, 116.37s/it]"
     ]
    },
    {
     "name": "stdout",
     "output_type": "stream",
     "text": [
      "Scraping  1  comments\n"
     ]
    },
    {
     "name": "stderr",
     "output_type": "stream",
     "text": [
      "  4%|▍         | 28/648 [23:41<14:08:57, 82.16s/it] "
     ]
    },
    {
     "name": "stdout",
     "output_type": "stream",
     "text": [
      "Scraping  2  comments\n"
     ]
    },
    {
     "name": "stderr",
     "output_type": "stream",
     "text": [
      "  4%|▍         | 29/648 [23:43<10:01:20, 58.29s/it]"
     ]
    },
    {
     "name": "stdout",
     "output_type": "stream",
     "text": [
      "Scraping  5  comments\n",
      "Scraping  10  comments\n",
      "Scraping  10  comments\n",
      "Scraping  10  comments\n"
     ]
    },
    {
     "name": "stderr",
     "output_type": "stream",
     "text": [
      "  5%|▍         | 30/648 [23:50<7:20:13, 42.74s/it] "
     ]
    },
    {
     "name": "stdout",
     "output_type": "stream",
     "text": [
      "Scraping  4  comments\n"
     ]
    },
    {
     "name": "stderr",
     "output_type": "stream",
     "text": [
      "  5%|▍         | 31/648 [23:52<5:14:48, 30.61s/it]"
     ]
    },
    {
     "name": "stdout",
     "output_type": "stream",
     "text": [
      "Scraping  1  comments\n",
      "Scraping  10  comments\n",
      "Scraping  10  comments\n",
      "Scraping  10  comments\n",
      "Scraping  10  comments\n"
     ]
    },
    {
     "name": "stderr",
     "output_type": "stream",
     "text": [
      "  5%|▍         | 32/648 [24:02<4:10:16, 24.38s/it]"
     ]
    },
    {
     "name": "stdout",
     "output_type": "stream",
     "text": [
      "Scraping  6  comments\n",
      "Scraping  10  comments\n",
      "Scraping  10  comments\n",
      "Scraping  10  comments\n",
      "Scraping  10  comments\n",
      "Scraping  10  comments\n",
      "Scraping  10  comments\n",
      "Scraping  10  comments\n",
      "Scraping  10  comments\n",
      "Scraping  10  comments\n",
      "Scraping  10  comments\n",
      "Scraping  10  comments\n",
      "Scraping  10  comments\n",
      "Scraping  10  comments\n",
      "Scraping  10  comments\n",
      "Scraping  10  comments\n",
      "Scraping  10  comments\n",
      "Scraping  10  comments\n",
      "Scraping  10  comments\n",
      "Scraping  10  comments\n",
      "Scraping  10  comments\n",
      "Scraping  10  comments\n",
      "Scraping  10  comments\n",
      "Scraping  10  comments\n",
      "Scraping  10  comments\n",
      "Scraping  10  comments\n",
      "Scraping  10  comments\n",
      "Scraping  10  comments\n",
      "Scraping  10  comments\n",
      "Scraping  10  comments\n",
      "Scraping  10  comments\n"
     ]
    },
    {
     "name": "stderr",
     "output_type": "stream",
     "text": [
      "  5%|▌         | 33/648 [24:50<5:21:05, 31.33s/it]"
     ]
    },
    {
     "name": "stdout",
     "output_type": "stream",
     "text": [
      "Scraping  8  comments\n",
      "Scraping  10  comments\n",
      "Scraping  10  comments\n",
      "Scraping  10  comments\n",
      "Scraping  10  comments\n",
      "Scraping  10  comments\n",
      "Scraping  10  comments\n",
      "Scraping  10  comments\n",
      "Scraping  10  comments\n",
      "Scraping  10  comments\n",
      "Scraping  10  comments\n",
      "Scraping  10  comments\n",
      "Scraping  10  comments\n",
      "Scraping  10  comments\n",
      "Scraping  10  comments\n",
      "Scraping  10  comments\n",
      "Scraping  10  comments\n",
      "Scraping  10  comments\n",
      "Scraping  10  comments\n",
      "Scraping  10  comments\n",
      "Scraping  10  comments\n",
      "Scraping  10  comments\n",
      "Scraping  10  comments\n",
      "Scraping  10  comments\n",
      "Scraping  10  comments\n"
     ]
    },
    {
     "name": "stderr",
     "output_type": "stream",
     "text": [
      "  5%|▌         | 34/648 [25:31<5:52:11, 34.42s/it]"
     ]
    },
    {
     "name": "stdout",
     "output_type": "stream",
     "text": [
      "Scraping  1  comments\n",
      "Scraping  10  comments\n",
      "Scraping  10  comments\n",
      "Scraping  10  comments\n",
      "Scraping  10  comments\n",
      "Scraping  10  comments\n",
      "Scraping  10  comments\n",
      "Scraping  10  comments\n",
      "Scraping  10  comments\n",
      "Scraping  10  comments\n",
      "Scraping  10  comments\n",
      "Scraping  10  comments\n",
      "Scraping  10  comments\n",
      "Scraping  10  comments\n",
      "Scraping  10  comments\n",
      "Scraping  10  comments\n",
      "Scraping  10  comments\n",
      "Scraping  10  comments\n",
      "Scraping  10  comments\n",
      "Scraping  10  comments\n",
      "Scraping  10  comments\n",
      "Scraping  10  comments\n",
      "Scraping  10  comments\n",
      "Scraping  10  comments\n",
      "Scraping  10  comments\n",
      "Scraping  10  comments\n",
      "Scraping  10  comments\n",
      "Scraping  10  comments\n",
      "Scraping  10  comments\n",
      "Scraping  10  comments\n",
      "Scraping  10  comments\n",
      "Scraping  10  comments\n",
      "Scraping  10  comments\n",
      "Scraping  10  comments\n",
      "Scraping  10  comments\n",
      "Scraping  10  comments\n",
      "Scraping  10  comments\n",
      "Scraping  10  comments\n",
      "Scraping  10  comments\n",
      "Scraping  10  comments\n",
      "Scraping  10  comments\n",
      "Scraping  10  comments\n",
      "Scraping  10  comments\n",
      "Scraping  10  comments\n",
      "Scraping  10  comments\n",
      "Scraping  10  comments\n",
      "Scraping  10  comments\n",
      "Scraping  10  comments\n",
      "Scraping  10  comments\n",
      "Scraping  10  comments\n",
      "Scraping  10  comments\n",
      "Scraping  10  comments\n",
      "Scraping  10  comments\n",
      "Scraping  10  comments\n",
      "Scraping  10  comments\n",
      "Scraping  10  comments\n",
      "Scraping  10  comments\n",
      "Scraping  10  comments\n",
      "Scraping  10  comments\n",
      "Scraping  10  comments\n",
      "Scraping  10  comments\n",
      "Scraping  10  comments\n",
      "Scraping  10  comments\n",
      "Scraping  10  comments\n",
      "Scraping  10  comments\n",
      "Scraping  10  comments\n",
      "Scraping  10  comments\n",
      "Scraping  10  comments\n",
      "Scraping  10  comments\n",
      "Scraping  10  comments\n",
      "Scraping  10  comments\n",
      "Scraping  10  comments\n",
      "Scraping  10  comments\n",
      "Scraping  10  comments\n",
      "Scraping  10  comments\n",
      "Scraping  10  comments\n",
      "Scraping  10  comments\n",
      "Scraping  10  comments\n",
      "Scraping  10  comments\n",
      "Scraping  10  comments\n",
      "Scraping  10  comments\n",
      "Scraping  10  comments\n",
      "Scraping  10  comments\n",
      "Scraping  10  comments\n",
      "Scraping  10  comments\n",
      "Scraping  10  comments\n",
      "Scraping  10  comments\n",
      "Scraping  10  comments\n",
      "Scraping  10  comments\n",
      "Scraping  10  comments\n",
      "Scraping  10  comments\n",
      "Scraping  10  comments\n",
      "Scraping  10  comments\n",
      "Scraping  10  comments\n",
      "Scraping  10  comments\n",
      "Scraping  10  comments\n",
      "Scraping  10  comments\n",
      "Scraping  10  comments\n",
      "Scraping  10  comments\n",
      "Scraping  10  comments\n",
      "Scraping  10  comments\n",
      "Scraping  10  comments\n",
      "Scraping  10  comments\n",
      "Scraping  10  comments\n",
      "Scraping  10  comments\n",
      "Scraping  10  comments\n",
      "Scraping  10  comments\n",
      "Scraping  10  comments\n",
      "Scraping  10  comments\n",
      "Scraping  10  comments\n",
      "Scraping  10  comments\n",
      "Scraping  10  comments\n",
      "Scraping  10  comments\n",
      "Scraping  10  comments\n",
      "Scraping  10  comments\n",
      "Scraping  10  comments\n",
      "Scraping  10  comments\n",
      "Scraping  10  comments\n",
      "Scraping  10  comments\n",
      "Scraping  10  comments\n",
      "Scraping  10  comments\n",
      "Scraping  10  comments\n",
      "Scraping  10  comments\n",
      "Scraping  10  comments\n",
      "Scraping  10  comments\n",
      "Scraping  10  comments\n",
      "Scraping  10  comments\n",
      "Scraping  10  comments\n",
      "Scraping  10  comments\n",
      "Scraping  10  comments\n",
      "Scraping  10  comments\n",
      "Scraping  10  comments\n",
      "Scraping  10  comments\n",
      "Scraping  10  comments\n",
      "Scraping  10  comments\n",
      "Scraping  10  comments\n",
      "Scraping  10  comments\n",
      "Scraping  10  comments\n",
      "Scraping  10  comments\n",
      "Scraping  10  comments\n",
      "Scraping  10  comments\n",
      "Scraping  10  comments\n",
      "Scraping  10  comments\n",
      "Scraping  10  comments\n",
      "Scraping  10  comments\n",
      "Scraping  10  comments\n",
      "Scraping  10  comments\n",
      "Scraping  10  comments\n",
      "Scraping  10  comments\n",
      "Scraping  10  comments\n",
      "Scraping  10  comments\n",
      "Scraping  10  comments\n",
      "Scraping  10  comments\n",
      "Scraping  10  comments\n",
      "Scraping  10  comments\n",
      "Scraping  10  comments\n",
      "Scraping  10  comments\n",
      "Scraping  10  comments\n",
      "Scraping  10  comments\n",
      "Scraping  10  comments\n",
      "Scraping  10  comments\n",
      "Scraping  10  comments\n",
      "Scraping  10  comments\n",
      "Scraping  10  comments\n",
      "Scraping  10  comments\n",
      "Scraping  10  comments\n",
      "Scraping  10  comments\n",
      "Scraping  10  comments\n",
      "Scraping  10  comments\n",
      "Scraping  10  comments\n",
      "Scraping  10  comments\n",
      "Scraping  10  comments\n",
      "Scraping  10  comments\n",
      "Scraping  10  comments\n",
      "Scraping  10  comments\n",
      "Scraping  10  comments\n",
      "Scraping  10  comments\n",
      "Scraping  10  comments\n",
      "Scraping  10  comments\n",
      "Scraping  10  comments\n",
      "Scraping  10  comments\n",
      "Scraping  10  comments\n",
      "Scraping  10  comments\n",
      "Scraping  10  comments\n",
      "Scraping  10  comments\n",
      "Scraping  10  comments\n",
      "Scraping  10  comments\n",
      "Scraping  10  comments\n",
      "Scraping  10  comments\n",
      "Scraping  10  comments\n",
      "Scraping  10  comments\n",
      "Scraping  10  comments\n",
      "Scraping  10  comments\n",
      "Scraping  10  comments\n",
      "Scraping  10  comments\n",
      "Scraping  10  comments\n",
      "Scraping  10  comments\n",
      "Scraping  10  comments\n",
      "Scraping  10  comments\n",
      "Scraping  10  comments\n",
      "Scraping  10  comments\n",
      "Scraping  10  comments\n",
      "Scraping  10  comments\n",
      "Scraping  10  comments\n",
      "Scraping  10  comments\n",
      "Scraping  10  comments\n",
      "Scraping  10  comments\n",
      "Scraping  10  comments\n",
      "Scraping  10  comments\n",
      "Scraping  10  comments\n",
      "Scraping  10  comments\n",
      "Scraping  10  comments\n",
      "Scraping  10  comments\n",
      "Scraping  10  comments\n",
      "Scraping  10  comments\n",
      "Scraping  10  comments\n",
      "Scraping  10  comments\n",
      "Scraping  10  comments\n",
      "Scraping  10  comments\n",
      "Scraping  10  comments\n",
      "Scraping  10  comments\n",
      "Scraping  10  comments\n",
      "Scraping  10  comments\n",
      "Scraping  10  comments\n",
      "Scraping  10  comments\n",
      "Scraping  10  comments\n",
      "Scraping  10  comments\n",
      "Scraping  10  comments\n",
      "Scraping  10  comments\n",
      "Scraping  10  comments\n",
      "Scraping  10  comments\n",
      "Scraping  10  comments\n",
      "Scraping  10  comments\n",
      "Scraping  10  comments\n",
      "Scraping  10  comments\n",
      "Scraping  10  comments\n",
      "Scraping  10  comments\n",
      "Scraping  10  comments\n",
      "Scraping  10  comments\n",
      "Scraping  10  comments\n",
      "Scraping  10  comments\n",
      "Scraping  10  comments\n",
      "Scraping  10  comments\n",
      "Scraping  10  comments\n",
      "Scraping  10  comments\n",
      "Scraping  10  comments\n",
      "Scraping  10  comments\n",
      "Scraping  10  comments\n",
      "Scraping  10  comments\n",
      "Scraping  10  comments\n",
      "Scraping  10  comments\n",
      "Scraping  10  comments\n",
      "Scraping  10  comments\n",
      "Scraping  10  comments\n",
      "Scraping  10  comments\n",
      "Scraping  10  comments\n",
      "Scraping  10  comments\n",
      "Scraping  10  comments\n",
      "Scraping  10  comments\n",
      "Scraping  10  comments\n",
      "Scraping  10  comments\n",
      "Scraping  10  comments\n",
      "Scraping  10  comments\n",
      "Scraping  10  comments\n",
      "Scraping  10  comments\n",
      "Scraping  10  comments\n",
      "Scraping  10  comments\n",
      "Scraping  10  comments\n",
      "Scraping  10  comments\n",
      "Scraping  10  comments\n",
      "Scraping  10  comments\n",
      "Scraping  10  comments\n",
      "Scraping  10  comments\n",
      "Scraping  10  comments\n",
      "Scraping  10  comments\n",
      "Scraping  10  comments\n",
      "Scraping  10  comments\n",
      "Scraping  10  comments\n",
      "Scraping  10  comments\n",
      "Scraping  10  comments\n",
      "Scraping  10  comments\n",
      "Scraping  10  comments\n",
      "Scraping  10  comments\n",
      "Scraping  10  comments\n",
      "Scraping  10  comments\n",
      "Scraping  10  comments\n",
      "Scraping  10  comments\n",
      "Scraping  10  comments\n",
      "Scraping  10  comments\n",
      "Scraping  10  comments\n",
      "Scraping  10  comments\n",
      "Scraping  10  comments\n",
      "Scraping  10  comments\n",
      "Scraping  10  comments\n",
      "Scraping  10  comments\n",
      "Scraping  10  comments\n",
      "Scraping  10  comments\n",
      "Scraping  10  comments\n",
      "Scraping  10  comments\n",
      "Scraping  10  comments\n",
      "Scraping  10  comments\n",
      "Scraping  10  comments\n",
      "Scraping  10  comments\n",
      "Scraping  10  comments\n",
      "Scraping  10  comments\n",
      "Scraping  10  comments\n",
      "Scraping  10  comments\n",
      "Scraping  10  comments\n",
      "Scraping  10  comments\n",
      "Scraping  10  comments\n",
      "Scraping  10  comments\n",
      "Scraping  10  comments\n",
      "Scraping  10  comments\n",
      "Scraping  10  comments\n",
      "Scraping  10  comments\n",
      "Scraping  10  comments\n",
      "Scraping  10  comments\n",
      "Scraping  10  comments\n",
      "Scraping  10  comments\n",
      "Scraping  10  comments\n",
      "Scraping  10  comments\n",
      "Scraping  10  comments\n",
      "Scraping  10  comments\n",
      "Scraping  10  comments\n",
      "Scraping  10  comments\n",
      "Scraping  10  comments\n",
      "Scraping  10  comments\n",
      "Scraping  10  comments\n",
      "Scraping  10  comments\n",
      "Scraping  10  comments\n",
      "Scraping  10  comments\n",
      "Scraping  10  comments\n",
      "Scraping  10  comments\n",
      "Scraping  10  comments\n",
      "Scraping  10  comments\n",
      "Scraping  10  comments\n",
      "Scraping  10  comments\n",
      "Scraping  10  comments\n",
      "Scraping  10  comments\n",
      "Scraping  10  comments\n",
      "Scraping  10  comments\n",
      "Scraping  10  comments\n",
      "Scraping  10  comments\n",
      "Scraping  10  comments\n",
      "Scraping  10  comments\n",
      "Scraping  10  comments\n",
      "Scraping  10  comments\n",
      "Scraping  10  comments\n",
      "Scraping  10  comments\n",
      "Scraping  10  comments\n",
      "Scraping  10  comments\n",
      "Scraping  10  comments\n",
      "Scraping  10  comments\n",
      "Scraping  10  comments\n",
      "Scraping  10  comments\n",
      "Scraping  10  comments\n",
      "Scraping  10  comments\n",
      "Scraping  10  comments\n",
      "Scraping  10  comments\n",
      "Scraping  10  comments\n",
      "Scraping  10  comments\n",
      "Scraping  10  comments\n",
      "Scraping  10  comments\n",
      "Scraping  10  comments\n",
      "Scraping  10  comments\n",
      "Scraping  10  comments\n",
      "Scraping  10  comments\n",
      "Scraping  10  comments\n",
      "Scraping  10  comments\n",
      "Scraping  10  comments\n",
      "Scraping  10  comments\n",
      "Scraping  10  comments\n",
      "Scraping  10  comments\n",
      "Scraping  10  comments\n",
      "Scraping  10  comments\n",
      "Scraping  10  comments\n",
      "Scraping  10  comments\n",
      "Scraping  10  comments\n",
      "Scraping  10  comments\n",
      "Scraping  10  comments\n",
      "Scraping  10  comments\n",
      "Scraping  10  comments\n",
      "Scraping  10  comments\n",
      "Scraping  10  comments\n",
      "Scraping  10  comments\n",
      "Scraping  10  comments\n",
      "Scraping  10  comments\n",
      "Scraping  10  comments\n",
      "Scraping  10  comments\n",
      "Scraping  10  comments\n",
      "Scraping  10  comments\n",
      "Scraping  10  comments\n",
      "Scraping  10  comments\n",
      "Scraping  10  comments\n",
      "Scraping  10  comments\n",
      "Scraping  10  comments\n",
      "Scraping  10  comments\n",
      "Scraping  10  comments\n",
      "Scraping  10  comments\n",
      "Scraping  10  comments\n",
      "Scraping  10  comments\n",
      "Scraping  10  comments\n",
      "Scraping  10  comments\n",
      "Scraping  10  comments\n",
      "Scraping  10  comments\n",
      "Scraping  10  comments\n",
      "Scraping  10  comments\n",
      "Scraping  10  comments\n",
      "Scraping  10  comments\n",
      "Scraping  10  comments\n",
      "Scraping  10  comments\n",
      "Scraping  10  comments\n",
      "Scraping  10  comments\n",
      "Scraping  10  comments\n",
      "Scraping  10  comments\n",
      "Scraping  10  comments\n",
      "Scraping  10  comments\n",
      "Scraping  10  comments\n",
      "Scraping  10  comments\n",
      "Scraping  10  comments\n",
      "Scraping  10  comments\n",
      "Scraping  10  comments\n",
      "Scraping  10  comments\n",
      "Scraping  10  comments\n",
      "Scraping  10  comments\n",
      "Scraping  10  comments\n",
      "Scraping  10  comments\n",
      "Scraping  10  comments\n",
      "Scraping  10  comments\n",
      "Scraping  10  comments\n",
      "Scraping  10  comments\n",
      "Scraping  10  comments\n",
      "Scraping  10  comments\n",
      "Scraping  10  comments\n",
      "Scraping  10  comments\n",
      "Scraping  10  comments\n",
      "Scraping  10  comments\n",
      "Scraping  10  comments\n",
      "Scraping  10  comments\n",
      "Scraping  10  comments\n",
      "Scraping  10  comments\n",
      "Scraping  10  comments\n",
      "Scraping  10  comments\n",
      "Scraping  10  comments\n",
      "Scraping  10  comments\n",
      "Scraping  10  comments\n",
      "Scraping  10  comments\n",
      "Scraping  10  comments\n",
      "Scraping  10  comments\n",
      "Scraping  10  comments\n",
      "Scraping  10  comments\n",
      "Scraping  10  comments\n",
      "Scraping  10  comments\n",
      "Scraping  10  comments\n",
      "Scraping  10  comments\n",
      "Scraping  10  comments\n",
      "Scraping  10  comments\n",
      "Scraping  10  comments\n",
      "Scraping  10  comments\n",
      "Scraping  10  comments\n",
      "Scraping  10  comments\n",
      "Scraping  10  comments\n",
      "Scraping  10  comments\n",
      "Scraping  10  comments\n"
     ]
    },
    {
     "name": "stderr",
     "output_type": "stream",
     "text": [
      "  5%|▌         | 35/648 [36:59<39:15:44, 230.58s/it]"
     ]
    },
    {
     "name": "stdout",
     "output_type": "stream",
     "text": [
      "Scraping  4  comments\n"
     ]
    },
    {
     "name": "stderr",
     "output_type": "stream",
     "text": [
      "  6%|▌         | 36/648 [37:04<27:39:07, 162.66s/it]"
     ]
    },
    {
     "name": "stdout",
     "output_type": "stream",
     "text": [
      "Scraping  7  comments\n",
      "Scraping  10  comments\n",
      "Scraping  10  comments\n",
      "Scraping  10  comments\n",
      "Scraping  10  comments\n",
      "Scraping  10  comments\n"
     ]
    },
    {
     "name": "stderr",
     "output_type": "stream",
     "text": [
      "  6%|▌         | 37/648 [37:14<19:51:31, 117.01s/it]"
     ]
    },
    {
     "name": "stdout",
     "output_type": "stream",
     "text": [
      "Scraping  4  comments\n",
      "Scraping  10  comments\n",
      "Scraping  10  comments\n",
      "Scraping  10  comments\n",
      "Scraping  10  comments\n"
     ]
    },
    {
     "name": "stderr",
     "output_type": "stream",
     "text": [
      "  6%|▌         | 38/648 [37:24<14:22:53, 84.87s/it] "
     ]
    },
    {
     "name": "stdout",
     "output_type": "stream",
     "text": [
      "Scraping  1  comments\n",
      "Scraping  10  comments\n"
     ]
    },
    {
     "name": "stderr",
     "output_type": "stream",
     "text": [
      "  6%|▌         | 39/648 [37:29<10:18:36, 60.95s/it]"
     ]
    },
    {
     "name": "stdout",
     "output_type": "stream",
     "text": [
      "Scraping  8  comments\n",
      "Scraping  10  comments\n",
      "Scraping  10  comments\n",
      "Scraping  10  comments\n",
      "Scraping  10  comments\n",
      "Scraping  10  comments\n",
      "Scraping  10  comments\n",
      "Scraping  10  comments\n",
      "Scraping  10  comments\n",
      "Scraping  10  comments\n",
      "Scraping  10  comments\n",
      "Scraping  10  comments\n",
      "Scraping  10  comments\n",
      "Scraping  10  comments\n",
      "Scraping  10  comments\n",
      "Scraping  10  comments\n",
      "Scraping  10  comments\n",
      "Scraping  10  comments\n",
      "Scraping  10  comments\n",
      "Scraping  10  comments\n",
      "Scraping  10  comments\n",
      "Scraping  10  comments\n",
      "Scraping  10  comments\n",
      "Scraping  10  comments\n",
      "Scraping  10  comments\n",
      "Scraping  10  comments\n",
      "Scraping  10  comments\n",
      "Scraping  10  comments\n",
      "Scraping  10  comments\n",
      "Scraping  10  comments\n",
      "Scraping  10  comments\n",
      "Scraping  10  comments\n",
      "Scraping  10  comments\n",
      "Scraping  10  comments\n",
      "Scraping  10  comments\n",
      "Scraping  10  comments\n",
      "Scraping  10  comments\n",
      "Scraping  10  comments\n",
      "Scraping  10  comments\n"
     ]
    },
    {
     "name": "stderr",
     "output_type": "stream",
     "text": [
      "  6%|▌         | 40/648 [38:30<10:17:31, 60.94s/it]"
     ]
    },
    {
     "name": "stdout",
     "output_type": "stream",
     "text": [
      "Scraping  8  comments\n",
      "Scraping  10  comments\n",
      "Scraping  10  comments\n",
      "Scraping  10  comments\n",
      "Scraping  10  comments\n",
      "Scraping  10  comments\n",
      "Scraping  10  comments\n"
     ]
    },
    {
     "name": "stderr",
     "output_type": "stream",
     "text": [
      "  6%|▋         | 41/648 [38:43<7:51:27, 46.60s/it] "
     ]
    },
    {
     "name": "stdout",
     "output_type": "stream",
     "text": [
      "Scraping  5  comments\n",
      "Scraping  10  comments\n"
     ]
    },
    {
     "name": "stderr",
     "output_type": "stream",
     "text": [
      "  6%|▋         | 42/648 [38:48<5:43:20, 33.99s/it]"
     ]
    },
    {
     "name": "stdout",
     "output_type": "stream",
     "text": [
      "Scraping  1  comments\n",
      "Scraping  10  comments\n",
      "Scraping  10  comments\n",
      "Scraping  10  comments\n",
      "Scraping  10  comments\n",
      "Scraping  10  comments\n",
      "Scraping  10  comments\n",
      "Scraping  10  comments\n",
      "Scraping  10  comments\n",
      "Scraping  10  comments\n",
      "Scraping  10  comments\n",
      "Scraping  10  comments\n",
      "Scraping  10  comments\n",
      "Scraping  10  comments\n",
      "Scraping  10  comments\n",
      "Scraping  10  comments\n",
      "Scraping  10  comments\n",
      "Scraping  10  comments\n",
      "Scraping  10  comments\n",
      "Scraping  10  comments\n",
      "Scraping  10  comments\n",
      "Scraping  10  comments\n",
      "Scraping  10  comments\n",
      "Scraping  10  comments\n",
      "Scraping  10  comments\n",
      "Scraping  10  comments\n",
      "Scraping  10  comments\n",
      "Scraping  10  comments\n",
      "Scraping  10  comments\n",
      "Scraping  10  comments\n",
      "Scraping  10  comments\n",
      "Scraping  10  comments\n",
      "Scraping  10  comments\n",
      "Scraping  10  comments\n",
      "Scraping  10  comments\n",
      "Scraping  10  comments\n",
      "Scraping  10  comments\n",
      "Scraping  10  comments\n",
      "Scraping  10  comments\n",
      "Scraping  10  comments\n",
      "Scraping  10  comments\n",
      "Scraping  10  comments\n",
      "Scraping  10  comments\n",
      "Scraping  10  comments\n",
      "Scraping  10  comments\n",
      "Scraping  10  comments\n",
      "Scraping  10  comments\n",
      "Scraping  10  comments\n",
      "Scraping  10  comments\n",
      "Scraping  10  comments\n",
      "Scraping  10  comments\n",
      "Scraping  10  comments\n",
      "Scraping  10  comments\n",
      "Scraping  10  comments\n",
      "Scraping  10  comments\n",
      "Scraping  10  comments\n",
      "Scraping  10  comments\n",
      "Scraping  10  comments\n",
      "Scraping  10  comments\n",
      "Scraping  10  comments\n",
      "Scraping  10  comments\n",
      "Scraping  10  comments\n"
     ]
    },
    {
     "name": "stderr",
     "output_type": "stream",
     "text": [
      "  7%|▋         | 43/648 [40:37<9:29:03, 56.44s/it]"
     ]
    },
    {
     "name": "stdout",
     "output_type": "stream",
     "text": [
      "Scraping  1  comments\n"
     ]
    },
    {
     "name": "stderr",
     "output_type": "stream",
     "text": [
      "  7%|▋         | 44/648 [40:40<6:49:31, 40.68s/it]"
     ]
    },
    {
     "name": "stdout",
     "output_type": "stream",
     "text": [
      "Scraping  1  comments\n"
     ]
    },
    {
     "name": "stderr",
     "output_type": "stream",
     "text": [
      "  7%|▋         | 45/648 [40:43<4:53:18, 29.19s/it]"
     ]
    },
    {
     "name": "stdout",
     "output_type": "stream",
     "text": [
      "Scraping  1  comments\n"
     ]
    },
    {
     "name": "stderr",
     "output_type": "stream",
     "text": [
      "  7%|▋         | 46/648 [40:45<3:31:10, 21.05s/it]"
     ]
    },
    {
     "name": "stdout",
     "output_type": "stream",
     "text": [
      "Scraping  1  comments\n",
      "Scraping  10  comments\n",
      "Scraping  10  comments\n",
      "Scraping  10  comments\n",
      "Scraping  10  comments\n"
     ]
    },
    {
     "name": "stderr",
     "output_type": "stream",
     "text": [
      "  7%|▋         | 47/648 [40:54<2:53:34, 17.33s/it]"
     ]
    },
    {
     "name": "stdout",
     "output_type": "stream",
     "text": [
      "Scraping  3  comments\n"
     ]
    },
    {
     "name": "stderr",
     "output_type": "stream",
     "text": [
      "  7%|▋         | 48/648 [40:56<2:08:08, 12.81s/it]"
     ]
    },
    {
     "name": "stdout",
     "output_type": "stream",
     "text": [
      "Scraping  10  comments\n",
      "Scraping  10  comments\n",
      "Scraping  10  comments\n",
      "Scraping  10  comments\n",
      "Scraping  10  comments\n",
      "Scraping  10  comments\n",
      "Scraping  10  comments\n",
      "Scraping  10  comments\n",
      "Scraping  10  comments\n"
     ]
    },
    {
     "name": "stderr",
     "output_type": "stream",
     "text": [
      "  8%|▊         | 49/648 [41:11<2:16:12, 13.64s/it]"
     ]
    },
    {
     "name": "stdout",
     "output_type": "stream",
     "text": [
      "Scraping  2  comments\n",
      "Scraping  10  comments\n",
      "Scraping  10  comments\n",
      "Scraping  10  comments\n",
      "Scraping  10  comments\n",
      "Scraping  10  comments\n",
      "Scraping  10  comments\n",
      "Scraping  10  comments\n",
      "Scraping  10  comments\n",
      "Scraping  10  comments\n",
      "Scraping  10  comments\n",
      "Scraping  10  comments\n",
      "Scraping  10  comments\n",
      "Scraping  10  comments\n",
      "Scraping  10  comments\n",
      "Scraping  10  comments\n",
      "Scraping  10  comments\n",
      "Scraping  10  comments\n",
      "Scraping  10  comments\n",
      "Scraping  10  comments\n",
      "Scraping  10  comments\n",
      "Scraping  10  comments\n",
      "Scraping  10  comments\n",
      "Scraping  10  comments\n",
      "Scraping  10  comments\n",
      "Scraping  10  comments\n",
      "Scraping  10  comments\n"
     ]
    },
    {
     "name": "stderr",
     "output_type": "stream",
     "text": [
      "  8%|▊         | 50/648 [41:54<3:43:33, 22.43s/it]"
     ]
    },
    {
     "name": "stdout",
     "output_type": "stream",
     "text": [
      "Scraping  8  comments\n",
      "Scraping  10  comments\n",
      "Scraping  10  comments\n",
      "Scraping  10  comments\n",
      "Scraping  10  comments\n",
      "Scraping  10  comments\n",
      "Scraping  10  comments\n",
      "Scraping  10  comments\n",
      "Scraping  10  comments\n"
     ]
    },
    {
     "name": "stderr",
     "output_type": "stream",
     "text": [
      "  8%|▊         | 51/648 [42:09<3:18:40, 19.97s/it]"
     ]
    },
    {
     "name": "stdout",
     "output_type": "stream",
     "text": [
      "Scraping  9  comments\n",
      "Scraping  10  comments\n",
      "Scraping  10  comments\n",
      "Scraping  10  comments\n",
      "Scraping  10  comments\n",
      "Scraping  10  comments\n",
      "Scraping  10  comments\n",
      "Scraping  10  comments\n"
     ]
    },
    {
     "name": "stderr",
     "output_type": "stream",
     "text": [
      "  8%|▊         | 52/648 [42:22<2:58:33, 17.98s/it]"
     ]
    },
    {
     "name": "stdout",
     "output_type": "stream",
     "text": [
      "Scraping  4  comments\n",
      "Scraping  10  comments\n",
      "Scraping  10  comments\n",
      "Scraping  10  comments\n"
     ]
    },
    {
     "name": "stderr",
     "output_type": "stream",
     "text": [
      "  8%|▊         | 53/648 [42:30<2:27:25, 14.87s/it]"
     ]
    },
    {
     "name": "stdout",
     "output_type": "stream",
     "text": [
      "Scraping  4  comments\n",
      "Scraping  10  comments\n",
      "Scraping  10  comments\n",
      "Scraping  10  comments\n",
      "Scraping  10  comments\n",
      "Scraping  10  comments\n",
      "Scraping  10  comments\n",
      "Scraping  10  comments\n",
      "Scraping  10  comments\n",
      "Scraping  10  comments\n",
      "Scraping  10  comments\n",
      "Scraping  10  comments\n",
      "Scraping  10  comments\n",
      "Scraping  10  comments\n",
      "Scraping  10  comments\n",
      "Scraping  10  comments\n",
      "Scraping  10  comments\n",
      "Scraping  10  comments\n",
      "Scraping  10  comments\n",
      "Scraping  10  comments\n",
      "Scraping  10  comments\n"
     ]
    },
    {
     "name": "stderr",
     "output_type": "stream",
     "text": [
      "  8%|▊         | 54/648 [43:01<3:15:35, 19.76s/it]"
     ]
    },
    {
     "name": "stdout",
     "output_type": "stream",
     "text": [
      "Scraping  7  comments\n",
      "Scraping  10  comments\n",
      "Scraping  10  comments\n",
      "Scraping  10  comments\n",
      "Scraping  10  comments\n",
      "Scraping  10  comments\n",
      "Scraping  10  comments\n",
      "Scraping  10  comments\n",
      "Scraping  10  comments\n",
      "Scraping  10  comments\n",
      "Scraping  10  comments\n",
      "Scraping  10  comments\n",
      "Scraping  10  comments\n",
      "Scraping  10  comments\n",
      "Scraping  10  comments\n"
     ]
    },
    {
     "name": "stderr",
     "output_type": "stream",
     "text": [
      "  8%|▊         | 55/648 [43:31<3:45:22, 22.80s/it]"
     ]
    },
    {
     "name": "stdout",
     "output_type": "stream",
     "text": [
      "Scraping  8  comments\n",
      "Scraping  10  comments\n",
      "Scraping  10  comments\n",
      "Scraping  10  comments\n",
      "Scraping  10  comments\n"
     ]
    },
    {
     "name": "stderr",
     "output_type": "stream",
     "text": [
      "  9%|▊         | 56/648 [43:41<3:07:29, 19.00s/it]"
     ]
    },
    {
     "name": "stdout",
     "output_type": "stream",
     "text": [
      "Scraping  3  comments\n",
      "Scraping  10  comments\n",
      "Scraping  10  comments\n",
      "Scraping  10  comments\n",
      "Scraping  10  comments\n",
      "Scraping  10  comments\n",
      "Scraping  10  comments\n",
      "Scraping  10  comments\n",
      "Scraping  10  comments\n",
      "Scraping  10  comments\n",
      "Scraping  10  comments\n",
      "Scraping  10  comments\n",
      "Scraping  10  comments\n",
      "Scraping  10  comments\n",
      "Scraping  10  comments\n",
      "Scraping  10  comments\n",
      "Scraping  10  comments\n",
      "Scraping  10  comments\n",
      "Scraping  10  comments\n",
      "Scraping  10  comments\n",
      "Scraping  10  comments\n",
      "Scraping  10  comments\n",
      "Scraping  10  comments\n",
      "Scraping  10  comments\n",
      "Scraping  10  comments\n",
      "Scraping  10  comments\n",
      "Scraping  10  comments\n",
      "Scraping  10  comments\n",
      "Scraping  10  comments\n",
      "Scraping  10  comments\n",
      "Scraping  10  comments\n",
      "Scraping  10  comments\n",
      "Scraping  10  comments\n",
      "Scraping  10  comments\n",
      "Scraping  10  comments\n",
      "Scraping  10  comments\n",
      "Scraping  10  comments\n",
      "Scraping  10  comments\n",
      "Scraping  10  comments\n",
      "Scraping  10  comments\n",
      "Scraping  10  comments\n"
     ]
    },
    {
     "name": "stderr",
     "output_type": "stream",
     "text": [
      "  9%|▉         | 57/648 [44:55<5:50:41, 35.60s/it]"
     ]
    },
    {
     "name": "stdout",
     "output_type": "stream",
     "text": [
      "Scraping  2  comments\n"
     ]
    },
    {
     "name": "stderr",
     "output_type": "stream",
     "text": [
      "  9%|▉         | 58/648 [44:59<4:16:59, 26.14s/it]"
     ]
    },
    {
     "name": "stdout",
     "output_type": "stream",
     "text": [
      "Scraping  2  comments\n"
     ]
    },
    {
     "name": "stderr",
     "output_type": "stream",
     "text": [
      "  9%|▉         | 59/648 [45:03<3:09:58, 19.35s/it]"
     ]
    },
    {
     "name": "stdout",
     "output_type": "stream",
     "text": [
      "Scraping  1  comments\n",
      "Scraping  10  comments\n",
      "Scraping  10  comments\n",
      "Scraping  10  comments\n"
     ]
    },
    {
     "name": "stderr",
     "output_type": "stream",
     "text": [
      "  9%|▉         | 60/648 [45:09<2:32:04, 15.52s/it]"
     ]
    },
    {
     "name": "stdout",
     "output_type": "stream",
     "text": [
      "Scraping  8  comments\n"
     ]
    },
    {
     "name": "stderr",
     "output_type": "stream",
     "text": [
      "  9%|▉         | 61/648 [45:13<1:58:14, 12.09s/it]"
     ]
    },
    {
     "name": "stdout",
     "output_type": "stream",
     "text": [
      "Scraping  1  comments\n"
     ]
    },
    {
     "name": "stderr",
     "output_type": "stream",
     "text": [
      " 10%|▉         | 62/648 [45:16<1:29:06,  9.12s/it]"
     ]
    },
    {
     "name": "stdout",
     "output_type": "stream",
     "text": [
      "Scraping  0  comments\n",
      "Scraping  10  comments\n"
     ]
    },
    {
     "name": "stderr",
     "output_type": "stream",
     "text": [
      " 10%|▉         | 63/648 [45:20<1:16:07,  7.81s/it]"
     ]
    },
    {
     "name": "stdout",
     "output_type": "stream",
     "text": [
      "Scraping  7  comments\n",
      "Scraping  10  comments\n",
      "Scraping  10  comments\n",
      "Scraping  10  comments\n",
      "Scraping  10  comments\n"
     ]
    },
    {
     "name": "stderr",
     "output_type": "stream",
     "text": [
      " 10%|▉         | 64/648 [45:31<1:25:33,  8.79s/it]"
     ]
    },
    {
     "name": "stdout",
     "output_type": "stream",
     "text": [
      "Scraping  8  comments\n"
     ]
    },
    {
     "name": "stderr",
     "output_type": "stream",
     "text": [
      " 10%|█         | 65/648 [45:35<1:11:25,  7.35s/it]"
     ]
    },
    {
     "name": "stdout",
     "output_type": "stream",
     "text": [
      "Scraping  1  comments\n"
     ]
    },
    {
     "name": "stderr",
     "output_type": "stream",
     "text": [
      " 10%|█         | 66/648 [45:38<57:55,  5.97s/it]  "
     ]
    },
    {
     "name": "stdout",
     "output_type": "stream",
     "text": [
      "Scraping  1  comments\n"
     ]
    },
    {
     "name": "stderr",
     "output_type": "stream",
     "text": [
      " 10%|█         | 67/648 [45:41<50:03,  5.17s/it]"
     ]
    },
    {
     "name": "stdout",
     "output_type": "stream",
     "text": [
      "Scraping  1  comments\n"
     ]
    },
    {
     "name": "stderr",
     "output_type": "stream",
     "text": [
      " 10%|█         | 68/648 [45:43<40:52,  4.23s/it]"
     ]
    },
    {
     "name": "stdout",
     "output_type": "stream",
     "text": [
      "Scraping  1  comments\n"
     ]
    },
    {
     "name": "stderr",
     "output_type": "stream",
     "text": [
      " 11%|█         | 69/648 [45:45<34:08,  3.54s/it]"
     ]
    },
    {
     "name": "stdout",
     "output_type": "stream",
     "text": [
      "Scraping  1  comments\n"
     ]
    },
    {
     "name": "stderr",
     "output_type": "stream",
     "text": [
      " 11%|█         | 70/648 [45:47<29:32,  3.07s/it]"
     ]
    },
    {
     "name": "stdout",
     "output_type": "stream",
     "text": [
      "Scraping  1  comments\n"
     ]
    },
    {
     "name": "stderr",
     "output_type": "stream",
     "text": [
      " 11%|█         | 71/648 [45:50<27:21,  2.84s/it]"
     ]
    },
    {
     "name": "stdout",
     "output_type": "stream",
     "text": [
      "Scraping  1  comments\n"
     ]
    },
    {
     "name": "stderr",
     "output_type": "stream",
     "text": [
      " 11%|█         | 72/648 [45:53<28:46,  3.00s/it]"
     ]
    },
    {
     "name": "stdout",
     "output_type": "stream",
     "text": [
      "Scraping  1  comments\n"
     ]
    },
    {
     "name": "stderr",
     "output_type": "stream",
     "text": [
      " 11%|█▏        | 73/648 [45:57<30:29,  3.18s/it]"
     ]
    },
    {
     "name": "stdout",
     "output_type": "stream",
     "text": [
      "Scraping  1  comments\n"
     ]
    },
    {
     "name": "stderr",
     "output_type": "stream",
     "text": [
      " 11%|█▏        | 74/648 [45:59<29:18,  3.06s/it]"
     ]
    },
    {
     "name": "stdout",
     "output_type": "stream",
     "text": [
      "Scraping  1  comments\n"
     ]
    },
    {
     "name": "stderr",
     "output_type": "stream",
     "text": [
      " 12%|█▏        | 75/648 [46:01<25:15,  2.64s/it]"
     ]
    },
    {
     "name": "stdout",
     "output_type": "stream",
     "text": [
      "Scraping  1  comments\n"
     ]
    },
    {
     "name": "stderr",
     "output_type": "stream",
     "text": [
      " 12%|█▏        | 76/648 [46:03<22:57,  2.41s/it]"
     ]
    },
    {
     "name": "stdout",
     "output_type": "stream",
     "text": [
      "Scraping  1  comments\n"
     ]
    },
    {
     "name": "stderr",
     "output_type": "stream",
     "text": [
      " 12%|█▏        | 77/648 [46:07<27:01,  2.84s/it]"
     ]
    },
    {
     "name": "stdout",
     "output_type": "stream",
     "text": [
      "Scraping  1  comments\n"
     ]
    },
    {
     "name": "stderr",
     "output_type": "stream",
     "text": [
      " 12%|█▏        | 78/648 [46:09<24:36,  2.59s/it]"
     ]
    },
    {
     "name": "stdout",
     "output_type": "stream",
     "text": [
      "Scraping  1  comments\n"
     ]
    },
    {
     "name": "stderr",
     "output_type": "stream",
     "text": [
      " 12%|█▏        | 79/648 [46:11<23:08,  2.44s/it]"
     ]
    },
    {
     "name": "stdout",
     "output_type": "stream",
     "text": [
      "Scraping  1  comments\n"
     ]
    },
    {
     "name": "stderr",
     "output_type": "stream",
     "text": [
      " 12%|█▏        | 80/648 [46:13<22:12,  2.35s/it]"
     ]
    },
    {
     "name": "stdout",
     "output_type": "stream",
     "text": [
      "Scraping  2  comments\n",
      "Scraping  10  comments\n",
      "Scraping  10  comments\n",
      "Scraping  10  comments\n",
      "Scraping  10  comments\n",
      "Scraping  10  comments\n",
      "Scraping  10  comments\n",
      "Scraping  10  comments\n",
      "Scraping  10  comments\n",
      "Scraping  10  comments\n",
      "Scraping  10  comments\n"
     ]
    },
    {
     "name": "stderr",
     "output_type": "stream",
     "text": [
      " 12%|█▎        | 81/648 [46:35<1:17:36,  8.21s/it]"
     ]
    },
    {
     "name": "stdout",
     "output_type": "stream",
     "text": [
      "Scraping  8  comments\n"
     ]
    },
    {
     "name": "stderr",
     "output_type": "stream",
     "text": [
      " 13%|█▎        | 82/648 [46:39<1:06:30,  7.05s/it]"
     ]
    },
    {
     "name": "stdout",
     "output_type": "stream",
     "text": [
      "Scraping  9  comments\n"
     ]
    },
    {
     "name": "stderr",
     "output_type": "stream",
     "text": [
      " 13%|█▎        | 83/648 [46:46<1:06:07,  7.02s/it]"
     ]
    },
    {
     "name": "stdout",
     "output_type": "stream",
     "text": [
      "Scraping  5  comments\n",
      "Scraping  10  comments\n",
      "Scraping  10  comments\n",
      "Scraping  10  comments\n",
      "Scraping  10  comments\n",
      "Scraping  10  comments\n",
      "Scraping  10  comments\n",
      "Scraping  10  comments\n",
      "Scraping  10  comments\n",
      "Scraping  10  comments\n",
      "Scraping  10  comments\n",
      "Scraping  10  comments\n",
      "Scraping  10  comments\n",
      "Scraping  10  comments\n",
      "Scraping  10  comments\n",
      "Scraping  10  comments\n",
      "Scraping  10  comments\n",
      "Scraping  10  comments\n",
      "Scraping  10  comments\n",
      "Scraping  10  comments\n",
      "Scraping  10  comments\n"
     ]
    },
    {
     "name": "stderr",
     "output_type": "stream",
     "text": [
      " 13%|█▎        | 84/648 [47:24<2:34:15, 16.41s/it]"
     ]
    },
    {
     "name": "stdout",
     "output_type": "stream",
     "text": [
      "Scraping  7  comments\n"
     ]
    },
    {
     "name": "stderr",
     "output_type": "stream",
     "text": [
      " 13%|█▎        | 85/648 [47:28<1:56:45, 12.44s/it]"
     ]
    },
    {
     "name": "stdout",
     "output_type": "stream",
     "text": [
      "Scraping  2  comments\n",
      "Scraping  10  comments\n",
      "Scraping  10  comments\n",
      "Scraping  10  comments\n",
      "Scraping  10  comments\n",
      "Scraping  10  comments\n",
      "Scraping  10  comments\n",
      "Scraping  10  comments\n",
      "Scraping  10  comments\n",
      "Scraping  10  comments\n",
      "Scraping  10  comments\n",
      "Scraping  10  comments\n",
      "Scraping  10  comments\n",
      "Scraping  10  comments\n",
      "Scraping  10  comments\n",
      "Scraping  10  comments\n",
      "Scraping  10  comments\n",
      "Scraping  10  comments\n",
      "Scraping  10  comments\n",
      "Scraping  10  comments\n",
      "Scraping  10  comments\n",
      "Scraping  10  comments\n",
      "Scraping  10  comments\n",
      "Scraping  10  comments\n",
      "Scraping  10  comments\n",
      "Scraping  10  comments\n",
      "Scraping  10  comments\n",
      "Scraping  10  comments\n",
      "Scraping  10  comments\n",
      "Scraping  10  comments\n",
      "Scraping  10  comments\n",
      "Scraping  10  comments\n",
      "Scraping  10  comments\n",
      "Scraping  10  comments\n",
      "Scraping  10  comments\n",
      "Scraping  10  comments\n",
      "Scraping  10  comments\n",
      "Scraping  10  comments\n",
      "Scraping  10  comments\n",
      "Scraping  10  comments\n",
      "Scraping  10  comments\n",
      "Scraping  10  comments\n",
      "Scraping  10  comments\n",
      "Scraping  10  comments\n",
      "Scraping  10  comments\n",
      "Scraping  10  comments\n",
      "Scraping  10  comments\n",
      "Scraping  10  comments\n",
      "Scraping  10  comments\n",
      "Scraping  10  comments\n",
      "Scraping  10  comments\n",
      "Scraping  10  comments\n",
      "Scraping  10  comments\n",
      "Scraping  10  comments\n",
      "Scraping  10  comments\n",
      "Scraping  10  comments\n",
      "Scraping  10  comments\n",
      "Scraping  10  comments\n",
      "Scraping  10  comments\n",
      "Scraping  10  comments\n",
      "Scraping  10  comments\n",
      "Scraping  10  comments\n",
      "Scraping  10  comments\n",
      "Scraping  10  comments\n",
      "Scraping  10  comments\n",
      "Scraping  10  comments\n",
      "Scraping  10  comments\n",
      "Scraping  10  comments\n",
      "Scraping  10  comments\n",
      "Scraping  10  comments\n",
      "Scraping  10  comments\n",
      "Scraping  10  comments\n",
      "Scraping  10  comments\n",
      "Scraping  10  comments\n",
      "Scraping  10  comments\n",
      "Scraping  10  comments\n",
      "Scraping  10  comments\n",
      "Scraping  10  comments\n",
      "Scraping  10  comments\n",
      "Scraping  10  comments\n",
      "Scraping  10  comments\n",
      "Scraping  10  comments\n",
      "Scraping  10  comments\n",
      "Scraping  10  comments\n",
      "Scraping  10  comments\n",
      "Scraping  10  comments\n",
      "Scraping  10  comments\n",
      "Scraping  10  comments\n",
      "Scraping  10  comments\n",
      "Scraping  10  comments\n",
      "Scraping  10  comments\n",
      "Scraping  10  comments\n",
      "Scraping  10  comments\n",
      "Scraping  10  comments\n",
      "Scraping  10  comments\n",
      "Scraping  10  comments\n",
      "Scraping  10  comments\n",
      "Scraping  10  comments\n",
      "Scraping  10  comments\n",
      "Scraping  10  comments\n",
      "Scraping  10  comments\n",
      "Scraping  10  comments\n",
      "Scraping  10  comments\n",
      "Scraping  10  comments\n",
      "Scraping  10  comments\n",
      "Scraping  10  comments\n",
      "Scraping  10  comments\n",
      "Scraping  10  comments\n",
      "Scraping  10  comments\n",
      "Scraping  10  comments\n",
      "Scraping  10  comments\n",
      "Scraping  10  comments\n",
      "Scraping  10  comments\n",
      "Scraping  10  comments\n",
      "Scraping  10  comments\n",
      "Scraping  10  comments\n",
      "Scraping  10  comments\n",
      "Scraping  10  comments\n",
      "Scraping  10  comments\n",
      "Scraping  10  comments\n",
      "Scraping  10  comments\n",
      "Scraping  10  comments\n",
      "Scraping  10  comments\n",
      "Scraping  10  comments\n",
      "Scraping  10  comments\n",
      "Scraping  10  comments\n",
      "Scraping  10  comments\n",
      "Scraping  10  comments\n",
      "Scraping  10  comments\n",
      "Scraping  10  comments\n",
      "Scraping  10  comments\n",
      "Scraping  10  comments\n",
      "Scraping  10  comments\n",
      "Scraping  10  comments\n",
      "Scraping  10  comments\n",
      "Scraping  10  comments\n",
      "Scraping  10  comments\n",
      "Scraping  10  comments\n",
      "Scraping  10  comments\n",
      "Scraping  10  comments\n",
      "Scraping  10  comments\n",
      "Scraping  10  comments\n",
      "Scraping  10  comments\n",
      "Scraping  10  comments\n",
      "Scraping  10  comments\n",
      "Scraping  10  comments\n",
      "Scraping  10  comments\n",
      "Scraping  10  comments\n",
      "Scraping  10  comments\n",
      "Scraping  10  comments\n",
      "Scraping  10  comments\n",
      "Scraping  10  comments\n",
      "Scraping  10  comments\n",
      "Scraping  10  comments\n",
      "Scraping  10  comments\n",
      "Scraping  10  comments\n",
      "Scraping  10  comments\n",
      "Scraping  10  comments\n",
      "Scraping  10  comments\n",
      "Scraping  10  comments\n",
      "Scraping  10  comments\n",
      "Scraping  10  comments\n",
      "Scraping  10  comments\n",
      "Scraping  10  comments\n",
      "Scraping  10  comments\n",
      "Scraping  10  comments\n",
      "Scraping  10  comments\n",
      "Scraping  10  comments\n",
      "Scraping  10  comments\n",
      "Scraping  10  comments\n",
      "Scraping  10  comments\n",
      "Scraping  10  comments\n",
      "Scraping  10  comments\n",
      "Scraping  10  comments\n",
      "Scraping  10  comments\n",
      "Scraping  10  comments\n",
      "Scraping  10  comments\n",
      "Scraping  10  comments\n",
      "Scraping  10  comments\n",
      "Scraping  10  comments\n",
      "Scraping  10  comments\n",
      "Scraping  10  comments\n",
      "Scraping  10  comments\n"
     ]
    },
    {
     "name": "stderr",
     "output_type": "stream",
     "text": [
      " 13%|█▎        | 86/648 [52:40<15:58:06, 102.29s/it]"
     ]
    },
    {
     "name": "stdout",
     "output_type": "stream",
     "text": [
      "Scraping  2  comments\n",
      "Scraping  10  comments\n",
      "Scraping  10  comments\n",
      "Scraping  10  comments\n",
      "Scraping  10  comments\n"
     ]
    },
    {
     "name": "stderr",
     "output_type": "stream",
     "text": [
      " 13%|█▎        | 87/648 [52:50<11:38:59, 74.76s/it] "
     ]
    },
    {
     "name": "stdout",
     "output_type": "stream",
     "text": [
      "Scraping  9  comments\n",
      "Scraping  10  comments\n",
      "Scraping  10  comments\n",
      "Scraping  10  comments\n",
      "Scraping  10  comments\n",
      "Scraping  10  comments\n",
      "Scraping  10  comments\n",
      "Scraping  10  comments\n",
      "Scraping  10  comments\n",
      "Scraping  10  comments\n",
      "Scraping  10  comments\n",
      "Scraping  10  comments\n",
      "Scraping  10  comments\n",
      "Scraping  10  comments\n",
      "Scraping  10  comments\n",
      "Scraping  10  comments\n",
      "Scraping  10  comments\n",
      "Scraping  10  comments\n",
      "Scraping  10  comments\n",
      "Scraping  10  comments\n",
      "Scraping  10  comments\n",
      "Scraping  10  comments\n",
      "Scraping  10  comments\n",
      "Scraping  10  comments\n",
      "Scraping  10  comments\n",
      "Scraping  10  comments\n"
     ]
    },
    {
     "name": "stderr",
     "output_type": "stream",
     "text": [
      " 14%|█▎        | 88/648 [53:30<10:00:08, 64.30s/it]"
     ]
    },
    {
     "name": "stdout",
     "output_type": "stream",
     "text": [
      "Scraping  1  comments\n"
     ]
    },
    {
     "name": "stderr",
     "output_type": "stream",
     "text": [
      " 14%|█▎        | 89/648 [53:32<7:04:58, 45.61s/it] "
     ]
    },
    {
     "name": "stdout",
     "output_type": "stream",
     "text": [
      "Scraping  1  comments\n"
     ]
    },
    {
     "name": "stderr",
     "output_type": "stream",
     "text": [
      " 14%|█▍        | 90/648 [53:34<5:03:23, 32.62s/it]"
     ]
    },
    {
     "name": "stdout",
     "output_type": "stream",
     "text": [
      "Scraping  1  comments\n"
     ]
    },
    {
     "name": "stderr",
     "output_type": "stream",
     "text": [
      " 14%|█▍        | 91/648 [53:39<3:43:41, 24.10s/it]"
     ]
    },
    {
     "name": "stdout",
     "output_type": "stream",
     "text": [
      "Scraping  1  comments\n"
     ]
    },
    {
     "name": "stderr",
     "output_type": "stream",
     "text": [
      " 14%|█▍        | 92/648 [53:43<2:48:55, 18.23s/it]"
     ]
    },
    {
     "name": "stdout",
     "output_type": "stream",
     "text": [
      "Scraping  1  comments\n"
     ]
    },
    {
     "name": "stderr",
     "output_type": "stream",
     "text": [
      " 14%|█▍        | 93/648 [53:46<2:05:39, 13.59s/it]"
     ]
    },
    {
     "name": "stdout",
     "output_type": "stream",
     "text": [
      "Scraping  1  comments\n"
     ]
    },
    {
     "name": "stderr",
     "output_type": "stream",
     "text": [
      " 15%|█▍        | 94/648 [53:49<1:37:48, 10.59s/it]"
     ]
    },
    {
     "name": "stdout",
     "output_type": "stream",
     "text": [
      "Scraping  1  comments\n"
     ]
    },
    {
     "name": "stderr",
     "output_type": "stream",
     "text": [
      " 15%|█▍        | 95/648 [53:52<1:14:25,  8.07s/it]"
     ]
    },
    {
     "name": "stdout",
     "output_type": "stream",
     "text": [
      "Scraping  1  comments\n"
     ]
    },
    {
     "name": "stderr",
     "output_type": "stream",
     "text": [
      " 15%|█▍        | 96/648 [53:55<1:00:39,  6.59s/it]"
     ]
    },
    {
     "name": "stdout",
     "output_type": "stream",
     "text": [
      "Scraping  9  comments\n"
     ]
    },
    {
     "name": "stderr",
     "output_type": "stream",
     "text": [
      " 15%|█▍        | 97/648 [53:58<51:15,  5.58s/it]  "
     ]
    },
    {
     "name": "stdout",
     "output_type": "stream",
     "text": [
      "Scraping  1  comments\n"
     ]
    },
    {
     "name": "stderr",
     "output_type": "stream",
     "text": [
      " 15%|█▌        | 98/648 [54:00<42:01,  4.59s/it]"
     ]
    },
    {
     "name": "stdout",
     "output_type": "stream",
     "text": [
      "Scraping  1  comments\n"
     ]
    },
    {
     "name": "stderr",
     "output_type": "stream",
     "text": [
      " 15%|█▌        | 99/648 [54:03<36:05,  3.94s/it]"
     ]
    },
    {
     "name": "stdout",
     "output_type": "stream",
     "text": [
      "Scraping  1  comments\n"
     ]
    },
    {
     "name": "stderr",
     "output_type": "stream",
     "text": [
      " 15%|█▌        | 100/648 [54:07<35:40,  3.91s/it]"
     ]
    },
    {
     "name": "stdout",
     "output_type": "stream",
     "text": [
      "Scraping  1  comments\n"
     ]
    },
    {
     "name": "stderr",
     "output_type": "stream",
     "text": [
      " 16%|█▌        | 101/648 [54:09<32:51,  3.60s/it]"
     ]
    },
    {
     "name": "stdout",
     "output_type": "stream",
     "text": [
      "Scraping  1  comments\n"
     ]
    },
    {
     "name": "stderr",
     "output_type": "stream",
     "text": [
      " 16%|█▌        | 102/648 [54:12<30:20,  3.34s/it]"
     ]
    },
    {
     "name": "stdout",
     "output_type": "stream",
     "text": [
      "Scraping  1  comments\n"
     ]
    },
    {
     "name": "stderr",
     "output_type": "stream",
     "text": [
      " 16%|█▌        | 103/648 [54:15<29:48,  3.28s/it]"
     ]
    },
    {
     "name": "stdout",
     "output_type": "stream",
     "text": [
      "Scraping  1  comments\n",
      "Scraping  10  comments\n",
      "Scraping  10  comments\n",
      "Scraping  10  comments\n",
      "Scraping  10  comments\n",
      "Scraping  10  comments\n",
      "Scraping  10  comments\n",
      "Scraping  10  comments\n",
      "Scraping  10  comments\n",
      "Scraping  10  comments\n",
      "Scraping  10  comments\n",
      "Scraping  10  comments\n",
      "Scraping  10  comments\n",
      "Scraping  10  comments\n",
      "Scraping  10  comments\n",
      "Scraping  10  comments\n",
      "Scraping  10  comments\n",
      "Scraping  10  comments\n",
      "Scraping  10  comments\n",
      "Scraping  10  comments\n",
      "Scraping  10  comments\n",
      "Scraping  10  comments\n",
      "Scraping  10  comments\n",
      "Scraping  10  comments\n",
      "Scraping  10  comments\n",
      "Scraping  10  comments\n",
      "Scraping  10  comments\n",
      "Scraping  10  comments\n",
      "Scraping  10  comments\n",
      "Scraping  10  comments\n",
      "Scraping  10  comments\n",
      "Scraping  10  comments\n",
      "Scraping  10  comments\n",
      "Scraping  10  comments\n",
      "Scraping  10  comments\n",
      "Scraping  10  comments\n",
      "Scraping  10  comments\n",
      "Scraping  10  comments\n",
      "Scraping  10  comments\n",
      "Scraping  10  comments\n",
      "Scraping  10  comments\n",
      "Scraping  10  comments\n",
      "Scraping  10  comments\n",
      "Scraping  10  comments\n",
      "Scraping  10  comments\n",
      "Scraping  10  comments\n",
      "Scraping  10  comments\n",
      "Scraping  10  comments\n",
      "Scraping  10  comments\n",
      "Scraping  10  comments\n",
      "Scraping  10  comments\n",
      "Scraping  10  comments\n",
      "Scraping  10  comments\n",
      "Scraping  10  comments\n",
      "Scraping  10  comments\n",
      "Scraping  10  comments\n",
      "Scraping  10  comments\n",
      "Scraping  10  comments\n",
      "Scraping  10  comments\n",
      "Scraping  10  comments\n",
      "Scraping  10  comments\n",
      "Scraping  10  comments\n",
      "Scraping  10  comments\n",
      "Scraping  10  comments\n",
      "Scraping  10  comments\n",
      "Scraping  10  comments\n",
      "Scraping  10  comments\n",
      "Scraping  10  comments\n",
      "Scraping  10  comments\n",
      "Scraping  10  comments\n",
      "Scraping  10  comments\n",
      "Scraping  10  comments\n",
      "Scraping  10  comments\n",
      "Scraping  10  comments\n",
      "Scraping  10  comments\n",
      "Scraping  10  comments\n",
      "Scraping  10  comments\n",
      "Scraping  10  comments\n",
      "Scraping  10  comments\n",
      "Scraping  10  comments\n",
      "Scraping  10  comments\n",
      "Scraping  10  comments\n",
      "Scraping  10  comments\n",
      "Scraping  10  comments\n",
      "Scraping  10  comments\n",
      "Scraping  10  comments\n",
      "Scraping  10  comments\n",
      "Scraping  10  comments\n",
      "Scraping  10  comments\n",
      "Scraping  10  comments\n",
      "Scraping  10  comments\n",
      "Scraping  10  comments\n",
      "Scraping  10  comments\n",
      "Scraping  10  comments\n",
      "Scraping  10  comments\n",
      "Scraping  10  comments\n",
      "Scraping  10  comments\n",
      "Scraping  10  comments\n",
      "Scraping  10  comments\n",
      "Scraping  10  comments\n",
      "Scraping  10  comments\n",
      "Scraping  10  comments\n",
      "Scraping  10  comments\n",
      "Scraping  10  comments\n",
      "Scraping  10  comments\n",
      "Scraping  10  comments\n"
     ]
    },
    {
     "name": "stderr",
     "output_type": "stream",
     "text": [
      " 16%|█▌        | 104/648 [56:59<7:46:58, 51.50s/it]"
     ]
    },
    {
     "name": "stdout",
     "output_type": "stream",
     "text": [
      "Scraping  8  comments\n"
     ]
    },
    {
     "name": "stderr",
     "output_type": "stream",
     "text": [
      " 16%|█▌        | 105/648 [57:02<5:34:24, 36.95s/it]"
     ]
    },
    {
     "name": "stdout",
     "output_type": "stream",
     "text": [
      "Scraping  1  comments\n"
     ]
    },
    {
     "name": "stderr",
     "output_type": "stream",
     "text": [
      " 16%|█▋        | 106/648 [57:07<4:06:23, 27.28s/it]"
     ]
    },
    {
     "name": "stdout",
     "output_type": "stream",
     "text": [
      "Scraping  1  comments\n"
     ]
    },
    {
     "name": "stderr",
     "output_type": "stream",
     "text": [
      " 17%|█▋        | 107/648 [57:09<2:57:16, 19.66s/it]"
     ]
    },
    {
     "name": "stdout",
     "output_type": "stream",
     "text": [
      "Scraping  1  comments\n",
      "Scraping  10  comments\n",
      "Scraping  10  comments\n",
      "Scraping  10  comments\n",
      "Scraping  10  comments\n",
      "Scraping  10  comments\n",
      "Scraping  10  comments\n",
      "Scraping  10  comments\n",
      "Scraping  10  comments\n",
      "Scraping  10  comments\n",
      "Scraping  10  comments\n",
      "Scraping  10  comments\n",
      "Scraping  10  comments\n",
      "Scraping  10  comments\n",
      "Scraping  10  comments\n",
      "Scraping  10  comments\n",
      "Scraping  10  comments\n",
      "Scraping  10  comments\n",
      "Scraping  10  comments\n",
      "Scraping  10  comments\n",
      "Scraping  10  comments\n",
      "Scraping  10  comments\n",
      "Scraping  10  comments\n",
      "Scraping  10  comments\n",
      "Scraping  10  comments\n",
      "Scraping  10  comments\n",
      "Scraping  10  comments\n",
      "Scraping  10  comments\n",
      "Scraping  10  comments\n"
     ]
    },
    {
     "name": "stderr",
     "output_type": "stream",
     "text": [
      " 17%|█▋        | 108/648 [57:53<4:03:51, 27.10s/it]"
     ]
    },
    {
     "name": "stdout",
     "output_type": "stream",
     "text": [
      "Scraping  5  comments\n",
      "Scraping  10  comments\n",
      "Scraping  10  comments\n",
      "Scraping  10  comments\n",
      "Scraping  10  comments\n",
      "Scraping  10  comments\n",
      "Scraping  10  comments\n",
      "Scraping  10  comments\n",
      "Scraping  10  comments\n"
     ]
    },
    {
     "name": "stderr",
     "output_type": "stream",
     "text": [
      " 17%|█▋        | 109/648 [58:07<3:27:23, 23.09s/it]"
     ]
    },
    {
     "name": "stdout",
     "output_type": "stream",
     "text": [
      "Scraping  4  comments\n",
      "Scraping  10  comments\n",
      "Scraping  10  comments\n",
      "Scraping  10  comments\n",
      "Scraping  10  comments\n",
      "Scraping  10  comments\n",
      "Scraping  10  comments\n",
      "Scraping  10  comments\n",
      "Scraping  10  comments\n",
      "Scraping  10  comments\n",
      "Scraping  10  comments\n",
      "Scraping  10  comments\n",
      "Scraping  10  comments\n",
      "Scraping  10  comments\n",
      "Scraping  10  comments\n",
      "Scraping  10  comments\n",
      "Scraping  10  comments\n",
      "Scraping  10  comments\n",
      "Scraping  10  comments\n",
      "Scraping  10  comments\n",
      "Scraping  10  comments\n",
      "Scraping  10  comments\n",
      "Scraping  10  comments\n",
      "Scraping  10  comments\n",
      "Scraping  10  comments\n",
      "Scraping  10  comments\n",
      "Scraping  10  comments\n",
      "Scraping  10  comments\n",
      "Scraping  10  comments\n",
      "Scraping  10  comments\n",
      "Scraping  10  comments\n",
      "Scraping  10  comments\n",
      "Scraping  10  comments\n",
      "Scraping  10  comments\n",
      "Scraping  10  comments\n",
      "Scraping  10  comments\n",
      "Scraping  10  comments\n",
      "Scraping  10  comments\n",
      "Scraping  10  comments\n",
      "Scraping  10  comments\n"
     ]
    },
    {
     "name": "stderr",
     "output_type": "stream",
     "text": [
      " 17%|█▋        | 110/648 [59:08<5:08:02, 34.35s/it]"
     ]
    },
    {
     "name": "stdout",
     "output_type": "stream",
     "text": [
      "Scraping  10  comments\n"
     ]
    },
    {
     "name": "stderr",
     "output_type": "stream",
     "text": [
      " 17%|█▋        | 111/648 [59:10<3:42:15, 24.83s/it]"
     ]
    },
    {
     "name": "stdout",
     "output_type": "stream",
     "text": [
      "Scraping  3  comments\n",
      "Scraping  10  comments\n",
      "Scraping  10  comments\n",
      "Scraping  10  comments\n",
      "Scraping  10  comments\n",
      "Scraping  10  comments\n",
      "Scraping  10  comments\n",
      "Scraping  10  comments\n"
     ]
    },
    {
     "name": "stderr",
     "output_type": "stream",
     "text": [
      " 17%|█▋        | 112/648 [59:25<3:15:46, 21.92s/it]"
     ]
    },
    {
     "name": "stdout",
     "output_type": "stream",
     "text": [
      "Scraping  3  comments\n",
      "Scraping  10  comments\n",
      "Scraping  10  comments\n",
      "Scraping  10  comments\n",
      "Scraping  10  comments\n",
      "Scraping  10  comments\n",
      "Scraping  10  comments\n",
      "Scraping  10  comments\n"
     ]
    },
    {
     "name": "stderr",
     "output_type": "stream",
     "text": [
      " 17%|█▋        | 113/648 [59:38<2:51:00, 19.18s/it]"
     ]
    },
    {
     "name": "stdout",
     "output_type": "stream",
     "text": [
      "Scraping  7  comments\n",
      "Scraping  10  comments\n",
      "Scraping  10  comments\n",
      "Scraping  10  comments\n",
      "Scraping  10  comments\n",
      "Scraping  10  comments\n",
      "Scraping  10  comments\n",
      "Scraping  10  comments\n",
      "Scraping  10  comments\n",
      "Scraping  10  comments\n",
      "Scraping  10  comments\n",
      "Scraping  10  comments\n",
      "Scraping  10  comments\n",
      "Scraping  10  comments\n",
      "Scraping  10  comments\n",
      "Scraping  10  comments\n",
      "Scraping  10  comments\n",
      "Scraping  10  comments\n",
      "Scraping  10  comments\n",
      "Scraping  10  comments\n",
      "Scraping  10  comments\n",
      "Scraping  10  comments\n",
      "Scraping  10  comments\n",
      "Scraping  10  comments\n",
      "Scraping  10  comments\n",
      "Scraping  10  comments\n",
      "Scraping  10  comments\n",
      "Scraping  10  comments\n",
      "Scraping  10  comments\n",
      "Scraping  10  comments\n",
      "Scraping  10  comments\n",
      "Scraping  10  comments\n",
      "Scraping  10  comments\n",
      "Scraping  10  comments\n",
      "Scraping  10  comments\n",
      "Scraping  10  comments\n"
     ]
    },
    {
     "name": "stderr",
     "output_type": "stream",
     "text": [
      " 18%|█▊        | 114/648 [1:00:24<4:01:56, 27.18s/it]"
     ]
    },
    {
     "name": "stdout",
     "output_type": "stream",
     "text": [
      "Scraping  9  comments\n",
      "Scraping  10  comments\n",
      "Scraping  10  comments\n",
      "Scraping  10  comments\n",
      "Scraping  10  comments\n",
      "Scraping  10  comments\n",
      "Scraping  10  comments\n",
      "Scraping  10  comments\n",
      "Scraping  10  comments\n",
      "Scraping  10  comments\n",
      "Scraping  10  comments\n",
      "Scraping  10  comments\n",
      "Scraping  10  comments\n",
      "Scraping  10  comments\n",
      "Scraping  10  comments\n",
      "Scraping  10  comments\n"
     ]
    },
    {
     "name": "stderr",
     "output_type": "stream",
     "text": [
      " 18%|█▊        | 115/648 [1:00:48<3:52:55, 26.22s/it]"
     ]
    },
    {
     "name": "stdout",
     "output_type": "stream",
     "text": [
      "Scraping  1  comments\n",
      "Scraping  10  comments\n",
      "Scraping  10  comments\n",
      "Scraping  10  comments\n",
      "Scraping  10  comments\n",
      "Scraping  10  comments\n",
      "Scraping  10  comments\n"
     ]
    },
    {
     "name": "stderr",
     "output_type": "stream",
     "text": [
      " 18%|█▊        | 116/648 [1:00:59<3:12:18, 21.69s/it]"
     ]
    },
    {
     "name": "stdout",
     "output_type": "stream",
     "text": [
      "Scraping  5  comments\n"
     ]
    },
    {
     "name": "stderr",
     "output_type": "stream",
     "text": [
      " 18%|█▊        | 117/648 [1:01:02<2:22:02, 16.05s/it]"
     ]
    },
    {
     "name": "stdout",
     "output_type": "stream",
     "text": [
      "Scraping  5  comments\n",
      "Scraping  10  comments\n",
      "Scraping  10  comments\n",
      "Scraping  10  comments\n"
     ]
    },
    {
     "name": "stderr",
     "output_type": "stream",
     "text": [
      " 18%|█▊        | 118/648 [1:01:10<2:01:05, 13.71s/it]"
     ]
    },
    {
     "name": "stdout",
     "output_type": "stream",
     "text": [
      "Scraping  5  comments\n",
      "Scraping  10  comments\n",
      "Scraping  10  comments\n",
      "Scraping  10  comments\n",
      "Scraping  10  comments\n",
      "Scraping  10  comments\n",
      "Scraping  10  comments\n",
      "Scraping  10  comments\n",
      "Scraping  10  comments\n",
      "Scraping  10  comments\n",
      "Scraping  10  comments\n",
      "Scraping  10  comments\n"
     ]
    },
    {
     "name": "stderr",
     "output_type": "stream",
     "text": [
      " 18%|█▊        | 119/648 [1:01:27<2:09:24, 14.68s/it]"
     ]
    },
    {
     "name": "stdout",
     "output_type": "stream",
     "text": [
      "Scraping  4  comments\n",
      "Scraping  10  comments\n",
      "Scraping  10  comments\n",
      "Scraping  10  comments\n",
      "Scraping  10  comments\n",
      "Scraping  10  comments\n",
      "Scraping  10  comments\n",
      "Scraping  10  comments\n",
      "Scraping  10  comments\n"
     ]
    },
    {
     "name": "stderr",
     "output_type": "stream",
     "text": [
      " 19%|█▊        | 120/648 [1:01:43<2:11:57, 15.00s/it]"
     ]
    },
    {
     "name": "stdout",
     "output_type": "stream",
     "text": [
      "Scraping  3  comments\n",
      "Scraping  10  comments\n",
      "Scraping  10  comments\n",
      "Scraping  10  comments\n",
      "Scraping  10  comments\n",
      "Scraping  10  comments\n",
      "Scraping  10  comments\n",
      "Scraping  10  comments\n",
      "Scraping  10  comments\n",
      "Scraping  10  comments\n",
      "Scraping  10  comments\n",
      "Scraping  10  comments\n"
     ]
    },
    {
     "name": "stderr",
     "output_type": "stream",
     "text": [
      " 19%|█▊        | 121/648 [1:02:02<2:22:23, 16.21s/it]"
     ]
    },
    {
     "name": "stdout",
     "output_type": "stream",
     "text": [
      "Scraping  3  comments\n",
      "Scraping  10  comments\n",
      "Scraping  10  comments\n"
     ]
    },
    {
     "name": "stderr",
     "output_type": "stream",
     "text": [
      " 19%|█▉        | 122/648 [1:02:10<2:01:07, 13.82s/it]"
     ]
    },
    {
     "name": "stdout",
     "output_type": "stream",
     "text": [
      "Scraping  4  comments\n",
      "Scraping  10  comments\n",
      "Scraping  10  comments\n",
      "Scraping  10  comments\n",
      "Scraping  10  comments\n",
      "Scraping  10  comments\n"
     ]
    },
    {
     "name": "stderr",
     "output_type": "stream",
     "text": [
      " 19%|█▉        | 123/648 [1:02:20<1:49:35, 12.53s/it]"
     ]
    },
    {
     "name": "stdout",
     "output_type": "stream",
     "text": [
      "Scraping  4  comments\n",
      "Scraping  10  comments\n",
      "Scraping  10  comments\n"
     ]
    },
    {
     "name": "stderr",
     "output_type": "stream",
     "text": [
      " 19%|█▉        | 124/648 [1:02:25<1:31:24, 10.47s/it]"
     ]
    },
    {
     "name": "stdout",
     "output_type": "stream",
     "text": [
      "Scraping  6  comments\n",
      "Scraping  10  comments\n"
     ]
    },
    {
     "name": "stderr",
     "output_type": "stream",
     "text": [
      " 19%|█▉        | 125/648 [1:02:30<1:16:37,  8.79s/it]"
     ]
    },
    {
     "name": "stdout",
     "output_type": "stream",
     "text": [
      "Scraping  3  comments\n"
     ]
    },
    {
     "name": "stderr",
     "output_type": "stream",
     "text": [
      " 19%|█▉        | 126/648 [1:02:34<1:02:09,  7.14s/it]"
     ]
    },
    {
     "name": "stdout",
     "output_type": "stream",
     "text": [
      "Scraping  2  comments\n"
     ]
    },
    {
     "name": "stderr",
     "output_type": "stream",
     "text": [
      " 20%|█▉        | 127/648 [1:02:35<48:05,  5.54s/it]  "
     ]
    },
    {
     "name": "stdout",
     "output_type": "stream",
     "text": [
      "Scraping  1  comments\n",
      "Scraping  10  comments\n",
      "Scraping  10  comments\n",
      "Scraping  10  comments\n",
      "Scraping  10  comments\n"
     ]
    },
    {
     "name": "stderr",
     "output_type": "stream",
     "text": [
      " 20%|█▉        | 128/648 [1:02:45<58:33,  6.76s/it]"
     ]
    },
    {
     "name": "stdout",
     "output_type": "stream",
     "text": [
      "Scraping  7  comments\n"
     ]
    },
    {
     "name": "stderr",
     "output_type": "stream",
     "text": [
      " 20%|█▉        | 129/648 [1:02:48<48:36,  5.62s/it]"
     ]
    },
    {
     "name": "stdout",
     "output_type": "stream",
     "text": [
      "Scraping  1  comments\n"
     ]
    },
    {
     "name": "stderr",
     "output_type": "stream",
     "text": [
      " 20%|██        | 130/648 [1:02:51<42:14,  4.89s/it]"
     ]
    },
    {
     "name": "stdout",
     "output_type": "stream",
     "text": [
      "Scraping  1  comments\n"
     ]
    },
    {
     "name": "stderr",
     "output_type": "stream",
     "text": [
      " 20%|██        | 131/648 [1:02:53<35:06,  4.07s/it]"
     ]
    },
    {
     "name": "stdout",
     "output_type": "stream",
     "text": [
      "Scraping  1  comments\n",
      "Scraping  10  comments\n"
     ]
    },
    {
     "name": "stderr",
     "output_type": "stream",
     "text": [
      " 20%|██        | 132/648 [1:02:59<40:11,  4.67s/it]"
     ]
    },
    {
     "name": "stdout",
     "output_type": "stream",
     "text": [
      "Scraping  4  comments\n"
     ]
    },
    {
     "name": "stderr",
     "output_type": "stream",
     "text": [
      " 21%|██        | 133/648 [1:03:01<33:00,  3.85s/it]"
     ]
    },
    {
     "name": "stdout",
     "output_type": "stream",
     "text": [
      "Scraping  1  comments\n"
     ]
    },
    {
     "name": "stderr",
     "output_type": "stream",
     "text": [
      " 21%|██        | 134/648 [1:03:04<29:25,  3.43s/it]"
     ]
    },
    {
     "name": "stdout",
     "output_type": "stream",
     "text": [
      "Scraping  1  comments\n"
     ]
    },
    {
     "name": "stderr",
     "output_type": "stream",
     "text": [
      " 21%|██        | 135/648 [1:03:06<25:39,  3.00s/it]"
     ]
    },
    {
     "name": "stdout",
     "output_type": "stream",
     "text": [
      "Scraping  1  comments\n"
     ]
    },
    {
     "name": "stderr",
     "output_type": "stream",
     "text": [
      " 21%|██        | 136/648 [1:03:08<24:18,  2.85s/it]"
     ]
    },
    {
     "name": "stdout",
     "output_type": "stream",
     "text": [
      "Scraping  1  comments\n"
     ]
    },
    {
     "name": "stderr",
     "output_type": "stream",
     "text": [
      " 21%|██        | 137/648 [1:03:11<23:03,  2.71s/it]"
     ]
    },
    {
     "name": "stdout",
     "output_type": "stream",
     "text": [
      "Scraping  1  comments\n"
     ]
    },
    {
     "name": "stderr",
     "output_type": "stream",
     "text": [
      " 21%|██▏       | 138/648 [1:03:13<23:00,  2.71s/it]"
     ]
    },
    {
     "name": "stdout",
     "output_type": "stream",
     "text": [
      "Scraping  1  comments\n",
      "Scraping  10  comments\n",
      "Scraping  10  comments\n",
      "Scraping  10  comments\n",
      "Scraping  10  comments\n",
      "Scraping  10  comments\n",
      "Scraping  10  comments\n",
      "Scraping  10  comments\n",
      "Scraping  10  comments\n",
      "Scraping  10  comments\n",
      "Scraping  10  comments\n",
      "Scraping  10  comments\n",
      "Scraping  10  comments\n",
      "Scraping  10  comments\n",
      "Scraping  10  comments\n",
      "Scraping  10  comments\n",
      "Scraping  10  comments\n",
      "Scraping  10  comments\n",
      "Scraping  10  comments\n",
      "Scraping  10  comments\n",
      "Scraping  10  comments\n",
      "Scraping  10  comments\n",
      "Scraping  10  comments\n",
      "Scraping  10  comments\n",
      "Scraping  10  comments\n",
      "Scraping  10  comments\n",
      "Scraping  10  comments\n",
      "Scraping  10  comments\n",
      "Scraping  10  comments\n",
      "Scraping  10  comments\n",
      "Scraping  10  comments\n",
      "Scraping  10  comments\n",
      "Scraping  10  comments\n",
      "Scraping  10  comments\n",
      "Scraping  10  comments\n",
      "Scraping  10  comments\n",
      "Scraping  10  comments\n",
      "Scraping  10  comments\n",
      "Scraping  10  comments\n",
      "Scraping  10  comments\n",
      "Scraping  10  comments\n",
      "Scraping  10  comments\n",
      "Scraping  10  comments\n",
      "Scraping  10  comments\n",
      "Scraping  10  comments\n",
      "Scraping  10  comments\n",
      "Scraping  10  comments\n",
      "Scraping  10  comments\n",
      "Scraping  10  comments\n",
      "Scraping  10  comments\n",
      "Scraping  10  comments\n",
      "Scraping  10  comments\n",
      "Scraping  10  comments\n",
      "Scraping  10  comments\n",
      "Scraping  10  comments\n",
      "Scraping  10  comments\n",
      "Scraping  10  comments\n",
      "Scraping  10  comments\n",
      "Scraping  10  comments\n",
      "Scraping  10  comments\n",
      "Scraping  10  comments\n",
      "Scraping  10  comments\n",
      "Scraping  10  comments\n",
      "Scraping  10  comments\n",
      "Scraping  10  comments\n",
      "Scraping  10  comments\n",
      "Scraping  10  comments\n",
      "Scraping  10  comments\n"
     ]
    },
    {
     "name": "stderr",
     "output_type": "stream",
     "text": [
      " 21%|██▏       | 139/648 [1:05:06<5:02:18, 35.64s/it]"
     ]
    },
    {
     "name": "stdout",
     "output_type": "stream",
     "text": [
      "Scraping  1  comments\n",
      "Scraping  10  comments\n",
      "Scraping  10  comments\n",
      "Scraping  10  comments\n",
      "Scraping  10  comments\n",
      "Scraping  10  comments\n",
      "Scraping  10  comments\n",
      "Scraping  10  comments\n",
      "Scraping  10  comments\n",
      "Scraping  10  comments\n",
      "Scraping  10  comments\n",
      "Scraping  10  comments\n",
      "Scraping  10  comments\n",
      "Scraping  10  comments\n",
      "Scraping  10  comments\n",
      "Scraping  10  comments\n",
      "Scraping  10  comments\n",
      "Scraping  10  comments\n",
      "Scraping  10  comments\n",
      "Scraping  10  comments\n",
      "Scraping  10  comments\n",
      "Scraping  10  comments\n",
      "Scraping  10  comments\n",
      "Scraping  10  comments\n",
      "Scraping  10  comments\n",
      "Scraping  10  comments\n",
      "Scraping  10  comments\n",
      "Scraping  10  comments\n",
      "Scraping  10  comments\n",
      "Scraping  10  comments\n",
      "Scraping  10  comments\n",
      "Scraping  10  comments\n",
      "Scraping  10  comments\n",
      "Scraping  10  comments\n",
      "Scraping  10  comments\n",
      "Scraping  10  comments\n",
      "Scraping  10  comments\n",
      "Scraping  10  comments\n",
      "Scraping  10  comments\n",
      "Scraping  10  comments\n",
      "Scraping  10  comments\n",
      "Scraping  10  comments\n",
      "Scraping  10  comments\n",
      "Scraping  10  comments\n",
      "Scraping  10  comments\n",
      "Scraping  10  comments\n",
      "Scraping  10  comments\n",
      "Scraping  10  comments\n",
      "Scraping  10  comments\n",
      "Scraping  10  comments\n",
      "Scraping  10  comments\n",
      "Scraping  10  comments\n",
      "Scraping  10  comments\n",
      "Scraping  10  comments\n",
      "Scraping  10  comments\n",
      "Scraping  10  comments\n",
      "Scraping  10  comments\n",
      "Scraping  10  comments\n",
      "Scraping  10  comments\n",
      "Scraping  10  comments\n",
      "Scraping  10  comments\n",
      "Scraping  10  comments\n",
      "Scraping  10  comments\n",
      "Scraping  10  comments\n",
      "Scraping  10  comments\n",
      "Scraping  10  comments\n",
      "Scraping  10  comments\n",
      "Scraping  10  comments\n",
      "Scraping  10  comments\n",
      "Scraping  10  comments\n",
      "Scraping  10  comments\n",
      "Scraping  10  comments\n",
      "Scraping  10  comments\n"
     ]
    },
    {
     "name": "stderr",
     "output_type": "stream",
     "text": [
      " 22%|██▏       | 140/648 [1:06:55<8:08:08, 57.65s/it]"
     ]
    },
    {
     "name": "stdout",
     "output_type": "stream",
     "text": [
      "Scraping  10  comments\n"
     ]
    },
    {
     "name": "stderr",
     "output_type": "stream",
     "text": [
      " 22%|██▏       | 141/648 [1:06:57<5:47:25, 41.12s/it]"
     ]
    },
    {
     "name": "stdout",
     "output_type": "stream",
     "text": [
      "Scraping  1  comments\n"
     ]
    },
    {
     "name": "stderr",
     "output_type": "stream",
     "text": [
      " 22%|██▏       | 142/648 [1:06:59<4:07:54, 29.40s/it]"
     ]
    },
    {
     "name": "stdout",
     "output_type": "stream",
     "text": [
      "Scraping  1  comments\n"
     ]
    },
    {
     "name": "stderr",
     "output_type": "stream",
     "text": [
      " 22%|██▏       | 143/648 [1:07:01<2:57:58, 21.15s/it]"
     ]
    },
    {
     "name": "stdout",
     "output_type": "stream",
     "text": [
      "Scraping  2  comments\n"
     ]
    },
    {
     "name": "stderr",
     "output_type": "stream",
     "text": [
      " 22%|██▏       | 144/648 [1:07:04<2:10:07, 15.49s/it]"
     ]
    },
    {
     "name": "stdout",
     "output_type": "stream",
     "text": [
      "Scraping  2  comments\n"
     ]
    },
    {
     "name": "stderr",
     "output_type": "stream",
     "text": [
      " 22%|██▏       | 145/648 [1:07:06<1:36:23, 11.50s/it]"
     ]
    },
    {
     "name": "stdout",
     "output_type": "stream",
     "text": [
      "Scraping  1  comments\n"
     ]
    },
    {
     "name": "stderr",
     "output_type": "stream",
     "text": [
      " 23%|██▎       | 146/648 [1:07:08<1:13:07,  8.74s/it]"
     ]
    },
    {
     "name": "stdout",
     "output_type": "stream",
     "text": [
      "Scraping  1  comments\n"
     ]
    },
    {
     "name": "stderr",
     "output_type": "stream",
     "text": [
      " 23%|██▎       | 147/648 [1:07:11<58:18,  6.98s/it]  "
     ]
    },
    {
     "name": "stdout",
     "output_type": "stream",
     "text": [
      "Scraping  1  comments\n"
     ]
    },
    {
     "name": "stderr",
     "output_type": "stream",
     "text": [
      " 23%|██▎       | 148/648 [1:07:13<46:03,  5.53s/it]"
     ]
    },
    {
     "name": "stdout",
     "output_type": "stream",
     "text": [
      "Scraping  1  comments\n"
     ]
    },
    {
     "name": "stderr",
     "output_type": "stream",
     "text": [
      " 23%|██▎       | 149/648 [1:07:16<38:38,  4.65s/it]"
     ]
    },
    {
     "name": "stdout",
     "output_type": "stream",
     "text": [
      "Scraping  1  comments\n"
     ]
    },
    {
     "name": "stderr",
     "output_type": "stream",
     "text": [
      " 23%|██▎       | 150/648 [1:07:19<34:32,  4.16s/it]"
     ]
    },
    {
     "name": "stdout",
     "output_type": "stream",
     "text": [
      "Scraping  1  comments\n"
     ]
    },
    {
     "name": "stderr",
     "output_type": "stream",
     "text": [
      " 23%|██▎       | 151/648 [1:07:21<30:28,  3.68s/it]"
     ]
    },
    {
     "name": "stdout",
     "output_type": "stream",
     "text": [
      "Scraping  1  comments\n"
     ]
    },
    {
     "name": "stderr",
     "output_type": "stream",
     "text": [
      " 23%|██▎       | 152/648 [1:07:23<26:21,  3.19s/it]"
     ]
    },
    {
     "name": "stdout",
     "output_type": "stream",
     "text": [
      "Scraping  1  comments\n"
     ]
    },
    {
     "name": "stderr",
     "output_type": "stream",
     "text": [
      " 24%|██▎       | 153/648 [1:07:25<23:00,  2.79s/it]"
     ]
    },
    {
     "name": "stdout",
     "output_type": "stream",
     "text": [
      "Scraping  1  comments\n"
     ]
    },
    {
     "name": "stderr",
     "output_type": "stream",
     "text": [
      " 24%|██▍       | 154/648 [1:07:27<20:40,  2.51s/it]"
     ]
    },
    {
     "name": "stdout",
     "output_type": "stream",
     "text": [
      "Scraping  2  comments\n"
     ]
    },
    {
     "name": "stderr",
     "output_type": "stream",
     "text": [
      " 24%|██▍       | 155/648 [1:07:29<19:48,  2.41s/it]"
     ]
    },
    {
     "name": "stdout",
     "output_type": "stream",
     "text": [
      "Scraping  1  comments\n"
     ]
    },
    {
     "name": "stderr",
     "output_type": "stream",
     "text": [
      " 24%|██▍       | 156/648 [1:07:32<20:15,  2.47s/it]"
     ]
    },
    {
     "name": "stdout",
     "output_type": "stream",
     "text": [
      "Scraping  1  comments\n",
      "Scraping  10  comments\n",
      "Scraping  10  comments\n"
     ]
    },
    {
     "name": "stderr",
     "output_type": "stream",
     "text": [
      " 24%|██▍       | 157/648 [1:07:37<26:46,  3.27s/it]"
     ]
    },
    {
     "name": "stdout",
     "output_type": "stream",
     "text": [
      "Scraping  2  comments\n"
     ]
    },
    {
     "name": "stderr",
     "output_type": "stream",
     "text": [
      " 24%|██▍       | 158/648 [1:07:40<26:00,  3.19s/it]"
     ]
    },
    {
     "name": "stdout",
     "output_type": "stream",
     "text": [
      "Scraping  2  comments\n"
     ]
    },
    {
     "name": "stderr",
     "output_type": "stream",
     "text": [
      " 25%|██▍       | 159/648 [1:07:42<23:20,  2.86s/it]"
     ]
    },
    {
     "name": "stdout",
     "output_type": "stream",
     "text": [
      "Scraping  2  comments\n"
     ]
    },
    {
     "name": "stderr",
     "output_type": "stream",
     "text": [
      " 25%|██▍       | 160/648 [1:07:44<21:27,  2.64s/it]"
     ]
    },
    {
     "name": "stdout",
     "output_type": "stream",
     "text": [
      "Scraping  1  comments\n"
     ]
    },
    {
     "name": "stderr",
     "output_type": "stream",
     "text": [
      " 25%|██▍       | 161/648 [1:07:47<20:50,  2.57s/it]"
     ]
    },
    {
     "name": "stdout",
     "output_type": "stream",
     "text": [
      "Scraping  1  comments\n"
     ]
    },
    {
     "name": "stderr",
     "output_type": "stream",
     "text": [
      " 25%|██▌       | 162/648 [1:07:50<22:08,  2.73s/it]"
     ]
    },
    {
     "name": "stdout",
     "output_type": "stream",
     "text": [
      "Scraping  1  comments\n"
     ]
    },
    {
     "name": "stderr",
     "output_type": "stream",
     "text": [
      " 25%|██▌       | 163/648 [1:07:53<22:11,  2.75s/it]"
     ]
    },
    {
     "name": "stdout",
     "output_type": "stream",
     "text": [
      "Scraping  1  comments\n"
     ]
    },
    {
     "name": "stderr",
     "output_type": "stream",
     "text": [
      " 25%|██▌       | 164/648 [1:07:55<22:13,  2.75s/it]"
     ]
    },
    {
     "name": "stdout",
     "output_type": "stream",
     "text": [
      "Scraping  1  comments\n"
     ]
    },
    {
     "name": "stderr",
     "output_type": "stream",
     "text": [
      " 25%|██▌       | 165/648 [1:07:58<22:20,  2.78s/it]"
     ]
    },
    {
     "name": "stdout",
     "output_type": "stream",
     "text": [
      "Scraping  1  comments\n"
     ]
    },
    {
     "name": "stderr",
     "output_type": "stream",
     "text": [
      " 26%|██▌       | 166/648 [1:08:01<23:09,  2.88s/it]"
     ]
    },
    {
     "name": "stdout",
     "output_type": "stream",
     "text": [
      "Scraping  1  comments\n"
     ]
    },
    {
     "name": "stderr",
     "output_type": "stream",
     "text": [
      " 26%|██▌       | 167/648 [1:08:04<21:58,  2.74s/it]"
     ]
    },
    {
     "name": "stdout",
     "output_type": "stream",
     "text": [
      "Scraping  1  comments\n"
     ]
    },
    {
     "name": "stderr",
     "output_type": "stream",
     "text": [
      " 26%|██▌       | 168/648 [1:08:07<22:13,  2.78s/it]"
     ]
    },
    {
     "name": "stdout",
     "output_type": "stream",
     "text": [
      "Scraping  1  comments\n"
     ]
    },
    {
     "name": "stderr",
     "output_type": "stream",
     "text": [
      " 26%|██▌       | 169/648 [1:08:09<22:26,  2.81s/it]"
     ]
    },
    {
     "name": "stdout",
     "output_type": "stream",
     "text": [
      "Scraping  3  comments\n",
      "Scraping  10  comments\n"
     ]
    },
    {
     "name": "stderr",
     "output_type": "stream",
     "text": [
      " 26%|██▌       | 170/648 [1:08:13<24:28,  3.07s/it]"
     ]
    },
    {
     "name": "stdout",
     "output_type": "stream",
     "text": [
      "Scraping  5  comments\n",
      "Scraping  10  comments\n",
      "Scraping  10  comments\n",
      "Scraping  10  comments\n",
      "Scraping  10  comments\n",
      "Scraping  10  comments\n",
      "Scraping  10  comments\n",
      "Scraping  10  comments\n",
      "Scraping  10  comments\n",
      "Scraping  10  comments\n"
     ]
    },
    {
     "name": "stderr",
     "output_type": "stream",
     "text": [
      " 26%|██▋       | 171/648 [1:08:29<54:18,  6.83s/it]"
     ]
    },
    {
     "name": "stdout",
     "output_type": "stream",
     "text": [
      "Scraping  7  comments\n"
     ]
    },
    {
     "name": "stderr",
     "output_type": "stream",
     "text": [
      " 27%|██▋       | 172/648 [1:08:31<43:36,  5.50s/it]"
     ]
    },
    {
     "name": "stdout",
     "output_type": "stream",
     "text": [
      "Scraping  1  comments\n"
     ]
    },
    {
     "name": "stderr",
     "output_type": "stream",
     "text": [
      " 27%|██▋       | 173/648 [1:08:34<37:42,  4.76s/it]"
     ]
    },
    {
     "name": "stdout",
     "output_type": "stream",
     "text": [
      "Scraping  1  comments\n"
     ]
    },
    {
     "name": "stderr",
     "output_type": "stream",
     "text": [
      " 27%|██▋       | 174/648 [1:08:37<32:31,  4.12s/it]"
     ]
    },
    {
     "name": "stdout",
     "output_type": "stream",
     "text": [
      "Scraping  1  comments\n"
     ]
    },
    {
     "name": "stderr",
     "output_type": "stream",
     "text": [
      " 27%|██▋       | 175/648 [1:08:39<27:32,  3.49s/it]"
     ]
    },
    {
     "name": "stdout",
     "output_type": "stream",
     "text": [
      "Scraping  1  comments\n"
     ]
    },
    {
     "name": "stderr",
     "output_type": "stream",
     "text": [
      " 27%|██▋       | 176/648 [1:08:41<24:14,  3.08s/it]"
     ]
    },
    {
     "name": "stdout",
     "output_type": "stream",
     "text": [
      "Scraping  1  comments\n"
     ]
    },
    {
     "name": "stderr",
     "output_type": "stream",
     "text": [
      " 27%|██▋       | 177/648 [1:08:43<22:10,  2.83s/it]"
     ]
    },
    {
     "name": "stdout",
     "output_type": "stream",
     "text": [
      "Scraping  1  comments\n",
      "Scraping  10  comments\n",
      "Scraping  10  comments\n"
     ]
    },
    {
     "name": "stderr",
     "output_type": "stream",
     "text": [
      " 27%|██▋       | 178/648 [1:08:48<26:23,  3.37s/it]"
     ]
    },
    {
     "name": "stdout",
     "output_type": "stream",
     "text": [
      "Scraping  7  comments\n"
     ]
    },
    {
     "name": "stderr",
     "output_type": "stream",
     "text": [
      " 28%|██▊       | 179/648 [1:08:50<23:34,  3.02s/it]"
     ]
    },
    {
     "name": "stdout",
     "output_type": "stream",
     "text": [
      "Scraping  1  comments\n"
     ]
    },
    {
     "name": "stderr",
     "output_type": "stream",
     "text": [
      " 28%|██▊       | 180/648 [1:08:52<21:34,  2.77s/it]"
     ]
    },
    {
     "name": "stdout",
     "output_type": "stream",
     "text": [
      "Scraping  1  comments\n"
     ]
    },
    {
     "name": "stderr",
     "output_type": "stream",
     "text": [
      " 28%|██▊       | 181/648 [1:08:54<19:50,  2.55s/it]"
     ]
    },
    {
     "name": "stdout",
     "output_type": "stream",
     "text": [
      "Scraping  1  comments\n"
     ]
    },
    {
     "name": "stderr",
     "output_type": "stream",
     "text": [
      " 28%|██▊       | 182/648 [1:08:56<19:10,  2.47s/it]"
     ]
    },
    {
     "name": "stdout",
     "output_type": "stream",
     "text": [
      "Scraping  6  comments\n",
      "Scraping  10  comments\n",
      "Scraping  10  comments\n",
      "Scraping  10  comments\n"
     ]
    },
    {
     "name": "stderr",
     "output_type": "stream",
     "text": [
      " 28%|██▊       | 183/648 [1:09:05<33:40,  4.35s/it]"
     ]
    },
    {
     "name": "stdout",
     "output_type": "stream",
     "text": [
      "Scraping  1  comments\n",
      "Scraping  10  comments\n",
      "Scraping  10  comments\n",
      "Scraping  10  comments\n"
     ]
    },
    {
     "name": "stderr",
     "output_type": "stream",
     "text": [
      " 28%|██▊       | 184/648 [1:09:12<38:57,  5.04s/it]"
     ]
    },
    {
     "name": "stdout",
     "output_type": "stream",
     "text": [
      "Scraping  6  comments\n",
      "Scraping  10  comments\n",
      "Scraping  10  comments\n",
      "Scraping  10  comments\n",
      "Scraping  10  comments\n",
      "Scraping  10  comments\n",
      "Scraping  10  comments\n",
      "Scraping  10  comments\n",
      "Scraping  10  comments\n",
      "Scraping  10  comments\n",
      "Scraping  10  comments\n",
      "Scraping  10  comments\n",
      "Scraping  10  comments\n",
      "Scraping  10  comments\n",
      "Scraping  10  comments\n",
      "Scraping  10  comments\n",
      "Scraping  10  comments\n",
      "Scraping  10  comments\n",
      "Scraping  10  comments\n",
      "Scraping  10  comments\n",
      "Scraping  10  comments\n",
      "Scraping  10  comments\n",
      "Scraping  10  comments\n",
      "Scraping  10  comments\n",
      "Scraping  10  comments\n",
      "Scraping  10  comments\n",
      "Scraping  10  comments\n",
      "Scraping  10  comments\n",
      "Scraping  10  comments\n",
      "Scraping  10  comments\n"
     ]
    },
    {
     "name": "stderr",
     "output_type": "stream",
     "text": [
      " 29%|██▊       | 185/648 [1:10:01<2:20:53, 18.26s/it]"
     ]
    },
    {
     "name": "stdout",
     "output_type": "stream",
     "text": [
      "Scraping  8  comments\n",
      "Scraping  10  comments\n",
      "Scraping  10  comments\n"
     ]
    },
    {
     "name": "stderr",
     "output_type": "stream",
     "text": [
      " 29%|██▊       | 186/648 [1:10:07<1:53:26, 14.73s/it]"
     ]
    },
    {
     "name": "stdout",
     "output_type": "stream",
     "text": [
      "Scraping  10  comments\n",
      "Scraping  10  comments\n",
      "Scraping  10  comments\n",
      "Scraping  10  comments\n",
      "Scraping  10  comments\n",
      "Scraping  10  comments\n",
      "Scraping  10  comments\n",
      "Scraping  10  comments\n",
      "Scraping  10  comments\n",
      "Scraping  10  comments\n",
      "Scraping  10  comments\n",
      "Scraping  10  comments\n",
      "Scraping  10  comments\n",
      "Scraping  10  comments\n",
      "Scraping  10  comments\n",
      "Scraping  10  comments\n",
      "Scraping  10  comments\n",
      "Scraping  10  comments\n",
      "Scraping  10  comments\n",
      "Scraping  10  comments\n",
      "Scraping  10  comments\n",
      "Scraping  10  comments\n",
      "Scraping  10  comments\n",
      "Scraping  10  comments\n",
      "Scraping  10  comments\n",
      "Scraping  10  comments\n",
      "Scraping  10  comments\n",
      "Scraping  10  comments\n",
      "Scraping  10  comments\n",
      "Scraping  10  comments\n",
      "Scraping  10  comments\n",
      "Scraping  10  comments\n",
      "Scraping  10  comments\n",
      "Scraping  10  comments\n",
      "Scraping  10  comments\n",
      "Scraping  10  comments\n",
      "Scraping  10  comments\n",
      "Scraping  10  comments\n",
      "Scraping  10  comments\n",
      "Scraping  10  comments\n",
      "Scraping  10  comments\n",
      "Scraping  10  comments\n",
      "Scraping  10  comments\n",
      "Scraping  10  comments\n",
      "Scraping  10  comments\n",
      "Scraping  10  comments\n",
      "Scraping  10  comments\n",
      "Scraping  10  comments\n",
      "Scraping  10  comments\n",
      "Scraping  10  comments\n",
      "Scraping  10  comments\n",
      "Scraping  10  comments\n",
      "Scraping  10  comments\n",
      "Scraping  10  comments\n",
      "Scraping  10  comments\n",
      "Scraping  10  comments\n",
      "Scraping  10  comments\n",
      "Scraping  10  comments\n",
      "Scraping  10  comments\n",
      "Scraping  10  comments\n",
      "Scraping  10  comments\n",
      "Scraping  10  comments\n",
      "Scraping  10  comments\n",
      "Scraping  10  comments\n",
      "Scraping  10  comments\n",
      "Scraping  10  comments\n",
      "Scraping  10  comments\n",
      "Scraping  10  comments\n",
      "Scraping  10  comments\n",
      "Scraping  10  comments\n",
      "Scraping  10  comments\n",
      "Scraping  10  comments\n",
      "Scraping  10  comments\n",
      "Scraping  10  comments\n",
      "Scraping  10  comments\n",
      "Scraping  10  comments\n",
      "Scraping  10  comments\n",
      "Scraping  10  comments\n",
      "Scraping  10  comments\n",
      "Scraping  10  comments\n",
      "Scraping  10  comments\n",
      "Scraping  10  comments\n",
      "Scraping  10  comments\n",
      "Scraping  10  comments\n",
      "Scraping  10  comments\n",
      "Scraping  10  comments\n",
      "Scraping  10  comments\n",
      "Scraping  10  comments\n",
      "Scraping  10  comments\n",
      "Scraping  10  comments\n",
      "Scraping  10  comments\n"
     ]
    },
    {
     "name": "stderr",
     "output_type": "stream",
     "text": [
      " 29%|██▉       | 187/648 [1:12:30<6:47:58, 53.10s/it]"
     ]
    },
    {
     "name": "stdout",
     "output_type": "stream",
     "text": [
      "Scraping  5  comments\n"
     ]
    },
    {
     "name": "stderr",
     "output_type": "stream",
     "text": [
      " 29%|██▉       | 188/648 [1:12:32<4:49:00, 37.70s/it]"
     ]
    },
    {
     "name": "stdout",
     "output_type": "stream",
     "text": [
      "Scraping  1  comments\n"
     ]
    },
    {
     "name": "stderr",
     "output_type": "stream",
     "text": [
      " 29%|██▉       | 189/648 [1:12:34<3:26:31, 27.00s/it]"
     ]
    },
    {
     "name": "stdout",
     "output_type": "stream",
     "text": [
      "Scraping  1  comments\n"
     ]
    },
    {
     "name": "stderr",
     "output_type": "stream",
     "text": [
      " 29%|██▉       | 190/648 [1:12:37<2:30:38, 19.74s/it]"
     ]
    },
    {
     "name": "stdout",
     "output_type": "stream",
     "text": [
      "Scraping  1  comments\n"
     ]
    },
    {
     "name": "stderr",
     "output_type": "stream",
     "text": [
      " 29%|██▉       | 191/648 [1:12:39<1:49:51, 14.42s/it]"
     ]
    },
    {
     "name": "stdout",
     "output_type": "stream",
     "text": [
      "Scraping  1  comments\n"
     ]
    },
    {
     "name": "stderr",
     "output_type": "stream",
     "text": [
      " 30%|██▉       | 192/648 [1:12:41<1:22:12, 10.82s/it]"
     ]
    },
    {
     "name": "stdout",
     "output_type": "stream",
     "text": [
      "Scraping  1  comments\n"
     ]
    },
    {
     "name": "stderr",
     "output_type": "stream",
     "text": [
      " 30%|██▉       | 193/648 [1:12:43<1:02:05,  8.19s/it]"
     ]
    },
    {
     "name": "stdout",
     "output_type": "stream",
     "text": [
      "Scraping  1  comments\n"
     ]
    },
    {
     "name": "stderr",
     "output_type": "stream",
     "text": [
      " 30%|██▉       | 194/648 [1:12:46<49:55,  6.60s/it]  "
     ]
    },
    {
     "name": "stdout",
     "output_type": "stream",
     "text": [
      "Scraping  1  comments\n"
     ]
    },
    {
     "name": "stderr",
     "output_type": "stream",
     "text": [
      " 30%|███       | 195/648 [1:12:48<39:21,  5.21s/it]"
     ]
    },
    {
     "name": "stdout",
     "output_type": "stream",
     "text": [
      "Scraping  1  comments\n"
     ]
    },
    {
     "name": "stderr",
     "output_type": "stream",
     "text": [
      " 30%|███       | 196/648 [1:12:51<33:26,  4.44s/it]"
     ]
    },
    {
     "name": "stdout",
     "output_type": "stream",
     "text": [
      "Scraping  3  comments\n",
      "Scraping  10  comments\n",
      "Scraping  10  comments\n",
      "Scraping  10  comments\n",
      "Scraping  10  comments\n"
     ]
    },
    {
     "name": "stderr",
     "output_type": "stream",
     "text": [
      " 30%|███       | 197/648 [1:13:01<46:56,  6.24s/it]"
     ]
    },
    {
     "name": "stdout",
     "output_type": "stream",
     "text": [
      "Scraping  3  comments\n"
     ]
    },
    {
     "name": "stderr",
     "output_type": "stream",
     "text": [
      " 31%|███       | 198/648 [1:13:03<37:42,  5.03s/it]"
     ]
    },
    {
     "name": "stdout",
     "output_type": "stream",
     "text": [
      "Scraping  2  comments\n",
      "Scraping  10  comments\n",
      "Scraping  10  comments\n",
      "Scraping  10  comments\n",
      "Scraping  10  comments\n",
      "Scraping  10  comments\n",
      "Scraping  10  comments\n",
      "Scraping  10  comments\n",
      "Scraping  10  comments\n",
      "Scraping  10  comments\n",
      "Scraping  10  comments\n",
      "Scraping  10  comments\n",
      "Scraping  10  comments\n",
      "Scraping  10  comments\n",
      "Scraping  10  comments\n",
      "Scraping  10  comments\n",
      "Scraping  10  comments\n",
      "Scraping  10  comments\n",
      "Scraping  10  comments\n",
      "Scraping  10  comments\n"
     ]
    },
    {
     "name": "stderr",
     "output_type": "stream",
     "text": [
      " 31%|███       | 199/648 [1:13:36<1:38:40, 13.19s/it]"
     ]
    },
    {
     "name": "stdout",
     "output_type": "stream",
     "text": [
      "Scraping  8  comments\n"
     ]
    },
    {
     "name": "stderr",
     "output_type": "stream",
     "text": [
      " 31%|███       | 200/648 [1:13:39<1:16:48, 10.29s/it]"
     ]
    },
    {
     "name": "stdout",
     "output_type": "stream",
     "text": [
      "Scraping  1  comments\n",
      "Scraping  10  comments\n"
     ]
    },
    {
     "name": "stderr",
     "output_type": "stream",
     "text": [
      " 31%|███       | 201/648 [1:13:44<1:04:13,  8.62s/it]"
     ]
    },
    {
     "name": "stdout",
     "output_type": "stream",
     "text": [
      "Scraping  10  comments\n"
     ]
    },
    {
     "name": "stderr",
     "output_type": "stream",
     "text": [
      " 31%|███       | 202/648 [1:13:46<49:14,  6.62s/it]  "
     ]
    },
    {
     "name": "stdout",
     "output_type": "stream",
     "text": [
      "Scraping  6  comments\n"
     ]
    },
    {
     "name": "stderr",
     "output_type": "stream",
     "text": [
      " 31%|███▏      | 203/648 [1:13:48<40:12,  5.42s/it]"
     ]
    },
    {
     "name": "stdout",
     "output_type": "stream",
     "text": [
      "Scraping  3  comments\n"
     ]
    },
    {
     "name": "stderr",
     "output_type": "stream",
     "text": [
      " 31%|███▏      | 204/648 [1:13:51<33:52,  4.58s/it]"
     ]
    },
    {
     "name": "stdout",
     "output_type": "stream",
     "text": [
      "Scraping  1  comments\n",
      "Scraping  10  comments\n",
      "Scraping  10  comments\n"
     ]
    },
    {
     "name": "stderr",
     "output_type": "stream",
     "text": [
      " 32%|███▏      | 205/648 [1:13:56<35:29,  4.81s/it]"
     ]
    },
    {
     "name": "stdout",
     "output_type": "stream",
     "text": [
      "Scraping  8  comments\n"
     ]
    },
    {
     "name": "stderr",
     "output_type": "stream",
     "text": [
      " 32%|███▏      | 206/648 [1:13:59<30:50,  4.19s/it]"
     ]
    },
    {
     "name": "stdout",
     "output_type": "stream",
     "text": [
      "Scraping  1  comments\n",
      "Scraping  10  comments\n",
      "Scraping  10  comments\n",
      "Scraping  10  comments\n"
     ]
    },
    {
     "name": "stderr",
     "output_type": "stream",
     "text": [
      " 32%|███▏      | 207/648 [1:14:08<40:44,  5.54s/it]"
     ]
    },
    {
     "name": "stdout",
     "output_type": "stream",
     "text": [
      "Scraping  8  comments\n"
     ]
    },
    {
     "name": "stderr",
     "output_type": "stream",
     "text": [
      " 32%|███▏      | 208/648 [1:14:10<33:00,  4.50s/it]"
     ]
    },
    {
     "name": "stdout",
     "output_type": "stream",
     "text": [
      "Scraping  1  comments\n"
     ]
    },
    {
     "name": "stderr",
     "output_type": "stream",
     "text": [
      " 32%|███▏      | 209/648 [1:14:13<29:58,  4.10s/it]"
     ]
    },
    {
     "name": "stdout",
     "output_type": "stream",
     "text": [
      "Scraping  1  comments\n"
     ]
    },
    {
     "name": "stderr",
     "output_type": "stream",
     "text": [
      " 32%|███▏      | 210/648 [1:14:16<26:47,  3.67s/it]"
     ]
    },
    {
     "name": "stdout",
     "output_type": "stream",
     "text": [
      "Scraping  1  comments\n"
     ]
    },
    {
     "name": "stderr",
     "output_type": "stream",
     "text": [
      " 33%|███▎      | 211/648 [1:14:17<22:37,  3.11s/it]"
     ]
    },
    {
     "name": "stdout",
     "output_type": "stream",
     "text": [
      "Scraping  1  comments\n"
     ]
    },
    {
     "name": "stderr",
     "output_type": "stream",
     "text": [
      " 33%|███▎      | 212/648 [1:14:20<21:53,  3.01s/it]"
     ]
    },
    {
     "name": "stdout",
     "output_type": "stream",
     "text": [
      "Scraping  1  comments\n"
     ]
    },
    {
     "name": "stderr",
     "output_type": "stream",
     "text": [
      " 33%|███▎      | 213/648 [1:14:23<21:38,  2.99s/it]"
     ]
    },
    {
     "name": "stdout",
     "output_type": "stream",
     "text": [
      "Scraping  2  comments\n"
     ]
    },
    {
     "name": "stderr",
     "output_type": "stream",
     "text": [
      " 33%|███▎      | 214/648 [1:14:26<20:35,  2.85s/it]"
     ]
    },
    {
     "name": "stdout",
     "output_type": "stream",
     "text": [
      "Scraping  1  comments\n",
      "Scraping  10  comments\n",
      "Scraping  10  comments\n",
      "Scraping  10  comments\n",
      "Scraping  10  comments\n",
      "Scraping  10  comments\n",
      "Scraping  10  comments\n",
      "Scraping  10  comments\n",
      "Scraping  10  comments\n",
      "Scraping  10  comments\n",
      "Scraping  10  comments\n",
      "Scraping  10  comments\n"
     ]
    },
    {
     "name": "stderr",
     "output_type": "stream",
     "text": [
      " 33%|███▎      | 215/648 [1:14:45<55:57,  7.75s/it]"
     ]
    },
    {
     "name": "stdout",
     "output_type": "stream",
     "text": [
      "Scraping  10  comments\n",
      "Scraping  10  comments\n",
      "Scraping  10  comments\n",
      "Scraping  10  comments\n",
      "Scraping  10  comments\n",
      "Scraping  10  comments\n",
      "Scraping  10  comments\n",
      "Scraping  10  comments\n",
      "Scraping  10  comments\n",
      "Scraping  10  comments\n",
      "Scraping  10  comments\n",
      "Scraping  10  comments\n"
     ]
    },
    {
     "name": "stderr",
     "output_type": "stream",
     "text": [
      " 33%|███▎      | 216/648 [1:15:04<1:19:50, 11.09s/it]"
     ]
    },
    {
     "name": "stdout",
     "output_type": "stream",
     "text": [
      "Scraping  9  comments\n"
     ]
    },
    {
     "name": "stderr",
     "output_type": "stream",
     "text": [
      " 33%|███▎      | 217/648 [1:15:07<1:02:06,  8.65s/it]"
     ]
    },
    {
     "name": "stdout",
     "output_type": "stream",
     "text": [
      "Scraping  2  comments\n"
     ]
    },
    {
     "name": "stderr",
     "output_type": "stream",
     "text": [
      " 34%|███▎      | 218/648 [1:15:09<49:11,  6.86s/it]  "
     ]
    },
    {
     "name": "stdout",
     "output_type": "stream",
     "text": [
      "Scraping  1  comments\n",
      "Scraping  10  comments\n",
      "Scraping  10  comments\n",
      "Scraping  10  comments\n",
      "Scraping  10  comments\n",
      "Scraping  10  comments\n",
      "Scraping  10  comments\n",
      "Scraping  10  comments\n",
      "Scraping  10  comments\n",
      "Scraping  10  comments\n",
      "Scraping  10  comments\n",
      "Scraping  10  comments\n",
      "Scraping  10  comments\n",
      "Scraping  10  comments\n",
      "Scraping  10  comments\n",
      "Scraping  10  comments\n",
      "Scraping  10  comments\n"
     ]
    },
    {
     "name": "stderr",
     "output_type": "stream",
     "text": [
      " 34%|███▍      | 219/648 [1:15:38<1:36:36, 13.51s/it]"
     ]
    },
    {
     "name": "stdout",
     "output_type": "stream",
     "text": [
      "Scraping  5  comments\n"
     ]
    },
    {
     "name": "stderr",
     "output_type": "stream",
     "text": [
      " 34%|███▍      | 220/648 [1:15:42<1:14:04, 10.38s/it]"
     ]
    },
    {
     "name": "stdout",
     "output_type": "stream",
     "text": [
      "Scraping  1  comments\n"
     ]
    },
    {
     "name": "stderr",
     "output_type": "stream",
     "text": [
      " 34%|███▍      | 221/648 [1:15:44<57:32,  8.09s/it]  "
     ]
    },
    {
     "name": "stdout",
     "output_type": "stream",
     "text": [
      "Scraping  1  comments\n"
     ]
    },
    {
     "name": "stderr",
     "output_type": "stream",
     "text": [
      " 34%|███▍      | 222/648 [1:15:48<47:23,  6.67s/it]"
     ]
    },
    {
     "name": "stdout",
     "output_type": "stream",
     "text": [
      "Scraping  6  comments\n"
     ]
    },
    {
     "name": "stderr",
     "output_type": "stream",
     "text": [
      " 34%|███▍      | 223/648 [1:15:49<36:45,  5.19s/it]"
     ]
    },
    {
     "name": "stdout",
     "output_type": "stream",
     "text": [
      "Scraping  1  comments\n",
      "Scraping  10  comments\n",
      "Scraping  10  comments\n"
     ]
    },
    {
     "name": "stderr",
     "output_type": "stream",
     "text": [
      " 35%|███▍      | 224/648 [1:15:55<37:32,  5.31s/it]"
     ]
    },
    {
     "name": "stdout",
     "output_type": "stream",
     "text": [
      "Scraping  5  comments\n",
      "Scraping  10  comments\n",
      "Scraping  10  comments\n"
     ]
    },
    {
     "name": "stderr",
     "output_type": "stream",
     "text": [
      " 35%|███▍      | 225/648 [1:16:01<39:18,  5.58s/it]"
     ]
    },
    {
     "name": "stdout",
     "output_type": "stream",
     "text": [
      "Scraping  4  comments\n"
     ]
    },
    {
     "name": "stderr",
     "output_type": "stream",
     "text": [
      " 35%|███▍      | 226/648 [1:16:03<31:36,  4.49s/it]"
     ]
    },
    {
     "name": "stdout",
     "output_type": "stream",
     "text": [
      "Scraping  1  comments\n"
     ]
    },
    {
     "name": "stderr",
     "output_type": "stream",
     "text": [
      " 35%|███▌      | 227/648 [1:16:06<27:18,  3.89s/it]"
     ]
    },
    {
     "name": "stdout",
     "output_type": "stream",
     "text": [
      "Scraping  1  comments\n"
     ]
    },
    {
     "name": "stderr",
     "output_type": "stream",
     "text": [
      " 35%|███▌      | 228/648 [1:16:08<25:05,  3.58s/it]"
     ]
    },
    {
     "name": "stdout",
     "output_type": "stream",
     "text": [
      "Scraping  1  comments\n"
     ]
    },
    {
     "name": "stderr",
     "output_type": "stream",
     "text": [
      " 35%|███▌      | 229/648 [1:16:10<21:17,  3.05s/it]"
     ]
    },
    {
     "name": "stdout",
     "output_type": "stream",
     "text": [
      "Scraping  1  comments\n"
     ]
    },
    {
     "name": "stderr",
     "output_type": "stream",
     "text": [
      " 35%|███▌      | 230/648 [1:16:12<19:33,  2.81s/it]"
     ]
    },
    {
     "name": "stdout",
     "output_type": "stream",
     "text": [
      "Scraping  1  comments\n"
     ]
    },
    {
     "name": "stderr",
     "output_type": "stream",
     "text": [
      " 36%|███▌      | 231/648 [1:16:15<19:51,  2.86s/it]"
     ]
    },
    {
     "name": "stdout",
     "output_type": "stream",
     "text": [
      "Scraping  1  comments\n"
     ]
    },
    {
     "name": "stderr",
     "output_type": "stream",
     "text": [
      " 36%|███▌      | 232/648 [1:16:19<20:17,  2.93s/it]"
     ]
    },
    {
     "name": "stdout",
     "output_type": "stream",
     "text": [
      "Scraping  1  comments\n"
     ]
    },
    {
     "name": "stderr",
     "output_type": "stream",
     "text": [
      " 36%|███▌      | 233/648 [1:16:21<18:41,  2.70s/it]"
     ]
    },
    {
     "name": "stdout",
     "output_type": "stream",
     "text": [
      "Scraping  2  comments\n"
     ]
    },
    {
     "name": "stderr",
     "output_type": "stream",
     "text": [
      " 36%|███▌      | 234/648 [1:16:23<18:12,  2.64s/it]"
     ]
    },
    {
     "name": "stdout",
     "output_type": "stream",
     "text": [
      "Scraping  1  comments\n"
     ]
    },
    {
     "name": "stderr",
     "output_type": "stream",
     "text": [
      " 36%|███▋      | 235/648 [1:16:26<18:41,  2.72s/it]"
     ]
    },
    {
     "name": "stdout",
     "output_type": "stream",
     "text": [
      "Scraping  1  comments\n"
     ]
    },
    {
     "name": "stderr",
     "output_type": "stream",
     "text": [
      " 36%|███▋      | 236/648 [1:16:30<20:36,  3.00s/it]"
     ]
    },
    {
     "name": "stdout",
     "output_type": "stream",
     "text": [
      "Scraping  1  comments\n"
     ]
    },
    {
     "name": "stderr",
     "output_type": "stream",
     "text": [
      " 37%|███▋      | 237/648 [1:16:33<20:27,  2.99s/it]"
     ]
    },
    {
     "name": "stdout",
     "output_type": "stream",
     "text": [
      "Scraping  1  comments\n"
     ]
    },
    {
     "name": "stderr",
     "output_type": "stream",
     "text": [
      " 37%|███▋      | 238/648 [1:16:36<20:35,  3.01s/it]"
     ]
    },
    {
     "name": "stdout",
     "output_type": "stream",
     "text": [
      "Scraping  1  comments\n"
     ]
    },
    {
     "name": "stderr",
     "output_type": "stream",
     "text": [
      " 37%|███▋      | 239/648 [1:16:38<18:05,  2.65s/it]"
     ]
    },
    {
     "name": "stdout",
     "output_type": "stream",
     "text": [
      "Scraping  1  comments\n"
     ]
    },
    {
     "name": "stderr",
     "output_type": "stream",
     "text": [
      " 37%|███▋      | 240/648 [1:16:41<19:06,  2.81s/it]"
     ]
    },
    {
     "name": "stdout",
     "output_type": "stream",
     "text": [
      "Scraping  7  comments\n"
     ]
    },
    {
     "name": "stderr",
     "output_type": "stream",
     "text": [
      " 37%|███▋      | 241/648 [1:16:43<18:24,  2.71s/it]"
     ]
    },
    {
     "name": "stdout",
     "output_type": "stream",
     "text": [
      "Scraping  2  comments\n"
     ]
    },
    {
     "name": "stderr",
     "output_type": "stream",
     "text": [
      " 37%|███▋      | 242/648 [1:16:46<18:44,  2.77s/it]"
     ]
    },
    {
     "name": "stdout",
     "output_type": "stream",
     "text": [
      "Scraping  7  comments\n",
      "Scraping  10  comments\n",
      "Scraping  10  comments\n",
      "Scraping  10  comments\n"
     ]
    },
    {
     "name": "stderr",
     "output_type": "stream",
     "text": [
      " 38%|███▊      | 243/648 [1:16:53<26:31,  3.93s/it]"
     ]
    },
    {
     "name": "stdout",
     "output_type": "stream",
     "text": [
      "Scraping  2  comments\n"
     ]
    },
    {
     "name": "stderr",
     "output_type": "stream",
     "text": [
      " 38%|███▊      | 244/648 [1:16:55<23:51,  3.54s/it]"
     ]
    },
    {
     "name": "stdout",
     "output_type": "stream",
     "text": [
      "Scraping  2  comments\n",
      "Scraping  10  comments\n"
     ]
    },
    {
     "name": "stderr",
     "output_type": "stream",
     "text": [
      " 38%|███▊      | 245/648 [1:16:59<24:36,  3.66s/it]"
     ]
    },
    {
     "name": "stdout",
     "output_type": "stream",
     "text": [
      "Scraping  6  comments\n",
      "Scraping  10  comments\n",
      "Scraping  10  comments\n",
      "Scraping  10  comments\n",
      "Scraping  10  comments\n"
     ]
    },
    {
     "name": "stderr",
     "output_type": "stream",
     "text": [
      " 38%|███▊      | 246/648 [1:17:08<35:23,  5.28s/it]"
     ]
    },
    {
     "name": "stdout",
     "output_type": "stream",
     "text": [
      "Scraping  10  comments\n"
     ]
    },
    {
     "name": "stderr",
     "output_type": "stream",
     "text": [
      " 38%|███▊      | 247/648 [1:17:11<29:05,  4.35s/it]"
     ]
    },
    {
     "name": "stdout",
     "output_type": "stream",
     "text": [
      "Scraping  2  comments\n"
     ]
    },
    {
     "name": "stderr",
     "output_type": "stream",
     "text": [
      " 38%|███▊      | 248/648 [1:17:13<25:02,  3.76s/it]"
     ]
    },
    {
     "name": "stdout",
     "output_type": "stream",
     "text": [
      "Scraping  3  comments\n"
     ]
    },
    {
     "name": "stderr",
     "output_type": "stream",
     "text": [
      " 38%|███▊      | 249/648 [1:17:15<21:10,  3.18s/it]"
     ]
    },
    {
     "name": "stdout",
     "output_type": "stream",
     "text": [
      "Scraping  2  comments\n",
      "Scraping  10  comments\n",
      "Scraping  10  comments\n"
     ]
    },
    {
     "name": "stderr",
     "output_type": "stream",
     "text": [
      " 39%|███▊      | 250/648 [1:17:20<24:54,  3.76s/it]"
     ]
    },
    {
     "name": "stdout",
     "output_type": "stream",
     "text": [
      "Scraping  5  comments\n",
      "Scraping  10  comments\n"
     ]
    },
    {
     "name": "stderr",
     "output_type": "stream",
     "text": [
      " 39%|███▊      | 251/648 [1:17:24<24:49,  3.75s/it]"
     ]
    },
    {
     "name": "stdout",
     "output_type": "stream",
     "text": [
      "Scraping  7  comments\n"
     ]
    },
    {
     "name": "stderr",
     "output_type": "stream",
     "text": [
      " 39%|███▉      | 252/648 [1:17:27<22:55,  3.47s/it]"
     ]
    },
    {
     "name": "stdout",
     "output_type": "stream",
     "text": [
      "Scraping  2  comments\n",
      "Scraping  10  comments\n",
      "Scraping  10  comments\n",
      "Scraping  10  comments\n",
      "Scraping  10  comments\n",
      "Scraping  10  comments\n",
      "Scraping  10  comments\n",
      "Scraping  10  comments\n",
      "Scraping  10  comments\n"
     ]
    },
    {
     "name": "stderr",
     "output_type": "stream",
     "text": [
      " 39%|███▉      | 253/648 [1:17:40<43:21,  6.59s/it]"
     ]
    },
    {
     "name": "stdout",
     "output_type": "stream",
     "text": [
      "Scraping  7  comments\n"
     ]
    },
    {
     "name": "stderr",
     "output_type": "stream",
     "text": [
      " 39%|███▉      | 254/648 [1:17:43<36:11,  5.51s/it]"
     ]
    },
    {
     "name": "stdout",
     "output_type": "stream",
     "text": [
      "Scraping  7  comments\n"
     ]
    },
    {
     "name": "stderr",
     "output_type": "stream",
     "text": [
      " 39%|███▉      | 255/648 [1:17:46<30:44,  4.69s/it]"
     ]
    },
    {
     "name": "stdout",
     "output_type": "stream",
     "text": [
      "Scraping  2  comments\n",
      "Scraping  10  comments\n"
     ]
    },
    {
     "name": "stderr",
     "output_type": "stream",
     "text": [
      " 40%|███▉      | 256/648 [1:17:51<30:38,  4.69s/it]"
     ]
    },
    {
     "name": "stdout",
     "output_type": "stream",
     "text": [
      "Scraping  7  comments\n",
      "Scraping  10  comments\n",
      "Scraping  10  comments\n",
      "Scraping  10  comments\n",
      "Scraping  10  comments\n",
      "Scraping  10  comments\n"
     ]
    },
    {
     "name": "stderr",
     "output_type": "stream",
     "text": [
      " 40%|███▉      | 257/648 [1:18:02<42:27,  6.52s/it]"
     ]
    },
    {
     "name": "stdout",
     "output_type": "stream",
     "text": [
      "Scraping  4  comments\n",
      "Scraping  10  comments\n"
     ]
    },
    {
     "name": "stderr",
     "output_type": "stream",
     "text": [
      " 40%|███▉      | 258/648 [1:18:06<37:21,  5.75s/it]"
     ]
    },
    {
     "name": "stdout",
     "output_type": "stream",
     "text": [
      "Scraping  3  comments\n"
     ]
    },
    {
     "name": "stderr",
     "output_type": "stream",
     "text": [
      " 40%|███▉      | 259/648 [1:18:08<30:35,  4.72s/it]"
     ]
    },
    {
     "name": "stdout",
     "output_type": "stream",
     "text": [
      "Scraping  3  comments\n"
     ]
    },
    {
     "name": "stderr",
     "output_type": "stream",
     "text": [
      " 40%|████      | 260/648 [1:18:11<27:22,  4.23s/it]"
     ]
    },
    {
     "name": "stdout",
     "output_type": "stream",
     "text": [
      "Scraping  1  comments\n"
     ]
    },
    {
     "name": "stderr",
     "output_type": "stream",
     "text": [
      " 40%|████      | 261/648 [1:18:14<24:40,  3.82s/it]"
     ]
    },
    {
     "name": "stdout",
     "output_type": "stream",
     "text": [
      "Scraping  1  comments\n"
     ]
    },
    {
     "name": "stderr",
     "output_type": "stream",
     "text": [
      " 40%|████      | 262/648 [1:18:17<23:29,  3.65s/it]"
     ]
    },
    {
     "name": "stdout",
     "output_type": "stream",
     "text": [
      "Scraping  1  comments\n",
      "Scraping  10  comments\n",
      "Scraping  10  comments\n",
      "Scraping  10  comments\n",
      "Scraping  10  comments\n",
      "Scraping  10  comments\n",
      "Scraping  10  comments\n",
      "Scraping  10  comments\n",
      "Scraping  10  comments\n",
      "Scraping  10  comments\n",
      "Scraping  10  comments\n",
      "Scraping  10  comments\n",
      "Scraping  10  comments\n",
      "Scraping  10  comments\n",
      "Scraping  10  comments\n",
      "Scraping  10  comments\n",
      "Scraping  10  comments\n",
      "Scraping  10  comments\n"
     ]
    },
    {
     "name": "stderr",
     "output_type": "stream",
     "text": [
      " 41%|████      | 263/648 [1:19:01<1:41:39, 15.84s/it]"
     ]
    },
    {
     "name": "stdout",
     "output_type": "stream",
     "text": [
      "Scraping  8  comments\n",
      "Scraping  10  comments\n",
      "Scraping  10  comments\n",
      "Scraping  10  comments\n",
      "Scraping  10  comments\n",
      "Scraping  10  comments\n",
      "Scraping  10  comments\n",
      "Scraping  10  comments\n",
      "Scraping  10  comments\n",
      "Scraping  10  comments\n",
      "Scraping  10  comments\n",
      "Scraping  10  comments\n",
      "Scraping  10  comments\n",
      "Scraping  10  comments\n",
      "Scraping  10  comments\n",
      "Scraping  10  comments\n",
      "Scraping  10  comments\n",
      "Scraping  10  comments\n",
      "Scraping  10  comments\n",
      "Scraping  10  comments\n",
      "Scraping  10  comments\n",
      "Scraping  10  comments\n",
      "Scraping  10  comments\n",
      "Scraping  10  comments\n"
     ]
    },
    {
     "name": "stderr",
     "output_type": "stream",
     "text": [
      " 41%|████      | 264/648 [1:20:23<3:47:23, 35.53s/it]"
     ]
    },
    {
     "name": "stdout",
     "output_type": "stream",
     "text": [
      "Scraping  2  comments\n",
      "Scraping  10  comments\n",
      "Scraping  10  comments\n",
      "Scraping  10  comments\n",
      "Scraping  10  comments\n",
      "Scraping  10  comments\n",
      "Scraping  10  comments\n",
      "Scraping  10  comments\n",
      "Scraping  10  comments\n",
      "Scraping  10  comments\n",
      "Scraping  10  comments\n",
      "Scraping  10  comments\n",
      "Scraping  10  comments\n",
      "Scraping  10  comments\n",
      "Scraping  10  comments\n"
     ]
    },
    {
     "name": "stderr",
     "output_type": "stream",
     "text": [
      " 41%|████      | 265/648 [1:21:26<4:40:04, 43.88s/it]"
     ]
    },
    {
     "name": "stdout",
     "output_type": "stream",
     "text": [
      "Scraping  1  comments\n",
      "Scraping  10  comments\n",
      "Scraping  10  comments\n",
      "Scraping  10  comments\n",
      "Scraping  10  comments\n",
      "Scraping  10  comments\n",
      "Scraping  10  comments\n",
      "Scraping  10  comments\n",
      "Scraping  10  comments\n",
      "Scraping  10  comments\n",
      "Scraping  10  comments\n",
      "Scraping  10  comments\n",
      "Scraping  10  comments\n",
      "Scraping  10  comments\n"
     ]
    },
    {
     "name": "stderr",
     "output_type": "stream",
     "text": [
      " 41%|████      | 266/648 [1:21:54<4:08:16, 39.00s/it]"
     ]
    },
    {
     "name": "stdout",
     "output_type": "stream",
     "text": [
      "Scraping  1  comments\n"
     ]
    },
    {
     "name": "stderr",
     "output_type": "stream",
     "text": [
      " 41%|████      | 267/648 [1:21:56<2:57:54, 28.02s/it]"
     ]
    },
    {
     "name": "stdout",
     "output_type": "stream",
     "text": [
      "Scraping  1  comments\n",
      "Scraping  10  comments\n",
      "Scraping  10  comments\n",
      "Scraping  10  comments\n",
      "Scraping  10  comments\n",
      "Scraping  10  comments\n",
      "Scraping  10  comments\n",
      "Scraping  10  comments\n",
      "Scraping  10  comments\n",
      "Scraping  10  comments\n",
      "Scraping  10  comments\n",
      "Scraping  10  comments\n",
      "Scraping  10  comments\n",
      "Scraping  10  comments\n",
      "Scraping  10  comments\n",
      "Scraping  10  comments\n",
      "Scraping  10  comments\n",
      "Scraping  10  comments\n",
      "Scraping  10  comments\n",
      "Scraping  10  comments\n",
      "Scraping  10  comments\n",
      "Scraping  10  comments\n",
      "Scraping  10  comments\n",
      "Scraping  10  comments\n",
      "Scraping  10  comments\n",
      "Scraping  10  comments\n",
      "Scraping  10  comments\n",
      "Scraping  10  comments\n",
      "Scraping  10  comments\n"
     ]
    },
    {
     "name": "stderr",
     "output_type": "stream",
     "text": [
      " 41%|████▏     | 268/648 [1:22:49<3:43:56, 35.36s/it]"
     ]
    },
    {
     "name": "stdout",
     "output_type": "stream",
     "text": [
      "Scraping  10  comments\n",
      "Scraping  10  comments\n",
      "Scraping  10  comments\n",
      "Scraping  10  comments\n",
      "Scraping  10  comments\n",
      "Scraping  10  comments\n",
      "Scraping  10  comments\n",
      "Scraping  10  comments\n",
      "Scraping  10  comments\n"
     ]
    },
    {
     "name": "stderr",
     "output_type": "stream",
     "text": [
      " 42%|████▏     | 269/648 [1:23:05<3:07:20, 29.66s/it]"
     ]
    },
    {
     "name": "stdout",
     "output_type": "stream",
     "text": [
      "Scraping  4  comments\n",
      "Scraping  10  comments\n",
      "Scraping  10  comments\n",
      "Scraping  10  comments\n",
      "Scraping  10  comments\n",
      "Scraping  10  comments\n"
     ]
    },
    {
     "name": "stderr",
     "output_type": "stream",
     "text": [
      " 42%|████▏     | 270/648 [1:23:16<2:30:40, 23.92s/it]"
     ]
    },
    {
     "name": "stdout",
     "output_type": "stream",
     "text": [
      "Scraping  7  comments\n",
      "Scraping  10  comments\n",
      "Scraping  10  comments\n",
      "Scraping  10  comments\n",
      "Scraping  10  comments\n",
      "Scraping  10  comments\n",
      "Scraping  10  comments\n",
      "Scraping  10  comments\n"
     ]
    },
    {
     "name": "stderr",
     "output_type": "stream",
     "text": [
      " 42%|████▏     | 271/648 [1:23:31<2:13:48, 21.30s/it]"
     ]
    },
    {
     "name": "stdout",
     "output_type": "stream",
     "text": [
      "Scraping  4  comments\n"
     ]
    },
    {
     "name": "stderr",
     "output_type": "stream",
     "text": [
      " 42%|████▏     | 272/648 [1:23:33<1:37:41, 15.59s/it]"
     ]
    },
    {
     "name": "stdout",
     "output_type": "stream",
     "text": [
      "Scraping  2  comments\n"
     ]
    },
    {
     "name": "stderr",
     "output_type": "stream",
     "text": [
      " 42%|████▏     | 273/648 [1:23:35<1:12:43, 11.64s/it]"
     ]
    },
    {
     "name": "stdout",
     "output_type": "stream",
     "text": [
      "Scraping  1  comments\n",
      "Scraping  10  comments\n",
      "Scraping  10  comments\n",
      "Scraping  10  comments\n",
      "Scraping  10  comments\n",
      "Scraping  10  comments\n",
      "Scraping  10  comments\n",
      "Scraping  10  comments\n",
      "Scraping  10  comments\n"
     ]
    },
    {
     "name": "stderr",
     "output_type": "stream",
     "text": [
      " 42%|████▏     | 274/648 [1:23:54<1:25:13, 13.67s/it]"
     ]
    },
    {
     "name": "stdout",
     "output_type": "stream",
     "text": [
      "Scraping  8  comments\n",
      "Scraping  10  comments\n",
      "Scraping  10  comments\n",
      "Scraping  10  comments\n",
      "Scraping  10  comments\n",
      "Scraping  10  comments\n",
      "Scraping  10  comments\n"
     ]
    },
    {
     "name": "stderr",
     "output_type": "stream",
     "text": [
      " 42%|████▏     | 275/648 [1:24:08<1:25:08, 13.70s/it]"
     ]
    },
    {
     "name": "stdout",
     "output_type": "stream",
     "text": [
      "Scraping  1  comments\n"
     ]
    },
    {
     "name": "stderr",
     "output_type": "stream",
     "text": [
      " 43%|████▎     | 276/648 [1:24:10<1:04:29, 10.40s/it]"
     ]
    },
    {
     "name": "stdout",
     "output_type": "stream",
     "text": [
      "Scraping  1  comments\n"
     ]
    },
    {
     "name": "stderr",
     "output_type": "stream",
     "text": [
      " 43%|████▎     | 277/648 [1:24:13<49:02,  7.93s/it]  "
     ]
    },
    {
     "name": "stdout",
     "output_type": "stream",
     "text": [
      "Scraping  1  comments\n",
      "Scraping  10  comments\n",
      "Scraping  10  comments\n",
      "Scraping  10  comments\n",
      "Scraping  10  comments\n",
      "Scraping  10  comments\n",
      "Scraping  10  comments\n",
      "Scraping  10  comments\n",
      "Scraping  10  comments\n",
      "Scraping  10  comments\n"
     ]
    },
    {
     "name": "stderr",
     "output_type": "stream",
     "text": [
      " 43%|████▎     | 278/648 [1:24:29<1:04:09, 10.40s/it]"
     ]
    },
    {
     "name": "stdout",
     "output_type": "stream",
     "text": [
      "Scraping  7  comments\n"
     ]
    },
    {
     "name": "stderr",
     "output_type": "stream",
     "text": [
      " 43%|████▎     | 279/648 [1:24:31<49:20,  8.02s/it]  "
     ]
    },
    {
     "name": "stdout",
     "output_type": "stream",
     "text": [
      "Scraping  1  comments\n",
      "Scraping  10  comments\n",
      "Scraping  10  comments\n",
      "Scraping  10  comments\n",
      "Scraping  10  comments\n",
      "Scraping  10  comments\n",
      "Scraping  10  comments\n",
      "Scraping  10  comments\n",
      "Scraping  10  comments\n",
      "Scraping  10  comments\n",
      "Scraping  10  comments\n",
      "Scraping  10  comments\n",
      "Scraping  10  comments\n",
      "Scraping  10  comments\n",
      "Scraping  10  comments\n",
      "Scraping  10  comments\n"
     ]
    },
    {
     "name": "stderr",
     "output_type": "stream",
     "text": [
      " 43%|████▎     | 280/648 [1:24:59<1:25:30, 13.94s/it]"
     ]
    },
    {
     "name": "stdout",
     "output_type": "stream",
     "text": [
      "Scraping  10  comments\n"
     ]
    },
    {
     "name": "stderr",
     "output_type": "stream",
     "text": [
      " 43%|████▎     | 281/648 [1:25:01<1:03:12, 10.33s/it]"
     ]
    },
    {
     "name": "stdout",
     "output_type": "stream",
     "text": [
      "Scraping  1  comments\n",
      "Scraping  10  comments\n",
      "Scraping  10  comments\n",
      "Scraping  10  comments\n",
      "Scraping  10  comments\n",
      "Scraping  10  comments\n",
      "Scraping  10  comments\n"
     ]
    },
    {
     "name": "stderr",
     "output_type": "stream",
     "text": [
      " 44%|████▎     | 282/648 [1:25:11<1:03:00, 10.33s/it]"
     ]
    },
    {
     "name": "stdout",
     "output_type": "stream",
     "text": [
      "Scraping  10  comments\n"
     ]
    },
    {
     "name": "stderr",
     "output_type": "stream",
     "text": [
      " 44%|████▎     | 283/648 [1:25:13<47:49,  7.86s/it]  "
     ]
    },
    {
     "name": "stdout",
     "output_type": "stream",
     "text": [
      "Scraping  1  comments\n",
      "Scraping  10  comments\n",
      "Scraping  10  comments\n",
      "Scraping  10  comments\n",
      "Scraping  10  comments\n",
      "Scraping  10  comments\n",
      "Scraping  10  comments\n"
     ]
    },
    {
     "name": "stderr",
     "output_type": "stream",
     "text": [
      " 44%|████▍     | 284/648 [1:25:25<54:41,  9.01s/it]"
     ]
    },
    {
     "name": "stdout",
     "output_type": "stream",
     "text": [
      "Scraping  4  comments\n"
     ]
    },
    {
     "name": "stderr",
     "output_type": "stream",
     "text": [
      " 44%|████▍     | 285/648 [1:25:28<43:13,  7.14s/it]"
     ]
    },
    {
     "name": "stdout",
     "output_type": "stream",
     "text": [
      "Scraping  2  comments\n"
     ]
    },
    {
     "name": "stderr",
     "output_type": "stream",
     "text": [
      " 44%|████▍     | 286/648 [1:25:30<34:37,  5.74s/it]"
     ]
    },
    {
     "name": "stdout",
     "output_type": "stream",
     "text": [
      "Scraping  1  comments\n"
     ]
    },
    {
     "name": "stderr",
     "output_type": "stream",
     "text": [
      " 44%|████▍     | 287/648 [1:25:33<28:55,  4.81s/it]"
     ]
    },
    {
     "name": "stdout",
     "output_type": "stream",
     "text": [
      "Scraping  1  comments\n"
     ]
    },
    {
     "name": "stderr",
     "output_type": "stream",
     "text": [
      " 44%|████▍     | 288/648 [1:25:36<25:35,  4.27s/it]"
     ]
    },
    {
     "name": "stdout",
     "output_type": "stream",
     "text": [
      "Scraping  1  comments\n"
     ]
    },
    {
     "name": "stderr",
     "output_type": "stream",
     "text": [
      " 45%|████▍     | 289/648 [1:25:38<21:04,  3.52s/it]"
     ]
    },
    {
     "name": "stdout",
     "output_type": "stream",
     "text": [
      "Scraping  1  comments\n",
      "Scraping  10  comments\n",
      "Scraping  10  comments\n",
      "Scraping  10  comments\n",
      "Scraping  10  comments\n",
      "Scraping  10  comments\n",
      "Scraping  10  comments\n",
      "Scraping  10  comments\n",
      "Scraping  10  comments\n",
      "Scraping  10  comments\n",
      "Scraping  10  comments\n",
      "Scraping  10  comments\n",
      "Scraping  10  comments\n",
      "Scraping  10  comments\n",
      "Scraping  10  comments\n",
      "Scraping  10  comments\n",
      "Scraping  10  comments\n",
      "Scraping  10  comments\n",
      "Scraping  10  comments\n",
      "Scraping  10  comments\n",
      "Scraping  10  comments\n",
      "Scraping  10  comments\n",
      "Scraping  10  comments\n",
      "Scraping  10  comments\n",
      "Scraping  10  comments\n",
      "Scraping  10  comments\n",
      "Scraping  10  comments\n",
      "Scraping  10  comments\n",
      "Scraping  10  comments\n",
      "Scraping  10  comments\n",
      "Scraping  10  comments\n",
      "Scraping  10  comments\n",
      "Scraping  10  comments\n",
      "Scraping  10  comments\n",
      "Scraping  10  comments\n",
      "Scraping  10  comments\n",
      "Scraping  10  comments\n",
      "Scraping  10  comments\n",
      "Scraping  10  comments\n",
      "Scraping  10  comments\n",
      "Scraping  10  comments\n",
      "Scraping  10  comments\n",
      "Scraping  10  comments\n",
      "Scraping  10  comments\n",
      "Scraping  10  comments\n",
      "Scraping  10  comments\n",
      "Scraping  10  comments\n",
      "Scraping  10  comments\n",
      "Scraping  10  comments\n",
      "Scraping  10  comments\n",
      "Scraping  10  comments\n",
      "Scraping  10  comments\n",
      "Scraping  10  comments\n",
      "Scraping  10  comments\n",
      "Scraping  10  comments\n",
      "Scraping  10  comments\n",
      "Scraping  10  comments\n",
      "Scraping  10  comments\n",
      "Scraping  10  comments\n",
      "Scraping  10  comments\n",
      "Scraping  10  comments\n",
      "Scraping  10  comments\n"
     ]
    },
    {
     "name": "stderr",
     "output_type": "stream",
     "text": [
      " 45%|████▍     | 290/648 [1:27:12<3:03:40, 30.78s/it]"
     ]
    },
    {
     "name": "stdout",
     "output_type": "stream",
     "text": [
      "Scraping  4  comments\n",
      "Scraping  10  comments\n",
      "Scraping  10  comments\n",
      "Scraping  10  comments\n",
      "Scraping  10  comments\n",
      "Scraping  10  comments\n",
      "Scraping  10  comments\n",
      "Scraping  10  comments\n"
     ]
    },
    {
     "name": "stderr",
     "output_type": "stream",
     "text": [
      " 45%|████▍     | 291/648 [1:27:26<2:33:52, 25.86s/it]"
     ]
    },
    {
     "name": "stdout",
     "output_type": "stream",
     "text": [
      "Scraping  5  comments\n"
     ]
    },
    {
     "name": "stderr",
     "output_type": "stream",
     "text": [
      " 45%|████▌     | 292/648 [1:27:29<1:52:35, 18.98s/it]"
     ]
    },
    {
     "name": "stdout",
     "output_type": "stream",
     "text": [
      "Scraping  1  comments\n",
      "Scraping  10  comments\n",
      "Scraping  10  comments\n"
     ]
    },
    {
     "name": "stderr",
     "output_type": "stream",
     "text": [
      " 45%|████▌     | 293/648 [1:27:37<1:31:32, 15.47s/it]"
     ]
    },
    {
     "name": "stdout",
     "output_type": "stream",
     "text": [
      "Scraping  1  comments\n",
      "Scraping  10  comments\n",
      "Scraping  10  comments\n"
     ]
    },
    {
     "name": "stderr",
     "output_type": "stream",
     "text": [
      " 45%|████▌     | 294/648 [1:27:43<1:16:03, 12.89s/it]"
     ]
    },
    {
     "name": "stdout",
     "output_type": "stream",
     "text": [
      "Scraping  5  comments\n",
      "Scraping  10  comments\n",
      "Scraping  10  comments\n",
      "Scraping  10  comments\n",
      "Scraping  10  comments\n",
      "Scraping  10  comments\n",
      "Scraping  10  comments\n",
      "Scraping  10  comments\n",
      "Scraping  10  comments\n",
      "Scraping  10  comments\n",
      "Scraping  10  comments\n",
      "Scraping  10  comments\n",
      "Scraping  10  comments\n",
      "Scraping  10  comments\n",
      "Scraping  10  comments\n",
      "Scraping  10  comments\n",
      "Scraping  10  comments\n",
      "Scraping  10  comments\n",
      "Scraping  10  comments\n",
      "Scraping  10  comments\n",
      "Scraping  10  comments\n",
      "Scraping  10  comments\n"
     ]
    },
    {
     "name": "stderr",
     "output_type": "stream",
     "text": [
      " 46%|████▌     | 295/648 [1:28:24<2:04:12, 21.11s/it]"
     ]
    },
    {
     "name": "stdout",
     "output_type": "stream",
     "text": [
      "Scraping  6  comments\n"
     ]
    },
    {
     "name": "stderr",
     "output_type": "stream",
     "text": [
      " 46%|████▌     | 296/648 [1:28:26<1:30:50, 15.48s/it]"
     ]
    },
    {
     "name": "stdout",
     "output_type": "stream",
     "text": [
      "Scraping  1  comments\n"
     ]
    },
    {
     "name": "stderr",
     "output_type": "stream",
     "text": [
      " 46%|████▌     | 297/648 [1:28:29<1:09:09, 11.82s/it]"
     ]
    },
    {
     "name": "stdout",
     "output_type": "stream",
     "text": [
      "Scraping  2  comments\n",
      "Scraping  10  comments\n",
      "Scraping  10  comments\n",
      "Scraping  10  comments\n",
      "Scraping  10  comments\n"
     ]
    },
    {
     "name": "stderr",
     "output_type": "stream",
     "text": [
      " 46%|████▌     | 298/648 [1:28:39<1:04:19, 11.03s/it]"
     ]
    },
    {
     "name": "stdout",
     "output_type": "stream",
     "text": [
      "Scraping  1  comments\n"
     ]
    },
    {
     "name": "stderr",
     "output_type": "stream",
     "text": [
      " 46%|████▌     | 299/648 [1:28:42<51:05,  8.78s/it]  "
     ]
    },
    {
     "name": "stdout",
     "output_type": "stream",
     "text": [
      "Scraping  6  comments\n"
     ]
    },
    {
     "name": "stderr",
     "output_type": "stream",
     "text": [
      " 46%|████▋     | 300/648 [1:28:45<39:50,  6.87s/it]"
     ]
    },
    {
     "name": "stdout",
     "output_type": "stream",
     "text": [
      "Scraping  1  comments\n"
     ]
    },
    {
     "name": "stderr",
     "output_type": "stream",
     "text": [
      " 46%|████▋     | 301/648 [1:28:47<32:12,  5.57s/it]"
     ]
    },
    {
     "name": "stdout",
     "output_type": "stream",
     "text": [
      "Scraping  1  comments\n"
     ]
    },
    {
     "name": "stderr",
     "output_type": "stream",
     "text": [
      " 47%|████▋     | 302/648 [1:28:50<28:00,  4.86s/it]"
     ]
    },
    {
     "name": "stdout",
     "output_type": "stream",
     "text": [
      "Scraping  1  comments\n"
     ]
    },
    {
     "name": "stderr",
     "output_type": "stream",
     "text": [
      " 47%|████▋     | 303/648 [1:28:53<24:34,  4.27s/it]"
     ]
    },
    {
     "name": "stdout",
     "output_type": "stream",
     "text": [
      "Scraping  1  comments\n",
      "Scraping  10  comments\n",
      "Scraping  10  comments\n",
      "Scraping  10  comments\n",
      "Scraping  10  comments\n",
      "Scraping  10  comments\n",
      "Scraping  10  comments\n",
      "Scraping  10  comments\n",
      "Scraping  10  comments\n",
      "Scraping  10  comments\n",
      "Scraping  10  comments\n",
      "Scraping  10  comments\n",
      "Scraping  10  comments\n",
      "Scraping  10  comments\n",
      "Scraping  10  comments\n",
      "Scraping  10  comments\n",
      "Scraping  10  comments\n",
      "Scraping  10  comments\n",
      "Scraping  10  comments\n",
      "Scraping  10  comments\n",
      "Scraping  10  comments\n",
      "Scraping  10  comments\n",
      "Scraping  10  comments\n",
      "Scraping  10  comments\n",
      "Scraping  10  comments\n",
      "Scraping  10  comments\n",
      "Scraping  10  comments\n",
      "Scraping  10  comments\n",
      "Scraping  10  comments\n",
      "Scraping  10  comments\n",
      "Scraping  10  comments\n",
      "Scraping  10  comments\n",
      "Scraping  10  comments\n",
      "Scraping  10  comments\n",
      "Scraping  10  comments\n",
      "Scraping  10  comments\n",
      "Scraping  10  comments\n",
      "Scraping  10  comments\n",
      "Scraping  10  comments\n",
      "Scraping  10  comments\n",
      "Scraping  10  comments\n",
      "Scraping  10  comments\n",
      "Scraping  10  comments\n",
      "Scraping  10  comments\n",
      "Scraping  10  comments\n",
      "Scraping  10  comments\n",
      "Scraping  10  comments\n"
     ]
    },
    {
     "name": "stderr",
     "output_type": "stream",
     "text": [
      " 47%|████▋     | 304/648 [1:30:05<2:21:17, 24.65s/it]"
     ]
    },
    {
     "name": "stdout",
     "output_type": "stream",
     "text": [
      "Scraping  1  comments\n"
     ]
    },
    {
     "name": "stderr",
     "output_type": "stream",
     "text": [
      " 47%|████▋     | 305/648 [1:30:07<1:41:58, 17.84s/it]"
     ]
    },
    {
     "name": "stdout",
     "output_type": "stream",
     "text": [
      "Scraping  1  comments\n"
     ]
    },
    {
     "name": "stderr",
     "output_type": "stream",
     "text": [
      " 47%|████▋     | 306/648 [1:30:10<1:15:10, 13.19s/it]"
     ]
    },
    {
     "name": "stdout",
     "output_type": "stream",
     "text": [
      "Scraping  1  comments\n"
     ]
    },
    {
     "name": "stderr",
     "output_type": "stream",
     "text": [
      " 47%|████▋     | 307/648 [1:30:13<57:40, 10.15s/it]  "
     ]
    },
    {
     "name": "stdout",
     "output_type": "stream",
     "text": [
      "Scraping  1  comments\n",
      "Scraping  10  comments\n",
      "Scraping  10  comments\n",
      "Scraping  10  comments\n"
     ]
    },
    {
     "name": "stderr",
     "output_type": "stream",
     "text": [
      " 48%|████▊     | 308/648 [1:30:20<52:13,  9.22s/it]"
     ]
    },
    {
     "name": "stdout",
     "output_type": "stream",
     "text": [
      "Scraping  3  comments\n",
      "Scraping  10  comments\n",
      "Scraping  10  comments\n",
      "Scraping  10  comments\n"
     ]
    },
    {
     "name": "stderr",
     "output_type": "stream",
     "text": [
      " 48%|████▊     | 309/648 [1:30:28<50:55,  9.01s/it]"
     ]
    },
    {
     "name": "stdout",
     "output_type": "stream",
     "text": [
      "Scraping  5  comments\n"
     ]
    },
    {
     "name": "stderr",
     "output_type": "stream",
     "text": [
      " 48%|████▊     | 310/648 [1:30:31<40:06,  7.12s/it]"
     ]
    },
    {
     "name": "stdout",
     "output_type": "stream",
     "text": [
      "Scraping  5  comments\n",
      "Scraping  10  comments\n",
      "Scraping  10  comments\n",
      "Scraping  10  comments\n",
      "Scraping  10  comments\n",
      "Scraping  10  comments\n",
      "Scraping  10  comments\n",
      "Scraping  10  comments\n",
      "Scraping  10  comments\n",
      "Scraping  10  comments\n",
      "Scraping  10  comments\n",
      "Scraping  10  comments\n",
      "Scraping  10  comments\n",
      "Scraping  10  comments\n",
      "Scraping  10  comments\n",
      "Scraping  10  comments\n",
      "Scraping  10  comments\n"
     ]
    },
    {
     "name": "stderr",
     "output_type": "stream",
     "text": [
      " 48%|████▊     | 311/648 [1:30:56<1:10:09, 12.49s/it]"
     ]
    },
    {
     "name": "stdout",
     "output_type": "stream",
     "text": [
      "Scraping  4  comments\n"
     ]
    },
    {
     "name": "stderr",
     "output_type": "stream",
     "text": [
      " 48%|████▊     | 312/648 [1:30:58<53:02,  9.47s/it]  "
     ]
    },
    {
     "name": "stdout",
     "output_type": "stream",
     "text": [
      "Scraping  2  comments\n"
     ]
    },
    {
     "name": "stderr",
     "output_type": "stream",
     "text": [
      " 48%|████▊     | 313/648 [1:31:01<40:31,  7.26s/it]"
     ]
    },
    {
     "name": "stdout",
     "output_type": "stream",
     "text": [
      "Scraping  1  comments\n",
      "Scraping  10  comments\n",
      "Scraping  10  comments\n",
      "Scraping  10  comments\n",
      "Scraping  10  comments\n",
      "Scraping  10  comments\n",
      "Scraping  10  comments\n",
      "Scraping  10  comments\n",
      "Scraping  10  comments\n",
      "Scraping  10  comments\n",
      "Scraping  10  comments\n",
      "Scraping  10  comments\n",
      "Scraping  10  comments\n",
      "Scraping  10  comments\n",
      "Scraping  10  comments\n",
      "Scraping  10  comments\n",
      "Scraping  10  comments\n",
      "Scraping  10  comments\n",
      "Scraping  10  comments\n",
      "Scraping  10  comments\n",
      "Scraping  10  comments\n",
      "Scraping  10  comments\n",
      "Scraping  10  comments\n"
     ]
    },
    {
     "name": "stderr",
     "output_type": "stream",
     "text": [
      " 48%|████▊     | 314/648 [1:31:32<1:21:35, 14.66s/it]"
     ]
    },
    {
     "name": "stdout",
     "output_type": "stream",
     "text": [
      "Scraping  6  comments\n"
     ]
    },
    {
     "name": "stderr",
     "output_type": "stream",
     "text": [
      " 49%|████▊     | 315/648 [1:31:35<1:00:56, 10.98s/it]"
     ]
    },
    {
     "name": "stdout",
     "output_type": "stream",
     "text": [
      "Scraping  1  comments\n"
     ]
    },
    {
     "name": "stderr",
     "output_type": "stream",
     "text": [
      " 49%|████▉     | 316/648 [1:31:37<45:54,  8.30s/it]  "
     ]
    },
    {
     "name": "stdout",
     "output_type": "stream",
     "text": [
      "Scraping  1  comments\n"
     ]
    },
    {
     "name": "stderr",
     "output_type": "stream",
     "text": [
      " 49%|████▉     | 317/648 [1:31:39<36:08,  6.55s/it]"
     ]
    },
    {
     "name": "stdout",
     "output_type": "stream",
     "text": [
      "Scraping  1  comments\n"
     ]
    },
    {
     "name": "stderr",
     "output_type": "stream",
     "text": [
      " 49%|████▉     | 318/648 [1:31:42<29:20,  5.34s/it]"
     ]
    },
    {
     "name": "stdout",
     "output_type": "stream",
     "text": [
      "Scraping  1  comments\n"
     ]
    },
    {
     "name": "stderr",
     "output_type": "stream",
     "text": [
      " 49%|████▉     | 319/648 [1:31:45<25:14,  4.60s/it]"
     ]
    },
    {
     "name": "stdout",
     "output_type": "stream",
     "text": [
      "Scraping  3  comments\n"
     ]
    },
    {
     "name": "stderr",
     "output_type": "stream",
     "text": [
      " 49%|████▉     | 320/648 [1:31:47<20:54,  3.82s/it]"
     ]
    },
    {
     "name": "stdout",
     "output_type": "stream",
     "text": [
      "Scraping  1  comments\n"
     ]
    },
    {
     "name": "stderr",
     "output_type": "stream",
     "text": [
      " 50%|████▉     | 321/648 [1:31:49<18:12,  3.34s/it]"
     ]
    },
    {
     "name": "stdout",
     "output_type": "stream",
     "text": [
      "Scraping  1  comments\n"
     ]
    },
    {
     "name": "stderr",
     "output_type": "stream",
     "text": [
      " 50%|████▉     | 322/648 [1:31:51<16:36,  3.06s/it]"
     ]
    },
    {
     "name": "stdout",
     "output_type": "stream",
     "text": [
      "Scraping  1  comments\n"
     ]
    },
    {
     "name": "stderr",
     "output_type": "stream",
     "text": [
      " 50%|████▉     | 323/648 [1:31:54<16:20,  3.02s/it]"
     ]
    },
    {
     "name": "stdout",
     "output_type": "stream",
     "text": [
      "Scraping  1  comments\n"
     ]
    },
    {
     "name": "stderr",
     "output_type": "stream",
     "text": [
      " 50%|█████     | 324/648 [1:31:57<15:20,  2.84s/it]"
     ]
    },
    {
     "name": "stdout",
     "output_type": "stream",
     "text": [
      "Scraping  3  comments\n",
      "Scraping  10  comments\n",
      "Scraping  10  comments\n",
      "Scraping  10  comments\n",
      "Scraping  10  comments\n",
      "Scraping  10  comments\n",
      "Scraping  10  comments\n",
      "Scraping  10  comments\n"
     ]
    },
    {
     "name": "stderr",
     "output_type": "stream",
     "text": [
      " 50%|█████     | 325/648 [1:32:10<31:50,  5.91s/it]"
     ]
    },
    {
     "name": "stdout",
     "output_type": "stream",
     "text": [
      "Scraping  3  comments\n",
      "Scraping  10  comments\n",
      "Scraping  10  comments\n",
      "Scraping  10  comments\n",
      "Scraping  10  comments\n",
      "Scraping  10  comments\n",
      "Scraping  10  comments\n",
      "Scraping  10  comments\n",
      "Scraping  10  comments\n",
      "Scraping  10  comments\n",
      "Scraping  10  comments\n",
      "Scraping  10  comments\n",
      "Scraping  10  comments\n",
      "Scraping  10  comments\n",
      "Scraping  10  comments\n",
      "Scraping  10  comments\n",
      "Scraping  10  comments\n",
      "Scraping  10  comments\n",
      "Scraping  10  comments\n",
      "Scraping  10  comments\n",
      "Scraping  10  comments\n",
      "Scraping  10  comments\n",
      "Scraping  10  comments\n",
      "Scraping  10  comments\n",
      "Scraping  10  comments\n"
     ]
    },
    {
     "name": "stderr",
     "output_type": "stream",
     "text": [
      " 50%|█████     | 326/648 [1:33:05<1:51:45, 20.82s/it]"
     ]
    },
    {
     "name": "stdout",
     "output_type": "stream",
     "text": [
      "Scraping  2  comments\n"
     ]
    },
    {
     "name": "stderr",
     "output_type": "stream",
     "text": [
      " 50%|█████     | 327/648 [1:33:12<1:28:57, 16.63s/it]"
     ]
    },
    {
     "name": "stdout",
     "output_type": "stream",
     "text": [
      "Scraping  4  comments\n",
      "Scraping  10  comments\n",
      "Scraping  10  comments\n",
      "Scraping  10  comments\n",
      "Scraping  10  comments\n"
     ]
    },
    {
     "name": "stderr",
     "output_type": "stream",
     "text": [
      " 51%|█████     | 328/648 [1:33:25<1:22:33, 15.48s/it]"
     ]
    },
    {
     "name": "stdout",
     "output_type": "stream",
     "text": [
      "Scraping  8  comments\n"
     ]
    },
    {
     "name": "stderr",
     "output_type": "stream",
     "text": [
      " 51%|█████     | 329/648 [1:33:28<1:02:27, 11.75s/it]"
     ]
    },
    {
     "name": "stdout",
     "output_type": "stream",
     "text": [
      "Scraping  2  comments\n"
     ]
    },
    {
     "name": "stderr",
     "output_type": "stream",
     "text": [
      " 51%|█████     | 330/648 [1:33:31<48:00,  9.06s/it]  "
     ]
    },
    {
     "name": "stdout",
     "output_type": "stream",
     "text": [
      "Scraping  1  comments\n"
     ]
    },
    {
     "name": "stderr",
     "output_type": "stream",
     "text": [
      " 51%|█████     | 331/648 [1:33:34<38:56,  7.37s/it]"
     ]
    },
    {
     "name": "stdout",
     "output_type": "stream",
     "text": [
      "Scraping  6  comments\n"
     ]
    },
    {
     "name": "stderr",
     "output_type": "stream",
     "text": [
      " 51%|█████     | 332/648 [1:33:37<31:39,  6.01s/it]"
     ]
    },
    {
     "name": "stdout",
     "output_type": "stream",
     "text": [
      "Scraping  1  comments\n"
     ]
    },
    {
     "name": "stderr",
     "output_type": "stream",
     "text": [
      " 51%|█████▏    | 333/648 [1:33:39<25:27,  4.85s/it]"
     ]
    },
    {
     "name": "stdout",
     "output_type": "stream",
     "text": [
      "Scraping  1  comments\n"
     ]
    },
    {
     "name": "stderr",
     "output_type": "stream",
     "text": [
      " 52%|█████▏    | 334/648 [1:33:42<22:14,  4.25s/it]"
     ]
    },
    {
     "name": "stdout",
     "output_type": "stream",
     "text": [
      "Scraping  2  comments\n",
      "Scraping  10  comments\n",
      "Scraping  10  comments\n",
      "Scraping  10  comments\n",
      "Scraping  10  comments\n",
      "Scraping  10  comments\n",
      "Scraping  10  comments\n",
      "Scraping  10  comments\n",
      "Scraping  10  comments\n",
      "Scraping  10  comments\n",
      "Scraping  10  comments\n",
      "Scraping  10  comments\n",
      "Scraping  10  comments\n",
      "Scraping  10  comments\n"
     ]
    },
    {
     "name": "stderr",
     "output_type": "stream",
     "text": [
      " 52%|█████▏    | 335/648 [1:34:03<47:49,  9.17s/it]"
     ]
    },
    {
     "name": "stdout",
     "output_type": "stream",
     "text": [
      "Scraping  6  comments\n"
     ]
    },
    {
     "name": "stderr",
     "output_type": "stream",
     "text": [
      " 52%|█████▏    | 336/648 [1:34:04<35:53,  6.90s/it]"
     ]
    },
    {
     "name": "stdout",
     "output_type": "stream",
     "text": [
      "Scraping  1  comments\n"
     ]
    },
    {
     "name": "stderr",
     "output_type": "stream",
     "text": [
      " 52%|█████▏    | 337/648 [1:34:07<29:51,  5.76s/it]"
     ]
    },
    {
     "name": "stdout",
     "output_type": "stream",
     "text": [
      "Scraping  1  comments\n"
     ]
    },
    {
     "name": "stderr",
     "output_type": "stream",
     "text": [
      " 52%|█████▏    | 338/648 [1:34:10<24:52,  4.81s/it]"
     ]
    },
    {
     "name": "stdout",
     "output_type": "stream",
     "text": [
      "Scraping  1  comments\n"
     ]
    },
    {
     "name": "stderr",
     "output_type": "stream",
     "text": [
      " 52%|█████▏    | 339/648 [1:34:12<20:59,  4.08s/it]"
     ]
    },
    {
     "name": "stdout",
     "output_type": "stream",
     "text": [
      "Scraping  1  comments\n"
     ]
    },
    {
     "name": "stderr",
     "output_type": "stream",
     "text": [
      " 52%|█████▏    | 340/648 [1:34:15<19:17,  3.76s/it]"
     ]
    },
    {
     "name": "stdout",
     "output_type": "stream",
     "text": [
      "Scraping  1  comments\n"
     ]
    },
    {
     "name": "stderr",
     "output_type": "stream",
     "text": [
      " 53%|█████▎    | 341/648 [1:34:18<16:51,  3.29s/it]"
     ]
    },
    {
     "name": "stdout",
     "output_type": "stream",
     "text": [
      "Scraping  1  comments\n",
      "Scraping  10  comments\n"
     ]
    },
    {
     "name": "stderr",
     "output_type": "stream",
     "text": [
      " 53%|█████▎    | 342/648 [1:34:22<17:36,  3.45s/it]"
     ]
    },
    {
     "name": "stdout",
     "output_type": "stream",
     "text": [
      "Scraping  4  comments\n"
     ]
    },
    {
     "name": "stderr",
     "output_type": "stream",
     "text": [
      " 53%|█████▎    | 343/648 [1:34:23<15:14,  3.00s/it]"
     ]
    },
    {
     "name": "stdout",
     "output_type": "stream",
     "text": [
      "Scraping  1  comments\n"
     ]
    },
    {
     "name": "stderr",
     "output_type": "stream",
     "text": [
      " 53%|█████▎    | 344/648 [1:34:26<15:05,  2.98s/it]"
     ]
    },
    {
     "name": "stdout",
     "output_type": "stream",
     "text": [
      "Scraping  2  comments\n",
      "Scraping  10  comments\n",
      "Scraping  10  comments\n",
      "Scraping  10  comments\n"
     ]
    },
    {
     "name": "stderr",
     "output_type": "stream",
     "text": [
      " 53%|█████▎    | 345/648 [1:34:34<22:43,  4.50s/it]"
     ]
    },
    {
     "name": "stdout",
     "output_type": "stream",
     "text": [
      "Scraping  6  comments\n",
      "Scraping  10  comments\n",
      "Scraping  10  comments\n",
      "Scraping  10  comments\n",
      "Scraping  10  comments\n",
      "Scraping  10  comments\n",
      "Scraping  10  comments\n",
      "Scraping  10  comments\n",
      "Scraping  10  comments\n",
      "Scraping  10  comments\n",
      "Scraping  10  comments\n",
      "Scraping  10  comments\n",
      "Scraping  10  comments\n",
      "Scraping  10  comments\n",
      "Scraping  10  comments\n",
      "Scraping  10  comments\n",
      "Scraping  10  comments\n",
      "Scraping  10  comments\n",
      "Scraping  10  comments\n",
      "Scraping  10  comments\n",
      "Scraping  10  comments\n",
      "Scraping  10  comments\n",
      "Scraping  10  comments\n"
     ]
    },
    {
     "name": "stderr",
     "output_type": "stream",
     "text": [
      " 53%|█████▎    | 346/648 [1:35:11<1:10:23, 13.99s/it]"
     ]
    },
    {
     "name": "stdout",
     "output_type": "stream",
     "text": [
      "Scraping  5  comments\n",
      "Scraping  10  comments\n",
      "Scraping  10  comments\n",
      "Scraping  10  comments\n",
      "Scraping  10  comments\n",
      "Scraping  10  comments\n",
      "Scraping  10  comments\n",
      "Scraping  10  comments\n"
     ]
    },
    {
     "name": "stderr",
     "output_type": "stream",
     "text": [
      " 54%|█████▎    | 347/648 [1:35:24<1:09:24, 13.84s/it]"
     ]
    },
    {
     "name": "stdout",
     "output_type": "stream",
     "text": [
      "Scraping  7  comments\n"
     ]
    },
    {
     "name": "stderr",
     "output_type": "stream",
     "text": [
      " 54%|█████▎    | 348/648 [1:35:27<53:01, 10.61s/it]  "
     ]
    },
    {
     "name": "stdout",
     "output_type": "stream",
     "text": [
      "Scraping  1  comments\n"
     ]
    },
    {
     "name": "stderr",
     "output_type": "stream",
     "text": [
      " 54%|█████▍    | 349/648 [1:35:30<41:59,  8.43s/it]"
     ]
    },
    {
     "name": "stdout",
     "output_type": "stream",
     "text": [
      "Scraping  3  comments\n"
     ]
    },
    {
     "name": "stderr",
     "output_type": "stream",
     "text": [
      " 54%|█████▍    | 350/648 [1:35:33<33:41,  6.78s/it]"
     ]
    },
    {
     "name": "stdout",
     "output_type": "stream",
     "text": [
      "Scraping  1  comments\n"
     ]
    },
    {
     "name": "stderr",
     "output_type": "stream",
     "text": [
      " 54%|█████▍    | 351/648 [1:35:36<27:00,  5.46s/it]"
     ]
    },
    {
     "name": "stdout",
     "output_type": "stream",
     "text": [
      "Scraping  1  comments\n"
     ]
    },
    {
     "name": "stderr",
     "output_type": "stream",
     "text": [
      " 54%|█████▍    | 352/648 [1:35:38<22:49,  4.63s/it]"
     ]
    },
    {
     "name": "stdout",
     "output_type": "stream",
     "text": [
      "Scraping  1  comments\n"
     ]
    },
    {
     "name": "stderr",
     "output_type": "stream",
     "text": [
      " 54%|█████▍    | 353/648 [1:35:41<19:50,  4.04s/it]"
     ]
    },
    {
     "name": "stdout",
     "output_type": "stream",
     "text": [
      "Scraping  1  comments\n"
     ]
    },
    {
     "name": "stderr",
     "output_type": "stream",
     "text": [
      " 55%|█████▍    | 354/648 [1:35:44<17:59,  3.67s/it]"
     ]
    },
    {
     "name": "stdout",
     "output_type": "stream",
     "text": [
      "Scraping  1  comments\n"
     ]
    },
    {
     "name": "stderr",
     "output_type": "stream",
     "text": [
      " 55%|█████▍    | 355/648 [1:35:47<16:38,  3.41s/it]"
     ]
    },
    {
     "name": "stdout",
     "output_type": "stream",
     "text": [
      "Scraping  1  comments\n"
     ]
    },
    {
     "name": "stderr",
     "output_type": "stream",
     "text": [
      " 55%|█████▍    | 356/648 [1:35:50<16:31,  3.40s/it]"
     ]
    },
    {
     "name": "stdout",
     "output_type": "stream",
     "text": [
      "Scraping  1  comments\n"
     ]
    },
    {
     "name": "stderr",
     "output_type": "stream",
     "text": [
      " 55%|█████▌    | 357/648 [1:35:54<17:32,  3.62s/it]"
     ]
    },
    {
     "name": "stdout",
     "output_type": "stream",
     "text": [
      "Scraping  1  comments\n"
     ]
    },
    {
     "name": "stderr",
     "output_type": "stream",
     "text": [
      " 55%|█████▌    | 358/648 [1:35:57<16:07,  3.34s/it]"
     ]
    },
    {
     "name": "stdout",
     "output_type": "stream",
     "text": [
      "Scraping  1  comments\n",
      "Scraping  10  comments\n",
      "Scraping  10  comments\n",
      "Scraping  10  comments\n",
      "Scraping  10  comments\n",
      "Scraping  10  comments\n",
      "Scraping  10  comments\n",
      "Scraping  10  comments\n",
      "Scraping  10  comments\n",
      "Scraping  10  comments\n",
      "Scraping  10  comments\n",
      "Scraping  10  comments\n",
      "Scraping  10  comments\n",
      "Scraping  10  comments\n",
      "Scraping  10  comments\n",
      "Scraping  10  comments\n",
      "Scraping  10  comments\n",
      "Scraping  10  comments\n",
      "Scraping  10  comments\n",
      "Scraping  10  comments\n",
      "Scraping  10  comments\n",
      "Scraping  10  comments\n",
      "Scraping  10  comments\n",
      "Scraping  10  comments\n",
      "Scraping  10  comments\n",
      "Scraping  10  comments\n",
      "Scraping  10  comments\n",
      "Scraping  10  comments\n",
      "Scraping  10  comments\n",
      "Scraping  10  comments\n",
      "Scraping  10  comments\n",
      "Scraping  10  comments\n",
      "Scraping  10  comments\n",
      "Scraping  10  comments\n",
      "Scraping  10  comments\n",
      "Scraping  10  comments\n",
      "Scraping  10  comments\n",
      "Scraping  10  comments\n",
      "Scraping  10  comments\n",
      "Scraping  10  comments\n",
      "Scraping  10  comments\n",
      "Scraping  10  comments\n",
      "Scraping  10  comments\n",
      "Scraping  10  comments\n"
     ]
    },
    {
     "name": "stderr",
     "output_type": "stream",
     "text": [
      " 55%|█████▌    | 359/648 [1:37:09<1:55:57, 24.07s/it]"
     ]
    },
    {
     "name": "stdout",
     "output_type": "stream",
     "text": [
      "Scraping  7  comments\n",
      "Scraping  10  comments\n",
      "Scraping  10  comments\n",
      "Scraping  10  comments\n",
      "Scraping  10  comments\n",
      "Scraping  10  comments\n",
      "Scraping  10  comments\n",
      "Scraping  10  comments\n"
     ]
    },
    {
     "name": "stderr",
     "output_type": "stream",
     "text": [
      " 56%|█████▌    | 360/648 [1:37:23<1:40:04, 20.85s/it]"
     ]
    },
    {
     "name": "stdout",
     "output_type": "stream",
     "text": [
      "Scraping  2  comments\n"
     ]
    },
    {
     "name": "stderr",
     "output_type": "stream",
     "text": [
      " 56%|█████▌    | 361/648 [1:37:25<1:13:11, 15.30s/it]"
     ]
    },
    {
     "name": "stdout",
     "output_type": "stream",
     "text": [
      "Scraping  2  comments\n"
     ]
    },
    {
     "name": "stderr",
     "output_type": "stream",
     "text": [
      " 56%|█████▌    | 362/648 [1:37:28<55:34, 11.66s/it]  "
     ]
    },
    {
     "name": "stdout",
     "output_type": "stream",
     "text": [
      "Scraping  7  comments\n"
     ]
    },
    {
     "name": "stderr",
     "output_type": "stream",
     "text": [
      " 56%|█████▌    | 363/648 [1:37:31<42:11,  8.88s/it]"
     ]
    },
    {
     "name": "stdout",
     "output_type": "stream",
     "text": [
      "Scraping  2  comments\n"
     ]
    },
    {
     "name": "stderr",
     "output_type": "stream",
     "text": [
      " 56%|█████▌    | 364/648 [1:37:34<34:11,  7.22s/it]"
     ]
    },
    {
     "name": "stdout",
     "output_type": "stream",
     "text": [
      "Scraping  2  comments\n"
     ]
    },
    {
     "name": "stderr",
     "output_type": "stream",
     "text": [
      " 56%|█████▋    | 365/648 [1:37:36<26:28,  5.61s/it]"
     ]
    },
    {
     "name": "stdout",
     "output_type": "stream",
     "text": [
      "Scraping  2  comments\n"
     ]
    },
    {
     "name": "stderr",
     "output_type": "stream",
     "text": [
      " 56%|█████▋    | 366/648 [1:37:39<22:18,  4.75s/it]"
     ]
    },
    {
     "name": "stdout",
     "output_type": "stream",
     "text": [
      "Scraping  3  comments\n",
      "Scraping  10  comments\n",
      "Scraping  10  comments\n",
      "Scraping  10  comments\n",
      "Scraping  10  comments\n",
      "Scraping  10  comments\n",
      "Scraping  10  comments\n",
      "Scraping  10  comments\n",
      "Scraping  10  comments\n",
      "Scraping  10  comments\n",
      "Scraping  10  comments\n",
      "Scraping  10  comments\n",
      "Scraping  10  comments\n",
      "Scraping  10  comments\n",
      "Scraping  10  comments\n",
      "Scraping  10  comments\n",
      "Scraping  10  comments\n",
      "Scraping  10  comments\n"
     ]
    },
    {
     "name": "stderr",
     "output_type": "stream",
     "text": [
      " 57%|█████▋    | 367/648 [1:38:09<58:52, 12.57s/it]"
     ]
    },
    {
     "name": "stdout",
     "output_type": "stream",
     "text": [
      "Scraping  1  comments\n"
     ]
    },
    {
     "name": "stderr",
     "output_type": "stream",
     "text": [
      " 57%|█████▋    | 368/648 [1:38:12<44:12,  9.47s/it]"
     ]
    },
    {
     "name": "stdout",
     "output_type": "stream",
     "text": [
      "Scraping  1  comments\n",
      "Scraping  10  comments\n",
      "Scraping  10  comments\n",
      "Scraping  10  comments\n",
      "Scraping  10  comments\n",
      "Scraping  10  comments\n",
      "Scraping  10  comments\n",
      "Scraping  10  comments\n",
      "Scraping  10  comments\n",
      "Scraping  10  comments\n",
      "Scraping  10  comments\n",
      "Scraping  10  comments\n",
      "Scraping  10  comments\n",
      "Scraping  10  comments\n",
      "Scraping  10  comments\n",
      "Scraping  10  comments\n",
      "Scraping  10  comments\n",
      "Scraping  10  comments\n",
      "Scraping  10  comments\n",
      "Scraping  10  comments\n",
      "Scraping  10  comments\n",
      "Scraping  10  comments\n"
     ]
    },
    {
     "name": "stderr",
     "output_type": "stream",
     "text": [
      " 57%|█████▋    | 369/648 [1:38:45<1:17:39, 16.70s/it]"
     ]
    },
    {
     "name": "stdout",
     "output_type": "stream",
     "text": [
      "Scraping  1  comments\n"
     ]
    },
    {
     "name": "stderr",
     "output_type": "stream",
     "text": [
      " 57%|█████▋    | 370/648 [1:38:49<58:53, 12.71s/it]  "
     ]
    },
    {
     "name": "stdout",
     "output_type": "stream",
     "text": [
      "Scraping  1  comments\n"
     ]
    },
    {
     "name": "stderr",
     "output_type": "stream",
     "text": [
      " 57%|█████▋    | 371/648 [1:38:51<44:32,  9.65s/it]"
     ]
    },
    {
     "name": "stdout",
     "output_type": "stream",
     "text": [
      "Scraping  1  comments\n"
     ]
    },
    {
     "name": "stderr",
     "output_type": "stream",
     "text": [
      " 57%|█████▋    | 372/648 [1:38:54<35:41,  7.76s/it]"
     ]
    },
    {
     "name": "stdout",
     "output_type": "stream",
     "text": [
      "Scraping  1  comments\n"
     ]
    },
    {
     "name": "stderr",
     "output_type": "stream",
     "text": [
      " 58%|█████▊    | 373/648 [1:38:57<28:20,  6.18s/it]"
     ]
    },
    {
     "name": "stdout",
     "output_type": "stream",
     "text": [
      "Scraping  2  comments\n"
     ]
    },
    {
     "name": "stderr",
     "output_type": "stream",
     "text": [
      " 58%|█████▊    | 374/648 [1:39:00<23:59,  5.25s/it]"
     ]
    },
    {
     "name": "stdout",
     "output_type": "stream",
     "text": [
      "Scraping  1  comments\n",
      "Scraping  10  comments\n",
      "Scraping  10  comments\n",
      "Scraping  10  comments\n",
      "Scraping  10  comments\n",
      "Scraping  10  comments\n",
      "Scraping  10  comments\n",
      "Scraping  10  comments\n",
      "Scraping  10  comments\n",
      "Scraping  10  comments\n",
      "Scraping  10  comments\n",
      "Scraping  10  comments\n",
      "Scraping  10  comments\n",
      "Scraping  10  comments\n",
      "Scraping  10  comments\n",
      "Scraping  10  comments\n",
      "Scraping  10  comments\n",
      "Scraping  10  comments\n",
      "Scraping  10  comments\n",
      "Scraping  10  comments\n",
      "Scraping  10  comments\n",
      "Scraping  10  comments\n",
      "Scraping  10  comments\n",
      "Scraping  10  comments\n",
      "Scraping  10  comments\n"
     ]
    },
    {
     "name": "stderr",
     "output_type": "stream",
     "text": [
      " 58%|█████▊    | 375/648 [1:39:47<1:20:19, 17.66s/it]"
     ]
    },
    {
     "name": "stdout",
     "output_type": "stream",
     "text": [
      "Scraping  5  comments\n"
     ]
    },
    {
     "name": "stderr",
     "output_type": "stream",
     "text": [
      " 58%|█████▊    | 376/648 [1:39:49<58:39, 12.94s/it]  "
     ]
    },
    {
     "name": "stdout",
     "output_type": "stream",
     "text": [
      "Scraping  1  comments\n",
      "Scraping  10  comments\n",
      "Scraping  10  comments\n",
      "Scraping  10  comments\n",
      "Scraping  10  comments\n",
      "Scraping  10  comments\n"
     ]
    },
    {
     "name": "stderr",
     "output_type": "stream",
     "text": [
      " 58%|█████▊    | 377/648 [1:40:00<56:26, 12.50s/it]"
     ]
    },
    {
     "name": "stdout",
     "output_type": "stream",
     "text": [
      "Scraping  3  comments\n"
     ]
    },
    {
     "name": "stderr",
     "output_type": "stream",
     "text": [
      " 58%|█████▊    | 378/648 [1:40:03<43:19,  9.63s/it]"
     ]
    },
    {
     "name": "stdout",
     "output_type": "stream",
     "text": [
      "Scraping  1  comments\n"
     ]
    },
    {
     "name": "stderr",
     "output_type": "stream",
     "text": [
      " 58%|█████▊    | 379/648 [1:40:05<33:29,  7.47s/it]"
     ]
    },
    {
     "name": "stdout",
     "output_type": "stream",
     "text": [
      "Scraping  1  comments\n"
     ]
    },
    {
     "name": "stderr",
     "output_type": "stream",
     "text": [
      " 59%|█████▊    | 380/648 [1:40:07<25:53,  5.80s/it]"
     ]
    },
    {
     "name": "stdout",
     "output_type": "stream",
     "text": [
      "Scraping  1  comments\n"
     ]
    },
    {
     "name": "stderr",
     "output_type": "stream",
     "text": [
      " 59%|█████▉    | 381/648 [1:40:10<21:14,  4.77s/it]"
     ]
    },
    {
     "name": "stdout",
     "output_type": "stream",
     "text": [
      "Scraping  1  comments\n"
     ]
    },
    {
     "name": "stderr",
     "output_type": "stream",
     "text": [
      " 59%|█████▉    | 382/648 [1:40:12<18:19,  4.13s/it]"
     ]
    },
    {
     "name": "stdout",
     "output_type": "stream",
     "text": [
      "Scraping  1  comments\n"
     ]
    },
    {
     "name": "stderr",
     "output_type": "stream",
     "text": [
      " 59%|█████▉    | 383/648 [1:40:15<16:19,  3.70s/it]"
     ]
    },
    {
     "name": "stdout",
     "output_type": "stream",
     "text": [
      "Scraping  1  comments\n"
     ]
    },
    {
     "name": "stderr",
     "output_type": "stream",
     "text": [
      " 59%|█████▉    | 384/648 [1:40:18<15:35,  3.54s/it]"
     ]
    },
    {
     "name": "stdout",
     "output_type": "stream",
     "text": [
      "Scraping  1  comments\n"
     ]
    },
    {
     "name": "stderr",
     "output_type": "stream",
     "text": [
      " 59%|█████▉    | 385/648 [1:40:21<14:04,  3.21s/it]"
     ]
    },
    {
     "name": "stdout",
     "output_type": "stream",
     "text": [
      "Scraping  1  comments\n"
     ]
    },
    {
     "name": "stderr",
     "output_type": "stream",
     "text": [
      " 60%|█████▉    | 386/648 [1:40:24<13:40,  3.13s/it]"
     ]
    },
    {
     "name": "stdout",
     "output_type": "stream",
     "text": [
      "Scraping  1  comments\n"
     ]
    },
    {
     "name": "stderr",
     "output_type": "stream",
     "text": [
      " 60%|█████▉    | 387/648 [1:40:26<13:19,  3.06s/it]"
     ]
    },
    {
     "name": "stdout",
     "output_type": "stream",
     "text": [
      "Scraping  1  comments\n"
     ]
    },
    {
     "name": "stderr",
     "output_type": "stream",
     "text": [
      " 60%|█████▉    | 388/648 [1:40:30<13:19,  3.08s/it]"
     ]
    },
    {
     "name": "stdout",
     "output_type": "stream",
     "text": [
      "Scraping  1  comments\n"
     ]
    },
    {
     "name": "stderr",
     "output_type": "stream",
     "text": [
      " 60%|██████    | 389/648 [1:40:33<13:16,  3.08s/it]"
     ]
    },
    {
     "name": "stdout",
     "output_type": "stream",
     "text": [
      "Scraping  1  comments\n"
     ]
    },
    {
     "name": "stderr",
     "output_type": "stream",
     "text": [
      " 60%|██████    | 390/648 [1:40:36<13:04,  3.04s/it]"
     ]
    },
    {
     "name": "stdout",
     "output_type": "stream",
     "text": [
      "Scraping  1  comments\n"
     ]
    },
    {
     "name": "stderr",
     "output_type": "stream",
     "text": [
      " 60%|██████    | 391/648 [1:40:38<12:47,  2.99s/it]"
     ]
    },
    {
     "name": "stdout",
     "output_type": "stream",
     "text": [
      "Scraping  1  comments\n"
     ]
    },
    {
     "name": "stderr",
     "output_type": "stream",
     "text": [
      " 60%|██████    | 392/648 [1:40:40<10:53,  2.55s/it]"
     ]
    },
    {
     "name": "stdout",
     "output_type": "stream",
     "text": [
      "Scraping  1  comments\n"
     ]
    },
    {
     "name": "stderr",
     "output_type": "stream",
     "text": [
      " 61%|██████    | 393/648 [1:40:42<10:11,  2.40s/it]"
     ]
    },
    {
     "name": "stdout",
     "output_type": "stream",
     "text": [
      "Scraping  3  comments\n",
      "Scraping  10  comments\n",
      "Scraping  10  comments\n",
      "Scraping  10  comments\n",
      "Scraping  10  comments\n",
      "Scraping  10  comments\n",
      "Scraping  10  comments\n"
     ]
    },
    {
     "name": "stderr",
     "output_type": "stream",
     "text": [
      " 61%|██████    | 394/648 [1:40:52<20:21,  4.81s/it]"
     ]
    },
    {
     "name": "stdout",
     "output_type": "stream",
     "text": [
      "Scraping  5  comments\n"
     ]
    },
    {
     "name": "stderr",
     "output_type": "stream",
     "text": [
      " 61%|██████    | 395/648 [1:40:55<18:02,  4.28s/it]"
     ]
    },
    {
     "name": "stdout",
     "output_type": "stream",
     "text": [
      "Scraping  3  comments\n"
     ]
    },
    {
     "name": "stderr",
     "output_type": "stream",
     "text": [
      " 61%|██████    | 396/648 [1:40:58<16:01,  3.82s/it]"
     ]
    },
    {
     "name": "stdout",
     "output_type": "stream",
     "text": [
      "Scraping  1  comments\n"
     ]
    },
    {
     "name": "stderr",
     "output_type": "stream",
     "text": [
      " 61%|██████▏   | 397/648 [1:41:00<13:33,  3.24s/it]"
     ]
    },
    {
     "name": "stdout",
     "output_type": "stream",
     "text": [
      "Scraping  1  comments\n"
     ]
    },
    {
     "name": "stderr",
     "output_type": "stream",
     "text": [
      " 61%|██████▏   | 398/648 [1:41:03<12:35,  3.02s/it]"
     ]
    },
    {
     "name": "stdout",
     "output_type": "stream",
     "text": [
      "Scraping  2  comments\n",
      "Scraping  10  comments\n",
      "Scraping  10  comments\n",
      "Scraping  10  comments\n"
     ]
    },
    {
     "name": "stderr",
     "output_type": "stream",
     "text": [
      " 62%|██████▏   | 399/648 [1:41:09<17:02,  4.11s/it]"
     ]
    },
    {
     "name": "stdout",
     "output_type": "stream",
     "text": [
      "Scraping  9  comments\n"
     ]
    },
    {
     "name": "stderr",
     "output_type": "stream",
     "text": [
      " 62%|██████▏   | 400/648 [1:41:11<14:22,  3.48s/it]"
     ]
    },
    {
     "name": "stdout",
     "output_type": "stream",
     "text": [
      "Scraping  3  comments\n",
      "Scraping  10  comments\n",
      "Scraping  10  comments\n",
      "Scraping  10  comments\n",
      "Scraping  10  comments\n",
      "Scraping  10  comments\n",
      "Scraping  10  comments\n",
      "Scraping  10  comments\n",
      "Scraping  10  comments\n",
      "Scraping  10  comments\n",
      "Scraping  10  comments\n",
      "Scraping  10  comments\n",
      "Scraping  10  comments\n",
      "Scraping  10  comments\n",
      "Scraping  10  comments\n",
      "Scraping  10  comments\n",
      "Scraping  10  comments\n",
      "Scraping  10  comments\n",
      "Scraping  10  comments\n",
      "Scraping  10  comments\n",
      "Scraping  10  comments\n",
      "Scraping  10  comments\n",
      "Scraping  10  comments\n",
      "Scraping  10  comments\n",
      "Scraping  10  comments\n",
      "Scraping  10  comments\n",
      "Scraping  10  comments\n",
      "Scraping  10  comments\n",
      "Scraping  10  comments\n",
      "Scraping  10  comments\n",
      "Scraping  10  comments\n",
      "Scraping  10  comments\n",
      "Scraping  10  comments\n",
      "Scraping  10  comments\n",
      "Scraping  10  comments\n",
      "Scraping  10  comments\n",
      "Scraping  10  comments\n",
      "Scraping  10  comments\n",
      "Scraping  10  comments\n",
      "Scraping  10  comments\n",
      "Scraping  10  comments\n",
      "Scraping  10  comments\n",
      "Scraping  10  comments\n",
      "Scraping  10  comments\n",
      "Scraping  10  comments\n",
      "Scraping  10  comments\n",
      "Scraping  10  comments\n",
      "Scraping  10  comments\n",
      "Scraping  10  comments\n",
      "Scraping  10  comments\n",
      "Scraping  10  comments\n",
      "Scraping  10  comments\n",
      "Scraping  10  comments\n",
      "Scraping  10  comments\n",
      "Scraping  10  comments\n",
      "Scraping  10  comments\n",
      "Scraping  10  comments\n",
      "Scraping  10  comments\n",
      "Scraping  10  comments\n",
      "Scraping  10  comments\n",
      "Scraping  10  comments\n",
      "Scraping  10  comments\n",
      "Scraping  10  comments\n",
      "Scraping  10  comments\n",
      "Scraping  10  comments\n",
      "Scraping  10  comments\n",
      "Scraping  10  comments\n"
     ]
    },
    {
     "name": "stderr",
     "output_type": "stream",
     "text": [
      " 62%|██████▏   | 401/648 [1:42:44<2:05:06, 30.39s/it]"
     ]
    },
    {
     "name": "stdout",
     "output_type": "stream",
     "text": [
      "Scraping  4  comments\n"
     ]
    },
    {
     "name": "stderr",
     "output_type": "stream",
     "text": [
      " 62%|██████▏   | 402/648 [1:42:47<1:30:17, 22.02s/it]"
     ]
    },
    {
     "name": "stdout",
     "output_type": "stream",
     "text": [
      "Scraping  2  comments\n",
      "Scraping  10  comments\n",
      "Scraping  10  comments\n"
     ]
    },
    {
     "name": "stderr",
     "output_type": "stream",
     "text": [
      " 62%|██████▏   | 403/648 [1:42:53<1:10:21, 17.23s/it]"
     ]
    },
    {
     "name": "stdout",
     "output_type": "stream",
     "text": [
      "Scraping  9  comments\n",
      "Scraping  10  comments\n",
      "Scraping  10  comments\n",
      "Scraping  10  comments\n",
      "Scraping  10  comments\n",
      "Scraping  10  comments\n",
      "Scraping  10  comments\n",
      "Scraping  10  comments\n",
      "Scraping  10  comments\n",
      "Scraping  10  comments\n",
      "Scraping  10  comments\n",
      "Scraping  10  comments\n",
      "Scraping  10  comments\n",
      "Scraping  10  comments\n",
      "Scraping  10  comments\n",
      "Scraping  10  comments\n",
      "Scraping  10  comments\n",
      "Scraping  10  comments\n",
      "Scraping  10  comments\n",
      "Scraping  10  comments\n"
     ]
    },
    {
     "name": "stderr",
     "output_type": "stream",
     "text": [
      " 62%|██████▏   | 404/648 [1:43:24<1:27:22, 21.49s/it]"
     ]
    },
    {
     "name": "stdout",
     "output_type": "stream",
     "text": [
      "Scraping  1  comments\n"
     ]
    },
    {
     "name": "stderr",
     "output_type": "stream",
     "text": [
      " 62%|██████▎   | 405/648 [1:43:27<1:04:32, 15.94s/it]"
     ]
    },
    {
     "name": "stdout",
     "output_type": "stream",
     "text": [
      "Scraping  3  comments\n",
      "Scraping  10  comments\n",
      "Scraping  10  comments\n",
      "Scraping  10  comments\n",
      "Scraping  10  comments\n",
      "Scraping  10  comments\n",
      "Scraping  10  comments\n",
      "Scraping  10  comments\n",
      "Scraping  10  comments\n",
      "Scraping  10  comments\n",
      "Scraping  10  comments\n",
      "Scraping  10  comments\n",
      "Scraping  10  comments\n",
      "Scraping  10  comments\n",
      "Scraping  10  comments\n",
      "Scraping  10  comments\n",
      "Scraping  10  comments\n",
      "Scraping  10  comments\n",
      "Scraping  10  comments\n",
      "Scraping  10  comments\n",
      "Scraping  10  comments\n",
      "Scraping  10  comments\n",
      "Scraping  10  comments\n",
      "Scraping  10  comments\n",
      "Scraping  10  comments\n",
      "Scraping  10  comments\n",
      "Scraping  10  comments\n",
      "Scraping  10  comments\n",
      "Scraping  10  comments\n",
      "Scraping  10  comments\n",
      "Scraping  10  comments\n"
     ]
    },
    {
     "name": "stderr",
     "output_type": "stream",
     "text": [
      " 63%|██████▎   | 406/648 [1:44:10<1:36:33, 23.94s/it]"
     ]
    },
    {
     "name": "stdout",
     "output_type": "stream",
     "text": [
      "Scraping  1  comments\n"
     ]
    },
    {
     "name": "stderr",
     "output_type": "stream",
     "text": [
      " 63%|██████▎   | 407/648 [1:44:12<1:10:05, 17.45s/it]"
     ]
    },
    {
     "name": "stdout",
     "output_type": "stream",
     "text": [
      "Scraping  2  comments\n"
     ]
    },
    {
     "name": "stderr",
     "output_type": "stream",
     "text": [
      " 63%|██████▎   | 408/648 [1:44:14<51:13, 12.81s/it]  "
     ]
    },
    {
     "name": "stdout",
     "output_type": "stream",
     "text": [
      "Scraping  1  comments\n"
     ]
    },
    {
     "name": "stderr",
     "output_type": "stream",
     "text": [
      " 63%|██████▎   | 409/648 [1:44:16<37:42,  9.47s/it]"
     ]
    },
    {
     "name": "stdout",
     "output_type": "stream",
     "text": [
      "Scraping  1  comments\n"
     ]
    },
    {
     "name": "stderr",
     "output_type": "stream",
     "text": [
      " 63%|██████▎   | 410/648 [1:44:18<28:36,  7.21s/it]"
     ]
    },
    {
     "name": "stdout",
     "output_type": "stream",
     "text": [
      "Scraping  1  comments\n"
     ]
    },
    {
     "name": "stderr",
     "output_type": "stream",
     "text": [
      " 63%|██████▎   | 411/648 [1:44:20<21:49,  5.53s/it]"
     ]
    },
    {
     "name": "stdout",
     "output_type": "stream",
     "text": [
      "Scraping  1  comments\n"
     ]
    },
    {
     "name": "stderr",
     "output_type": "stream",
     "text": [
      " 64%|██████▎   | 412/648 [1:44:22<17:55,  4.56s/it]"
     ]
    },
    {
     "name": "stdout",
     "output_type": "stream",
     "text": [
      "Scraping  1  comments\n"
     ]
    },
    {
     "name": "stderr",
     "output_type": "stream",
     "text": [
      " 64%|██████▎   | 413/648 [1:44:24<14:56,  3.81s/it]"
     ]
    },
    {
     "name": "stdout",
     "output_type": "stream",
     "text": [
      "Scraping  1  comments\n"
     ]
    },
    {
     "name": "stderr",
     "output_type": "stream",
     "text": [
      " 64%|██████▍   | 414/648 [1:44:26<12:39,  3.24s/it]"
     ]
    },
    {
     "name": "stdout",
     "output_type": "stream",
     "text": [
      "Scraping  1  comments\n",
      "Scraping  10  comments\n",
      "Scraping  10  comments\n",
      "Scraping  10  comments\n"
     ]
    },
    {
     "name": "stderr",
     "output_type": "stream",
     "text": [
      " 64%|██████▍   | 415/648 [1:44:32<15:27,  3.98s/it]"
     ]
    },
    {
     "name": "stdout",
     "output_type": "stream",
     "text": [
      "Scraping  6  comments\n",
      "Scraping  10  comments\n",
      "Scraping  10  comments\n",
      "Scraping  10  comments\n",
      "Scraping  10  comments\n",
      "Scraping  10  comments\n",
      "Scraping  10  comments\n",
      "Scraping  10  comments\n"
     ]
    },
    {
     "name": "stderr",
     "output_type": "stream",
     "text": [
      " 64%|██████▍   | 416/648 [1:44:42<23:22,  6.05s/it]"
     ]
    },
    {
     "name": "stdout",
     "output_type": "stream",
     "text": [
      "Scraping  2  comments\n"
     ]
    },
    {
     "name": "stderr",
     "output_type": "stream",
     "text": [
      " 64%|██████▍   | 417/648 [1:44:44<18:23,  4.78s/it]"
     ]
    },
    {
     "name": "stdout",
     "output_type": "stream",
     "text": [
      "Scraping  1  comments\n"
     ]
    },
    {
     "name": "stderr",
     "output_type": "stream",
     "text": [
      " 65%|██████▍   | 418/648 [1:44:46<14:49,  3.87s/it]"
     ]
    },
    {
     "name": "stdout",
     "output_type": "stream",
     "text": [
      "Scraping  1  comments\n"
     ]
    },
    {
     "name": "stderr",
     "output_type": "stream",
     "text": [
      " 65%|██████▍   | 419/648 [1:44:48<12:23,  3.25s/it]"
     ]
    },
    {
     "name": "stdout",
     "output_type": "stream",
     "text": [
      "Scraping  1  comments\n",
      "Scraping  10  comments\n",
      "Scraping  10  comments\n",
      "Scraping  10  comments\n",
      "Scraping  10  comments\n",
      "Scraping  10  comments\n",
      "Scraping  10  comments\n",
      "Scraping  10  comments\n",
      "Scraping  10  comments\n",
      "Scraping  10  comments\n",
      "Scraping  10  comments\n",
      "Scraping  10  comments\n",
      "Scraping  10  comments\n",
      "Scraping  10  comments\n",
      "Scraping  10  comments\n",
      "Scraping  10  comments\n",
      "Scraping  10  comments\n",
      "Scraping  10  comments\n",
      "Scraping  10  comments\n",
      "Scraping  10  comments\n",
      "Scraping  10  comments\n",
      "Scraping  10  comments\n",
      "Scraping  10  comments\n",
      "Scraping  10  comments\n",
      "Scraping  10  comments\n",
      "Scraping  10  comments\n",
      "Scraping  10  comments\n",
      "Scraping  10  comments\n",
      "Scraping  10  comments\n",
      "Scraping  10  comments\n",
      "Scraping  10  comments\n",
      "Scraping  10  comments\n",
      "Scraping  10  comments\n",
      "Scraping  10  comments\n",
      "Scraping  10  comments\n",
      "Scraping  10  comments\n",
      "Scraping  10  comments\n",
      "Scraping  10  comments\n",
      "Scraping  10  comments\n",
      "Scraping  10  comments\n",
      "Scraping  10  comments\n",
      "Scraping  10  comments\n",
      "Scraping  10  comments\n",
      "Scraping  10  comments\n",
      "Scraping  10  comments\n",
      "Scraping  10  comments\n",
      "Scraping  10  comments\n",
      "Scraping  10  comments\n",
      "Scraping  10  comments\n",
      "Scraping  10  comments\n",
      "Scraping  10  comments\n",
      "Scraping  10  comments\n",
      "Scraping  10  comments\n",
      "Scraping  10  comments\n",
      "Scraping  10  comments\n",
      "Scraping  10  comments\n",
      "Scraping  10  comments\n",
      "Scraping  10  comments\n",
      "Scraping  10  comments\n",
      "Scraping  10  comments\n",
      "Scraping  10  comments\n",
      "Scraping  10  comments\n",
      "Scraping  10  comments\n",
      "Scraping  10  comments\n",
      "Scraping  10  comments\n",
      "Scraping  10  comments\n",
      "Scraping  10  comments\n",
      "Scraping  10  comments\n",
      "Scraping  10  comments\n",
      "Scraping  10  comments\n",
      "Scraping  10  comments\n",
      "Scraping  10  comments\n",
      "Scraping  10  comments\n",
      "Scraping  10  comments\n",
      "Scraping  10  comments\n",
      "Scraping  10  comments\n",
      "Scraping  10  comments\n",
      "Scraping  10  comments\n",
      "Scraping  10  comments\n",
      "Scraping  10  comments\n",
      "Scraping  10  comments\n",
      "Scraping  10  comments\n",
      "Scraping  10  comments\n",
      "Scraping  10  comments\n",
      "Scraping  10  comments\n",
      "Scraping  10  comments\n",
      "Scraping  10  comments\n",
      "Scraping  10  comments\n",
      "Scraping  10  comments\n",
      "Scraping  10  comments\n",
      "Scraping  10  comments\n",
      "Scraping  10  comments\n",
      "Scraping  10  comments\n",
      "Scraping  10  comments\n",
      "Scraping  10  comments\n",
      "Scraping  10  comments\n",
      "Scraping  10  comments\n",
      "Scraping  10  comments\n",
      "Scraping  10  comments\n",
      "Scraping  10  comments\n",
      "Scraping  10  comments\n",
      "Scraping  10  comments\n",
      "Scraping  10  comments\n",
      "Scraping  10  comments\n",
      "Scraping  10  comments\n",
      "Scraping  10  comments\n",
      "Scraping  10  comments\n",
      "Scraping  10  comments\n",
      "Scraping  10  comments\n",
      "Scraping  10  comments\n",
      "Scraping  10  comments\n",
      "Scraping  10  comments\n",
      "Scraping  10  comments\n",
      "Scraping  10  comments\n",
      "Scraping  10  comments\n",
      "Scraping  10  comments\n",
      "Scraping  10  comments\n",
      "Scraping  10  comments\n",
      "Scraping  10  comments\n",
      "Scraping  10  comments\n",
      "Scraping  10  comments\n"
     ]
    },
    {
     "name": "stderr",
     "output_type": "stream",
     "text": [
      " 65%|██████▍   | 420/648 [1:47:45<3:30:32, 55.41s/it]"
     ]
    },
    {
     "name": "stdout",
     "output_type": "stream",
     "text": [
      "Scraping  2  comments\n"
     ]
    },
    {
     "name": "stderr",
     "output_type": "stream",
     "text": [
      " 65%|██████▍   | 421/648 [1:47:48<2:29:50, 39.61s/it]"
     ]
    },
    {
     "name": "stdout",
     "output_type": "stream",
     "text": [
      "Scraping  1  comments\n",
      "Scraping  10  comments\n",
      "Scraping  10  comments\n",
      "Scraping  10  comments\n"
     ]
    },
    {
     "name": "stderr",
     "output_type": "stream",
     "text": [
      " 65%|██████▌   | 422/648 [1:47:56<1:53:45, 30.20s/it]"
     ]
    },
    {
     "name": "stdout",
     "output_type": "stream",
     "text": [
      "Scraping  1  comments\n"
     ]
    },
    {
     "name": "stderr",
     "output_type": "stream",
     "text": [
      " 65%|██████▌   | 423/648 [1:47:59<1:22:20, 21.96s/it]"
     ]
    },
    {
     "name": "stdout",
     "output_type": "stream",
     "text": [
      "Scraping  6  comments\n"
     ]
    },
    {
     "name": "stderr",
     "output_type": "stream",
     "text": [
      " 65%|██████▌   | 424/648 [1:48:01<1:00:25, 16.19s/it]"
     ]
    },
    {
     "name": "stdout",
     "output_type": "stream",
     "text": [
      "Scraping  1  comments\n",
      "Scraping  10  comments\n",
      "Scraping  10  comments\n",
      "Scraping  10  comments\n",
      "Scraping  10  comments\n",
      "Scraping  10  comments\n",
      "Scraping  10  comments\n",
      "Scraping  10  comments\n",
      "Scraping  10  comments\n",
      "Scraping  10  comments\n",
      "Scraping  10  comments\n",
      "Scraping  10  comments\n",
      "Scraping  10  comments\n",
      "Scraping  10  comments\n",
      "Scraping  10  comments\n",
      "Scraping  10  comments\n",
      "Scraping  10  comments\n",
      "Scraping  10  comments\n",
      "Scraping  10  comments\n",
      "Scraping  10  comments\n",
      "Scraping  10  comments\n",
      "Scraping  10  comments\n"
     ]
    },
    {
     "name": "stderr",
     "output_type": "stream",
     "text": [
      " 66%|██████▌   | 425/648 [1:48:33<1:17:17, 20.80s/it]"
     ]
    },
    {
     "name": "stdout",
     "output_type": "stream",
     "text": [
      "Scraping  1  comments\n"
     ]
    },
    {
     "name": "stderr",
     "output_type": "stream",
     "text": [
      " 66%|██████▌   | 426/648 [1:48:36<57:05, 15.43s/it]  "
     ]
    },
    {
     "name": "stdout",
     "output_type": "stream",
     "text": [
      "Scraping  1  comments\n"
     ]
    },
    {
     "name": "stderr",
     "output_type": "stream",
     "text": [
      " 66%|██████▌   | 427/648 [1:48:39<42:51, 11.64s/it]"
     ]
    },
    {
     "name": "stdout",
     "output_type": "stream",
     "text": [
      "Scraping  1  comments\n"
     ]
    },
    {
     "name": "stderr",
     "output_type": "stream",
     "text": [
      " 66%|██████▌   | 428/648 [1:48:41<32:21,  8.83s/it]"
     ]
    },
    {
     "name": "stdout",
     "output_type": "stream",
     "text": [
      "Scraping  2  comments\n"
     ]
    },
    {
     "name": "stderr",
     "output_type": "stream",
     "text": [
      " 66%|██████▌   | 429/648 [1:48:44<26:29,  7.26s/it]"
     ]
    },
    {
     "name": "stdout",
     "output_type": "stream",
     "text": [
      "Scraping  1  comments\n"
     ]
    },
    {
     "name": "stderr",
     "output_type": "stream",
     "text": [
      " 66%|██████▋   | 430/648 [1:48:47<20:49,  5.73s/it]"
     ]
    },
    {
     "name": "stdout",
     "output_type": "stream",
     "text": [
      "Scraping  1  comments\n",
      "Scraping  10  comments\n",
      "Scraping  10  comments\n"
     ]
    },
    {
     "name": "stderr",
     "output_type": "stream",
     "text": [
      " 67%|██████▋   | 431/648 [1:48:52<20:34,  5.69s/it]"
     ]
    },
    {
     "name": "stdout",
     "output_type": "stream",
     "text": [
      "Scraping  4  comments\n"
     ]
    },
    {
     "name": "stderr",
     "output_type": "stream",
     "text": [
      " 67%|██████▋   | 432/648 [1:48:54<16:32,  4.60s/it]"
     ]
    },
    {
     "name": "stdout",
     "output_type": "stream",
     "text": [
      "Scraping  1  comments\n"
     ]
    },
    {
     "name": "stderr",
     "output_type": "stream",
     "text": [
      " 67%|██████▋   | 433/648 [1:48:56<13:19,  3.72s/it]"
     ]
    },
    {
     "name": "stdout",
     "output_type": "stream",
     "text": [
      "Scraping  1  comments\n",
      "Scraping  10  comments\n",
      "Scraping  10  comments\n",
      "Scraping  10  comments\n",
      "Scraping  10  comments\n",
      "Scraping  10  comments\n",
      "Scraping  10  comments\n",
      "Scraping  10  comments\n",
      "Scraping  10  comments\n",
      "Scraping  10  comments\n",
      "Scraping  10  comments\n",
      "Scraping  10  comments\n",
      "Scraping  10  comments\n",
      "Scraping  10  comments\n",
      "Scraping  10  comments\n",
      "Scraping  10  comments\n",
      "Scraping  10  comments\n",
      "Scraping  10  comments\n",
      "Scraping  10  comments\n",
      "Scraping  10  comments\n",
      "Scraping  10  comments\n",
      "Scraping  10  comments\n"
     ]
    },
    {
     "name": "stderr",
     "output_type": "stream",
     "text": [
      " 67%|██████▋   | 434/648 [1:49:30<45:51, 12.86s/it]"
     ]
    },
    {
     "name": "stdout",
     "output_type": "stream",
     "text": [
      "Scraping  3  comments\n"
     ]
    },
    {
     "name": "stderr",
     "output_type": "stream",
     "text": [
      " 67%|██████▋   | 435/648 [1:49:32<34:29,  9.71s/it]"
     ]
    },
    {
     "name": "stdout",
     "output_type": "stream",
     "text": [
      "Scraping  2  comments\n"
     ]
    },
    {
     "name": "stderr",
     "output_type": "stream",
     "text": [
      " 67%|██████▋   | 436/648 [1:49:35<26:35,  7.53s/it]"
     ]
    },
    {
     "name": "stdout",
     "output_type": "stream",
     "text": [
      "Scraping  1  comments\n"
     ]
    },
    {
     "name": "stderr",
     "output_type": "stream",
     "text": [
      " 67%|██████▋   | 437/648 [1:49:37<20:26,  5.82s/it]"
     ]
    },
    {
     "name": "stdout",
     "output_type": "stream",
     "text": [
      "Scraping  4  comments\n"
     ]
    },
    {
     "name": "stderr",
     "output_type": "stream",
     "text": [
      " 68%|██████▊   | 438/648 [1:49:39<16:29,  4.71s/it]"
     ]
    },
    {
     "name": "stdout",
     "output_type": "stream",
     "text": [
      "Scraping  1  comments\n"
     ]
    },
    {
     "name": "stderr",
     "output_type": "stream",
     "text": [
      " 68%|██████▊   | 439/648 [1:49:43<15:25,  4.43s/it]"
     ]
    },
    {
     "name": "stdout",
     "output_type": "stream",
     "text": [
      "Scraping  2  comments\n"
     ]
    },
    {
     "name": "stderr",
     "output_type": "stream",
     "text": [
      " 68%|██████▊   | 440/648 [1:49:45<13:29,  3.89s/it]"
     ]
    },
    {
     "name": "stdout",
     "output_type": "stream",
     "text": [
      "Scraping  1  comments\n",
      "Scraping  10  comments\n",
      "Scraping  10  comments\n",
      "Scraping  10  comments\n",
      "Scraping  10  comments\n",
      "Scraping  10  comments\n",
      "Scraping  10  comments\n",
      "Scraping  10  comments\n",
      "Scraping  10  comments\n",
      "Scraping  10  comments\n",
      "Scraping  10  comments\n",
      "Scraping  10  comments\n",
      "Scraping  10  comments\n",
      "Scraping  10  comments\n",
      "Scraping  10  comments\n",
      "Scraping  10  comments\n",
      "Scraping  10  comments\n",
      "Scraping  10  comments\n",
      "Scraping  10  comments\n",
      "Scraping  10  comments\n",
      "Scraping  10  comments\n",
      "Scraping  10  comments\n"
     ]
    },
    {
     "name": "stderr",
     "output_type": "stream",
     "text": [
      " 68%|██████▊   | 441/648 [1:50:19<43:55, 12.73s/it]"
     ]
    },
    {
     "name": "stdout",
     "output_type": "stream",
     "text": [
      "Scraping  9  comments\n"
     ]
    },
    {
     "name": "stderr",
     "output_type": "stream",
     "text": [
      " 68%|██████▊   | 442/648 [1:50:21<33:04,  9.63s/it]"
     ]
    },
    {
     "name": "stdout",
     "output_type": "stream",
     "text": [
      "Scraping  1  comments\n"
     ]
    },
    {
     "name": "stderr",
     "output_type": "stream",
     "text": [
      " 68%|██████▊   | 443/648 [1:50:23<25:05,  7.34s/it]"
     ]
    },
    {
     "name": "stdout",
     "output_type": "stream",
     "text": [
      "Scraping  1  comments\n",
      "Scraping  10  comments\n"
     ]
    },
    {
     "name": "stderr",
     "output_type": "stream",
     "text": [
      " 69%|██████▊   | 444/648 [1:50:29<23:57,  7.05s/it]"
     ]
    },
    {
     "name": "stdout",
     "output_type": "stream",
     "text": [
      "Scraping  4  comments\n",
      "Scraping  10  comments\n",
      "Scraping  10  comments\n"
     ]
    },
    {
     "name": "stderr",
     "output_type": "stream",
     "text": [
      " 69%|██████▊   | 445/648 [1:50:35<22:26,  6.63s/it]"
     ]
    },
    {
     "name": "stdout",
     "output_type": "stream",
     "text": [
      "Scraping  6  comments\n"
     ]
    },
    {
     "name": "stderr",
     "output_type": "stream",
     "text": [
      " 69%|██████▉   | 446/648 [1:50:39<19:36,  5.83s/it]"
     ]
    },
    {
     "name": "stdout",
     "output_type": "stream",
     "text": [
      "Scraping  5  comments\n"
     ]
    },
    {
     "name": "stderr",
     "output_type": "stream",
     "text": [
      " 69%|██████▉   | 447/648 [1:50:42<16:24,  4.90s/it]"
     ]
    },
    {
     "name": "stdout",
     "output_type": "stream",
     "text": [
      "Scraping  1  comments\n"
     ]
    },
    {
     "name": "stderr",
     "output_type": "stream",
     "text": [
      " 69%|██████▉   | 448/648 [1:50:45<14:31,  4.36s/it]"
     ]
    },
    {
     "name": "stdout",
     "output_type": "stream",
     "text": [
      "Scraping  1  comments\n",
      "Scraping  10  comments\n",
      "Scraping  10  comments\n",
      "Scraping  10  comments\n",
      "Scraping  10  comments\n",
      "Scraping  10  comments\n",
      "Scraping  10  comments\n",
      "Scraping  10  comments\n",
      "Scraping  10  comments\n"
     ]
    },
    {
     "name": "stderr",
     "output_type": "stream",
     "text": [
      " 69%|██████▉   | 449/648 [1:50:58<23:28,  7.08s/it]"
     ]
    },
    {
     "name": "stdout",
     "output_type": "stream",
     "text": [
      "Scraping  9  comments\n",
      "Scraping  10  comments\n",
      "Scraping  10  comments\n",
      "Scraping  10  comments\n",
      "Scraping  10  comments\n",
      "Scraping  10  comments\n",
      "Scraping  10  comments\n"
     ]
    },
    {
     "name": "stderr",
     "output_type": "stream",
     "text": [
      " 69%|██████▉   | 450/648 [1:51:11<29:12,  8.85s/it]"
     ]
    },
    {
     "name": "stdout",
     "output_type": "stream",
     "text": [
      "Scraping  2  comments\n",
      "Scraping  10  comments\n",
      "Scraping  10  comments\n"
     ]
    },
    {
     "name": "stderr",
     "output_type": "stream",
     "text": [
      " 70%|██████▉   | 451/648 [1:51:18<26:39,  8.12s/it]"
     ]
    },
    {
     "name": "stdout",
     "output_type": "stream",
     "text": [
      "Scraping  10  comments\n"
     ]
    },
    {
     "name": "stderr",
     "output_type": "stream",
     "text": [
      " 70%|██████▉   | 452/648 [1:51:20<20:54,  6.40s/it]"
     ]
    },
    {
     "name": "stdout",
     "output_type": "stream",
     "text": [
      "Scraping  1  comments\n"
     ]
    },
    {
     "name": "stderr",
     "output_type": "stream",
     "text": [
      " 70%|██████▉   | 453/648 [1:51:22<16:55,  5.21s/it]"
     ]
    },
    {
     "name": "stdout",
     "output_type": "stream",
     "text": [
      "Scraping  1  comments\n",
      "Scraping  10  comments\n",
      "Scraping  10  comments\n",
      "Scraping  10  comments\n",
      "Scraping  10  comments\n",
      "Scraping  10  comments\n",
      "Scraping  10  comments\n",
      "Scraping  10  comments\n",
      "Scraping  10  comments\n",
      "Scraping  10  comments\n",
      "Scraping  10  comments\n",
      "Scraping  10  comments\n",
      "Scraping  10  comments\n",
      "Scraping  10  comments\n",
      "Scraping  10  comments\n",
      "Scraping  10  comments\n",
      "Scraping  10  comments\n",
      "Scraping  10  comments\n",
      "Scraping  10  comments\n",
      "Scraping  10  comments\n"
     ]
    },
    {
     "name": "stderr",
     "output_type": "stream",
     "text": [
      " 70%|███████   | 454/648 [1:51:55<43:06, 13.33s/it]"
     ]
    },
    {
     "name": "stdout",
     "output_type": "stream",
     "text": [
      "Scraping  5  comments\n",
      "Scraping  10  comments\n",
      "Scraping  10  comments\n",
      "Scraping  10  comments\n",
      "Scraping  10  comments\n",
      "Scraping  10  comments\n",
      "Scraping  10  comments\n",
      "Scraping  10  comments\n",
      "Scraping  10  comments\n",
      "Scraping  10  comments\n",
      "Scraping  10  comments\n",
      "Scraping  10  comments\n",
      "Scraping  10  comments\n",
      "Scraping  10  comments\n",
      "Scraping  10  comments\n",
      "Scraping  10  comments\n",
      "Scraping  10  comments\n",
      "Scraping  10  comments\n",
      "Scraping  10  comments\n",
      "Scraping  10  comments\n",
      "Scraping  10  comments\n",
      "Scraping  10  comments\n",
      "Scraping  10  comments\n",
      "Scraping  10  comments\n",
      "Scraping  10  comments\n",
      "Scraping  10  comments\n",
      "Scraping  10  comments\n",
      "Scraping  10  comments\n",
      "Scraping  10  comments\n",
      "Scraping  10  comments\n",
      "Scraping  10  comments\n",
      "Scraping  10  comments\n",
      "Scraping  10  comments\n",
      "Scraping  10  comments\n",
      "Scraping  10  comments\n",
      "Scraping  10  comments\n",
      "Scraping  10  comments\n",
      "Scraping  10  comments\n",
      "Scraping  10  comments\n",
      "Scraping  10  comments\n",
      "Scraping  10  comments\n",
      "Scraping  10  comments\n",
      "Scraping  10  comments\n",
      "Scraping  10  comments\n",
      "Scraping  10  comments\n",
      "Scraping  10  comments\n",
      "Scraping  10  comments\n",
      "Scraping  10  comments\n",
      "Scraping  10  comments\n",
      "Scraping  10  comments\n",
      "Scraping  10  comments\n",
      "Scraping  10  comments\n",
      "Scraping  10  comments\n",
      "Scraping  10  comments\n",
      "Scraping  10  comments\n",
      "Scraping  10  comments\n",
      "Scraping  10  comments\n",
      "Scraping  10  comments\n",
      "Scraping  10  comments\n",
      "Scraping  10  comments\n",
      "Scraping  10  comments\n",
      "Scraping  10  comments\n",
      "Scraping  10  comments\n",
      "Scraping  10  comments\n",
      "Scraping  10  comments\n",
      "Scraping  10  comments\n",
      "Scraping  10  comments\n",
      "Scraping  10  comments\n",
      "Scraping  10  comments\n",
      "Scraping  10  comments\n",
      "Scraping  10  comments\n",
      "Scraping  10  comments\n",
      "Scraping  10  comments\n",
      "Scraping  10  comments\n",
      "Scraping  10  comments\n",
      "Scraping  10  comments\n",
      "Scraping  10  comments\n",
      "Scraping  10  comments\n",
      "Scraping  10  comments\n",
      "Scraping  10  comments\n",
      "Scraping  10  comments\n"
     ]
    },
    {
     "name": "stderr",
     "output_type": "stream",
     "text": [
      " 70%|███████   | 455/648 [1:53:56<2:26:57, 45.69s/it]"
     ]
    },
    {
     "name": "stdout",
     "output_type": "stream",
     "text": [
      "Scraping  7  comments\n",
      "Scraping  10  comments\n",
      "Scraping  10  comments\n",
      "Scraping  10  comments\n",
      "Scraping  10  comments\n",
      "Scraping  10  comments\n",
      "Scraping  10  comments\n",
      "Scraping  10  comments\n",
      "Scraping  10  comments\n",
      "Scraping  10  comments\n",
      "Scraping  10  comments\n",
      "Scraping  10  comments\n",
      "Scraping  10  comments\n",
      "Scraping  10  comments\n",
      "Scraping  10  comments\n",
      "Scraping  10  comments\n",
      "Scraping  10  comments\n",
      "Scraping  10  comments\n",
      "Scraping  10  comments\n",
      "Scraping  10  comments\n",
      "Scraping  10  comments\n",
      "Scraping  10  comments\n",
      "Scraping  10  comments\n",
      "Scraping  10  comments\n",
      "Scraping  10  comments\n",
      "Scraping  10  comments\n"
     ]
    },
    {
     "name": "stderr",
     "output_type": "stream",
     "text": [
      " 70%|███████   | 456/648 [1:54:36<2:20:22, 43.87s/it]"
     ]
    },
    {
     "name": "stdout",
     "output_type": "stream",
     "text": [
      "Scraping  8  comments\n",
      "Scraping  10  comments\n",
      "Scraping  10  comments\n"
     ]
    },
    {
     "name": "stderr",
     "output_type": "stream",
     "text": [
      " 71%|███████   | 457/648 [1:54:41<1:43:00, 32.36s/it]"
     ]
    },
    {
     "name": "stdout",
     "output_type": "stream",
     "text": [
      "Scraping  10  comments\n",
      "Scraping  10  comments\n"
     ]
    },
    {
     "name": "stderr",
     "output_type": "stream",
     "text": [
      " 71%|███████   | 458/648 [1:54:46<1:16:35, 24.19s/it]"
     ]
    },
    {
     "name": "stdout",
     "output_type": "stream",
     "text": [
      "Scraping  10  comments\n"
     ]
    },
    {
     "name": "stderr",
     "output_type": "stream",
     "text": [
      " 71%|███████   | 459/648 [1:54:49<56:11, 17.84s/it]  "
     ]
    },
    {
     "name": "stdout",
     "output_type": "stream",
     "text": [
      "Scraping  2  comments\n",
      "Scraping  10  comments\n",
      "Scraping  10  comments\n",
      "Scraping  10  comments\n",
      "Scraping  10  comments\n"
     ]
    },
    {
     "name": "stderr",
     "output_type": "stream",
     "text": [
      " 71%|███████   | 460/648 [1:54:57<46:39, 14.89s/it]"
     ]
    },
    {
     "name": "stdout",
     "output_type": "stream",
     "text": [
      "Scraping  5  comments\n",
      "Scraping  10  comments\n",
      "Scraping  10  comments\n",
      "Scraping  10  comments\n",
      "Scraping  10  comments\n",
      "Scraping  10  comments\n",
      "Scraping  10  comments\n",
      "Scraping  10  comments\n",
      "Scraping  10  comments\n",
      "Scraping  10  comments\n",
      "Scraping  10  comments\n",
      "Scraping  10  comments\n",
      "Scraping  10  comments\n",
      "Scraping  10  comments\n",
      "Scraping  10  comments\n",
      "Scraping  10  comments\n",
      "Scraping  10  comments\n",
      "Scraping  10  comments\n"
     ]
    },
    {
     "name": "stderr",
     "output_type": "stream",
     "text": [
      " 71%|███████   | 461/648 [1:55:27<1:00:25, 19.39s/it]"
     ]
    },
    {
     "name": "stdout",
     "output_type": "stream",
     "text": [
      "Scraping  5  comments\n",
      "Scraping  10  comments\n",
      "Scraping  10  comments\n",
      "Scraping  10  comments\n",
      "Scraping  10  comments\n",
      "Scraping  10  comments\n"
     ]
    },
    {
     "name": "stderr",
     "output_type": "stream",
     "text": [
      " 71%|███████▏  | 462/648 [1:55:39<53:30, 17.26s/it]  "
     ]
    },
    {
     "name": "stdout",
     "output_type": "stream",
     "text": [
      "Scraping  9  comments\n"
     ]
    },
    {
     "name": "stderr",
     "output_type": "stream",
     "text": [
      " 71%|███████▏  | 463/648 [1:55:42<39:44, 12.89s/it]"
     ]
    },
    {
     "name": "stdout",
     "output_type": "stream",
     "text": [
      "Scraping  2  comments\n"
     ]
    },
    {
     "name": "stderr",
     "output_type": "stream",
     "text": [
      " 72%|███████▏  | 464/648 [1:55:45<30:19,  9.89s/it]"
     ]
    },
    {
     "name": "stdout",
     "output_type": "stream",
     "text": [
      "Scraping  1  comments\n",
      "Scraping  10  comments\n",
      "Scraping  10  comments\n",
      "Scraping  10  comments\n",
      "Scraping  10  comments\n",
      "Scraping  10  comments\n",
      "Scraping  10  comments\n",
      "Scraping  10  comments\n",
      "Scraping  10  comments\n",
      "Scraping  10  comments\n",
      "Scraping  10  comments\n",
      "Scraping  10  comments\n",
      "Scraping  10  comments\n",
      "Scraping  10  comments\n",
      "Scraping  10  comments\n",
      "Scraping  10  comments\n",
      "Scraping  10  comments\n",
      "Scraping  10  comments\n",
      "Scraping  10  comments\n",
      "Scraping  10  comments\n",
      "Scraping  10  comments\n",
      "Scraping  10  comments\n",
      "Scraping  10  comments\n",
      "Scraping  10  comments\n",
      "Scraping  10  comments\n",
      "Scraping  10  comments\n",
      "Scraping  10  comments\n",
      "Scraping  10  comments\n",
      "Scraping  10  comments\n",
      "Scraping  10  comments\n",
      "Scraping  10  comments\n",
      "Scraping  10  comments\n",
      "Scraping  10  comments\n",
      "Scraping  10  comments\n",
      "Scraping  10  comments\n",
      "Scraping  10  comments\n",
      "Scraping  10  comments\n"
     ]
    },
    {
     "name": "stderr",
     "output_type": "stream",
     "text": [
      " 72%|███████▏  | 465/648 [1:56:48<1:18:32, 25.75s/it]"
     ]
    },
    {
     "name": "stdout",
     "output_type": "stream",
     "text": [
      "Scraping  10  comments\n"
     ]
    },
    {
     "name": "stderr",
     "output_type": "stream",
     "text": [
      " 72%|███████▏  | 466/648 [1:56:50<56:31, 18.63s/it]  "
     ]
    },
    {
     "name": "stdout",
     "output_type": "stream",
     "text": [
      "Scraping  1  comments\n",
      "Scraping  10  comments\n",
      "Scraping  10  comments\n"
     ]
    },
    {
     "name": "stderr",
     "output_type": "stream",
     "text": [
      " 72%|███████▏  | 467/648 [1:56:57<45:40, 15.14s/it]"
     ]
    },
    {
     "name": "stdout",
     "output_type": "stream",
     "text": [
      "Scraping  1  comments\n",
      "Scraping  10  comments\n"
     ]
    },
    {
     "name": "stderr",
     "output_type": "stream",
     "text": [
      " 72%|███████▏  | 468/648 [1:57:01<35:43, 11.91s/it]"
     ]
    },
    {
     "name": "stdout",
     "output_type": "stream",
     "text": [
      "Scraping  1  comments\n",
      "Scraping  10  comments\n",
      "Scraping  10  comments\n",
      "Scraping  10  comments\n",
      "Scraping  10  comments\n",
      "Scraping  10  comments\n",
      "Scraping  10  comments\n"
     ]
    },
    {
     "name": "stderr",
     "output_type": "stream",
     "text": [
      " 72%|███████▏  | 469/648 [1:57:12<34:25, 11.54s/it]"
     ]
    },
    {
     "name": "stdout",
     "output_type": "stream",
     "text": [
      "Scraping  9  comments\n",
      "Scraping  10  comments\n",
      "Scraping  10  comments\n",
      "Scraping  10  comments\n",
      "Scraping  10  comments\n",
      "Scraping  10  comments\n",
      "Scraping  10  comments\n"
     ]
    },
    {
     "name": "stderr",
     "output_type": "stream",
     "text": [
      " 73%|███████▎  | 470/648 [1:57:25<35:28, 11.96s/it]"
     ]
    },
    {
     "name": "stdout",
     "output_type": "stream",
     "text": [
      "Scraping  4  comments\n",
      "Scraping  10  comments\n"
     ]
    },
    {
     "name": "stderr",
     "output_type": "stream",
     "text": [
      " 73%|███████▎  | 471/648 [1:57:29<28:06,  9.53s/it]"
     ]
    },
    {
     "name": "stdout",
     "output_type": "stream",
     "text": [
      "Scraping  1  comments\n",
      "Scraping  10  comments\n",
      "Scraping  10  comments\n"
     ]
    },
    {
     "name": "stderr",
     "output_type": "stream",
     "text": [
      " 73%|███████▎  | 472/648 [1:57:34<24:28,  8.34s/it]"
     ]
    },
    {
     "name": "stdout",
     "output_type": "stream",
     "text": [
      "Scraping  7  comments\n",
      "Scraping  10  comments\n",
      "Scraping  10  comments\n",
      "Scraping  10  comments\n"
     ]
    },
    {
     "name": "stderr",
     "output_type": "stream",
     "text": [
      " 73%|███████▎  | 473/648 [1:57:40<22:30,  7.72s/it]"
     ]
    },
    {
     "name": "stdout",
     "output_type": "stream",
     "text": [
      "Scraping  1  comments\n",
      "Scraping  10  comments\n"
     ]
    },
    {
     "name": "stderr",
     "output_type": "stream",
     "text": [
      " 73%|███████▎  | 474/648 [1:57:46<20:18,  7.00s/it]"
     ]
    },
    {
     "name": "stdout",
     "output_type": "stream",
     "text": [
      "Scraping  8  comments\n",
      "Scraping  10  comments\n",
      "Scraping  10  comments\n",
      "Scraping  10  comments\n",
      "Scraping  10  comments\n"
     ]
    },
    {
     "name": "stderr",
     "output_type": "stream",
     "text": [
      " 73%|███████▎  | 475/648 [1:57:52<19:41,  6.83s/it]"
     ]
    },
    {
     "name": "stdout",
     "output_type": "stream",
     "text": [
      "Scraping  8  comments\n"
     ]
    },
    {
     "name": "stderr",
     "output_type": "stream",
     "text": [
      " 73%|███████▎  | 476/648 [1:57:55<15:46,  5.50s/it]"
     ]
    },
    {
     "name": "stdout",
     "output_type": "stream",
     "text": [
      "Scraping  1  comments\n"
     ]
    },
    {
     "name": "stderr",
     "output_type": "stream",
     "text": [
      " 74%|███████▎  | 477/648 [1:57:57<13:16,  4.66s/it]"
     ]
    },
    {
     "name": "stdout",
     "output_type": "stream",
     "text": [
      "Scraping  1  comments\n",
      "Scraping  10  comments\n",
      "Scraping  10  comments\n",
      "Scraping  10  comments\n",
      "Scraping  10  comments\n",
      "Scraping  10  comments\n",
      "Scraping  10  comments\n",
      "Scraping  10  comments\n",
      "Scraping  10  comments\n",
      "Scraping  10  comments\n"
     ]
    },
    {
     "name": "stderr",
     "output_type": "stream",
     "text": [
      " 74%|███████▍  | 478/648 [1:58:12<21:56,  7.74s/it]"
     ]
    },
    {
     "name": "stdout",
     "output_type": "stream",
     "text": [
      "Scraping  7  comments\n"
     ]
    },
    {
     "name": "stderr",
     "output_type": "stream",
     "text": [
      " 74%|███████▍  | 479/648 [1:58:15<18:02,  6.40s/it]"
     ]
    },
    {
     "name": "stdout",
     "output_type": "stream",
     "text": [
      "Scraping  1  comments\n",
      "Scraping  10  comments\n",
      "Scraping  10  comments\n",
      "Scraping  10  comments\n",
      "Scraping  10  comments\n",
      "Scraping  10  comments\n",
      "Scraping  10  comments\n",
      "Scraping  10  comments\n",
      "Scraping  10  comments\n",
      "Scraping  10  comments\n",
      "Scraping  10  comments\n",
      "Scraping  10  comments\n"
     ]
    },
    {
     "name": "stderr",
     "output_type": "stream",
     "text": [
      " 74%|███████▍  | 480/648 [1:58:38<31:08, 11.12s/it]"
     ]
    },
    {
     "name": "stdout",
     "output_type": "stream",
     "text": [
      "Scraping  3  comments\n",
      "Scraping  10  comments\n",
      "Scraping  10  comments\n",
      "Scraping  10  comments\n",
      "Scraping  10  comments\n",
      "Scraping  10  comments\n"
     ]
    },
    {
     "name": "stderr",
     "output_type": "stream",
     "text": [
      " 74%|███████▍  | 481/648 [1:58:48<30:33, 10.98s/it]"
     ]
    },
    {
     "name": "stdout",
     "output_type": "stream",
     "text": [
      "Scraping  7  comments\n"
     ]
    },
    {
     "name": "stderr",
     "output_type": "stream",
     "text": [
      " 74%|███████▍  | 482/648 [1:58:51<23:43,  8.58s/it]"
     ]
    },
    {
     "name": "stdout",
     "output_type": "stream",
     "text": [
      "Scraping  5  comments\n",
      "Scraping  10  comments\n",
      "Scraping  10  comments\n"
     ]
    },
    {
     "name": "stderr",
     "output_type": "stream",
     "text": [
      " 75%|███████▍  | 483/648 [1:58:58<22:00,  8.00s/it]"
     ]
    },
    {
     "name": "stdout",
     "output_type": "stream",
     "text": [
      "Scraping  5  comments\n"
     ]
    },
    {
     "name": "stderr",
     "output_type": "stream",
     "text": [
      " 75%|███████▍  | 484/648 [1:59:01<17:38,  6.46s/it]"
     ]
    },
    {
     "name": "stdout",
     "output_type": "stream",
     "text": [
      "Scraping  1  comments\n"
     ]
    },
    {
     "name": "stderr",
     "output_type": "stream",
     "text": [
      " 75%|███████▍  | 485/648 [1:59:04<15:17,  5.63s/it]"
     ]
    },
    {
     "name": "stdout",
     "output_type": "stream",
     "text": [
      "Scraping  2  comments\n",
      "Scraping  10  comments\n",
      "Scraping  10  comments\n",
      "Scraping  10  comments\n"
     ]
    },
    {
     "name": "stderr",
     "output_type": "stream",
     "text": [
      " 75%|███████▌  | 486/648 [1:59:11<15:57,  5.91s/it]"
     ]
    },
    {
     "name": "stdout",
     "output_type": "stream",
     "text": [
      "Scraping  2  comments\n"
     ]
    },
    {
     "name": "stderr",
     "output_type": "stream",
     "text": [
      " 75%|███████▌  | 487/648 [1:59:15<14:23,  5.36s/it]"
     ]
    },
    {
     "name": "stdout",
     "output_type": "stream",
     "text": [
      "Scraping  9  comments\n",
      "Scraping  10  comments\n",
      "Scraping  10  comments\n"
     ]
    },
    {
     "name": "stderr",
     "output_type": "stream",
     "text": [
      " 75%|███████▌  | 488/648 [1:59:22<15:46,  5.92s/it]"
     ]
    },
    {
     "name": "stdout",
     "output_type": "stream",
     "text": [
      "Scraping  8  comments\n"
     ]
    },
    {
     "name": "stderr",
     "output_type": "stream",
     "text": [
      " 75%|███████▌  | 489/648 [1:59:24<12:38,  4.77s/it]"
     ]
    },
    {
     "name": "stdout",
     "output_type": "stream",
     "text": [
      "Scraping  2  comments\n"
     ]
    },
    {
     "name": "stderr",
     "output_type": "stream",
     "text": [
      " 76%|███████▌  | 490/648 [1:59:26<10:11,  3.87s/it]"
     ]
    },
    {
     "name": "stdout",
     "output_type": "stream",
     "text": [
      "Scraping  2  comments\n",
      "Scraping  10  comments\n"
     ]
    },
    {
     "name": "stderr",
     "output_type": "stream",
     "text": [
      " 76%|███████▌  | 491/648 [1:59:30<10:09,  3.88s/it]"
     ]
    },
    {
     "name": "stdout",
     "output_type": "stream",
     "text": [
      "Scraping  10  comments\n"
     ]
    },
    {
     "name": "stderr",
     "output_type": "stream",
     "text": [
      " 76%|███████▌  | 492/648 [1:59:33<09:10,  3.53s/it]"
     ]
    },
    {
     "name": "stdout",
     "output_type": "stream",
     "text": [
      "Scraping  1  comments\n"
     ]
    },
    {
     "name": "stderr",
     "output_type": "stream",
     "text": [
      " 76%|███████▌  | 493/648 [1:59:35<07:50,  3.04s/it]"
     ]
    },
    {
     "name": "stdout",
     "output_type": "stream",
     "text": [
      "Scraping  2  comments\n"
     ]
    },
    {
     "name": "stderr",
     "output_type": "stream",
     "text": [
      " 76%|███████▌  | 494/648 [1:59:37<07:05,  2.76s/it]"
     ]
    },
    {
     "name": "stdout",
     "output_type": "stream",
     "text": [
      "Scraping  1  comments\n"
     ]
    },
    {
     "name": "stderr",
     "output_type": "stream",
     "text": [
      " 76%|███████▋  | 495/648 [1:59:38<06:10,  2.42s/it]"
     ]
    },
    {
     "name": "stdout",
     "output_type": "stream",
     "text": [
      "Scraping  1  comments\n"
     ]
    },
    {
     "name": "stderr",
     "output_type": "stream",
     "text": [
      " 77%|███████▋  | 496/648 [1:59:41<06:18,  2.49s/it]"
     ]
    },
    {
     "name": "stdout",
     "output_type": "stream",
     "text": [
      "Scraping  1  comments\n"
     ]
    },
    {
     "name": "stderr",
     "output_type": "stream",
     "text": [
      " 77%|███████▋  | 497/648 [1:59:43<05:29,  2.18s/it]"
     ]
    },
    {
     "name": "stdout",
     "output_type": "stream",
     "text": [
      "Scraping  1  comments\n"
     ]
    },
    {
     "name": "stderr",
     "output_type": "stream",
     "text": [
      " 77%|███████▋  | 498/648 [1:59:45<05:33,  2.22s/it]"
     ]
    },
    {
     "name": "stdout",
     "output_type": "stream",
     "text": [
      "Scraping  1  comments\n",
      "Scraping  10  comments\n",
      "Scraping  10  comments\n",
      "Scraping  10  comments\n",
      "Scraping  10  comments\n",
      "Scraping  10  comments\n"
     ]
    },
    {
     "name": "stderr",
     "output_type": "stream",
     "text": [
      " 77%|███████▋  | 499/648 [1:59:55<11:37,  4.68s/it]"
     ]
    },
    {
     "name": "stdout",
     "output_type": "stream",
     "text": [
      "Scraping  8  comments\n"
     ]
    },
    {
     "name": "stderr",
     "output_type": "stream",
     "text": [
      " 77%|███████▋  | 500/648 [1:59:57<09:09,  3.71s/it]"
     ]
    },
    {
     "name": "stdout",
     "output_type": "stream",
     "text": [
      "Scraping  1  comments\n"
     ]
    },
    {
     "name": "stderr",
     "output_type": "stream",
     "text": [
      " 77%|███████▋  | 501/648 [1:59:59<07:49,  3.20s/it]"
     ]
    },
    {
     "name": "stdout",
     "output_type": "stream",
     "text": [
      "Scraping  1  comments\n"
     ]
    },
    {
     "name": "stderr",
     "output_type": "stream",
     "text": [
      " 77%|███████▋  | 502/648 [2:00:01<06:50,  2.81s/it]"
     ]
    },
    {
     "name": "stdout",
     "output_type": "stream",
     "text": [
      "Scraping  2  comments\n"
     ]
    },
    {
     "name": "stderr",
     "output_type": "stream",
     "text": [
      " 78%|███████▊  | 503/648 [2:00:02<06:03,  2.50s/it]"
     ]
    },
    {
     "name": "stdout",
     "output_type": "stream",
     "text": [
      "Scraping  1  comments\n"
     ]
    },
    {
     "name": "stderr",
     "output_type": "stream",
     "text": [
      " 78%|███████▊  | 504/648 [2:00:05<06:17,  2.62s/it]"
     ]
    },
    {
     "name": "stdout",
     "output_type": "stream",
     "text": [
      "Scraping  1  comments\n"
     ]
    },
    {
     "name": "stderr",
     "output_type": "stream",
     "text": [
      " 78%|███████▊  | 505/648 [2:00:07<05:30,  2.31s/it]"
     ]
    },
    {
     "name": "stdout",
     "output_type": "stream",
     "text": [
      "Scraping  1  comments\n"
     ]
    },
    {
     "name": "stderr",
     "output_type": "stream",
     "text": [
      " 78%|███████▊  | 506/648 [2:00:09<05:20,  2.26s/it]"
     ]
    },
    {
     "name": "stdout",
     "output_type": "stream",
     "text": [
      "Scraping  1  comments\n"
     ]
    },
    {
     "name": "stderr",
     "output_type": "stream",
     "text": [
      " 78%|███████▊  | 507/648 [2:00:11<05:27,  2.32s/it]"
     ]
    },
    {
     "name": "stdout",
     "output_type": "stream",
     "text": [
      "Scraping  1  comments\n"
     ]
    },
    {
     "name": "stderr",
     "output_type": "stream",
     "text": [
      " 78%|███████▊  | 508/648 [2:00:14<05:46,  2.47s/it]"
     ]
    },
    {
     "name": "stdout",
     "output_type": "stream",
     "text": [
      "Scraping  1  comments\n"
     ]
    },
    {
     "name": "stderr",
     "output_type": "stream",
     "text": [
      " 79%|███████▊  | 509/648 [2:00:16<05:05,  2.20s/it]"
     ]
    },
    {
     "name": "stdout",
     "output_type": "stream",
     "text": [
      "Scraping  1  comments\n",
      "Scraping  10  comments\n",
      "Scraping  10  comments\n",
      "Scraping  10  comments\n",
      "Scraping  10  comments\n",
      "Scraping  10  comments\n",
      "Scraping  10  comments\n",
      "Scraping  10  comments\n",
      "Scraping  10  comments\n",
      "Scraping  10  comments\n",
      "Scraping  10  comments\n",
      "Scraping  10  comments\n"
     ]
    },
    {
     "name": "stderr",
     "output_type": "stream",
     "text": [
      " 79%|███████▊  | 510/648 [2:00:32<14:51,  6.46s/it]"
     ]
    },
    {
     "name": "stdout",
     "output_type": "stream",
     "text": [
      "Scraping  8  comments\n"
     ]
    },
    {
     "name": "stderr",
     "output_type": "stream",
     "text": [
      " 79%|███████▉  | 511/648 [2:00:34<11:18,  4.95s/it]"
     ]
    },
    {
     "name": "stdout",
     "output_type": "stream",
     "text": [
      "Scraping  1  comments\n"
     ]
    },
    {
     "name": "stderr",
     "output_type": "stream",
     "text": [
      " 79%|███████▉  | 512/648 [2:00:36<09:07,  4.03s/it]"
     ]
    },
    {
     "name": "stdout",
     "output_type": "stream",
     "text": [
      "Scraping  1  comments\n"
     ]
    },
    {
     "name": "stderr",
     "output_type": "stream",
     "text": [
      " 79%|███████▉  | 513/648 [2:00:38<07:56,  3.53s/it]"
     ]
    },
    {
     "name": "stdout",
     "output_type": "stream",
     "text": [
      "Scraping  1  comments\n",
      "Scraping  10  comments\n",
      "Scraping  10  comments\n",
      "Scraping  10  comments\n"
     ]
    },
    {
     "name": "stderr",
     "output_type": "stream",
     "text": [
      " 79%|███████▉  | 514/648 [2:00:44<09:50,  4.41s/it]"
     ]
    },
    {
     "name": "stdout",
     "output_type": "stream",
     "text": [
      "Scraping  7  comments\n"
     ]
    },
    {
     "name": "stderr",
     "output_type": "stream",
     "text": [
      " 79%|███████▉  | 515/648 [2:00:47<08:42,  3.93s/it]"
     ]
    },
    {
     "name": "stdout",
     "output_type": "stream",
     "text": [
      "Scraping  1  comments\n"
     ]
    },
    {
     "name": "stderr",
     "output_type": "stream",
     "text": [
      " 80%|███████▉  | 516/648 [2:00:50<07:55,  3.60s/it]"
     ]
    },
    {
     "name": "stdout",
     "output_type": "stream",
     "text": [
      "Scraping  1  comments\n"
     ]
    },
    {
     "name": "stderr",
     "output_type": "stream",
     "text": [
      " 80%|███████▉  | 517/648 [2:00:52<06:51,  3.14s/it]"
     ]
    },
    {
     "name": "stdout",
     "output_type": "stream",
     "text": [
      "Scraping  1  comments\n"
     ]
    },
    {
     "name": "stderr",
     "output_type": "stream",
     "text": [
      " 80%|███████▉  | 518/648 [2:00:55<06:32,  3.02s/it]"
     ]
    },
    {
     "name": "stdout",
     "output_type": "stream",
     "text": [
      "Scraping  1  comments\n"
     ]
    },
    {
     "name": "stderr",
     "output_type": "stream",
     "text": [
      " 80%|████████  | 519/648 [2:00:57<05:43,  2.66s/it]"
     ]
    },
    {
     "name": "stdout",
     "output_type": "stream",
     "text": [
      "Scraping  1  comments\n"
     ]
    },
    {
     "name": "stderr",
     "output_type": "stream",
     "text": [
      " 80%|████████  | 520/648 [2:00:59<05:22,  2.52s/it]"
     ]
    },
    {
     "name": "stdout",
     "output_type": "stream",
     "text": [
      "Scraping  1  comments\n"
     ]
    },
    {
     "name": "stderr",
     "output_type": "stream",
     "text": [
      " 80%|████████  | 521/648 [2:01:01<05:16,  2.49s/it]"
     ]
    },
    {
     "name": "stdout",
     "output_type": "stream",
     "text": [
      "Scraping  1  comments\n"
     ]
    },
    {
     "name": "stderr",
     "output_type": "stream",
     "text": [
      " 81%|████████  | 522/648 [2:01:04<05:31,  2.63s/it]"
     ]
    },
    {
     "name": "stdout",
     "output_type": "stream",
     "text": [
      "Scraping  1  comments\n"
     ]
    },
    {
     "name": "stderr",
     "output_type": "stream",
     "text": [
      " 81%|████████  | 523/648 [2:01:06<05:12,  2.50s/it]"
     ]
    },
    {
     "name": "stdout",
     "output_type": "stream",
     "text": [
      "Scraping  1  comments\n"
     ]
    },
    {
     "name": "stderr",
     "output_type": "stream",
     "text": [
      " 81%|████████  | 524/648 [2:01:09<05:07,  2.48s/it]"
     ]
    },
    {
     "name": "stdout",
     "output_type": "stream",
     "text": [
      "Scraping  3  comments\n"
     ]
    },
    {
     "name": "stderr",
     "output_type": "stream",
     "text": [
      " 81%|████████  | 525/648 [2:01:11<04:46,  2.33s/it]"
     ]
    },
    {
     "name": "stdout",
     "output_type": "stream",
     "text": [
      "Scraping  1  comments\n",
      "Scraping  10  comments\n",
      "Scraping  10  comments\n",
      "Scraping  10  comments\n",
      "Scraping  10  comments\n",
      "Scraping  10  comments\n"
     ]
    },
    {
     "name": "stderr",
     "output_type": "stream",
     "text": [
      " 81%|████████  | 526/648 [2:01:20<08:52,  4.36s/it]"
     ]
    },
    {
     "name": "stdout",
     "output_type": "stream",
     "text": [
      "Scraping  4  comments\n"
     ]
    },
    {
     "name": "stderr",
     "output_type": "stream",
     "text": [
      " 81%|████████▏ | 527/648 [2:01:22<07:30,  3.72s/it]"
     ]
    },
    {
     "name": "stdout",
     "output_type": "stream",
     "text": [
      "Scraping  1  comments\n",
      "Scraping  10  comments\n",
      "Scraping  10  comments\n",
      "Scraping  10  comments\n",
      "Scraping  10  comments\n",
      "Scraping  10  comments\n",
      "Scraping  10  comments\n"
     ]
    },
    {
     "name": "stderr",
     "output_type": "stream",
     "text": [
      " 81%|████████▏ | 528/648 [2:01:34<12:05,  6.04s/it]"
     ]
    },
    {
     "name": "stdout",
     "output_type": "stream",
     "text": [
      "Scraping  9  comments\n"
     ]
    },
    {
     "name": "stderr",
     "output_type": "stream",
     "text": [
      " 82%|████████▏ | 529/648 [2:01:36<09:58,  5.03s/it]"
     ]
    },
    {
     "name": "stdout",
     "output_type": "stream",
     "text": [
      "Scraping  1  comments\n"
     ]
    },
    {
     "name": "stderr",
     "output_type": "stream",
     "text": [
      " 82%|████████▏ | 530/648 [2:01:39<08:29,  4.32s/it]"
     ]
    },
    {
     "name": "stdout",
     "output_type": "stream",
     "text": [
      "Scraping  1  comments\n"
     ]
    },
    {
     "name": "stderr",
     "output_type": "stream",
     "text": [
      " 82%|████████▏ | 531/648 [2:01:42<07:24,  3.80s/it]"
     ]
    },
    {
     "name": "stdout",
     "output_type": "stream",
     "text": [
      "Scraping  1  comments\n"
     ]
    },
    {
     "name": "stderr",
     "output_type": "stream",
     "text": [
      " 82%|████████▏ | 532/648 [2:01:44<06:49,  3.53s/it]"
     ]
    },
    {
     "name": "stdout",
     "output_type": "stream",
     "text": [
      "Scraping  1  comments\n"
     ]
    },
    {
     "name": "stderr",
     "output_type": "stream",
     "text": [
      " 82%|████████▏ | 533/648 [2:01:47<06:21,  3.32s/it]"
     ]
    },
    {
     "name": "stdout",
     "output_type": "stream",
     "text": [
      "Scraping  1  comments\n"
     ]
    },
    {
     "name": "stderr",
     "output_type": "stream",
     "text": [
      " 82%|████████▏ | 534/648 [2:01:50<05:44,  3.03s/it]"
     ]
    },
    {
     "name": "stdout",
     "output_type": "stream",
     "text": [
      "Scraping  1  comments\n"
     ]
    },
    {
     "name": "stderr",
     "output_type": "stream",
     "text": [
      " 83%|████████▎ | 535/648 [2:01:52<05:10,  2.75s/it]"
     ]
    },
    {
     "name": "stdout",
     "output_type": "stream",
     "text": [
      "Scraping  1  comments\n"
     ]
    },
    {
     "name": "stderr",
     "output_type": "stream",
     "text": [
      " 83%|████████▎ | 536/648 [2:01:54<05:04,  2.72s/it]"
     ]
    },
    {
     "name": "stdout",
     "output_type": "stream",
     "text": [
      "Scraping  1  comments\n"
     ]
    },
    {
     "name": "stderr",
     "output_type": "stream",
     "text": [
      " 83%|████████▎ | 537/648 [2:01:57<04:47,  2.59s/it]"
     ]
    },
    {
     "name": "stdout",
     "output_type": "stream",
     "text": [
      "Scraping  10  comments\n",
      "Scraping  10  comments\n"
     ]
    },
    {
     "name": "stderr",
     "output_type": "stream",
     "text": [
      " 83%|████████▎ | 538/648 [2:02:03<06:54,  3.77s/it]"
     ]
    },
    {
     "name": "stdout",
     "output_type": "stream",
     "text": [
      "Scraping  4  comments\n"
     ]
    },
    {
     "name": "stderr",
     "output_type": "stream",
     "text": [
      " 83%|████████▎ | 539/648 [2:02:06<06:28,  3.57s/it]"
     ]
    },
    {
     "name": "stdout",
     "output_type": "stream",
     "text": [
      "Scraping  1  comments\n"
     ]
    },
    {
     "name": "stderr",
     "output_type": "stream",
     "text": [
      " 83%|████████▎ | 540/648 [2:02:09<06:03,  3.36s/it]"
     ]
    },
    {
     "name": "stdout",
     "output_type": "stream",
     "text": [
      "Scraping  1  comments\n"
     ]
    },
    {
     "name": "stderr",
     "output_type": "stream",
     "text": [
      " 83%|████████▎ | 541/648 [2:02:12<05:46,  3.23s/it]"
     ]
    },
    {
     "name": "stdout",
     "output_type": "stream",
     "text": [
      "Scraping  1  comments\n"
     ]
    },
    {
     "name": "stderr",
     "output_type": "stream",
     "text": [
      " 84%|████████▎ | 542/648 [2:02:14<05:06,  2.89s/it]"
     ]
    },
    {
     "name": "stdout",
     "output_type": "stream",
     "text": [
      "Scraping  1  comments\n",
      "Scraping  10  comments\n"
     ]
    },
    {
     "name": "stderr",
     "output_type": "stream",
     "text": [
      " 84%|████████▍ | 543/648 [2:02:18<05:33,  3.18s/it]"
     ]
    },
    {
     "name": "stdout",
     "output_type": "stream",
     "text": [
      "Scraping  4  comments\n",
      "Scraping  10  comments\n",
      "Scraping  10  comments\n",
      "Scraping  10  comments\n",
      "Scraping  10  comments\n",
      "Scraping  10  comments\n",
      "Scraping  10  comments\n",
      "Scraping  10  comments\n",
      "Scraping  10  comments\n",
      "Scraping  10  comments\n",
      "Scraping  10  comments\n",
      "Scraping  10  comments\n",
      "Scraping  10  comments\n",
      "Scraping  10  comments\n",
      "Scraping  10  comments\n",
      "Scraping  10  comments\n",
      "Scraping  10  comments\n",
      "Scraping  10  comments\n",
      "Scraping  10  comments\n",
      "Scraping  10  comments\n",
      "Scraping  10  comments\n",
      "Scraping  10  comments\n",
      "Scraping  10  comments\n",
      "Scraping  10  comments\n",
      "Scraping  10  comments\n",
      "Scraping  10  comments\n",
      "Scraping  10  comments\n",
      "Scraping  10  comments\n",
      "Scraping  10  comments\n",
      "Scraping  10  comments\n"
     ]
    },
    {
     "name": "stderr",
     "output_type": "stream",
     "text": [
      " 84%|████████▍ | 544/648 [2:03:05<28:09, 16.24s/it]"
     ]
    },
    {
     "name": "stdout",
     "output_type": "stream",
     "text": [
      "Scraping  4  comments\n",
      "Scraping  10  comments\n",
      "Scraping  10  comments\n",
      "Scraping  10  comments\n",
      "Scraping  10  comments\n",
      "Scraping  10  comments\n",
      "Scraping  10  comments\n",
      "Scraping  10  comments\n",
      "Scraping  10  comments\n",
      "Scraping  10  comments\n",
      "Scraping  10  comments\n",
      "Scraping  10  comments\n",
      "Scraping  10  comments\n",
      "Scraping  10  comments\n",
      "Scraping  10  comments\n",
      "Scraping  10  comments\n",
      "Scraping  10  comments\n"
     ]
    },
    {
     "name": "stderr",
     "output_type": "stream",
     "text": [
      " 84%|████████▍ | 545/648 [2:03:33<33:58, 19.79s/it]"
     ]
    },
    {
     "name": "stdout",
     "output_type": "stream",
     "text": [
      "Scraping  9  comments\n",
      "Scraping  10  comments\n",
      "Scraping  10  comments\n",
      "Scraping  10  comments\n",
      "Scraping  10  comments\n",
      "Scraping  10  comments\n",
      "Scraping  10  comments\n",
      "Scraping  10  comments\n",
      "Scraping  10  comments\n"
     ]
    },
    {
     "name": "stderr",
     "output_type": "stream",
     "text": [
      " 84%|████████▍ | 546/648 [2:03:47<30:50, 18.14s/it]"
     ]
    },
    {
     "name": "stdout",
     "output_type": "stream",
     "text": [
      "Scraping  10  comments\n",
      "Scraping  10  comments\n",
      "Scraping  10  comments\n",
      "Scraping  10  comments\n",
      "Scraping  10  comments\n",
      "Scraping  10  comments\n",
      "Scraping  10  comments\n",
      "Scraping  10  comments\n",
      "Scraping  10  comments\n",
      "Scraping  10  comments\n",
      "Scraping  10  comments\n"
     ]
    },
    {
     "name": "stderr",
     "output_type": "stream",
     "text": [
      " 84%|████████▍ | 547/648 [2:04:05<30:34, 18.17s/it]"
     ]
    },
    {
     "name": "stdout",
     "output_type": "stream",
     "text": [
      "Scraping  5  comments\n"
     ]
    },
    {
     "name": "stderr",
     "output_type": "stream",
     "text": [
      " 85%|████████▍ | 548/648 [2:04:08<22:22, 13.43s/it]"
     ]
    },
    {
     "name": "stdout",
     "output_type": "stream",
     "text": [
      "Scraping  1  comments\n",
      "Scraping  10  comments\n",
      "Scraping  10  comments\n",
      "Scraping  10  comments\n",
      "Scraping  10  comments\n",
      "Scraping  10  comments\n"
     ]
    },
    {
     "name": "stderr",
     "output_type": "stream",
     "text": [
      " 85%|████████▍ | 549/648 [2:04:19<21:13, 12.86s/it]"
     ]
    },
    {
     "name": "stdout",
     "output_type": "stream",
     "text": [
      "Scraping  10  comments\n",
      "Scraping  10  comments\n",
      "Scraping  10  comments\n",
      "Scraping  10  comments\n",
      "Scraping  10  comments\n",
      "Scraping  10  comments\n"
     ]
    },
    {
     "name": "stderr",
     "output_type": "stream",
     "text": [
      " 85%|████████▍ | 550/648 [2:04:31<20:17, 12.42s/it]"
     ]
    },
    {
     "name": "stdout",
     "output_type": "stream",
     "text": [
      "Scraping  8  comments\n",
      "Scraping  10  comments\n",
      "Scraping  10  comments\n",
      "Scraping  10  comments\n",
      "Scraping  10  comments\n"
     ]
    },
    {
     "name": "stderr",
     "output_type": "stream",
     "text": [
      " 85%|████████▌ | 551/648 [2:04:41<18:58, 11.74s/it]"
     ]
    },
    {
     "name": "stdout",
     "output_type": "stream",
     "text": [
      "Scraping  5  comments\n",
      "Scraping  10  comments\n",
      "Scraping  10  comments\n",
      "Scraping  10  comments\n",
      "Scraping  10  comments\n",
      "Scraping  10  comments\n",
      "Scraping  10  comments\n",
      "Scraping  10  comments\n",
      "Scraping  10  comments\n",
      "Scraping  10  comments\n",
      "Scraping  10  comments\n"
     ]
    },
    {
     "name": "stderr",
     "output_type": "stream",
     "text": [
      " 85%|████████▌ | 552/648 [2:04:57<20:59, 13.12s/it]"
     ]
    },
    {
     "name": "stdout",
     "output_type": "stream",
     "text": [
      "Scraping  3  comments\n",
      "Scraping  10  comments\n",
      "Scraping  10  comments\n"
     ]
    },
    {
     "name": "stderr",
     "output_type": "stream",
     "text": [
      " 85%|████████▌ | 553/648 [2:05:03<17:26, 11.02s/it]"
     ]
    },
    {
     "name": "stdout",
     "output_type": "stream",
     "text": [
      "Scraping  5  comments\n",
      "Scraping  10  comments\n",
      "Scraping  10  comments\n",
      "Scraping  10  comments\n",
      "Scraping  10  comments\n",
      "Scraping  10  comments\n",
      "Scraping  10  comments\n",
      "Scraping  10  comments\n",
      "Scraping  10  comments\n",
      "Scraping  10  comments\n",
      "Scraping  10  comments\n",
      "Scraping  10  comments\n",
      "Scraping  10  comments\n",
      "Scraping  10  comments\n",
      "Scraping  10  comments\n",
      "Scraping  10  comments\n",
      "Scraping  10  comments\n"
     ]
    },
    {
     "name": "stderr",
     "output_type": "stream",
     "text": [
      " 85%|████████▌ | 554/648 [2:05:31<25:05, 16.01s/it]"
     ]
    },
    {
     "name": "stdout",
     "output_type": "stream",
     "text": [
      "Scraping  6  comments\n",
      "Scraping  10  comments\n",
      "Scraping  10  comments\n",
      "Scraping  10  comments\n",
      "Scraping  10  comments\n",
      "Scraping  10  comments\n",
      "Scraping  10  comments\n",
      "Scraping  10  comments\n",
      "Scraping  10  comments\n",
      "Scraping  10  comments\n"
     ]
    },
    {
     "name": "stderr",
     "output_type": "stream",
     "text": [
      " 86%|████████▌ | 555/648 [2:05:48<25:05, 16.19s/it]"
     ]
    },
    {
     "name": "stdout",
     "output_type": "stream",
     "text": [
      "Scraping  2  comments\n",
      "Scraping  10  comments\n",
      "Scraping  10  comments\n",
      "Scraping  10  comments\n",
      "Scraping  10  comments\n",
      "Scraping  10  comments\n",
      "Scraping  10  comments\n",
      "Scraping  10  comments\n",
      "Scraping  10  comments\n",
      "Scraping  10  comments\n",
      "Scraping  10  comments\n",
      "Scraping  10  comments\n",
      "Scraping  10  comments\n",
      "Scraping  10  comments\n",
      "Scraping  10  comments\n",
      "Scraping  10  comments\n",
      "Scraping  10  comments\n",
      "Scraping  10  comments\n",
      "Scraping  10  comments\n",
      "Scraping  10  comments\n",
      "Scraping  10  comments\n",
      "Scraping  10  comments\n",
      "Scraping  10  comments\n",
      "Scraping  10  comments\n"
     ]
    },
    {
     "name": "stderr",
     "output_type": "stream",
     "text": [
      " 86%|████████▌ | 556/648 [2:06:28<35:57, 23.45s/it]"
     ]
    },
    {
     "name": "stdout",
     "output_type": "stream",
     "text": [
      "Scraping  10  comments\n",
      "Scraping  10  comments\n",
      "Scraping  10  comments\n",
      "Scraping  10  comments\n",
      "Scraping  10  comments\n",
      "Scraping  10  comments\n",
      "Scraping  10  comments\n",
      "Scraping  10  comments\n",
      "Scraping  10  comments\n"
     ]
    },
    {
     "name": "stderr",
     "output_type": "stream",
     "text": [
      " 86%|████████▌ | 557/648 [2:06:43<31:35, 20.83s/it]"
     ]
    },
    {
     "name": "stdout",
     "output_type": "stream",
     "text": [
      "Scraping  4  comments\n",
      "Scraping  10  comments\n",
      "Scraping  10  comments\n"
     ]
    },
    {
     "name": "stderr",
     "output_type": "stream",
     "text": [
      " 86%|████████▌ | 558/648 [2:06:49<24:42, 16.47s/it]"
     ]
    },
    {
     "name": "stdout",
     "output_type": "stream",
     "text": [
      "Scraping  9  comments\n",
      "Scraping  10  comments\n",
      "Scraping  10  comments\n",
      "Scraping  10  comments\n",
      "Scraping  10  comments\n",
      "Scraping  10  comments\n"
     ]
    },
    {
     "name": "stderr",
     "output_type": "stream",
     "text": [
      " 86%|████████▋ | 559/648 [2:06:59<21:29, 14.48s/it]"
     ]
    },
    {
     "name": "stdout",
     "output_type": "stream",
     "text": [
      "Scraping  8  comments\n",
      "Scraping  10  comments\n",
      "Scraping  10  comments\n",
      "Scraping  10  comments\n",
      "Scraping  10  comments\n",
      "Scraping  10  comments\n",
      "Scraping  10  comments\n",
      "Scraping  10  comments\n",
      "Scraping  10  comments\n",
      "Scraping  10  comments\n",
      "Scraping  10  comments\n",
      "Scraping  10  comments\n"
     ]
    },
    {
     "name": "stderr",
     "output_type": "stream",
     "text": [
      " 86%|████████▋ | 560/648 [2:07:18<23:29, 16.02s/it]"
     ]
    },
    {
     "name": "stdout",
     "output_type": "stream",
     "text": [
      "Scraping  5  comments\n",
      "Scraping  10  comments\n",
      "Scraping  10  comments\n",
      "Scraping  10  comments\n",
      "Scraping  10  comments\n",
      "Scraping  10  comments\n"
     ]
    },
    {
     "name": "stderr",
     "output_type": "stream",
     "text": [
      " 87%|████████▋ | 561/648 [2:07:28<20:18, 14.01s/it]"
     ]
    },
    {
     "name": "stdout",
     "output_type": "stream",
     "text": [
      "Scraping  8  comments\n",
      "Scraping  10  comments\n",
      "Scraping  10  comments\n"
     ]
    },
    {
     "name": "stderr",
     "output_type": "stream",
     "text": [
      " 87%|████████▋ | 562/648 [2:07:35<17:08, 11.96s/it]"
     ]
    },
    {
     "name": "stdout",
     "output_type": "stream",
     "text": [
      "Scraping  5  comments\n",
      "Scraping  10  comments\n",
      "Scraping  10  comments\n"
     ]
    },
    {
     "name": "stderr",
     "output_type": "stream",
     "text": [
      " 87%|████████▋ | 563/648 [2:07:41<14:38, 10.34s/it]"
     ]
    },
    {
     "name": "stdout",
     "output_type": "stream",
     "text": [
      "Scraping  9  comments\n",
      "Scraping  10  comments\n",
      "Scraping  10  comments\n"
     ]
    },
    {
     "name": "stderr",
     "output_type": "stream",
     "text": [
      " 87%|████████▋ | 564/648 [2:07:47<12:35,  8.99s/it]"
     ]
    },
    {
     "name": "stdout",
     "output_type": "stream",
     "text": [
      "Scraping  2  comments\n",
      "Scraping  10  comments\n",
      "Scraping  10  comments\n",
      "Scraping  10  comments\n"
     ]
    },
    {
     "name": "stderr",
     "output_type": "stream",
     "text": [
      " 87%|████████▋ | 565/648 [2:07:54<11:40,  8.44s/it]"
     ]
    },
    {
     "name": "stdout",
     "output_type": "stream",
     "text": [
      "Scraping  4  comments\n",
      "Scraping  10  comments\n",
      "Scraping  10  comments\n",
      "Scraping  10  comments\n",
      "Scraping  10  comments\n"
     ]
    },
    {
     "name": "stderr",
     "output_type": "stream",
     "text": [
      " 87%|████████▋ | 566/648 [2:08:04<12:08,  8.89s/it]"
     ]
    },
    {
     "name": "stdout",
     "output_type": "stream",
     "text": [
      "Scraping  10  comments\n",
      "Scraping  10  comments\n",
      "Scraping  10  comments\n",
      "Scraping  10  comments\n",
      "Scraping  10  comments\n",
      "Scraping  10  comments\n"
     ]
    },
    {
     "name": "stderr",
     "output_type": "stream",
     "text": [
      " 88%|████████▊ | 567/648 [2:08:14<12:06,  8.97s/it]"
     ]
    },
    {
     "name": "stdout",
     "output_type": "stream",
     "text": [
      "Scraping  1  comments\n"
     ]
    },
    {
     "name": "stderr",
     "output_type": "stream",
     "text": [
      " 88%|████████▊ | 568/648 [2:08:17<09:38,  7.23s/it]"
     ]
    },
    {
     "name": "stdout",
     "output_type": "stream",
     "text": [
      "Scraping  7  comments\n",
      "Scraping  10  comments\n",
      "Scraping  10  comments\n",
      "Scraping  10  comments\n",
      "Scraping  10  comments\n",
      "Scraping  10  comments\n",
      "Scraping  10  comments\n",
      "Scraping  10  comments\n",
      "Scraping  10  comments\n",
      "Scraping  10  comments\n",
      "Scraping  10  comments\n",
      "Scraping  10  comments\n",
      "Scraping  10  comments\n",
      "Scraping  10  comments\n",
      "Scraping  10  comments\n",
      "Scraping  10  comments\n",
      "Scraping  10  comments\n",
      "Scraping  10  comments\n",
      "Scraping  10  comments\n",
      "Scraping  10  comments\n",
      "Scraping  10  comments\n",
      "Scraping  10  comments\n",
      "Scraping  10  comments\n",
      "Scraping  10  comments\n",
      "Scraping  10  comments\n",
      "Scraping  10  comments\n",
      "Scraping  10  comments\n",
      "Scraping  10  comments\n",
      "Scraping  10  comments\n",
      "Scraping  10  comments\n",
      "Scraping  10  comments\n"
     ]
    },
    {
     "name": "stderr",
     "output_type": "stream",
     "text": [
      " 88%|████████▊ | 569/648 [2:09:03<25:00, 19.00s/it]"
     ]
    },
    {
     "name": "stdout",
     "output_type": "stream",
     "text": [
      "Scraping  3  comments\n"
     ]
    },
    {
     "name": "stderr",
     "output_type": "stream",
     "text": [
      " 88%|████████▊ | 570/648 [2:09:06<18:15, 14.05s/it]"
     ]
    },
    {
     "name": "stdout",
     "output_type": "stream",
     "text": [
      "Scraping  8  comments\n",
      "Scraping  10  comments\n",
      "Scraping  10  comments\n",
      "Scraping  10  comments\n",
      "Scraping  10  comments\n",
      "Scraping  10  comments\n",
      "Scraping  10  comments\n",
      "Scraping  10  comments\n"
     ]
    },
    {
     "name": "stderr",
     "output_type": "stream",
     "text": [
      " 88%|████████▊ | 571/648 [2:09:20<18:02, 14.06s/it]"
     ]
    },
    {
     "name": "stdout",
     "output_type": "stream",
     "text": [
      "Scraping  10  comments\n",
      "Scraping  10  comments\n",
      "Scraping  10  comments\n",
      "Scraping  10  comments\n",
      "Scraping  10  comments\n",
      "Scraping  10  comments\n"
     ]
    },
    {
     "name": "stderr",
     "output_type": "stream",
     "text": [
      " 88%|████████▊ | 572/648 [2:09:29<16:05, 12.70s/it]"
     ]
    },
    {
     "name": "stdout",
     "output_type": "stream",
     "text": [
      "Scraping  4  comments\n",
      "Scraping  10  comments\n",
      "Scraping  10  comments\n",
      "Scraping  10  comments\n",
      "Scraping  10  comments\n",
      "Scraping  10  comments\n",
      "Scraping  10  comments\n",
      "Scraping  10  comments\n",
      "Scraping  10  comments\n",
      "Scraping  10  comments\n",
      "Scraping  10  comments\n",
      "Scraping  10  comments\n",
      "Scraping  10  comments\n",
      "Scraping  10  comments\n",
      "Scraping  10  comments\n",
      "Scraping  10  comments\n",
      "Scraping  10  comments\n",
      "Scraping  10  comments\n"
     ]
    },
    {
     "name": "stderr",
     "output_type": "stream",
     "text": [
      " 88%|████████▊ | 573/648 [2:09:59<22:12, 17.77s/it]"
     ]
    },
    {
     "name": "stdout",
     "output_type": "stream",
     "text": [
      "Scraping  9  comments\n",
      "Scraping  10  comments\n",
      "Scraping  10  comments\n",
      "Scraping  10  comments\n"
     ]
    },
    {
     "name": "stderr",
     "output_type": "stream",
     "text": [
      " 89%|████████▊ | 574/648 [2:10:06<17:55, 14.53s/it]"
     ]
    },
    {
     "name": "stdout",
     "output_type": "stream",
     "text": [
      "Scraping  7  comments\n",
      "Scraping  10  comments\n"
     ]
    },
    {
     "name": "stderr",
     "output_type": "stream",
     "text": [
      " 89%|████████▊ | 575/648 [2:10:10<13:50, 11.37s/it]"
     ]
    },
    {
     "name": "stdout",
     "output_type": "stream",
     "text": [
      "Scraping  5  comments\n",
      "Scraping  10  comments\n",
      "Scraping  10  comments\n",
      "Scraping  10  comments\n",
      "Scraping  10  comments\n",
      "Scraping  10  comments\n",
      "Scraping  10  comments\n",
      "Scraping  10  comments\n"
     ]
    },
    {
     "name": "stderr",
     "output_type": "stream",
     "text": [
      " 89%|████████▉ | 576/648 [2:10:21<13:43, 11.44s/it]"
     ]
    },
    {
     "name": "stdout",
     "output_type": "stream",
     "text": [
      "Scraping  2  comments\n",
      "Scraping  10  comments\n",
      "Scraping  10  comments\n",
      "Scraping  10  comments\n",
      "Scraping  10  comments\n",
      "Scraping  10  comments\n",
      "Scraping  10  comments\n",
      "Scraping  10  comments\n",
      "Scraping  10  comments\n",
      "Scraping  10  comments\n",
      "Scraping  10  comments\n",
      "Scraping  10  comments\n",
      "Scraping  10  comments\n"
     ]
    },
    {
     "name": "stderr",
     "output_type": "stream",
     "text": [
      " 89%|████████▉ | 577/648 [2:10:41<16:14, 13.73s/it]"
     ]
    },
    {
     "name": "stdout",
     "output_type": "stream",
     "text": [
      "Scraping  2  comments\n"
     ]
    },
    {
     "name": "stderr",
     "output_type": "stream",
     "text": [
      " 89%|████████▉ | 578/648 [2:10:44<12:21, 10.59s/it]"
     ]
    },
    {
     "name": "stdout",
     "output_type": "stream",
     "text": [
      "Scraping  5  comments\n",
      "Scraping  10  comments\n"
     ]
    },
    {
     "name": "stderr",
     "output_type": "stream",
     "text": [
      " 89%|████████▉ | 579/648 [2:10:47<09:45,  8.49s/it]"
     ]
    },
    {
     "name": "stdout",
     "output_type": "stream",
     "text": [
      "Scraping  4  comments\n",
      "Scraping  10  comments\n",
      "Scraping  10  comments\n",
      "Scraping  10  comments\n"
     ]
    },
    {
     "name": "stderr",
     "output_type": "stream",
     "text": [
      " 90%|████████▉ | 580/648 [2:10:54<09:05,  8.03s/it]"
     ]
    },
    {
     "name": "stdout",
     "output_type": "stream",
     "text": [
      "Scraping  2  comments\n",
      "Scraping  10  comments\n"
     ]
    },
    {
     "name": "stderr",
     "output_type": "stream",
     "text": [
      " 90%|████████▉ | 581/648 [2:10:58<07:31,  6.75s/it]"
     ]
    },
    {
     "name": "stdout",
     "output_type": "stream",
     "text": [
      "Scraping  9  comments\n",
      "Scraping  10  comments\n",
      "Scraping  10  comments\n",
      "Scraping  10  comments\n",
      "Scraping  10  comments\n",
      "Scraping  10  comments\n",
      "Scraping  10  comments\n"
     ]
    },
    {
     "name": "stderr",
     "output_type": "stream",
     "text": [
      " 90%|████████▉ | 582/648 [2:11:09<08:42,  7.92s/it]"
     ]
    },
    {
     "name": "stdout",
     "output_type": "stream",
     "text": [
      "Scraping  10  comments\n",
      "Scraping  10  comments\n"
     ]
    },
    {
     "name": "stderr",
     "output_type": "stream",
     "text": [
      " 90%|████████▉ | 583/648 [2:11:12<07:11,  6.64s/it]"
     ]
    },
    {
     "name": "stdout",
     "output_type": "stream",
     "text": [
      "Scraping  1  comments\n",
      "Scraping  10  comments\n",
      "Scraping  10  comments\n",
      "Scraping  10  comments\n"
     ]
    },
    {
     "name": "stderr",
     "output_type": "stream",
     "text": [
      " 90%|█████████ | 584/648 [2:11:20<07:14,  6.79s/it]"
     ]
    },
    {
     "name": "stdout",
     "output_type": "stream",
     "text": [
      "Scraping  10  comments\n",
      "Scraping  10  comments\n",
      "Scraping  10  comments\n"
     ]
    },
    {
     "name": "stderr",
     "output_type": "stream",
     "text": [
      " 90%|█████████ | 585/648 [2:11:26<07:01,  6.70s/it]"
     ]
    },
    {
     "name": "stdout",
     "output_type": "stream",
     "text": [
      "Scraping  9  comments\n",
      "Scraping  10  comments\n"
     ]
    },
    {
     "name": "stderr",
     "output_type": "stream",
     "text": [
      " 90%|█████████ | 586/648 [2:11:32<06:36,  6.40s/it]"
     ]
    },
    {
     "name": "stdout",
     "output_type": "stream",
     "text": [
      "Scraping  5  comments\n",
      "Scraping  10  comments\n"
     ]
    },
    {
     "name": "stderr",
     "output_type": "stream",
     "text": [
      " 91%|█████████ | 587/648 [2:11:36<05:44,  5.64s/it]"
     ]
    },
    {
     "name": "stdout",
     "output_type": "stream",
     "text": [
      "Scraping  7  comments\n"
     ]
    },
    {
     "name": "stderr",
     "output_type": "stream",
     "text": [
      " 91%|█████████ | 588/648 [2:11:38<04:46,  4.77s/it]"
     ]
    },
    {
     "name": "stdout",
     "output_type": "stream",
     "text": [
      "Scraping  7  comments\n",
      "Scraping  10  comments\n",
      "Scraping  10  comments\n",
      "Scraping  10  comments\n",
      "Scraping  10  comments\n"
     ]
    },
    {
     "name": "stderr",
     "output_type": "stream",
     "text": [
      " 91%|█████████ | 589/648 [2:11:48<06:12,  6.31s/it]"
     ]
    },
    {
     "name": "stdout",
     "output_type": "stream",
     "text": [
      "Scraping  6  comments\n",
      "Scraping  10  comments\n",
      "Scraping  10  comments\n",
      "Scraping  10  comments\n",
      "Scraping  10  comments\n",
      "Scraping  10  comments\n",
      "Scraping  10  comments\n",
      "Scraping  10  comments\n",
      "Scraping  10  comments\n",
      "Scraping  10  comments\n",
      "Scraping  10  comments\n",
      "Scraping  10  comments\n",
      "Scraping  10  comments\n"
     ]
    },
    {
     "name": "stderr",
     "output_type": "stream",
     "text": [
      " 91%|█████████ | 590/648 [2:12:12<11:01, 11.41s/it]"
     ]
    },
    {
     "name": "stdout",
     "output_type": "stream",
     "text": [
      "Scraping  10  comments\n"
     ]
    },
    {
     "name": "stderr",
     "output_type": "stream",
     "text": [
      " 91%|█████████ | 591/648 [2:12:15<08:27,  8.91s/it]"
     ]
    },
    {
     "name": "stdout",
     "output_type": "stream",
     "text": [
      "Scraping  9  comments\n",
      "Scraping  10  comments\n"
     ]
    },
    {
     "name": "stderr",
     "output_type": "stream",
     "text": [
      " 91%|█████████▏| 592/648 [2:12:19<07:05,  7.60s/it]"
     ]
    },
    {
     "name": "stdout",
     "output_type": "stream",
     "text": [
      "Scraping  9  comments\n",
      "Scraping  10  comments\n",
      "Scraping  10  comments\n",
      "Scraping  10  comments\n",
      "Scraping  10  comments\n",
      "Scraping  10  comments\n",
      "Scraping  10  comments\n",
      "Scraping  10  comments\n",
      "Scraping  10  comments\n",
      "Scraping  10  comments\n",
      "Scraping  10  comments\n",
      "Scraping  10  comments\n",
      "Scraping  10  comments\n",
      "Scraping  10  comments\n",
      "Scraping  10  comments\n",
      "Scraping  0  comments\n",
      "Scraping  10  comments\n"
     ]
    },
    {
     "name": "stderr",
     "output_type": "stream",
     "text": [
      " 92%|█████████▏| 594/648 [2:12:47<08:34,  9.53s/it]"
     ]
    },
    {
     "name": "stdout",
     "output_type": "stream",
     "text": [
      "Scraping  4  comments\n"
     ]
    },
    {
     "name": "stderr",
     "output_type": "stream",
     "text": [
      " 92%|█████████▏| 595/648 [2:12:50<06:40,  7.55s/it]"
     ]
    },
    {
     "name": "stdout",
     "output_type": "stream",
     "text": [
      "Scraping  8  comments\n",
      "Scraping  10  comments\n"
     ]
    },
    {
     "name": "stderr",
     "output_type": "stream",
     "text": [
      " 92%|█████████▏| 596/648 [2:12:53<05:23,  6.22s/it]"
     ]
    },
    {
     "name": "stdout",
     "output_type": "stream",
     "text": [
      "Scraping  6  comments\n",
      "Scraping  10  comments\n",
      "Scraping  10  comments\n",
      "Scraping  10  comments\n",
      "Scraping  10  comments\n",
      "Scraping  10  comments\n"
     ]
    },
    {
     "name": "stderr",
     "output_type": "stream",
     "text": [
      " 92%|█████████▏| 597/648 [2:13:01<05:49,  6.85s/it]"
     ]
    },
    {
     "name": "stdout",
     "output_type": "stream",
     "text": [
      "Scraping  6  comments\n",
      "Scraping  10  comments\n"
     ]
    },
    {
     "name": "stderr",
     "output_type": "stream",
     "text": [
      " 92%|█████████▏| 598/648 [2:13:05<04:57,  5.96s/it]"
     ]
    },
    {
     "name": "stdout",
     "output_type": "stream",
     "text": [
      "Scraping  5  comments\n",
      "Scraping  10  comments\n"
     ]
    },
    {
     "name": "stderr",
     "output_type": "stream",
     "text": [
      " 92%|█████████▏| 599/648 [2:13:09<04:17,  5.26s/it]"
     ]
    },
    {
     "name": "stdout",
     "output_type": "stream",
     "text": [
      "Scraping  2  comments\n",
      "Scraping  10  comments\n",
      "Scraping  10  comments\n",
      "Scraping  10  comments\n",
      "Scraping  10  comments\n",
      "Scraping  10  comments\n",
      "Scraping  10  comments\n",
      "Scraping  10  comments\n"
     ]
    },
    {
     "name": "stderr",
     "output_type": "stream",
     "text": [
      " 93%|█████████▎| 600/648 [2:13:21<06:00,  7.50s/it]"
     ]
    },
    {
     "name": "stdout",
     "output_type": "stream",
     "text": [
      "Scraping  7  comments\n",
      "Scraping  10  comments\n"
     ]
    },
    {
     "name": "stderr",
     "output_type": "stream",
     "text": [
      " 93%|█████████▎| 601/648 [2:13:25<04:57,  6.32s/it]"
     ]
    },
    {
     "name": "stdout",
     "output_type": "stream",
     "text": [
      "Scraping  4  comments\n",
      "Scraping  10  comments\n",
      "Scraping  10  comments\n"
     ]
    },
    {
     "name": "stderr",
     "output_type": "stream",
     "text": [
      " 93%|█████████▎| 602/648 [2:13:30<04:31,  5.90s/it]"
     ]
    },
    {
     "name": "stdout",
     "output_type": "stream",
     "text": [
      "Scraping  8  comments\n"
     ]
    },
    {
     "name": "stderr",
     "output_type": "stream",
     "text": [
      " 93%|█████████▎| 603/648 [2:13:32<03:36,  4.80s/it]"
     ]
    },
    {
     "name": "stdout",
     "output_type": "stream",
     "text": [
      "Scraping  5  comments\n",
      "Scraping  10  comments\n",
      "Scraping  10  comments\n",
      "Scraping  10  comments\n",
      "Scraping  10  comments\n",
      "Scraping  10  comments\n",
      "Scraping  10  comments\n",
      "Scraping  10  comments\n",
      "Scraping  10  comments\n",
      "Scraping  10  comments\n",
      "Scraping  10  comments\n",
      "Scraping  10  comments\n",
      "Scraping  10  comments\n",
      "Scraping  10  comments\n",
      "Scraping  10  comments\n",
      "Scraping  10  comments\n",
      "Scraping  10  comments\n",
      "Scraping  10  comments\n",
      "Scraping  10  comments\n",
      "Scraping  10  comments\n",
      "Scraping  10  comments\n",
      "Scraping  10  comments\n",
      "Scraping  10  comments\n",
      "Scraping  10  comments\n",
      "Scraping  10  comments\n",
      "Scraping  10  comments\n",
      "Scraping  10  comments\n",
      "Scraping  10  comments\n",
      "Scraping  10  comments\n",
      "Scraping  10  comments\n",
      "Scraping  10  comments\n",
      "Scraping  10  comments\n",
      "Scraping  10  comments\n",
      "Scraping  10  comments\n",
      "Scraping  10  comments\n",
      "Scraping  10  comments\n",
      "Scraping  10  comments\n",
      "Scraping  10  comments\n",
      "Scraping  10  comments\n",
      "Scraping  10  comments\n",
      "Scraping  10  comments\n",
      "Scraping  10  comments\n",
      "Scraping  10  comments\n"
     ]
    },
    {
     "name": "stderr",
     "output_type": "stream",
     "text": [
      " 93%|█████████▎| 604/648 [2:14:36<16:32, 22.56s/it]"
     ]
    },
    {
     "name": "stdout",
     "output_type": "stream",
     "text": [
      "Scraping  1  comments\n",
      "Scraping  10  comments\n",
      "Scraping  10  comments\n",
      "Scraping  10  comments\n",
      "Scraping  10  comments\n"
     ]
    },
    {
     "name": "stderr",
     "output_type": "stream",
     "text": [
      " 93%|█████████▎| 605/648 [2:14:43<12:52, 17.97s/it]"
     ]
    },
    {
     "name": "stdout",
     "output_type": "stream",
     "text": [
      "Scraping  8  comments\n",
      "Scraping  10  comments\n",
      "Scraping  10  comments\n",
      "Scraping  10  comments\n",
      "Scraping  10  comments\n",
      "Scraping  10  comments\n",
      "Scraping  10  comments\n",
      "Scraping  10  comments\n",
      "Scraping  10  comments\n"
     ]
    },
    {
     "name": "stderr",
     "output_type": "stream",
     "text": [
      " 94%|█████████▎| 606/648 [2:14:59<12:10, 17.39s/it]"
     ]
    },
    {
     "name": "stdout",
     "output_type": "stream",
     "text": [
      "Scraping  1  comments\n",
      "Scraping  10  comments\n",
      "Scraping  10  comments\n",
      "Scraping  10  comments\n",
      "Scraping  10  comments\n",
      "Scraping  10  comments\n",
      "Scraping  10  comments\n",
      "Scraping  10  comments\n",
      "Scraping  10  comments\n",
      "Scraping  10  comments\n",
      "Scraping  10  comments\n",
      "Scraping  10  comments\n",
      "Scraping  10  comments\n",
      "Scraping  10  comments\n",
      "Scraping  10  comments\n",
      "Scraping  10  comments\n",
      "Scraping  10  comments\n",
      "Scraping  10  comments\n",
      "Scraping  10  comments\n",
      "Scraping  10  comments\n",
      "Scraping  10  comments\n",
      "Scraping  10  comments\n",
      "Scraping  10  comments\n",
      "Scraping  10  comments\n",
      "Scraping  10  comments\n",
      "Scraping  10  comments\n",
      "Scraping  10  comments\n",
      "Scraping  10  comments\n",
      "Scraping  10  comments\n",
      "Scraping  10  comments\n",
      "Scraping  10  comments\n",
      "Scraping  10  comments\n",
      "Scraping  10  comments\n",
      "Scraping  10  comments\n",
      "Scraping  10  comments\n",
      "Scraping  10  comments\n",
      "Scraping  10  comments\n",
      "Scraping  10  comments\n",
      "Scraping  10  comments\n",
      "Scraping  10  comments\n",
      "Scraping  10  comments\n",
      "Scraping  10  comments\n",
      "Scraping  10  comments\n",
      "Scraping  10  comments\n",
      "Scraping  10  comments\n",
      "Scraping  10  comments\n",
      "Scraping  10  comments\n",
      "Scraping  10  comments\n",
      "Scraping  10  comments\n",
      "Scraping  10  comments\n",
      "Scraping  10  comments\n",
      "Scraping  10  comments\n",
      "Scraping  10  comments\n",
      "Scraping  10  comments\n",
      "Scraping  10  comments\n",
      "Scraping  10  comments\n",
      "Scraping  10  comments\n",
      "Scraping  10  comments\n",
      "Scraping  10  comments\n",
      "Scraping  10  comments\n",
      "Scraping  10  comments\n",
      "Scraping  10  comments\n",
      "Scraping  10  comments\n",
      "Scraping  10  comments\n",
      "Scraping  10  comments\n",
      "Scraping  10  comments\n",
      "Scraping  10  comments\n",
      "Scraping  10  comments\n",
      "Scraping  10  comments\n",
      "Scraping  10  comments\n",
      "Scraping  10  comments\n",
      "Scraping  10  comments\n",
      "Scraping  10  comments\n",
      "Scraping  10  comments\n",
      "Scraping  10  comments\n",
      "Scraping  10  comments\n",
      "Scraping  10  comments\n",
      "Scraping  10  comments\n",
      "Scraping  10  comments\n",
      "Scraping  10  comments\n",
      "Scraping  10  comments\n",
      "Scraping  10  comments\n",
      "Scraping  10  comments\n",
      "Scraping  10  comments\n",
      "Scraping  10  comments\n"
     ]
    },
    {
     "name": "stderr",
     "output_type": "stream",
     "text": [
      " 94%|█████████▎| 607/648 [2:17:01<33:13, 48.63s/it]"
     ]
    },
    {
     "name": "stdout",
     "output_type": "stream",
     "text": [
      "Scraping  8  comments\n",
      "Scraping  10  comments\n",
      "Scraping  10  comments\n",
      "Scraping  10  comments\n",
      "Scraping  10  comments\n",
      "Scraping  10  comments\n",
      "Scraping  10  comments\n",
      "Scraping  10  comments\n",
      "Scraping  10  comments\n",
      "Scraping  10  comments\n",
      "Scraping  10  comments\n",
      "Scraping  10  comments\n",
      "Scraping  10  comments\n",
      "Scraping  10  comments\n",
      "Scraping  10  comments\n"
     ]
    },
    {
     "name": "stderr",
     "output_type": "stream",
     "text": [
      " 94%|█████████▍| 608/648 [2:17:23<27:08, 40.71s/it]"
     ]
    },
    {
     "name": "stdout",
     "output_type": "stream",
     "text": [
      "Scraping  6  comments\n",
      "Scraping  10  comments\n",
      "Scraping  10  comments\n",
      "Scraping  10  comments\n"
     ]
    },
    {
     "name": "stderr",
     "output_type": "stream",
     "text": [
      " 94%|█████████▍| 609/648 [2:17:32<20:10, 31.03s/it]"
     ]
    },
    {
     "name": "stdout",
     "output_type": "stream",
     "text": [
      "Scraping  8  comments\n",
      "Scraping  10  comments\n",
      "Scraping  10  comments\n",
      "Scraping  10  comments\n",
      "Scraping  10  comments\n",
      "Scraping  10  comments\n",
      "Scraping  10  comments\n",
      "Scraping  10  comments\n",
      "Scraping  10  comments\n",
      "Scraping  10  comments\n",
      "Scraping  10  comments\n",
      "Scraping  10  comments\n",
      "Scraping  10  comments\n"
     ]
    },
    {
     "name": "stderr",
     "output_type": "stream",
     "text": [
      " 94%|█████████▍| 610/648 [2:17:52<17:43, 27.98s/it]"
     ]
    },
    {
     "name": "stdout",
     "output_type": "stream",
     "text": [
      "Scraping  8  comments\n"
     ]
    },
    {
     "name": "stderr",
     "output_type": "stream",
     "text": [
      " 94%|█████████▍| 611/648 [2:17:56<12:41, 20.58s/it]"
     ]
    },
    {
     "name": "stdout",
     "output_type": "stream",
     "text": [
      "Scraping  10  comments\n"
     ]
    },
    {
     "name": "stderr",
     "output_type": "stream",
     "text": [
      " 94%|█████████▍| 612/648 [2:17:58<09:01, 15.04s/it]"
     ]
    },
    {
     "name": "stdout",
     "output_type": "stream",
     "text": [
      "Scraping  6  comments\n",
      "Scraping  10  comments\n",
      "Scraping  10  comments\n",
      "Scraping  10  comments\n",
      "Scraping  10  comments\n",
      "Scraping  10  comments\n",
      "Scraping  10  comments\n",
      "Scraping  10  comments\n",
      "Scraping  10  comments\n",
      "Scraping  10  comments\n",
      "Scraping  10  comments\n",
      "Scraping  10  comments\n",
      "Scraping  10  comments\n",
      "Scraping  10  comments\n",
      "Scraping  10  comments\n",
      "Scraping  10  comments\n",
      "Scraping  10  comments\n",
      "Scraping  10  comments\n",
      "Scraping  10  comments\n",
      "Scraping  10  comments\n",
      "Scraping  10  comments\n",
      "Scraping  10  comments\n",
      "Scraping  10  comments\n",
      "Scraping  10  comments\n",
      "Scraping  10  comments\n",
      "Scraping  10  comments\n",
      "Scraping  10  comments\n",
      "Scraping  10  comments\n",
      "Scraping  10  comments\n",
      "Scraping  10  comments\n",
      "Scraping  10  comments\n",
      "Scraping  10  comments\n",
      "Scraping  10  comments\n",
      "Scraping  10  comments\n",
      "Scraping  10  comments\n",
      "Scraping  10  comments\n",
      "Scraping  10  comments\n",
      "Scraping  10  comments\n",
      "Scraping  10  comments\n",
      "Scraping  10  comments\n",
      "Scraping  10  comments\n",
      "Scraping  10  comments\n",
      "Scraping  10  comments\n",
      "Scraping  10  comments\n",
      "Scraping  10  comments\n",
      "Scraping  10  comments\n",
      "Scraping  10  comments\n",
      "Scraping  10  comments\n",
      "Scraping  10  comments\n",
      "Scraping  10  comments\n",
      "Scraping  10  comments\n",
      "Scraping  10  comments\n",
      "Scraping  10  comments\n",
      "Scraping  10  comments\n",
      "Scraping  10  comments\n",
      "Scraping  10  comments\n",
      "Scraping  10  comments\n",
      "Scraping  10  comments\n",
      "Scraping  10  comments\n",
      "Scraping  10  comments\n",
      "Scraping  10  comments\n",
      "Scraping  10  comments\n"
     ]
    },
    {
     "name": "stderr",
     "output_type": "stream",
     "text": [
      " 95%|█████████▍| 613/648 [2:19:30<22:21, 38.32s/it]"
     ]
    },
    {
     "name": "stdout",
     "output_type": "stream",
     "text": [
      "Scraping  4  comments\n"
     ]
    },
    {
     "name": "stderr",
     "output_type": "stream",
     "text": [
      " 95%|█████████▍| 614/648 [2:19:33<15:37, 27.57s/it]"
     ]
    },
    {
     "name": "stdout",
     "output_type": "stream",
     "text": [
      "Scraping  5  comments\n"
     ]
    },
    {
     "name": "stderr",
     "output_type": "stream",
     "text": [
      " 95%|█████████▍| 615/648 [2:19:36<11:03, 20.10s/it]"
     ]
    },
    {
     "name": "stdout",
     "output_type": "stream",
     "text": [
      "Scraping  7  comments\n"
     ]
    },
    {
     "name": "stderr",
     "output_type": "stream",
     "text": [
      " 95%|█████████▌| 616/648 [2:19:37<07:47, 14.62s/it]"
     ]
    },
    {
     "name": "stdout",
     "output_type": "stream",
     "text": [
      "Scraping  4  comments\n",
      "Scraping  10  comments\n",
      "Scraping  10  comments\n",
      "Scraping  10  comments\n",
      "Scraping  10  comments\n",
      "Scraping  10  comments\n",
      "Scraping  10  comments\n",
      "Scraping  10  comments\n"
     ]
    },
    {
     "name": "stderr",
     "output_type": "stream",
     "text": [
      " 95%|█████████▌| 617/648 [2:19:49<07:07, 13.81s/it]"
     ]
    },
    {
     "name": "stdout",
     "output_type": "stream",
     "text": [
      "Scraping  6  comments\n",
      "Scraping  10  comments\n",
      "Scraping  10  comments\n"
     ]
    },
    {
     "name": "stderr",
     "output_type": "stream",
     "text": [
      " 95%|█████████▌| 618/648 [2:19:56<05:46, 11.54s/it]"
     ]
    },
    {
     "name": "stdout",
     "output_type": "stream",
     "text": [
      "Scraping  10  comments\n",
      "Scraping  10  comments\n"
     ]
    },
    {
     "name": "stderr",
     "output_type": "stream",
     "text": [
      " 96%|█████████▌| 619/648 [2:19:59<04:21,  9.00s/it]"
     ]
    },
    {
     "name": "stdout",
     "output_type": "stream",
     "text": [
      "Scraping  7  comments\n",
      "Scraping  10  comments\n",
      "Scraping  10  comments\n",
      "Scraping  10  comments\n"
     ]
    },
    {
     "name": "stderr",
     "output_type": "stream",
     "text": [
      " 96%|█████████▌| 620/648 [2:20:06<03:55,  8.42s/it]"
     ]
    },
    {
     "name": "stdout",
     "output_type": "stream",
     "text": [
      "Scraping  5  comments\n",
      "Scraping  10  comments\n",
      "Scraping  10  comments\n",
      "Scraping  10  comments\n"
     ]
    },
    {
     "name": "stderr",
     "output_type": "stream",
     "text": [
      " 96%|█████████▌| 621/648 [2:20:11<03:23,  7.52s/it]"
     ]
    },
    {
     "name": "stdout",
     "output_type": "stream",
     "text": [
      "Scraping  10  comments\n"
     ]
    },
    {
     "name": "stderr",
     "output_type": "stream",
     "text": [
      " 96%|█████████▌| 622/648 [2:20:14<02:37,  6.05s/it]"
     ]
    },
    {
     "name": "stdout",
     "output_type": "stream",
     "text": [
      "Scraping  8  comments\n",
      "Scraping  10  comments\n"
     ]
    },
    {
     "name": "stderr",
     "output_type": "stream",
     "text": [
      " 96%|█████████▌| 623/648 [2:20:18<02:16,  5.47s/it]"
     ]
    },
    {
     "name": "stdout",
     "output_type": "stream",
     "text": [
      "Scraping  5  comments\n"
     ]
    },
    {
     "name": "stderr",
     "output_type": "stream",
     "text": [
      " 96%|█████████▋| 624/648 [2:20:20<01:50,  4.59s/it]"
     ]
    },
    {
     "name": "stdout",
     "output_type": "stream",
     "text": [
      "Scraping  8  comments\n",
      "Scraping  10  comments\n",
      "Scraping  10  comments\n"
     ]
    },
    {
     "name": "stderr",
     "output_type": "stream",
     "text": [
      " 96%|█████████▋| 625/648 [2:20:26<01:51,  4.84s/it]"
     ]
    },
    {
     "name": "stdout",
     "output_type": "stream",
     "text": [
      "Scraping  3  comments\n",
      "Scraping  10  comments\n"
     ]
    },
    {
     "name": "stderr",
     "output_type": "stream",
     "text": [
      " 97%|█████████▋| 626/648 [2:20:30<01:41,  4.62s/it]"
     ]
    },
    {
     "name": "stdout",
     "output_type": "stream",
     "text": [
      "Scraping  7  comments\n",
      "Scraping  10  comments\n",
      "Scraping  10  comments\n",
      "Scraping  10  comments\n",
      "Scraping  10  comments\n",
      "Scraping  10  comments\n",
      "Scraping  10  comments\n",
      "Scraping  10  comments\n",
      "Scraping  10  comments\n",
      "Scraping  10  comments\n",
      "Scraping  10  comments\n",
      "Scraping  10  comments\n",
      "Scraping  10  comments\n",
      "Scraping  10  comments\n",
      "Scraping  10  comments\n"
     ]
    },
    {
     "name": "stderr",
     "output_type": "stream",
     "text": [
      " 97%|█████████▋| 627/648 [2:20:53<03:33, 10.18s/it]"
     ]
    },
    {
     "name": "stdout",
     "output_type": "stream",
     "text": [
      "Scraping  5  comments\n",
      "Scraping  10  comments\n",
      "Scraping  10  comments\n",
      "Scraping  10  comments\n",
      "Scraping  10  comments\n",
      "Scraping  10  comments\n",
      "Scraping  10  comments\n",
      "Scraping  10  comments\n",
      "Scraping  10  comments\n",
      "Scraping  10  comments\n",
      "Scraping  10  comments\n",
      "Scraping  10  comments\n"
     ]
    },
    {
     "name": "stderr",
     "output_type": "stream",
     "text": [
      " 97%|█████████▋| 628/648 [2:21:14<04:29, 13.48s/it]"
     ]
    },
    {
     "name": "stdout",
     "output_type": "stream",
     "text": [
      "Scraping  6  comments\n"
     ]
    },
    {
     "name": "stderr",
     "output_type": "stream",
     "text": [
      " 97%|█████████▋| 629/648 [2:21:17<03:14, 10.21s/it]"
     ]
    },
    {
     "name": "stdout",
     "output_type": "stream",
     "text": [
      "Scraping  3  comments\n",
      "Scraping  10  comments\n"
     ]
    },
    {
     "name": "stderr",
     "output_type": "stream",
     "text": [
      " 97%|█████████▋| 630/648 [2:21:21<02:30,  8.35s/it]"
     ]
    },
    {
     "name": "stdout",
     "output_type": "stream",
     "text": [
      "Scraping  6  comments\n"
     ]
    },
    {
     "name": "stderr",
     "output_type": "stream",
     "text": [
      " 97%|█████████▋| 631/648 [2:21:24<01:53,  6.70s/it]"
     ]
    },
    {
     "name": "stdout",
     "output_type": "stream",
     "text": [
      "Scraping  8  comments\n",
      "Scraping  10  comments\n"
     ]
    },
    {
     "name": "stderr",
     "output_type": "stream",
     "text": [
      " 98%|█████████▊| 632/648 [2:21:28<01:35,  5.99s/it]"
     ]
    },
    {
     "name": "stdout",
     "output_type": "stream",
     "text": [
      "Scraping  5  comments\n",
      "Scraping  10  comments\n",
      "Scraping  10  comments\n",
      "Scraping  10  comments\n",
      "Scraping  10  comments\n",
      "Scraping  10  comments\n",
      "Scraping  10  comments\n",
      "Scraping  10  comments\n"
     ]
    },
    {
     "name": "stderr",
     "output_type": "stream",
     "text": [
      " 98%|█████████▊| 633/648 [2:21:43<02:11,  8.75s/it]"
     ]
    },
    {
     "name": "stdout",
     "output_type": "stream",
     "text": [
      "Scraping  6  comments\n",
      "Scraping  10  comments\n",
      "Scraping  10  comments\n",
      "Scraping  10  comments\n"
     ]
    },
    {
     "name": "stderr",
     "output_type": "stream",
     "text": [
      " 98%|█████████▊| 634/648 [2:21:50<01:55,  8.26s/it]"
     ]
    },
    {
     "name": "stdout",
     "output_type": "stream",
     "text": [
      "Scraping  6  comments\n",
      "Scraping  10  comments\n"
     ]
    },
    {
     "name": "stderr",
     "output_type": "stream",
     "text": [
      " 98%|█████████▊| 635/648 [2:21:55<01:32,  7.09s/it]"
     ]
    },
    {
     "name": "stdout",
     "output_type": "stream",
     "text": [
      "Scraping  2  comments\n"
     ]
    },
    {
     "name": "stderr",
     "output_type": "stream",
     "text": [
      " 98%|█████████▊| 636/648 [2:21:57<01:07,  5.65s/it]"
     ]
    },
    {
     "name": "stdout",
     "output_type": "stream",
     "text": [
      "Scraping  4  comments\n",
      "Scraping  10  comments\n"
     ]
    },
    {
     "name": "stderr",
     "output_type": "stream",
     "text": [
      " 98%|█████████▊| 637/648 [2:22:00<00:52,  4.81s/it]"
     ]
    },
    {
     "name": "stdout",
     "output_type": "stream",
     "text": [
      "Scraping  1  comments\n",
      "Scraping  10  comments\n",
      "Scraping  10  comments\n",
      "Scraping  10  comments\n"
     ]
    },
    {
     "name": "stderr",
     "output_type": "stream",
     "text": [
      " 98%|█████████▊| 638/648 [2:22:07<00:54,  5.45s/it]"
     ]
    },
    {
     "name": "stdout",
     "output_type": "stream",
     "text": [
      "Scraping  1  comments\n",
      "Scraping  10  comments\n"
     ]
    },
    {
     "name": "stderr",
     "output_type": "stream",
     "text": [
      " 99%|█████████▊| 639/648 [2:22:10<00:43,  4.81s/it]"
     ]
    },
    {
     "name": "stdout",
     "output_type": "stream",
     "text": [
      "Scraping  7  comments\n",
      "Scraping  10  comments\n",
      "Scraping  10  comments\n"
     ]
    },
    {
     "name": "stderr",
     "output_type": "stream",
     "text": [
      " 99%|█████████▉| 640/648 [2:22:16<00:40,  5.03s/it]"
     ]
    },
    {
     "name": "stdout",
     "output_type": "stream",
     "text": [
      "Scraping  3  comments\n",
      "Scraping  10  comments\n",
      "Scraping  10  comments\n"
     ]
    },
    {
     "name": "stderr",
     "output_type": "stream",
     "text": [
      " 99%|█████████▉| 641/648 [2:22:22<00:37,  5.41s/it]"
     ]
    },
    {
     "name": "stdout",
     "output_type": "stream",
     "text": [
      "Scraping  4  comments\n",
      "Scraping  10  comments\n",
      "Scraping  10  comments\n",
      "Scraping  10  comments\n",
      "Scraping  10  comments\n"
     ]
    },
    {
     "name": "stderr",
     "output_type": "stream",
     "text": [
      " 99%|█████████▉| 642/648 [2:22:32<00:40,  6.72s/it]"
     ]
    },
    {
     "name": "stdout",
     "output_type": "stream",
     "text": [
      "Scraping  1  comments\n",
      "Scraping  10  comments\n",
      "Scraping  10  comments\n",
      "Scraping  10  comments\n",
      "Scraping  10  comments\n",
      "Scraping  10  comments\n",
      "Scraping  10  comments\n"
     ]
    },
    {
     "name": "stderr",
     "output_type": "stream",
     "text": [
      " 99%|█████████▉| 643/648 [2:22:44<00:41,  8.33s/it]"
     ]
    },
    {
     "name": "stdout",
     "output_type": "stream",
     "text": [
      "Scraping  3  comments\n",
      "Scraping  10  comments\n"
     ]
    },
    {
     "name": "stderr",
     "output_type": "stream",
     "text": [
      " 99%|█████████▉| 644/648 [2:22:48<00:28,  7.17s/it]"
     ]
    },
    {
     "name": "stdout",
     "output_type": "stream",
     "text": [
      "Scraping  4  comments\n"
     ]
    },
    {
     "name": "stderr",
     "output_type": "stream",
     "text": [
      "100%|█████████▉| 645/648 [2:22:51<00:17,  5.91s/it]"
     ]
    },
    {
     "name": "stdout",
     "output_type": "stream",
     "text": [
      "Scraping  5  comments\n"
     ]
    },
    {
     "name": "stderr",
     "output_type": "stream",
     "text": [
      "100%|█████████▉| 646/648 [2:22:55<00:10,  5.15s/it]"
     ]
    },
    {
     "name": "stdout",
     "output_type": "stream",
     "text": [
      "Scraping  7  comments\n",
      "Scraping  10  comments\n",
      "Scraping  10  comments\n",
      "Scraping  10  comments\n",
      "Scraping  10  comments\n",
      "Scraping  10  comments\n",
      "Scraping  10  comments\n",
      "Scraping  10  comments\n",
      "Scraping  10  comments\n",
      "Scraping  10  comments\n",
      "Scraping  10  comments\n",
      "Scraping  10  comments\n",
      "Scraping  10  comments\n",
      "Scraping  10  comments\n",
      "Scraping  10  comments\n",
      "Scraping  10  comments\n",
      "Scraping  10  comments\n",
      "Scraping  10  comments\n",
      "Scraping  10  comments\n",
      "Scraping  10  comments\n",
      "Scraping  10  comments\n",
      "Scraping  10  comments\n",
      "Scraping  10  comments\n",
      "Scraping  10  comments\n",
      "Scraping  10  comments\n"
     ]
    },
    {
     "name": "stderr",
     "output_type": "stream",
     "text": [
      "100%|██████████| 648/648 [2:23:36<00:00, 13.30s/it]"
     ]
    },
    {
     "name": "stdout",
     "output_type": "stream",
     "text": [
      "Scraping  10  comments\n"
     ]
    },
    {
     "name": "stderr",
     "output_type": "stream",
     "text": [
      "\n"
     ]
    }
   ],
   "source": [
    "from datetime import date, timedelta\n",
    "\n",
    "today = date.today() - timedelta(days = 1)\n",
    "\n",
    "df = pd.DataFrame(columns=['keyword', 'title', 'author', 'body', 'time', 'date', 'status', 'votes', 'num_comments', 'num_comment_pages', 'link', 'has_status_update', 'status_message', 'status_update_date'])\n",
    "df2 = pd.DataFrame(columns=['keyword', 'title', 'comment_date', 'username', 'rank', 'text', 'likes', 'is_official_comment'])\n",
    "comments_list = []\n",
    "no_author = []\n",
    "idx = 0\n",
    "idx2 = 69652\n",
    "\n",
    "link_dir = 'idea_links'\n",
    "\n",
    "# Go thorugh all files in directory\n",
    "for link_file in os.listdir(link_dir):\n",
    "    if link_file == 'implemented_post_links.txt':\n",
    "        continue\n",
    "\n",
    "    if link_file == 'closed_idea_links.txt':\n",
    "        continue\n",
    "\n",
    "    # Format keyword from file name\n",
    "    keyword = link_file.split('_')[0]\n",
    "    \n",
    "    # Open file\n",
    "    with open(os.path.join(link_dir, link_file)) as f:\n",
    "        links = f.read().split('\\n')\n",
    "        \n",
    "    # Iterate over all links in file\n",
    "    for link in tqdm(links):\n",
    "        if link == '': continue\n",
    "            \n",
    "        # Parse linkG\n",
    "        driver.get(link)\n",
    "        soup = BeautifulSoup(driver.page_source, 'html.parser')\n",
    "        \n",
    "        # ONLY FOR IMPLEMENTED POSTS\n",
    "        # fetch official status\n",
    "\n",
    "        try:\n",
    "            status_component = soup.find('div', class_=\"lia-status-comment-body\").getText()\n",
    "            has_status_update = True\n",
    "            status_component = status_component.replace(\"\\t\", \" \")\n",
    "            status_component = status_component.replace(\"\\n\", \" \")\n",
    "            status_message = status_component\n",
    "            status_date = status_message.split()[2]\n",
    "            # print(status_date)\n",
    "\n",
    "        except:\n",
    "            has_status_update = False\n",
    "            status_message = ''\n",
    "            status_date = ''\n",
    "\n",
    "        \n",
    "        # Retrieve the title\n",
    "        try:\n",
    "            title = ' '.join(soup.find('div', class_='lia-message-subject').getText().split())\n",
    "        except:\n",
    "            # No permission to view link\n",
    "            continue\n",
    "\n",
    "        body = ' '.join(soup.find('div', class_='lia-message-body-content').getText().split())\n",
    "\n",
    "\n",
    "        # Retrieve the number of comment pages\n",
    "        try:\n",
    "            num_comment_pages = int(soup.find('li', class_=re.compile('lia-paging-page-last lia-js-data-pageNum-[0-9]+'))['class'][-1].split('-')[-1])\n",
    "        except:\n",
    "            num_comment_pages = 1\n",
    "\n",
    "\n",
    "        ## data model for comments\n",
    "        ## array of {comment_date, comment_time, poster_username, poster_rank, comment_text, like_count, is_official_comment}\n",
    "        # Comments scraping logic\n",
    "\n",
    "        for comment_page in range(num_comment_pages):\n",
    "            comment_page_url = f'{link}/page/{comment_page + 1}#comments'\n",
    "            \n",
    "            if keyword == \"implemented\":\n",
    "                comment_page_url = link.split('?')[0] + f'/page/{comment_page + 1}#comments'\n",
    "                \n",
    "\n",
    "            driver.get(comment_page_url)\n",
    "            comment_soup = BeautifulSoup(driver.page_source, 'html.parser')\n",
    "            comments_list = comment_soup.findAll('div', class_='lia-message-view-idea-reply-message')\n",
    "            author_rank = comment_soup.findAll('div', class_='lia-message-author-rank')\n",
    "            author_username = comment_soup.findAll('span', class_='UserName')\n",
    "            \n",
    "            print(\"Scraping \", len(comments_list) , \" comments\")\n",
    "\n",
    "            for comment in comments_list:\n",
    "                try:\n",
    "                    raw_text = \" \".join(comment.getText().strip().split(\"\\n\"))\n",
    "                    raw_text = raw_text.replace(\"Mark as Read Mark as New     Bookmark     Permalink Print     Report Inappropriate Content\", \"\")\n",
    "                    raw_text = raw_text.replace(\"\\u200e\", \"\")\n",
    "                    parsed_text =  [p.strip() for p in re.split(r'\\s{2,}', raw_text) if len(p.strip()) > 0]\n",
    "                    parsed_text.pop()\n",
    "\n",
    "                    username = parsed_text[0]\n",
    "                    rank = parsed_text[1]\n",
    "                    timestamp = parsed_text[2]\n",
    "                    likes = parsed_text[-1]\n",
    "\n",
    "                    is_official_comment = False\n",
    "\n",
    "                    if rank == 'Spotify':\n",
    "                        is_official_comment = True\n",
    "\n",
    "                    if parsed_text[3].startswith(\"Status changed to\"):\n",
    "                        is_official_comment = True\n",
    "                    \n",
    "                    comment = parsed_text[3]\n",
    "\n",
    "                    if (len(parsed_text) > 5):\n",
    "                        copy_parsed_text = parsed_text\n",
    "                        copy_parsed_text.pop()\n",
    "                        copy_parsed_text.pop(0)\n",
    "                        copy_parsed_text.pop(0)\n",
    "                        copy_parsed_text.pop(0)\n",
    "                        comment = \" \".join(copy_parsed_text)\n",
    "                        \n",
    "                    df2_new = pd.DataFrame({\n",
    "                        'keyword':keyword, 'title': title, 'comment_date': timestamp, 'username': username, 'rank': rank, 'text': comment, 'likes': likes, 'is_official_comment': is_official_comment\n",
    "                    }, index=[idx2])\n",
    "                    \n",
    "                    df2_new.to_csv('all-comments-' + today.strftime(\"%b-%d-%Y\") + '.csv', mode='a', header=False)\n",
    "\n",
    "                except:\n",
    "                    print(\"Unable to parse comment!\")\n",
    "                    print(parsed_text)\n",
    "                \n",
    "                df2 = pd.concat([df2, df2_new])\n",
    "                idx2 += 1\n",
    "\n",
    "\n",
    "        # Locate author section\n",
    "        try:\n",
    "            author_span = soup.find('span', {'class':\n",
    "                                             ['lia-message-byline lia-message-byline-author-date lia-component-byline-author-date lia-component-message-view-widget-byline-author-date',\n",
    "                                              re.compile('lia-user-name lia-user-rank-.* lia-component-message-view-widget-author-username'),\n",
    "                                             ]})\n",
    "\n",
    "            # If there is an author, find here\n",
    "            try:\n",
    "                author = author_span.find('a', class_='lia-link-navigation lia-page-link lia-user-name-link')['aria-label']\n",
    "                author = author.split('View Profile of ')[1]\n",
    "            # Otherwise, author was removed. Value is 'user-removed'\n",
    "            except:\n",
    "                author = author_span.find('span', class_='anon-user').getText()\n",
    "        except:\n",
    "            continue\n",
    "\n",
    "        # Locate date and time\n",
    "        try:\n",
    "            date = soup.find('span', class_='local-date').getText()\n",
    "            time = soup.find('span', class_='local-time').getText()\n",
    "        except:\n",
    "            stamp = soup.find('span', class_='local-friendly-date')['title']\n",
    "            date = stamp.split()[0]\n",
    "            time = stamp.split()[1] + ' ' + stamp.split()[2]\n",
    "        \n",
    "        # Locate post status\n",
    "        try:\n",
    "            status_span = soup.find('span', class_=re.compile('MessageStatus lia-status lia-status-idea-.* lia-status-completed lia-component-message-status lia-component-message-view-widget-message-status'))\n",
    "                                                    \n",
    "            status = status_span.find('a', class_='lia-link-navigation message-status-link').getText()\n",
    "        except:\n",
    "            status = soup.find('span', class_='lia-img-message-type-solved lia-fa-message lia-fa-type lia-fa-solved lia-fa')\n",
    "            if status != None:\n",
    "                status = status['title']\n",
    "\n",
    "        # If there is a vote count, find it\n",
    "        try:\n",
    "            votes = soup.find('span', class_='MessageKudosCount lia-component-kudos-widget-message-kudos-count').getText()\n",
    "            votes = int(votes.replace(',', ''))\n",
    "        # Otherwise, set votes to -1\n",
    "        except:\n",
    "            votes = -1\n",
    "\n",
    "        # Update dataframe with new data\n",
    "        df_new = pd.DataFrame({\n",
    "            'keyword':keyword, 'title': title, 'author': author, 'body': body, 'time': time, 'date': date,\n",
    "            'status': keyword, 'votes': votes, 'num_comments':num_comment_pages*10, 'num_comment_pages':num_comment_pages, 'link': link,\n",
    "            'has_status_update': has_status_update, 'status_message': status_message, 'status_update_date': status_date\n",
    "        }, index=[idx + 674])\n",
    "\n",
    "        df = pd.concat([df, df_new])\n",
    "\n",
    "        idx = idx + 1\n",
    "\n",
    "        df_new.to_csv('all-posts-' + today.strftime(\"%b-%d-%Y\") + '.csv', mode='a', header=False)\n",
    "\n"
   ]
  },
  {
   "cell_type": "markdown",
   "id": "smooth-lawyer",
   "metadata": {},
   "source": [
    "#### Filter out non-english comments"
   ]
  },
  {
   "cell_type": "code",
   "execution_count": null,
   "id": "comfortable-thing",
   "metadata": {},
   "outputs": [],
   "source": [
    "def get_lang(row):\n",
    "    try:\n",
    "        return detect(row['body'])\n",
    "    except:\n",
    "        print(row['link'])\n",
    "        return None\n",
    "    \n",
    "df['lang'] = df.apply(lambda row: get_lang(row), axis=1)"
   ]
  },
  {
   "cell_type": "code",
   "execution_count": null,
   "id": "interesting-conference",
   "metadata": {},
   "outputs": [],
   "source": [
    "df = df.loc[df['lang'] == 'en']\n",
    "df"
   ]
  },
  {
   "cell_type": "markdown",
   "id": "induced-activation",
   "metadata": {},
   "source": [
    "# Write to file\n",
    "\n",
    "Dataframe contains one column per useful attribute. If there is no status, the value is None. If there is no vote count, the value is -1."
   ]
  },
  {
   "cell_type": "code",
   "execution_count": null,
   "id": "experimental-construction",
   "metadata": {},
   "outputs": [],
   "source": [
    "from datetime import date\n",
    "\n",
    "today = date.today()\n",
    "\n",
    "df = df.drop_duplicates(subset='body')\n",
    "df.to_csv('posts-en-' + today.strftime(\"%b-%d-%Y\") + '.csv')\n",
    "df2.to_csv('comments-en-' + today.strftime(\"%b-%d-%Y\") + '.csv')"
   ]
  },
  {
   "cell_type": "code",
   "execution_count": null,
   "metadata": {},
   "outputs": [],
   "source": []
  },
  {
   "cell_type": "code",
   "execution_count": null,
   "id": "40405cca",
   "metadata": {},
   "outputs": [],
   "source": []
  },
  {
   "cell_type": "code",
   "execution_count": null,
   "id": "5fb654c6",
   "metadata": {},
   "outputs": [],
   "source": []
  },
  {
   "cell_type": "code",
   "execution_count": null,
   "id": "90dfa5f9",
   "metadata": {},
   "outputs": [],
   "source": []
  },
  {
   "cell_type": "code",
   "execution_count": null,
   "id": "7dcae37c",
   "metadata": {},
   "outputs": [],
   "source": []
  },
  {
   "cell_type": "code",
   "execution_count": null,
   "id": "6d1de105",
   "metadata": {},
   "outputs": [],
   "source": []
  },
  {
   "cell_type": "code",
   "execution_count": null,
   "id": "3c791107",
   "metadata": {},
   "outputs": [],
   "source": []
  },
  {
   "cell_type": "code",
   "execution_count": null,
   "id": "8a614e78",
   "metadata": {},
   "outputs": [],
   "source": []
  },
  {
   "cell_type": "code",
   "execution_count": null,
   "id": "45c10a28",
   "metadata": {},
   "outputs": [],
   "source": []
  }
 ],
 "metadata": {
  "kernelspec": {
   "display_name": "Python 3 (ipykernel)",
   "language": "python",
   "name": "python3"
  },
  "language_info": {
   "codemirror_mode": {
    "name": "ipython",
    "version": 3
   },
   "file_extension": ".py",
   "mimetype": "text/x-python",
   "name": "python",
   "nbconvert_exporter": "python",
   "pygments_lexer": "ipython3",
   "version": "3.11.2"
  }
 },
 "nbformat": 4,
 "nbformat_minor": 5
}
