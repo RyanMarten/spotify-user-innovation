{
 "cells": [
  {
   "cell_type": "code",
   "execution_count": 2,
   "id": "australian-bernard",
   "metadata": {},
   "outputs": [
    {
     "name": "stderr",
     "output_type": "stream",
     "text": [
      "/var/folders/nw/8x6xycw50x793r_4z9sbn7hw0000gn/T/ipykernel_41763/3361336789.py:12: DeprecationWarning: headless property is deprecated, instead use add_argument('--headless') or add_argument('--headless=new')\n",
      "  options.headless = True\n"
     ]
    }
   ],
   "source": [
    "import selenium, os, re\n",
    "import pandas as pd\n",
    "from bs4 import BeautifulSoup\n",
    "from tqdm import tqdm\n",
    "from langdetect import detect\n",
    "\n",
    "from selenium import webdriver\n",
    "from selenium.webdriver.chrome.options import Options\n",
    "from selenium.webdriver.chrome.service import Service\n",
    "from webdriver_manager.chrome import ChromeDriverManager\n",
    "options = Options()\n",
    "options.headless = True\n",
    "options.add_argument(\"start-maximized\")\n",
    "driver = webdriver.Chrome()\n"
   ]
  },
  {
   "cell_type": "markdown",
   "id": "superb-projection",
   "metadata": {},
   "source": [
    "## Scrape Post Data"
   ]
  },
  {
   "cell_type": "code",
   "execution_count": 4,
   "id": "asian-wound",
   "metadata": {},
   "outputs": [
    {
     "name": "stderr",
     "output_type": "stream",
     "text": [
      " 35%|███▍      | 136/392 [00:02<00:04, 63.58it/s]"
     ]
    },
    {
     "name": "stdout",
     "output_type": "stream",
     "text": [
      "Scraping  3  comments\n",
      "Scraping  10  comments\n",
      "Scraping  6  comments\n",
      "Unable to parse comment!\n",
      "['Luan', 'Spotify Star']\n",
      "Scraping  10  comments\n",
      "Unable to parse comment!\n",
      "['naykrock', 'Newbie', '2017-04-08 04:33 PM']\n",
      "Unable to parse comment!\n",
      "['kristenboney', 'Newbie', '2017-11-10 04:53 PM']\n",
      "Unable to parse comment!\n",
      "['dklsierisasdfas', 'Regular', '2019-09-21 05:49 PM']\n",
      "Scraping  10  comments\n",
      "Unable to parse comment!\n",
      "['ambrosia831', 'Visitor', '2019-10-26 09:31 PM']\n",
      "Unable to parse comment!\n",
      "['rehnahe', 'Newbie', '2019-11-22 11:23 PM']\n",
      "Unable to parse comment!\n",
      "['flash243', 'Newbie', '2021-11-19 02:34 AM']\n",
      "Unable to parse comment!\n",
      "['seanf01', 'Roadie', '2022-01-07 02:48 AM']\n",
      "Unable to parse comment!\n",
      "['Khole790', 'Casual Listener', '2022-02-05 09:29 PM']\n",
      "Unable to parse comment!\n",
      "['Khole790', 'Casual Listener', '2022-02-05 09:57 PM']\n",
      "Scraping  7  comments\n",
      "Unable to parse comment!\n",
      "['shankmasterflex', 'Newbie', '2023-01-18 07:20 PM']\n",
      "Unable to parse comment!\n",
      "['yury_mol', 'Newbie', '3 weeks ago']\n",
      "Scraping  1  comments\n",
      "Scraping  1  comments\n"
     ]
    },
    {
     "name": "stderr",
     "output_type": "stream",
     "text": [
      " 36%|███▌      | 141/392 [00:21<00:52,  4.77it/s]"
     ]
    },
    {
     "name": "stdout",
     "output_type": "stream",
     "text": [
      "Scraping  1  comments\n"
     ]
    },
    {
     "name": "stderr",
     "output_type": "stream",
     "text": [
      " 36%|███▌      | 142/392 [00:24<01:02,  4.01it/s]"
     ]
    },
    {
     "name": "stdout",
     "output_type": "stream",
     "text": [
      "Scraping  1  comments\n",
      "Scraping  1  comments\n",
      "Scraping  1  comments\n"
     ]
    },
    {
     "name": "stderr",
     "output_type": "stream",
     "text": [
      " 37%|███▋      | 145/392 [00:30<01:26,  2.86it/s]"
     ]
    },
    {
     "name": "stdout",
     "output_type": "stream",
     "text": [
      "Scraping  1  comments\n",
      "Scraping  1  comments\n"
     ]
    },
    {
     "name": "stderr",
     "output_type": "stream",
     "text": [
      " 38%|███▊      | 147/392 [00:35<01:50,  2.23it/s]"
     ]
    },
    {
     "name": "stdout",
     "output_type": "stream",
     "text": [
      "Scraping  1  comments\n"
     ]
    },
    {
     "name": "stderr",
     "output_type": "stream",
     "text": [
      " 38%|███▊      | 148/392 [00:38<02:10,  1.88it/s]"
     ]
    },
    {
     "name": "stdout",
     "output_type": "stream",
     "text": [
      "Scraping  1  comments\n"
     ]
    },
    {
     "name": "stderr",
     "output_type": "stream",
     "text": [
      " 38%|███▊      | 149/392 [00:41<02:38,  1.54it/s]"
     ]
    },
    {
     "name": "stdout",
     "output_type": "stream",
     "text": [
      "Scraping  1  comments\n"
     ]
    },
    {
     "name": "stderr",
     "output_type": "stream",
     "text": [
      " 38%|███▊      | 150/392 [00:43<03:10,  1.27it/s]"
     ]
    },
    {
     "name": "stdout",
     "output_type": "stream",
     "text": [
      "Scraping  3  comments\n",
      "Unable to parse comment!\n",
      "['mrlorax', 'Newbie', '3 weeks ago']\n",
      "Unable to parse comment!\n",
      "['rpbgarza', 'Newbie', '2 weeks ago']\n"
     ]
    },
    {
     "name": "stderr",
     "output_type": "stream",
     "text": [
      " 39%|███▊      | 151/392 [00:46<03:54,  1.03it/s]"
     ]
    },
    {
     "name": "stdout",
     "output_type": "stream",
     "text": [
      "Scraping  1  comments\n"
     ]
    },
    {
     "name": "stderr",
     "output_type": "stream",
     "text": [
      " 39%|███▉      | 152/392 [00:49<04:26,  1.11s/it]"
     ]
    },
    {
     "name": "stdout",
     "output_type": "stream",
     "text": [
      "Scraping  1  comments\n"
     ]
    },
    {
     "name": "stderr",
     "output_type": "stream",
     "text": [
      " 39%|███▉      | 153/392 [00:52<05:45,  1.45s/it]"
     ]
    },
    {
     "name": "stdout",
     "output_type": "stream",
     "text": [
      "Scraping  1  comments\n"
     ]
    },
    {
     "name": "stderr",
     "output_type": "stream",
     "text": [
      " 39%|███▉      | 154/392 [00:54<05:46,  1.46s/it]"
     ]
    },
    {
     "name": "stdout",
     "output_type": "stream",
     "text": [
      "Scraping  1  comments\n"
     ]
    },
    {
     "name": "stderr",
     "output_type": "stream",
     "text": [
      " 40%|███▉      | 155/392 [00:56<06:25,  1.63s/it]"
     ]
    },
    {
     "name": "stdout",
     "output_type": "stream",
     "text": [
      "Scraping  1  comments\n"
     ]
    },
    {
     "name": "stderr",
     "output_type": "stream",
     "text": [
      " 40%|███▉      | 156/392 [00:58<06:30,  1.66s/it]"
     ]
    },
    {
     "name": "stdout",
     "output_type": "stream",
     "text": [
      "Scraping  1  comments\n"
     ]
    },
    {
     "name": "stderr",
     "output_type": "stream",
     "text": [
      " 40%|████      | 157/392 [01:00<06:56,  1.77s/it]"
     ]
    },
    {
     "name": "stdout",
     "output_type": "stream",
     "text": [
      "Scraping  1  comments\n"
     ]
    },
    {
     "name": "stderr",
     "output_type": "stream",
     "text": [
      " 40%|████      | 158/392 [01:03<08:02,  2.06s/it]"
     ]
    },
    {
     "name": "stdout",
     "output_type": "stream",
     "text": [
      "Scraping  1  comments\n"
     ]
    },
    {
     "name": "stderr",
     "output_type": "stream",
     "text": [
      " 41%|████      | 159/392 [01:05<07:41,  1.98s/it]"
     ]
    },
    {
     "name": "stdout",
     "output_type": "stream",
     "text": [
      "Scraping  1  comments\n"
     ]
    },
    {
     "name": "stderr",
     "output_type": "stream",
     "text": [
      " 41%|████      | 160/392 [01:07<08:00,  2.07s/it]"
     ]
    },
    {
     "name": "stdout",
     "output_type": "stream",
     "text": [
      "Scraping  1  comments\n"
     ]
    },
    {
     "name": "stderr",
     "output_type": "stream",
     "text": [
      " 41%|████      | 161/392 [01:11<09:27,  2.46s/it]"
     ]
    },
    {
     "name": "stdout",
     "output_type": "stream",
     "text": [
      "Scraping  1  comments\n"
     ]
    },
    {
     "name": "stderr",
     "output_type": "stream",
     "text": [
      " 41%|████▏     | 162/392 [01:13<09:55,  2.59s/it]"
     ]
    },
    {
     "name": "stdout",
     "output_type": "stream",
     "text": [
      "Scraping  1  comments\n"
     ]
    },
    {
     "name": "stderr",
     "output_type": "stream",
     "text": [
      " 42%|████▏     | 163/392 [01:15<08:35,  2.25s/it]"
     ]
    },
    {
     "name": "stdout",
     "output_type": "stream",
     "text": [
      "Scraping  1  comments\n"
     ]
    },
    {
     "name": "stderr",
     "output_type": "stream",
     "text": [
      " 43%|████▎     | 167/392 [01:23<07:38,  2.04s/it]"
     ]
    },
    {
     "name": "stdout",
     "output_type": "stream",
     "text": [
      "Scraping  1  comments\n"
     ]
    },
    {
     "name": "stderr",
     "output_type": "stream",
     "text": [
      " 43%|████▎     | 168/392 [01:24<07:16,  1.95s/it]"
     ]
    },
    {
     "name": "stdout",
     "output_type": "stream",
     "text": [
      "Scraping  1  comments\n"
     ]
    },
    {
     "name": "stderr",
     "output_type": "stream",
     "text": [
      " 43%|████▎     | 169/392 [01:27<07:44,  2.09s/it]"
     ]
    },
    {
     "name": "stdout",
     "output_type": "stream",
     "text": [
      "Scraping  1  comments\n"
     ]
    },
    {
     "name": "stderr",
     "output_type": "stream",
     "text": [
      " 43%|████▎     | 170/392 [01:30<08:22,  2.26s/it]"
     ]
    },
    {
     "name": "stdout",
     "output_type": "stream",
     "text": [
      "Scraping  1  comments\n"
     ]
    },
    {
     "name": "stderr",
     "output_type": "stream",
     "text": [
      " 44%|████▎     | 171/392 [01:32<08:28,  2.30s/it]"
     ]
    },
    {
     "name": "stdout",
     "output_type": "stream",
     "text": [
      "Scraping  2  comments\n"
     ]
    },
    {
     "name": "stderr",
     "output_type": "stream",
     "text": [
      " 44%|████▍     | 172/392 [01:34<07:50,  2.14s/it]"
     ]
    },
    {
     "name": "stdout",
     "output_type": "stream",
     "text": [
      "Scraping  1  comments\n"
     ]
    },
    {
     "name": "stderr",
     "output_type": "stream",
     "text": [
      " 44%|████▍     | 173/392 [01:35<06:57,  1.91s/it]"
     ]
    },
    {
     "name": "stdout",
     "output_type": "stream",
     "text": [
      "Scraping  1  comments\n"
     ]
    },
    {
     "name": "stderr",
     "output_type": "stream",
     "text": [
      " 44%|████▍     | 174/392 [01:37<07:27,  2.05s/it]"
     ]
    },
    {
     "name": "stdout",
     "output_type": "stream",
     "text": [
      "Scraping  1  comments\n"
     ]
    },
    {
     "name": "stderr",
     "output_type": "stream",
     "text": [
      " 45%|████▍     | 175/392 [01:39<06:48,  1.88s/it]"
     ]
    },
    {
     "name": "stdout",
     "output_type": "stream",
     "text": [
      "Scraping  1  comments\n"
     ]
    },
    {
     "name": "stderr",
     "output_type": "stream",
     "text": [
      " 45%|████▍     | 176/392 [01:40<06:17,  1.75s/it]"
     ]
    },
    {
     "name": "stdout",
     "output_type": "stream",
     "text": [
      "Scraping  1  comments\n"
     ]
    },
    {
     "name": "stderr",
     "output_type": "stream",
     "text": [
      " 45%|████▌     | 177/392 [01:44<07:46,  2.17s/it]"
     ]
    },
    {
     "name": "stdout",
     "output_type": "stream",
     "text": [
      "Scraping  1  comments\n"
     ]
    },
    {
     "name": "stderr",
     "output_type": "stream",
     "text": [
      " 45%|████▌     | 178/392 [01:45<07:27,  2.09s/it]"
     ]
    },
    {
     "name": "stdout",
     "output_type": "stream",
     "text": [
      "Scraping  1  comments\n"
     ]
    },
    {
     "name": "stderr",
     "output_type": "stream",
     "text": [
      " 46%|████▌     | 179/392 [01:47<07:19,  2.06s/it]"
     ]
    },
    {
     "name": "stdout",
     "output_type": "stream",
     "text": [
      "Scraping  1  comments\n"
     ]
    },
    {
     "name": "stderr",
     "output_type": "stream",
     "text": [
      " 46%|████▌     | 180/392 [01:50<08:17,  2.35s/it]"
     ]
    },
    {
     "name": "stdout",
     "output_type": "stream",
     "text": [
      "Scraping  1  comments\n"
     ]
    },
    {
     "name": "stderr",
     "output_type": "stream",
     "text": [
      " 46%|████▌     | 181/392 [01:52<07:42,  2.19s/it]"
     ]
    },
    {
     "name": "stdout",
     "output_type": "stream",
     "text": [
      "Scraping  1  comments\n"
     ]
    },
    {
     "name": "stderr",
     "output_type": "stream",
     "text": [
      " 46%|████▋     | 182/392 [01:54<06:55,  1.98s/it]"
     ]
    },
    {
     "name": "stdout",
     "output_type": "stream",
     "text": [
      "Scraping  1  comments\n"
     ]
    },
    {
     "name": "stderr",
     "output_type": "stream",
     "text": [
      " 47%|████▋     | 183/392 [01:56<07:32,  2.16s/it]"
     ]
    },
    {
     "name": "stdout",
     "output_type": "stream",
     "text": [
      "Scraping  1  comments\n"
     ]
    },
    {
     "name": "stderr",
     "output_type": "stream",
     "text": [
      " 47%|████▋     | 184/392 [02:10<19:30,  5.63s/it]"
     ]
    },
    {
     "name": "stdout",
     "output_type": "stream",
     "text": [
      "Scraping  1  comments\n"
     ]
    },
    {
     "name": "stderr",
     "output_type": "stream",
     "text": [
      " 47%|████▋     | 185/392 [02:12<15:35,  4.52s/it]"
     ]
    },
    {
     "name": "stdout",
     "output_type": "stream",
     "text": [
      "Scraping  1  comments\n"
     ]
    },
    {
     "name": "stderr",
     "output_type": "stream",
     "text": [
      " 47%|████▋     | 186/392 [02:14<12:55,  3.77s/it]"
     ]
    },
    {
     "name": "stdout",
     "output_type": "stream",
     "text": [
      "Scraping  1  comments\n"
     ]
    },
    {
     "name": "stderr",
     "output_type": "stream",
     "text": [
      " 48%|████▊     | 187/392 [02:17<11:45,  3.44s/it]"
     ]
    },
    {
     "name": "stdout",
     "output_type": "stream",
     "text": [
      "Scraping  1  comments\n"
     ]
    },
    {
     "name": "stderr",
     "output_type": "stream",
     "text": [
      " 48%|████▊     | 188/392 [02:19<10:29,  3.09s/it]"
     ]
    },
    {
     "name": "stdout",
     "output_type": "stream",
     "text": [
      "Scraping  1  comments\n"
     ]
    },
    {
     "name": "stderr",
     "output_type": "stream",
     "text": [
      " 48%|████▊     | 189/392 [02:21<09:37,  2.84s/it]"
     ]
    },
    {
     "name": "stdout",
     "output_type": "stream",
     "text": [
      "Scraping  1  comments\n"
     ]
    },
    {
     "name": "stderr",
     "output_type": "stream",
     "text": [
      " 48%|████▊     | 190/392 [02:23<08:20,  2.48s/it]"
     ]
    },
    {
     "name": "stdout",
     "output_type": "stream",
     "text": [
      "Scraping  1  comments\n"
     ]
    },
    {
     "name": "stderr",
     "output_type": "stream",
     "text": [
      " 49%|████▊     | 191/392 [02:25<07:32,  2.25s/it]"
     ]
    },
    {
     "name": "stdout",
     "output_type": "stream",
     "text": [
      "Scraping  1  comments\n"
     ]
    },
    {
     "name": "stderr",
     "output_type": "stream",
     "text": [
      " 49%|████▉     | 192/392 [02:26<07:04,  2.12s/it]"
     ]
    },
    {
     "name": "stdout",
     "output_type": "stream",
     "text": [
      "Scraping  1  comments\n"
     ]
    },
    {
     "name": "stderr",
     "output_type": "stream",
     "text": [
      " 49%|████▉     | 193/392 [02:28<06:48,  2.05s/it]"
     ]
    },
    {
     "name": "stdout",
     "output_type": "stream",
     "text": [
      "Scraping  1  comments\n"
     ]
    },
    {
     "name": "stderr",
     "output_type": "stream",
     "text": [
      " 49%|████▉     | 194/392 [02:30<06:45,  2.05s/it]"
     ]
    },
    {
     "name": "stdout",
     "output_type": "stream",
     "text": [
      "Scraping  1  comments\n"
     ]
    },
    {
     "name": "stderr",
     "output_type": "stream",
     "text": [
      " 50%|████▉     | 195/392 [02:33<07:25,  2.26s/it]"
     ]
    },
    {
     "name": "stdout",
     "output_type": "stream",
     "text": [
      "Scraping  1  comments\n"
     ]
    },
    {
     "name": "stderr",
     "output_type": "stream",
     "text": [
      " 50%|█████     | 196/392 [02:35<07:01,  2.15s/it]"
     ]
    },
    {
     "name": "stdout",
     "output_type": "stream",
     "text": [
      "Scraping  1  comments\n"
     ]
    },
    {
     "name": "stderr",
     "output_type": "stream",
     "text": [
      " 50%|█████     | 197/392 [02:37<07:06,  2.19s/it]"
     ]
    },
    {
     "name": "stdout",
     "output_type": "stream",
     "text": [
      "Scraping  1  comments\n"
     ]
    },
    {
     "name": "stderr",
     "output_type": "stream",
     "text": [
      " 51%|█████     | 198/392 [02:39<06:50,  2.12s/it]"
     ]
    },
    {
     "name": "stdout",
     "output_type": "stream",
     "text": [
      "Scraping  1  comments\n"
     ]
    },
    {
     "name": "stderr",
     "output_type": "stream",
     "text": [
      " 51%|█████     | 199/392 [02:41<06:53,  2.14s/it]"
     ]
    },
    {
     "name": "stdout",
     "output_type": "stream",
     "text": [
      "Scraping  1  comments\n"
     ]
    },
    {
     "name": "stderr",
     "output_type": "stream",
     "text": [
      " 51%|█████     | 200/392 [02:44<06:57,  2.17s/it]"
     ]
    },
    {
     "name": "stdout",
     "output_type": "stream",
     "text": [
      "Scraping  1  comments\n"
     ]
    },
    {
     "name": "stderr",
     "output_type": "stream",
     "text": [
      " 51%|█████▏    | 201/392 [02:46<06:50,  2.15s/it]"
     ]
    },
    {
     "name": "stdout",
     "output_type": "stream",
     "text": [
      "Scraping  1  comments\n"
     ]
    },
    {
     "name": "stderr",
     "output_type": "stream",
     "text": [
      " 52%|█████▏    | 202/392 [02:48<07:18,  2.31s/it]"
     ]
    },
    {
     "name": "stdout",
     "output_type": "stream",
     "text": [
      "Scraping  1  comments\n"
     ]
    },
    {
     "name": "stderr",
     "output_type": "stream",
     "text": [
      " 52%|█████▏    | 203/392 [02:50<06:49,  2.17s/it]"
     ]
    },
    {
     "name": "stdout",
     "output_type": "stream",
     "text": [
      "Scraping  1  comments\n"
     ]
    },
    {
     "name": "stderr",
     "output_type": "stream",
     "text": [
      " 52%|█████▏    | 204/392 [02:53<07:17,  2.33s/it]"
     ]
    },
    {
     "name": "stdout",
     "output_type": "stream",
     "text": [
      "Scraping  1  comments\n"
     ]
    },
    {
     "name": "stderr",
     "output_type": "stream",
     "text": [
      " 52%|█████▏    | 205/392 [02:56<07:37,  2.45s/it]"
     ]
    },
    {
     "name": "stdout",
     "output_type": "stream",
     "text": [
      "Scraping  1  comments\n"
     ]
    },
    {
     "name": "stderr",
     "output_type": "stream",
     "text": [
      " 53%|█████▎    | 206/392 [02:58<07:46,  2.51s/it]"
     ]
    },
    {
     "name": "stdout",
     "output_type": "stream",
     "text": [
      "Scraping  1  comments\n"
     ]
    },
    {
     "name": "stderr",
     "output_type": "stream",
     "text": [
      " 53%|█████▎    | 207/392 [03:00<07:12,  2.34s/it]"
     ]
    },
    {
     "name": "stdout",
     "output_type": "stream",
     "text": [
      "Scraping  1  comments\n"
     ]
    },
    {
     "name": "stderr",
     "output_type": "stream",
     "text": [
      " 53%|█████▎    | 208/392 [03:03<07:52,  2.57s/it]"
     ]
    },
    {
     "name": "stdout",
     "output_type": "stream",
     "text": [
      "Scraping  1  comments\n"
     ]
    },
    {
     "name": "stderr",
     "output_type": "stream",
     "text": [
      " 53%|█████▎    | 209/392 [03:05<07:20,  2.41s/it]"
     ]
    },
    {
     "name": "stdout",
     "output_type": "stream",
     "text": [
      "Scraping  1  comments\n"
     ]
    },
    {
     "name": "stderr",
     "output_type": "stream",
     "text": [
      " 54%|█████▎    | 210/392 [03:07<06:32,  2.16s/it]"
     ]
    },
    {
     "name": "stdout",
     "output_type": "stream",
     "text": [
      "Scraping  1  comments\n"
     ]
    },
    {
     "name": "stderr",
     "output_type": "stream",
     "text": [
      " 54%|█████▍    | 211/392 [03:09<06:47,  2.25s/it]"
     ]
    },
    {
     "name": "stdout",
     "output_type": "stream",
     "text": [
      "Scraping  1  comments\n"
     ]
    },
    {
     "name": "stderr",
     "output_type": "stream",
     "text": [
      " 54%|█████▍    | 212/392 [03:12<07:16,  2.42s/it]"
     ]
    },
    {
     "name": "stdout",
     "output_type": "stream",
     "text": [
      "Scraping  1  comments\n"
     ]
    },
    {
     "name": "stderr",
     "output_type": "stream",
     "text": [
      " 54%|█████▍    | 213/392 [03:14<06:38,  2.23s/it]"
     ]
    },
    {
     "name": "stdout",
     "output_type": "stream",
     "text": [
      "Scraping  1  comments\n"
     ]
    },
    {
     "name": "stderr",
     "output_type": "stream",
     "text": [
      " 55%|█████▍    | 214/392 [03:16<06:01,  2.03s/it]"
     ]
    },
    {
     "name": "stdout",
     "output_type": "stream",
     "text": [
      "Scraping  1  comments\n"
     ]
    },
    {
     "name": "stderr",
     "output_type": "stream",
     "text": [
      " 55%|█████▍    | 215/392 [03:18<06:24,  2.17s/it]"
     ]
    },
    {
     "name": "stdout",
     "output_type": "stream",
     "text": [
      "Scraping  1  comments\n"
     ]
    },
    {
     "name": "stderr",
     "output_type": "stream",
     "text": [
      " 55%|█████▌    | 216/392 [03:20<06:20,  2.16s/it]"
     ]
    },
    {
     "name": "stdout",
     "output_type": "stream",
     "text": [
      "Scraping  1  comments\n"
     ]
    },
    {
     "name": "stderr",
     "output_type": "stream",
     "text": [
      " 55%|█████▌    | 217/392 [03:23<06:49,  2.34s/it]"
     ]
    },
    {
     "name": "stdout",
     "output_type": "stream",
     "text": [
      "Scraping  1  comments\n"
     ]
    },
    {
     "name": "stderr",
     "output_type": "stream",
     "text": [
      " 56%|█████▌    | 218/392 [03:25<06:30,  2.25s/it]"
     ]
    },
    {
     "name": "stdout",
     "output_type": "stream",
     "text": [
      "Scraping  1  comments\n"
     ]
    },
    {
     "name": "stderr",
     "output_type": "stream",
     "text": [
      " 56%|█████▌    | 219/392 [03:27<06:04,  2.11s/it]"
     ]
    },
    {
     "name": "stdout",
     "output_type": "stream",
     "text": [
      "Scraping  1  comments\n"
     ]
    },
    {
     "name": "stderr",
     "output_type": "stream",
     "text": [
      " 56%|█████▌    | 220/392 [03:29<05:45,  2.01s/it]"
     ]
    },
    {
     "name": "stdout",
     "output_type": "stream",
     "text": [
      "Scraping  1  comments\n"
     ]
    },
    {
     "name": "stderr",
     "output_type": "stream",
     "text": [
      " 56%|█████▋    | 221/392 [03:31<06:24,  2.25s/it]"
     ]
    },
    {
     "name": "stdout",
     "output_type": "stream",
     "text": [
      "Scraping  1  comments\n"
     ]
    },
    {
     "name": "stderr",
     "output_type": "stream",
     "text": [
      " 57%|█████▋    | 222/392 [03:34<06:22,  2.25s/it]"
     ]
    },
    {
     "name": "stdout",
     "output_type": "stream",
     "text": [
      "Scraping  1  comments\n"
     ]
    },
    {
     "name": "stderr",
     "output_type": "stream",
     "text": [
      " 57%|█████▋    | 223/392 [03:36<06:34,  2.33s/it]"
     ]
    },
    {
     "name": "stdout",
     "output_type": "stream",
     "text": [
      "Scraping  1  comments\n"
     ]
    },
    {
     "name": "stderr",
     "output_type": "stream",
     "text": [
      " 57%|█████▋    | 224/392 [03:38<06:22,  2.28s/it]"
     ]
    },
    {
     "name": "stdout",
     "output_type": "stream",
     "text": [
      "Scraping  1  comments\n"
     ]
    },
    {
     "name": "stderr",
     "output_type": "stream",
     "text": [
      " 57%|█████▋    | 225/392 [03:41<06:52,  2.47s/it]"
     ]
    },
    {
     "name": "stdout",
     "output_type": "stream",
     "text": [
      "Scraping  1  comments\n"
     ]
    },
    {
     "name": "stderr",
     "output_type": "stream",
     "text": [
      " 58%|█████▊    | 226/392 [03:44<06:57,  2.52s/it]"
     ]
    },
    {
     "name": "stdout",
     "output_type": "stream",
     "text": [
      "Scraping  1  comments\n"
     ]
    },
    {
     "name": "stderr",
     "output_type": "stream",
     "text": [
      " 58%|█████▊    | 227/392 [03:46<06:28,  2.36s/it]"
     ]
    },
    {
     "name": "stdout",
     "output_type": "stream",
     "text": [
      "Scraping  1  comments\n"
     ]
    },
    {
     "name": "stderr",
     "output_type": "stream",
     "text": [
      " 58%|█████▊    | 228/392 [03:48<06:23,  2.34s/it]"
     ]
    },
    {
     "name": "stdout",
     "output_type": "stream",
     "text": [
      "Scraping  1  comments\n"
     ]
    },
    {
     "name": "stderr",
     "output_type": "stream",
     "text": [
      " 58%|█████▊    | 229/392 [03:50<06:06,  2.25s/it]"
     ]
    },
    {
     "name": "stdout",
     "output_type": "stream",
     "text": [
      "Scraping  1  comments\n"
     ]
    },
    {
     "name": "stderr",
     "output_type": "stream",
     "text": [
      " 59%|█████▊    | 230/392 [03:52<05:51,  2.17s/it]"
     ]
    },
    {
     "name": "stdout",
     "output_type": "stream",
     "text": [
      "Scraping  1  comments\n"
     ]
    },
    {
     "name": "stderr",
     "output_type": "stream",
     "text": [
      " 59%|█████▉    | 231/392 [03:54<05:30,  2.05s/it]"
     ]
    },
    {
     "name": "stdout",
     "output_type": "stream",
     "text": [
      "Scraping  1  comments\n"
     ]
    },
    {
     "name": "stderr",
     "output_type": "stream",
     "text": [
      " 59%|█████▉    | 232/392 [03:55<04:57,  1.86s/it]"
     ]
    },
    {
     "name": "stdout",
     "output_type": "stream",
     "text": [
      "Scraping  1  comments\n"
     ]
    },
    {
     "name": "stderr",
     "output_type": "stream",
     "text": [
      " 59%|█████▉    | 233/392 [03:58<05:14,  1.98s/it]"
     ]
    },
    {
     "name": "stdout",
     "output_type": "stream",
     "text": [
      "Scraping  1  comments\n"
     ]
    },
    {
     "name": "stderr",
     "output_type": "stream",
     "text": [
      " 60%|█████▉    | 234/392 [04:00<05:11,  1.97s/it]"
     ]
    },
    {
     "name": "stdout",
     "output_type": "stream",
     "text": [
      "Scraping  1  comments\n"
     ]
    },
    {
     "name": "stderr",
     "output_type": "stream",
     "text": [
      " 60%|█████▉    | 235/392 [04:01<05:06,  1.95s/it]"
     ]
    },
    {
     "name": "stdout",
     "output_type": "stream",
     "text": [
      "Scraping  1  comments\n"
     ]
    },
    {
     "name": "stderr",
     "output_type": "stream",
     "text": [
      " 60%|██████    | 236/392 [04:03<05:05,  1.96s/it]"
     ]
    },
    {
     "name": "stdout",
     "output_type": "stream",
     "text": [
      "Scraping  1  comments\n"
     ]
    },
    {
     "name": "stderr",
     "output_type": "stream",
     "text": [
      " 60%|██████    | 237/392 [04:06<05:34,  2.16s/it]"
     ]
    },
    {
     "name": "stdout",
     "output_type": "stream",
     "text": [
      "Scraping  1  comments\n"
     ]
    },
    {
     "name": "stderr",
     "output_type": "stream",
     "text": [
      " 61%|██████    | 238/392 [04:08<05:35,  2.18s/it]"
     ]
    },
    {
     "name": "stdout",
     "output_type": "stream",
     "text": [
      "Scraping  1  comments\n"
     ]
    },
    {
     "name": "stderr",
     "output_type": "stream",
     "text": [
      " 61%|██████    | 239/392 [04:11<06:01,  2.36s/it]"
     ]
    },
    {
     "name": "stdout",
     "output_type": "stream",
     "text": [
      "Scraping  2  comments\n"
     ]
    },
    {
     "name": "stderr",
     "output_type": "stream",
     "text": [
      " 61%|██████    | 240/392 [04:14<06:15,  2.47s/it]"
     ]
    },
    {
     "name": "stdout",
     "output_type": "stream",
     "text": [
      "Scraping  1  comments\n"
     ]
    },
    {
     "name": "stderr",
     "output_type": "stream",
     "text": [
      " 61%|██████▏   | 241/392 [04:16<06:21,  2.53s/it]"
     ]
    },
    {
     "name": "stdout",
     "output_type": "stream",
     "text": [
      "Scraping  1  comments\n"
     ]
    },
    {
     "name": "stderr",
     "output_type": "stream",
     "text": [
      " 62%|██████▏   | 242/392 [04:19<06:12,  2.48s/it]"
     ]
    },
    {
     "name": "stdout",
     "output_type": "stream",
     "text": [
      "Scraping  1  comments\n"
     ]
    },
    {
     "name": "stderr",
     "output_type": "stream",
     "text": [
      " 62%|██████▏   | 243/392 [04:21<05:51,  2.36s/it]"
     ]
    },
    {
     "name": "stdout",
     "output_type": "stream",
     "text": [
      "Scraping  1  comments\n"
     ]
    },
    {
     "name": "stderr",
     "output_type": "stream",
     "text": [
      " 62%|██████▏   | 244/392 [04:24<06:28,  2.63s/it]"
     ]
    },
    {
     "name": "stdout",
     "output_type": "stream",
     "text": [
      "Scraping  1  comments\n"
     ]
    },
    {
     "name": "stderr",
     "output_type": "stream",
     "text": [
      " 62%|██████▎   | 245/392 [04:27<06:26,  2.63s/it]"
     ]
    },
    {
     "name": "stdout",
     "output_type": "stream",
     "text": [
      "Scraping  1  comments\n"
     ]
    },
    {
     "name": "stderr",
     "output_type": "stream",
     "text": [
      " 63%|██████▎   | 246/392 [04:30<06:42,  2.76s/it]"
     ]
    },
    {
     "name": "stdout",
     "output_type": "stream",
     "text": [
      "Scraping  1  comments\n"
     ]
    },
    {
     "name": "stderr",
     "output_type": "stream",
     "text": [
      " 63%|██████▎   | 247/392 [04:32<06:05,  2.52s/it]"
     ]
    },
    {
     "name": "stdout",
     "output_type": "stream",
     "text": [
      "Scraping  1  comments\n"
     ]
    },
    {
     "name": "stderr",
     "output_type": "stream",
     "text": [
      " 63%|██████▎   | 248/392 [04:35<06:11,  2.58s/it]"
     ]
    },
    {
     "name": "stdout",
     "output_type": "stream",
     "text": [
      "Scraping  2  comments\n",
      "Unable to parse comment!\n",
      "['Ed0210', 'Casual Listener', '4 weeks ago']\n"
     ]
    },
    {
     "name": "stderr",
     "output_type": "stream",
     "text": [
      " 64%|██████▎   | 249/392 [04:36<05:32,  2.33s/it]"
     ]
    },
    {
     "name": "stdout",
     "output_type": "stream",
     "text": [
      "Scraping  1  comments\n"
     ]
    },
    {
     "name": "stderr",
     "output_type": "stream",
     "text": [
      " 64%|██████▍   | 250/392 [04:38<05:02,  2.13s/it]"
     ]
    },
    {
     "name": "stdout",
     "output_type": "stream",
     "text": [
      "Scraping  1  comments\n",
      "Scraping  10  comments\n",
      "Unable to parse comment!\n",
      "['lasnierfelix', 'Newbie', '2017-04-27 12:53 AM']\n",
      "Unable to parse comment!\n",
      "['ImparatorFatih', 'Casual Listener', '2017-04-27 05:48 AM']\n",
      "Unable to parse comment!\n",
      "['clareau', 'Newbie', '2017-05-09 05:47 PM']\n",
      "Unable to parse comment!\n",
      "['Granturismoo', 'Newbie', '2017-05-16 05:44 AM']\n",
      "Unable to parse comment!\n",
      "['lasnierfelix', 'Newbie', '2017-05-17 05:05 AM']\n",
      "Unable to parse comment!\n",
      "['ImparatorFatih', 'Casual Listener', '2017-05-17 02:45 PM']\n",
      "Scraping  10  comments\n",
      "Unable to parse comment!\n",
      "['stevestdenis', 'Newbie', '2017-05-24 02:27 PM']\n",
      "Unable to parse comment!\n",
      "['Rondo-ca', 'Newbie', '2017-06-23 10:52 PM']\n",
      "Unable to parse comment!\n",
      "['user-removed', 'Not applicable', '2017-07-10 06:10 PM']\n",
      "Unable to parse comment!\n",
      "['Skylarm007', 'Newbie', '2017-07-19 02:39 PM']\n",
      "Unable to parse comment!\n",
      "['lasnierfelix', 'Newbie', '2017-07-30 03:09 AM']\n",
      "Unable to parse comment!\n",
      "['Retr0Creed', 'Newbie', '2017-08-31 01:50 AM']\n",
      "Unable to parse comment!\n",
      "['timothygil87', 'Newbie', '2017-09-01 08:23 PM']\n",
      "Scraping  10  comments\n",
      "Unable to parse comment!\n",
      "['Skylarm007', 'Newbie', '2017-09-01 08:27 PM']\n",
      "Unable to parse comment!\n",
      "['jimmy_nemesis', 'Newbie', '2017-09-05 11:38 PM']\n",
      "Unable to parse comment!\n",
      "['TGurberg', 'Newbie', '2017-09-14 08:32 PM']\n",
      "Unable to parse comment!\n",
      "['user-removed', 'Not applicable', '2017-09-17 04:00 AM']\n",
      "Unable to parse comment!\n",
      "['Angrystudent', 'Newbie', '2017-10-08 07:48 PM']\n",
      "Unable to parse comment!\n",
      "['macsrh', 'Newbie', '2017-10-23 03:55 PM']\n",
      "Unable to parse comment!\n",
      "['catalinp86', 'Newbie', '2017-11-09 09:01 PM']\n",
      "Unable to parse comment!\n",
      "['pac0master', 'Newbie', '2017-11-23 01:49 PM']\n",
      "Unable to parse comment!\n",
      "['PolineMarois', 'Newbie', '2017-12-01 08:45 PM']\n",
      "Scraping  10  comments\n",
      "Unable to parse comment!\n",
      "['ArisenSSj', 'Newbie', '2017-12-09 01:32 PM']\n",
      "Unable to parse comment!\n",
      "['ImparatorFatih', 'Casual Listener', '2017-12-09 04:16 PM']\n",
      "Unable to parse comment!\n",
      "['bobilybob', 'Newbie', '2017-12-10 05:10 PM']\n",
      "Unable to parse comment!\n",
      "['stmun', 'Newbie', '2017-12-26 10:07 PM']\n",
      "Unable to parse comment!\n",
      "['user-removed', 'Not applicable', '2017-12-29 07:20 PM']\n",
      "Scraping  10  comments\n",
      "Unable to parse comment!\n",
      "['aceman2018', 'Newbie', '2018-01-23 08:06 PM']\n",
      "Unable to parse comment!\n",
      "['aceman2018', 'Newbie', '2018-01-23 08:06 PM']\n",
      "Unable to parse comment!\n",
      "['catalinp86', 'Newbie', '2018-01-23 08:19 PM']\n",
      "Unable to parse comment!\n",
      "['user-removed', 'Not applicable', '2018-01-28 02:05 PM']\n",
      "Unable to parse comment!\n",
      "['costarica09', 'Newbie', '2018-01-31 04:56 PM']\n",
      "Unable to parse comment!\n",
      "['hulk9999', 'Newbie', '2018-02-01 01:17 AM']\n",
      "Unable to parse comment!\n",
      "['MathiasB31FR', 'Newbie', '2018-02-01 04:39 PM']\n",
      "Unable to parse comment!\n",
      "['frenchcanadian1', 'Newbie', '2018-02-06 09:48 PM']\n",
      "Scraping  10  comments\n",
      "Unable to parse comment!\n",
      "['Johnny154', 'Newbie', '2018-03-05 04:13 PM']\n",
      "Unable to parse comment!\n",
      "['SkAshe', 'Newbie', '2018-03-08 10:54 PM']\n",
      "Unable to parse comment!\n",
      "['Cb50', 'Newbie', '2018-04-15 10:13 PM']\n",
      "Unable to parse comment!\n",
      "['12172000849', 'Newbie', '2018-04-25 10:27 PM']\n",
      "Unable to parse comment!\n",
      "['francisranger', 'Newbie', '2018-08-21 06:44 PM']\n",
      "Scraping  10  comments\n",
      "Unable to parse comment!\n",
      "['weimdall', 'Casual Listener', '2020-08-13 07:24 PM']\n"
     ]
    },
    {
     "name": "stderr",
     "output_type": "stream",
     "text": [
      " 64%|██████▍   | 251/392 [04:50<11:53,  5.06s/it]"
     ]
    },
    {
     "name": "stdout",
     "output_type": "stream",
     "text": [
      "Scraping  3  comments\n",
      "Unable to parse comment!\n",
      "['VincB', 'Visitor', '2020-10-19 11:08 PM']\n",
      "Scraping  10  comments\n"
     ]
    },
    {
     "name": "stderr",
     "output_type": "stream",
     "text": [
      " 64%|██████▍   | 252/392 [04:54<11:21,  4.87s/it]"
     ]
    },
    {
     "name": "stdout",
     "output_type": "stream",
     "text": [
      "Scraping  5  comments\n"
     ]
    },
    {
     "name": "stderr",
     "output_type": "stream",
     "text": [
      " 65%|██████▍   | 253/392 [04:56<09:24,  4.06s/it]"
     ]
    },
    {
     "name": "stdout",
     "output_type": "stream",
     "text": [
      "Scraping  1  comments\n"
     ]
    },
    {
     "name": "stderr",
     "output_type": "stream",
     "text": [
      " 65%|██████▍   | 254/392 [04:59<08:27,  3.68s/it]"
     ]
    },
    {
     "name": "stdout",
     "output_type": "stream",
     "text": [
      "Scraping  1  comments\n"
     ]
    },
    {
     "name": "stderr",
     "output_type": "stream",
     "text": [
      " 65%|██████▌   | 255/392 [05:01<07:06,  3.11s/it]"
     ]
    },
    {
     "name": "stdout",
     "output_type": "stream",
     "text": [
      "Scraping  1  comments\n",
      "Scraping  10  comments\n",
      "Scraping  10  comments\n",
      "Unable to parse comment!\n",
      "['impulsee120', 'Regular', '2016-07-12 08:52 PM']\n",
      "Unable to parse comment!\n",
      "['InfiniteApricot', 'Newbie', '2016-11-13 03:59 PM']\n",
      "Unable to parse comment!\n",
      "['impulsee120', 'Regular', '2016-11-13 05:00 PM']\n",
      "Scraping  10  comments\n",
      "Unable to parse comment!\n",
      "['robynlouise228', 'Newbie', '2017-01-01 03:22 PM']\n",
      "Unable to parse comment!\n",
      "['Svqf', 'Newbie', '2017-01-08 05:13 PM']\n",
      "Unable to parse comment!\n",
      "['teechadeb', 'Newbie', '2017-03-02 12:01 AM']\n",
      "Unable to parse comment!\n",
      "['artgarcia1227', 'Newbie', '2017-04-01 04:37 AM']\n",
      "Scraping  10  comments\n",
      "Unable to parse comment!\n",
      "['wurm122', 'Casual Listener', '2017-06-06 07:37 PM']\n",
      "Unable to parse comment!\n",
      "['Roastedsea', 'Newbie', '2017-07-12 07:49 AM']\n",
      "Unable to parse comment!\n",
      "['mrlnellis36', 'Casual Listener', '2017-07-23 10:36 PM']\n",
      "Scraping  10  comments\n",
      "Unable to parse comment!\n",
      "['Cgreen01', 'Newbie', '2017-07-25 01:27 PM']\n",
      "Unable to parse comment!\n",
      "['misslo2017', 'Newbie', '2017-08-13 04:04 PM']\n",
      "Unable to parse comment!\n",
      "['mrkelley', 'Newbie', '2017-08-25 03:41 PM']\n",
      "Unable to parse comment!\n",
      "['MsMoses_4312', 'Newbie', '2017-08-27 03:11 AM']\n",
      "Unable to parse comment!\n",
      "['14123973', 'Newbie', '2017-08-29 11:29 PM']\n",
      "Unable to parse comment!\n",
      "['736636363737333', 'Newbie', '2017-09-02 10:22 AM']\n",
      "Scraping  10  comments\n",
      "Unable to parse comment!\n",
      "['tomjontomtom', 'Newbie', '2017-09-07 07:48 PM']\n",
      "Unable to parse comment!\n",
      "['travismoll', 'Newbie', '2017-09-13 04:56 PM']\n",
      "Unable to parse comment!\n",
      "['ahucuk', 'Newbie', '2017-10-03 05:11 PM']\n",
      "Unable to parse comment!\n",
      "['lawtonsara94', 'Newbie', '2017-10-05 08:21 PM']\n",
      "Unable to parse comment!\n",
      "['Lucyjoy', 'Newbie', '2017-10-06 03:31 AM']\n",
      "Unable to parse comment!\n",
      "['jared703', 'Newbie', '2017-11-01 04:43 PM']\n",
      "Scraping  10  comments\n",
      "Unable to parse comment!\n",
      "['Aspid92', 'Newbie', '2017-12-29 03:50 PM']\n",
      "Unable to parse comment!\n",
      "['holland211', 'Newbie', '2018-01-22 04:54 AM']\n",
      "Unable to parse comment!\n",
      "['Ac02uf', 'Newbie', '2018-01-30 11:30 PM']\n",
      "Unable to parse comment!\n",
      "['user-removed', 'Not applicable', '2018-03-01 06:18 AM']\n",
      "Scraping  10  comments\n",
      "Unable to parse comment!\n",
      "['bassn0te', 'Newbie', '2018-04-08 10:53 PM']\n",
      "Unable to parse comment!\n",
      "['silverhalide', 'Newbie', '2018-04-14 10:15 PM']\n",
      "Unable to parse comment!\n",
      "['WCapehart', 'Newbie', '2018-05-13 10:14 AM']\n",
      "Unable to parse comment!\n",
      "['Iaio', 'Newbie', '2018-07-13 05:51 PM']\n",
      "Unable to parse comment!\n",
      "['gheazey', 'Newbie', '2019-05-31 02:51 AM']\n",
      "Unable to parse comment!\n",
      "['n6_yxz-9uf7', 'Newbie', '2019-10-04 07:19 AM']\n",
      "Scraping  10  comments\n",
      "Unable to parse comment!\n",
      "['WilliamZWang', 'Casual Listener', '2019-12-18 02:03 AM']\n",
      "Unable to parse comment!\n",
      "['Tlarimer', 'Visitor', '2020-03-14 03:13 AM']\n",
      "Unable to parse comment!\n",
      "['nchelmsworth', 'Visitor', '2020-10-20 04:04 PM']\n",
      "Unable to parse comment!\n",
      "['c0smiccarly', 'Casual Listener', '2020-11-23 03:08 PM']\n",
      "Unable to parse comment!\n",
      "['MrsFloyd', 'Visitor', '2020-12-14 05:03 PM']\n"
     ]
    },
    {
     "name": "stderr",
     "output_type": "stream",
     "text": [
      " 65%|██████▌   | 256/392 [05:16<15:23,  6.79s/it]"
     ]
    },
    {
     "name": "stdout",
     "output_type": "stream",
     "text": [
      "Scraping  5  comments\n",
      "Unable to parse comment!\n",
      "['crm23', 'Visitor', '2021-08-05 10:27 PM']\n",
      "Unable to parse comment!\n",
      "['9v7u2qlgfqj2tolw9k59', 'Visitor', '2021-11-30 06:23 PM']\n",
      "Unable to parse comment!\n",
      "['maryecan', 'Visitor', '2021-12-10 04:54 PM']\n",
      "Unable to parse comment!\n",
      "['akelly10', 'Visitor', '2023-02-03 05:02 AM']\n",
      "Scraping  10  comments\n",
      "Unable to parse comment!\n",
      "['Marco', 'Community Legend', '2013-12-11 10:37 PM']\n",
      "Unable to parse comment!\n",
      "['Spaceboy88', 'Roadie', '2013-12-11 10:41 PM']\n",
      "Unable to parse comment!\n",
      "['yajtyler', 'Composer', '2013-12-27 09:14 AM']\n",
      "Scraping  10  comments\n",
      "Unable to parse comment!\n",
      "['hermans-6', 'Casual Listener', '2015-07-26 11:14 PM']\n",
      "Unable to parse comment!\n",
      "['hermans-6', 'Casual Listener', '2015-07-27 07:17 PM']\n",
      "Unable to parse comment!\n",
      "['888margo888', 'Gig Goer', '2016-11-27 02:43 AM']\n",
      "Unable to parse comment!\n",
      "['flabergastedd', 'Newbie', '2016-12-09 08:34 PM']\n",
      "Scraping  10  comments\n",
      "Unable to parse comment!\n",
      "['chrisparton1991', 'Newbie', '2016-12-18 11:35 PM']\n",
      "Unable to parse comment!\n",
      "['pson', 'Roadie', '2017-01-07 11:54 PM']\n",
      "Unable to parse comment!\n",
      "['Jakeypoo03', 'Gig Goer', '2017-01-18 10:13 PM']\n",
      "Unable to parse comment!\n",
      "['dev24', 'Regular', '2017-01-20 05:21 AM']\n",
      "Unable to parse comment!\n",
      "['Diziara', 'Casual Listener', '2017-01-23 05:30 PM']\n",
      "Unable to parse comment!\n",
      "['Jakeypoo03', 'Gig Goer', '2017-01-23 09:34 PM']\n",
      "Unable to parse comment!\n",
      "['nico1814', 'Newbie', '2017-01-24 08:05 AM']\n",
      "Scraping  10  comments\n",
      "Unable to parse comment!\n",
      "['samiles', 'Newbie', '2017-01-24 08:21 AM']\n",
      "Unable to parse comment!\n",
      "['Kaotika', 'Regular', '2017-02-01 03:36 AM']\n",
      "Unable to parse comment!\n",
      "['AARGHB', 'Casual Listener', '2017-02-01 07:49 AM']\n",
      "Unable to parse comment!\n",
      "['Jakeypoo03', 'Gig Goer', '2017-02-01 11:46 AM']\n",
      "Unable to parse comment!\n",
      "['Kaotika', 'Regular', '2017-02-01 03:27 PM']\n",
      "Unable to parse comment!\n",
      "['samiles', 'Newbie', '2017-02-01 03:47 PM']\n",
      "Unable to parse comment!\n",
      "['Kaotika', 'Regular', '2017-02-01 04:01 PM']\n",
      "Unable to parse comment!\n",
      "['Jakeypoo03', 'Gig Goer', '2017-02-01 05:01 PM']\n",
      "Scraping  10  comments\n",
      "Unable to parse comment!\n",
      "['metalsernda', 'Casual Listener', '2017-02-03 05:28 PM']\n",
      "Unable to parse comment!\n",
      "['Thursday', 'Casual Listener', '2017-02-04 03:26 AM']\n",
      "Unable to parse comment!\n",
      "['FelixGerdtsson', 'Newbie', '2017-02-05 02:24 PM']\n",
      "Unable to parse comment!\n",
      "['rubyji', 'Regular', '2017-02-08 03:05 PM']\n",
      "Unable to parse comment!\n",
      "['2afs', 'Music Fan', '2017-02-12 10:28 AM']\n",
      "Unable to parse comment!\n",
      "['HUDUGURU', 'Regular', '2017-02-12 04:48 PM']\n",
      "Unable to parse comment!\n",
      "['trhouston17', 'Newbie', '2017-02-18 11:01 AM']\n",
      "Unable to parse comment!\n",
      "['HUDUGURU', 'Regular', '2017-02-18 06:49 PM']\n",
      "Scraping  10  comments\n",
      "Unable to parse comment!\n",
      "['Riordanpett', 'Newbie', '2017-02-22 05:37 AM']\n",
      "Unable to parse comment!\n",
      "['YamUrbina', 'Music Fan', '2017-02-22 11:31 AM']\n",
      "Unable to parse comment!\n",
      "['Riordanpett', 'Newbie', '2017-02-24 09:02 AM']\n",
      "Unable to parse comment!\n",
      "['YamUrbina', 'Music Fan', '2017-02-24 03:33 PM']\n",
      "Unable to parse comment!\n",
      "['geligelu', 'Casual Listener', '2017-02-26 06:06 AM']\n",
      "Unable to parse comment!\n",
      "['Suheidi', 'Newbie', '2017-03-08 12:50 PM']\n",
      "Unable to parse comment!\n",
      "['ARW007', 'Newbie', '2017-04-03 07:44 AM']\n",
      "Unable to parse comment!\n",
      "['aaronclawrence', 'Regular', '2017-04-03 11:57 PM']\n",
      "Scraping  10  comments\n",
      "Unable to parse comment!\n",
      "['juansduque', 'Casual Listener', '2017-05-08 09:44 AM']\n",
      "Unable to parse comment!\n",
      "['Charmaine73-ca', 'Newbie', '2017-08-13 12:42 AM']\n",
      "Unable to parse comment!\n",
      "['aurorasz', 'Regular', '2017-10-08 03:49 PM']\n",
      "Unable to parse comment!\n",
      "['na0-1jv036_cn', 'Newbie', '2018-06-14 02:35 AM']\n"
     ]
    },
    {
     "name": "stderr",
     "output_type": "stream",
     "text": [
      " 66%|██████▌   | 257/392 [05:28<18:43,  8.33s/it]"
     ]
    },
    {
     "name": "stdout",
     "output_type": "stream",
     "text": [
      "Scraping  6  comments\n",
      "Unable to parse comment!\n",
      "['user-removed', 'Not applicable', '2018-10-22 07:50 PM']\n",
      "Unable to parse comment!\n",
      "['aaronclawrence', 'Regular', '2018-10-25 10:57 PM']\n"
     ]
    },
    {
     "name": "stderr",
     "output_type": "stream",
     "text": [
      " 66%|██████▌   | 258/392 [05:31<14:30,  6.50s/it]"
     ]
    },
    {
     "name": "stdout",
     "output_type": "stream",
     "text": [
      "Scraping  1  comments\n"
     ]
    },
    {
     "name": "stderr",
     "output_type": "stream",
     "text": [
      " 66%|██████▌   | 259/392 [05:33<11:26,  5.16s/it]"
     ]
    },
    {
     "name": "stdout",
     "output_type": "stream",
     "text": [
      "Scraping  1  comments\n"
     ]
    },
    {
     "name": "stderr",
     "output_type": "stream",
     "text": [
      " 66%|██████▋   | 260/392 [05:34<08:59,  4.09s/it]"
     ]
    },
    {
     "name": "stdout",
     "output_type": "stream",
     "text": [
      "Scraping  1  comments\n"
     ]
    },
    {
     "name": "stderr",
     "output_type": "stream",
     "text": [
      " 67%|██████▋   | 261/392 [05:36<07:22,  3.38s/it]"
     ]
    },
    {
     "name": "stdout",
     "output_type": "stream",
     "text": [
      "Scraping  1  comments\n"
     ]
    },
    {
     "name": "stderr",
     "output_type": "stream",
     "text": [
      " 67%|██████▋   | 262/392 [05:39<06:59,  3.23s/it]"
     ]
    },
    {
     "name": "stdout",
     "output_type": "stream",
     "text": [
      "Scraping  1  comments\n"
     ]
    },
    {
     "name": "stderr",
     "output_type": "stream",
     "text": [
      " 67%|██████▋   | 263/392 [05:41<06:05,  2.83s/it]"
     ]
    },
    {
     "name": "stdout",
     "output_type": "stream",
     "text": [
      "Scraping  1  comments\n"
     ]
    },
    {
     "name": "stderr",
     "output_type": "stream",
     "text": [
      " 67%|██████▋   | 264/392 [05:43<05:52,  2.76s/it]"
     ]
    },
    {
     "name": "stdout",
     "output_type": "stream",
     "text": [
      "Scraping  1  comments\n"
     ]
    },
    {
     "name": "stderr",
     "output_type": "stream",
     "text": [
      " 68%|██████▊   | 265/392 [05:44<04:50,  2.29s/it]"
     ]
    },
    {
     "name": "stdout",
     "output_type": "stream",
     "text": [
      "Scraping  10  comments\n",
      "Scraping  10  comments\n",
      "Scraping  10  comments\n",
      "Scraping  10  comments\n",
      "Scraping  10  comments\n",
      "Scraping  10  comments\n",
      "Scraping  10  comments\n",
      "Scraping  10  comments\n",
      "Scraping  10  comments\n",
      "Unable to parse comment!\n",
      "['Tintenburg', 'Casual Listener', '2021-03-29 10:32 AM']\n",
      "Unable to parse comment!\n",
      "['t0b3berli', 'Regular', '2021-12-05 08:02 AM']\n",
      "Unable to parse comment!\n",
      "['Josepherus', 'Newbie', '2021-12-15 04:41 PM']\n",
      "Unable to parse comment!\n",
      "['Angvellon', 'Newbie', '2021-12-28 02:52 PM']\n",
      "Unable to parse comment!\n",
      "['MartinKarim', 'Newbie', '2021-12-28 05:22 PM']\n",
      "Scraping  10  comments\n",
      "Unable to parse comment!\n",
      "['MartinKarim', 'Newbie', '2021-12-28 07:43 PM']\n",
      "Unable to parse comment!\n",
      "['SylberX', 'Newbie', '2022-01-01 04:45 PM']\n",
      "Unable to parse comment!\n",
      "['Lukas41', 'Newbie', '2022-01-04 11:58 AM']\n",
      "Unable to parse comment!\n",
      "['TheRazoric', 'Newbie', '2022-01-04 12:21 PM']\n",
      "Unable to parse comment!\n",
      "['Florian93', 'Newbie', '2022-01-16 02:21 PM']\n",
      "Unable to parse comment!\n",
      "['raws123', 'Newbie', '2022-01-16 03:37 PM']\n",
      "Unable to parse comment!\n",
      "['MartinKarim', 'Newbie', '2022-01-16 03:49 PM']\n",
      "Unable to parse comment!\n",
      "['raws123', 'Newbie', '2022-01-16 04:48 PM']\n",
      "Unable to parse comment!\n",
      "['PalmenamStart', 'Newbie', '2022-01-17 07:28 AM']\n",
      "Scraping  10  comments\n",
      "Unable to parse comment!\n",
      "['Evita_Marita', 'Newbie', '2022-01-17 05:01 PM']\n",
      "Unable to parse comment!\n",
      "['tomjoe-ler', 'Casual Listener', '2022-01-19 11:57 AM']\n",
      "Unable to parse comment!\n",
      "['Steffi2022', 'Newbie', '2022-01-20 04:33 AM']\n",
      "Unable to parse comment!\n",
      "['Zwi3b3lhunt3r', 'Newbie', '2022-01-20 11:53 AM']\n",
      "Unable to parse comment!\n",
      "['Josepherus', 'Newbie', '2022-01-20 12:30 PM']\n",
      "Unable to parse comment!\n",
      "['thomrueck', 'Casual Listener', '2022-01-20 01:00 PM']\n",
      "Scraping  10  comments\n",
      "Unable to parse comment!\n",
      "['blechmusi', 'Newbie', '2022-01-20 03:19 PM']\n",
      "Unable to parse comment!\n",
      "['gkv2', 'Newbie', '2022-01-20 04:24 PM']\n",
      "Unable to parse comment!\n",
      "['Lukas41', 'Newbie', '2022-01-20 05:02 PM']\n",
      "Scraping  10  comments\n",
      "Unable to parse comment!\n",
      "['Chosen_of_mars', 'Newbie', '2022-01-21 05:41 PM']\n",
      "Unable to parse comment!\n",
      "['1139053927', 'Newbie', '2022-01-23 10:18 AM']\n",
      "Unable to parse comment!\n",
      "['1139053927', 'Newbie', '2022-01-23 08:20 PM']\n",
      "Unable to parse comment!\n",
      "['user-removed', 'Not applicable', '2022-01-24 08:22 PM']\n",
      "Unable to parse comment!\n",
      "['Musicmanto', 'Newbie', '2022-01-24 10:28 PM']\n",
      "Unable to parse comment!\n",
      "['2n3n21qsxmigha6e78fc', 'Newbie', '2022-01-25 08:00 AM']\n",
      "Scraping  10  comments\n",
      "Unable to parse comment!\n",
      "['jhoos70', 'Newbie', '2022-01-28 05:57 AM']\n",
      "Unable to parse comment!\n",
      "['Buddie89', 'Newbie']\n",
      "Unable to parse comment!\n",
      "['Buddie89', 'Newbie', '2022-01-28 07:53 AM']\n",
      "Unable to parse comment!\n",
      "['DerNomade', 'Newbie', '2022-02-01 07:28 AM']\n",
      "Unable to parse comment!\n",
      "['Slytzel', 'Newbie', '2022-02-02 08:29 AM']\n",
      "Scraping  10  comments\n",
      "Unable to parse comment!\n",
      "['user-removed', 'Not applicable', '2022-04-05 08:16 PM']\n",
      "Unable to parse comment!\n",
      "['boennhoff', 'Newbie', '2022-05-06 05:50 PM']\n",
      "Unable to parse comment!\n",
      "['m1b', 'Casual Listener', '2022-05-23 09:17 AM']\n",
      "Unable to parse comment!\n",
      "['nominealex', 'Newbie', '2022-05-26 05:47 PM']\n",
      "Unable to parse comment!\n",
      "['tomjoe-ler', 'Casual Listener', '2022-05-26 10:20 PM']\n",
      "Unable to parse comment!\n",
      "['kingofthehill', 'Newbie', '2022-07-24 09:41 PM']\n",
      "Unable to parse comment!\n",
      "['m1b', 'Casual Listener', '2022-07-25 04:22 PM']\n",
      "Scraping  10  comments\n",
      "Unable to parse comment!\n",
      "['Melancholia1', 'Newbie', '2022-08-09 04:08 PM']\n",
      "Unable to parse comment!\n",
      "['burfie153', 'Newbie', '2022-08-29 04:07 PM']\n",
      "Unable to parse comment!\n",
      "['Slytzel', 'Newbie', '2022-09-04 12:30 PM']\n",
      "Unable to parse comment!\n",
      "['AndreasHe', 'Casual Listener', '2022-11-16 07:39 PM']\n",
      "Unable to parse comment!\n",
      "['Sacer', 'Regular', '2022-12-06 09:13 PM']\n",
      "Unable to parse comment!\n",
      "['jhoos70', 'Newbie', '2022-12-07 09:16 AM']\n",
      "Unable to parse comment!\n",
      "['blechmusi', 'Newbie', '2022-12-07 09:39 AM']\n",
      "Unable to parse comment!\n",
      "['Slytzel', 'Newbie', '2022-12-07 10:06 AM']\n",
      "Scraping  10  comments\n",
      "Unable to parse comment!\n",
      "['kingofthehill', 'Newbie', '2022-12-07 12:33 PM']\n",
      "Unable to parse comment!\n",
      "['kingofthehill', 'Newbie', '2022-12-07 12:34 PM']\n",
      "Unable to parse comment!\n",
      "['Buddie89', 'Newbie', '2022-12-07 12:43 PM']\n",
      "Unable to parse comment!\n",
      "['zzertaul', 'Newbie', '2022-12-07 01:01 PM']\n",
      "Unable to parse comment!\n",
      "['DerNomade', 'Newbie', '2022-12-07 01:29 PM']\n",
      "Unable to parse comment!\n",
      "['DerNomade', 'Newbie', '2022-12-07 01:36 PM']\n",
      "Unable to parse comment!\n",
      "['Klangerlebnis', 'Newbie', '2022-12-08 12:04 AM']\n",
      "Unable to parse comment!\n",
      "['m1b', 'Casual Listener', '2022-12-08 10:58 AM']\n",
      "Unable to parse comment!\n",
      "['Fuxband', 'Newbie', '2023-01-31 03:58 PM']\n"
     ]
    },
    {
     "name": "stderr",
     "output_type": "stream",
     "text": [
      " 68%|██████▊   | 266/392 [06:05<16:35,  7.90s/it]"
     ]
    },
    {
     "name": "stdout",
     "output_type": "stream",
     "text": [
      "Scraping  4  comments\n"
     ]
    },
    {
     "name": "stderr",
     "output_type": "stream",
     "text": [
      " 68%|██████▊   | 267/392 [06:07<12:42,  6.10s/it]"
     ]
    },
    {
     "name": "stdout",
     "output_type": "stream",
     "text": [
      "Scraping  1  comments\n"
     ]
    },
    {
     "name": "stderr",
     "output_type": "stream",
     "text": [
      " 68%|██████▊   | 268/392 [06:10<10:09,  4.92s/it]"
     ]
    },
    {
     "name": "stdout",
     "output_type": "stream",
     "text": [
      "Scraping  1  comments\n"
     ]
    },
    {
     "name": "stderr",
     "output_type": "stream",
     "text": [
      " 69%|██████▊   | 269/392 [06:12<08:26,  4.12s/it]"
     ]
    },
    {
     "name": "stdout",
     "output_type": "stream",
     "text": [
      "Scraping  1  comments\n"
     ]
    },
    {
     "name": "stderr",
     "output_type": "stream",
     "text": [
      " 69%|██████▉   | 270/392 [06:14<07:05,  3.49s/it]"
     ]
    },
    {
     "name": "stdout",
     "output_type": "stream",
     "text": [
      "Scraping  1  comments\n"
     ]
    },
    {
     "name": "stderr",
     "output_type": "stream",
     "text": [
      " 69%|██████▉   | 271/392 [06:16<06:06,  3.03s/it]"
     ]
    },
    {
     "name": "stdout",
     "output_type": "stream",
     "text": [
      "Scraping  1  comments\n"
     ]
    },
    {
     "name": "stderr",
     "output_type": "stream",
     "text": [
      " 69%|██████▉   | 272/392 [06:18<05:23,  2.70s/it]"
     ]
    },
    {
     "name": "stdout",
     "output_type": "stream",
     "text": [
      "Scraping  1  comments\n"
     ]
    },
    {
     "name": "stderr",
     "output_type": "stream",
     "text": [
      " 70%|██████▉   | 273/392 [06:20<04:59,  2.52s/it]"
     ]
    },
    {
     "name": "stdout",
     "output_type": "stream",
     "text": [
      "Scraping  1  comments\n"
     ]
    },
    {
     "name": "stderr",
     "output_type": "stream",
     "text": [
      " 70%|██████▉   | 274/392 [06:22<04:35,  2.34s/it]"
     ]
    },
    {
     "name": "stdout",
     "output_type": "stream",
     "text": [
      "Scraping  1  comments\n"
     ]
    },
    {
     "name": "stderr",
     "output_type": "stream",
     "text": [
      " 70%|███████   | 275/392 [06:24<04:38,  2.38s/it]"
     ]
    },
    {
     "name": "stdout",
     "output_type": "stream",
     "text": [
      "Scraping  1  comments\n"
     ]
    },
    {
     "name": "stderr",
     "output_type": "stream",
     "text": [
      " 70%|███████   | 276/392 [06:26<04:16,  2.21s/it]"
     ]
    },
    {
     "name": "stdout",
     "output_type": "stream",
     "text": [
      "Scraping  1  comments\n"
     ]
    },
    {
     "name": "stderr",
     "output_type": "stream",
     "text": [
      " 71%|███████   | 277/392 [06:28<04:01,  2.10s/it]"
     ]
    },
    {
     "name": "stdout",
     "output_type": "stream",
     "text": [
      "Scraping  1  comments\n"
     ]
    },
    {
     "name": "stderr",
     "output_type": "stream",
     "text": [
      " 71%|███████   | 278/392 [06:30<03:53,  2.05s/it]"
     ]
    },
    {
     "name": "stdout",
     "output_type": "stream",
     "text": [
      "Scraping  1  comments\n"
     ]
    },
    {
     "name": "stderr",
     "output_type": "stream",
     "text": [
      " 71%|███████   | 279/392 [06:32<04:06,  2.19s/it]"
     ]
    },
    {
     "name": "stdout",
     "output_type": "stream",
     "text": [
      "Scraping  1  comments\n"
     ]
    },
    {
     "name": "stderr",
     "output_type": "stream",
     "text": [
      " 71%|███████▏  | 280/392 [06:35<04:22,  2.34s/it]"
     ]
    },
    {
     "name": "stdout",
     "output_type": "stream",
     "text": [
      "Scraping  1  comments\n"
     ]
    },
    {
     "name": "stderr",
     "output_type": "stream",
     "text": [
      " 72%|███████▏  | 283/392 [06:39<03:24,  1.88s/it]"
     ]
    },
    {
     "name": "stdout",
     "output_type": "stream",
     "text": [
      "Scraping  1  comments\n"
     ]
    },
    {
     "name": "stderr",
     "output_type": "stream",
     "text": [
      " 72%|███████▏  | 284/392 [06:42<03:34,  1.99s/it]"
     ]
    },
    {
     "name": "stdout",
     "output_type": "stream",
     "text": [
      "Scraping  1  comments\n"
     ]
    },
    {
     "name": "stderr",
     "output_type": "stream",
     "text": [
      " 73%|███████▎  | 285/392 [06:43<03:23,  1.90s/it]"
     ]
    },
    {
     "name": "stdout",
     "output_type": "stream",
     "text": [
      "Scraping  1  comments\n"
     ]
    },
    {
     "name": "stderr",
     "output_type": "stream",
     "text": [
      " 73%|███████▎  | 286/392 [06:45<03:25,  1.94s/it]"
     ]
    },
    {
     "name": "stdout",
     "output_type": "stream",
     "text": [
      "Scraping  1  comments\n"
     ]
    },
    {
     "name": "stderr",
     "output_type": "stream",
     "text": [
      " 73%|███████▎  | 287/392 [06:48<03:29,  2.00s/it]"
     ]
    },
    {
     "name": "stdout",
     "output_type": "stream",
     "text": [
      "Scraping  1  comments\n"
     ]
    },
    {
     "name": "stderr",
     "output_type": "stream",
     "text": [
      " 73%|███████▎  | 288/392 [06:49<03:18,  1.91s/it]"
     ]
    },
    {
     "name": "stdout",
     "output_type": "stream",
     "text": [
      "Scraping  1  comments\n"
     ]
    },
    {
     "name": "stderr",
     "output_type": "stream",
     "text": [
      " 74%|███████▎  | 289/392 [06:51<03:21,  1.96s/it]"
     ]
    },
    {
     "name": "stdout",
     "output_type": "stream",
     "text": [
      "Scraping  1  comments\n"
     ]
    },
    {
     "name": "stderr",
     "output_type": "stream",
     "text": [
      " 74%|███████▍  | 290/392 [06:54<03:48,  2.24s/it]"
     ]
    },
    {
     "name": "stdout",
     "output_type": "stream",
     "text": [
      "Scraping  1  comments\n"
     ]
    },
    {
     "name": "stderr",
     "output_type": "stream",
     "text": [
      " 74%|███████▍  | 291/392 [06:56<03:28,  2.07s/it]"
     ]
    },
    {
     "name": "stdout",
     "output_type": "stream",
     "text": [
      "Scraping  1  comments\n"
     ]
    },
    {
     "name": "stderr",
     "output_type": "stream",
     "text": [
      " 74%|███████▍  | 292/392 [06:58<03:23,  2.04s/it]"
     ]
    },
    {
     "name": "stdout",
     "output_type": "stream",
     "text": [
      "Scraping  1  comments\n"
     ]
    },
    {
     "name": "stderr",
     "output_type": "stream",
     "text": [
      " 75%|███████▍  | 293/392 [07:00<03:15,  1.98s/it]"
     ]
    },
    {
     "name": "stdout",
     "output_type": "stream",
     "text": [
      "Scraping  1  comments\n"
     ]
    },
    {
     "name": "stderr",
     "output_type": "stream",
     "text": [
      " 75%|███████▌  | 295/392 [07:03<03:05,  1.92s/it]"
     ]
    },
    {
     "name": "stdout",
     "output_type": "stream",
     "text": [
      "Scraping  1  comments\n"
     ]
    },
    {
     "name": "stderr",
     "output_type": "stream",
     "text": [
      " 76%|███████▌  | 296/392 [07:05<02:50,  1.78s/it]"
     ]
    },
    {
     "name": "stdout",
     "output_type": "stream",
     "text": [
      "Scraping  1  comments\n"
     ]
    },
    {
     "name": "stderr",
     "output_type": "stream",
     "text": [
      " 76%|███████▋  | 299/392 [07:10<02:45,  1.78s/it]"
     ]
    },
    {
     "name": "stdout",
     "output_type": "stream",
     "text": [
      "Scraping  1  comments\n"
     ]
    },
    {
     "name": "stderr",
     "output_type": "stream",
     "text": [
      " 77%|███████▋  | 302/392 [07:15<02:56,  1.96s/it]"
     ]
    },
    {
     "name": "stdout",
     "output_type": "stream",
     "text": [
      "Scraping  1  comments\n"
     ]
    },
    {
     "name": "stderr",
     "output_type": "stream",
     "text": [
      " 77%|███████▋  | 303/392 [07:17<03:02,  2.05s/it]"
     ]
    },
    {
     "name": "stdout",
     "output_type": "stream",
     "text": [
      "Scraping  1  comments\n"
     ]
    },
    {
     "name": "stderr",
     "output_type": "stream",
     "text": [
      " 78%|███████▊  | 304/392 [07:19<02:59,  2.04s/it]"
     ]
    },
    {
     "name": "stdout",
     "output_type": "stream",
     "text": [
      "Scraping  1  comments\n"
     ]
    },
    {
     "name": "stderr",
     "output_type": "stream",
     "text": [
      " 78%|███████▊  | 305/392 [07:22<03:12,  2.21s/it]"
     ]
    },
    {
     "name": "stdout",
     "output_type": "stream",
     "text": [
      "Scraping  1  comments\n"
     ]
    },
    {
     "name": "stderr",
     "output_type": "stream",
     "text": [
      " 78%|███████▊  | 306/392 [07:27<04:17,  2.99s/it]"
     ]
    },
    {
     "name": "stdout",
     "output_type": "stream",
     "text": [
      "Scraping  1  comments\n"
     ]
    },
    {
     "name": "stderr",
     "output_type": "stream",
     "text": [
      " 78%|███████▊  | 307/392 [07:29<04:01,  2.84s/it]"
     ]
    },
    {
     "name": "stdout",
     "output_type": "stream",
     "text": [
      "Scraping  1  comments\n"
     ]
    },
    {
     "name": "stderr",
     "output_type": "stream",
     "text": [
      " 79%|███████▊  | 308/392 [07:32<04:06,  2.93s/it]"
     ]
    },
    {
     "name": "stdout",
     "output_type": "stream",
     "text": [
      "Scraping  1  comments\n"
     ]
    },
    {
     "name": "stderr",
     "output_type": "stream",
     "text": [
      " 79%|███████▉  | 309/392 [07:38<04:57,  3.58s/it]"
     ]
    },
    {
     "name": "stdout",
     "output_type": "stream",
     "text": [
      "Scraping  1  comments\n"
     ]
    },
    {
     "name": "stderr",
     "output_type": "stream",
     "text": [
      " 79%|███████▉  | 310/392 [07:42<05:10,  3.79s/it]"
     ]
    },
    {
     "name": "stdout",
     "output_type": "stream",
     "text": [
      "Scraping  1  comments\n"
     ]
    },
    {
     "name": "stderr",
     "output_type": "stream",
     "text": [
      " 79%|███████▉  | 311/392 [07:48<05:52,  4.35s/it]"
     ]
    },
    {
     "name": "stdout",
     "output_type": "stream",
     "text": [
      "Scraping  1  comments\n"
     ]
    },
    {
     "name": "stderr",
     "output_type": "stream",
     "text": [
      " 80%|███████▉  | 312/392 [07:52<05:52,  4.41s/it]"
     ]
    },
    {
     "name": "stdout",
     "output_type": "stream",
     "text": [
      "Scraping  1  comments\n"
     ]
    },
    {
     "name": "stderr",
     "output_type": "stream",
     "text": [
      " 80%|███████▉  | 313/392 [07:57<06:00,  4.56s/it]"
     ]
    },
    {
     "name": "stdout",
     "output_type": "stream",
     "text": [
      "Scraping  1  comments\n"
     ]
    },
    {
     "name": "stderr",
     "output_type": "stream",
     "text": [
      " 80%|████████  | 314/392 [07:59<04:56,  3.80s/it]"
     ]
    },
    {
     "name": "stdout",
     "output_type": "stream",
     "text": [
      "Scraping  1  comments\n"
     ]
    },
    {
     "name": "stderr",
     "output_type": "stream",
     "text": [
      " 80%|████████  | 315/392 [08:01<04:16,  3.33s/it]"
     ]
    },
    {
     "name": "stdout",
     "output_type": "stream",
     "text": [
      "Scraping  1  comments\n"
     ]
    },
    {
     "name": "stderr",
     "output_type": "stream",
     "text": [
      " 81%|████████  | 316/392 [08:04<03:54,  3.09s/it]"
     ]
    },
    {
     "name": "stdout",
     "output_type": "stream",
     "text": [
      "Scraping  1  comments\n"
     ]
    },
    {
     "name": "stderr",
     "output_type": "stream",
     "text": [
      " 81%|████████  | 317/392 [08:07<03:46,  3.02s/it]"
     ]
    },
    {
     "name": "stdout",
     "output_type": "stream",
     "text": [
      "Scraping  1  comments\n"
     ]
    },
    {
     "name": "stderr",
     "output_type": "stream",
     "text": [
      " 81%|████████  | 318/392 [08:10<03:49,  3.10s/it]"
     ]
    },
    {
     "name": "stdout",
     "output_type": "stream",
     "text": [
      "Scraping  1  comments\n"
     ]
    },
    {
     "name": "stderr",
     "output_type": "stream",
     "text": [
      " 81%|████████▏ | 319/392 [08:13<03:47,  3.12s/it]"
     ]
    },
    {
     "name": "stdout",
     "output_type": "stream",
     "text": [
      "Scraping  1  comments\n"
     ]
    },
    {
     "name": "stderr",
     "output_type": "stream",
     "text": [
      " 82%|████████▏ | 320/392 [08:16<03:32,  2.96s/it]"
     ]
    },
    {
     "name": "stdout",
     "output_type": "stream",
     "text": [
      "Scraping  1  comments\n"
     ]
    },
    {
     "name": "stderr",
     "output_type": "stream",
     "text": [
      " 82%|████████▏ | 321/392 [08:18<03:13,  2.72s/it]"
     ]
    },
    {
     "name": "stdout",
     "output_type": "stream",
     "text": [
      "Scraping  1  comments\n"
     ]
    },
    {
     "name": "stderr",
     "output_type": "stream",
     "text": [
      " 82%|████████▏ | 322/392 [08:21<03:12,  2.75s/it]"
     ]
    },
    {
     "name": "stdout",
     "output_type": "stream",
     "text": [
      "Scraping  1  comments\n"
     ]
    },
    {
     "name": "stderr",
     "output_type": "stream",
     "text": [
      " 82%|████████▏ | 323/392 [08:23<02:58,  2.58s/it]"
     ]
    },
    {
     "name": "stdout",
     "output_type": "stream",
     "text": [
      "Scraping  1  comments\n"
     ]
    },
    {
     "name": "stderr",
     "output_type": "stream",
     "text": [
      " 83%|████████▎ | 324/392 [08:25<02:55,  2.58s/it]"
     ]
    },
    {
     "name": "stdout",
     "output_type": "stream",
     "text": [
      "Scraping  1  comments\n"
     ]
    },
    {
     "name": "stderr",
     "output_type": "stream",
     "text": [
      " 87%|████████▋ | 341/392 [08:47<01:23,  1.64s/it]"
     ]
    },
    {
     "name": "stdout",
     "output_type": "stream",
     "text": [
      "Scraping  1  comments\n"
     ]
    },
    {
     "name": "stderr",
     "output_type": "stream",
     "text": [
      " 87%|████████▋ | 342/392 [08:49<01:30,  1.81s/it]"
     ]
    },
    {
     "name": "stdout",
     "output_type": "stream",
     "text": [
      "Scraping  1  comments\n"
     ]
    },
    {
     "name": "stderr",
     "output_type": "stream",
     "text": [
      " 88%|████████▊ | 343/392 [08:51<01:33,  1.90s/it]"
     ]
    },
    {
     "name": "stdout",
     "output_type": "stream",
     "text": [
      "Scraping  1  comments\n"
     ]
    },
    {
     "name": "stderr",
     "output_type": "stream",
     "text": [
      " 88%|████████▊ | 344/392 [08:53<01:38,  2.05s/it]"
     ]
    },
    {
     "name": "stdout",
     "output_type": "stream",
     "text": [
      "Scraping  1  comments\n"
     ]
    },
    {
     "name": "stderr",
     "output_type": "stream",
     "text": [
      " 88%|████████▊ | 345/392 [08:55<01:31,  1.95s/it]"
     ]
    },
    {
     "name": "stdout",
     "output_type": "stream",
     "text": [
      "Scraping  1  comments\n"
     ]
    },
    {
     "name": "stderr",
     "output_type": "stream",
     "text": [
      " 89%|████████▉ | 348/392 [08:59<01:12,  1.66s/it]"
     ]
    },
    {
     "name": "stdout",
     "output_type": "stream",
     "text": [
      "Scraping  1  comments\n"
     ]
    },
    {
     "name": "stderr",
     "output_type": "stream",
     "text": [
      " 89%|████████▉ | 349/392 [09:01<01:14,  1.72s/it]"
     ]
    },
    {
     "name": "stdout",
     "output_type": "stream",
     "text": [
      "Scraping  1  comments\n"
     ]
    },
    {
     "name": "stderr",
     "output_type": "stream",
     "text": [
      " 90%|████████▉ | 351/392 [09:05<01:19,  1.94s/it]"
     ]
    },
    {
     "name": "stdout",
     "output_type": "stream",
     "text": [
      "Scraping  1  comments\n"
     ]
    },
    {
     "name": "stderr",
     "output_type": "stream",
     "text": [
      " 90%|█████████ | 353/392 [09:08<01:11,  1.84s/it]"
     ]
    },
    {
     "name": "stdout",
     "output_type": "stream",
     "text": [
      "Scraping  1  comments\n"
     ]
    },
    {
     "name": "stderr",
     "output_type": "stream",
     "text": [
      " 91%|█████████▏| 358/392 [09:14<00:42,  1.25s/it]"
     ]
    },
    {
     "name": "stdout",
     "output_type": "stream",
     "text": [
      "Scraping  10  comments\n",
      "Unable to parse comment!\n",
      "['HipaaHippo', 'Music Fan', '2022-05-21 10:32 AM']\n",
      "Unable to parse comment!\n",
      "['NightmindOfficial', 'Newbie', '2022-10-05 10:39 AM']\n",
      "Unable to parse comment!\n",
      "['HipaaHippo', 'Music Fan', '2022-10-05 08:58 PM']\n",
      "Unable to parse comment!\n",
      "['jpemelin', 'Casual Listener', '2022-12-27 04:55 AM']\n",
      "Unable to parse comment!\n",
      "['HipaaHippo', 'Music Fan', '2022-12-27 08:52 AM']\n",
      "Unable to parse comment!\n",
      "['jpemelin', 'Casual Listener', '2022-12-27 11:52 AM']\n",
      "Unable to parse comment!\n",
      "['HipaaHippo', 'Music Fan', '2022-12-27 04:07 PM']\n"
     ]
    },
    {
     "name": "stderr",
     "output_type": "stream",
     "text": [
      " 92%|█████████▏| 359/392 [09:18<01:14,  2.26s/it]"
     ]
    },
    {
     "name": "stdout",
     "output_type": "stream",
     "text": [
      "Scraping  5  comments\n",
      "Unable to parse comment!\n",
      "['WAVESKLR', 'Newbie', '2023-01-16 07:52 AM']\n",
      "Unable to parse comment!\n",
      "['HipaaHippo', 'Music Fan', '2023-01-16 07:38 PM']\n",
      "Unable to parse comment!\n",
      "['Alchemichai', 'Newbie', '2023-02-09 08:01 AM']\n"
     ]
    },
    {
     "name": "stderr",
     "output_type": "stream",
     "text": [
      " 92%|█████████▏| 360/392 [09:22<01:22,  2.57s/it]"
     ]
    },
    {
     "name": "stdout",
     "output_type": "stream",
     "text": [
      "Scraping  10  comments\n"
     ]
    },
    {
     "name": "stderr",
     "output_type": "stream",
     "text": [
      " 92%|█████████▏| 362/392 [09:25<01:07,  2.24s/it]"
     ]
    },
    {
     "name": "stdout",
     "output_type": "stream",
     "text": [
      "Scraping  2  comments\n"
     ]
    },
    {
     "name": "stderr",
     "output_type": "stream",
     "text": [
      " 93%|█████████▎| 363/392 [09:28<01:05,  2.27s/it]"
     ]
    },
    {
     "name": "stdout",
     "output_type": "stream",
     "text": [
      "Scraping  3  comments\n"
     ]
    },
    {
     "name": "stderr",
     "output_type": "stream",
     "text": [
      " 93%|█████████▎| 364/392 [09:29<01:00,  2.14s/it]"
     ]
    },
    {
     "name": "stdout",
     "output_type": "stream",
     "text": [
      "Scraping  1  comments\n"
     ]
    },
    {
     "name": "stderr",
     "output_type": "stream",
     "text": [
      " 93%|█████████▎| 365/392 [09:32<00:59,  2.19s/it]"
     ]
    },
    {
     "name": "stdout",
     "output_type": "stream",
     "text": [
      "Scraping  3  comments\n"
     ]
    },
    {
     "name": "stderr",
     "output_type": "stream",
     "text": [
      " 93%|█████████▎| 366/392 [09:34<00:57,  2.22s/it]"
     ]
    },
    {
     "name": "stdout",
     "output_type": "stream",
     "text": [
      "Scraping  2  comments\n"
     ]
    },
    {
     "name": "stderr",
     "output_type": "stream",
     "text": [
      " 94%|█████████▎| 367/392 [09:36<00:57,  2.29s/it]"
     ]
    },
    {
     "name": "stdout",
     "output_type": "stream",
     "text": [
      "Scraping  4  comments\n"
     ]
    },
    {
     "name": "stderr",
     "output_type": "stream",
     "text": [
      " 94%|█████████▍| 368/392 [09:39<00:53,  2.22s/it]"
     ]
    },
    {
     "name": "stdout",
     "output_type": "stream",
     "text": [
      "Scraping  3  comments\n"
     ]
    },
    {
     "name": "stderr",
     "output_type": "stream",
     "text": [
      " 94%|█████████▍| 369/392 [09:40<00:48,  2.09s/it]"
     ]
    },
    {
     "name": "stdout",
     "output_type": "stream",
     "text": [
      "Scraping  3  comments\n"
     ]
    },
    {
     "name": "stderr",
     "output_type": "stream",
     "text": [
      " 94%|█████████▍| 370/392 [09:42<00:43,  1.99s/it]"
     ]
    },
    {
     "name": "stdout",
     "output_type": "stream",
     "text": [
      "Scraping  2  comments\n"
     ]
    },
    {
     "name": "stderr",
     "output_type": "stream",
     "text": [
      " 95%|█████████▍| 371/392 [09:45<00:45,  2.17s/it]"
     ]
    },
    {
     "name": "stdout",
     "output_type": "stream",
     "text": [
      "Scraping  3  comments\n"
     ]
    },
    {
     "name": "stderr",
     "output_type": "stream",
     "text": [
      " 95%|█████████▍| 372/392 [09:47<00:44,  2.23s/it]"
     ]
    },
    {
     "name": "stdout",
     "output_type": "stream",
     "text": [
      "Scraping  2  comments\n"
     ]
    },
    {
     "name": "stderr",
     "output_type": "stream",
     "text": [
      " 95%|█████████▌| 373/392 [09:50<00:45,  2.39s/it]"
     ]
    },
    {
     "name": "stdout",
     "output_type": "stream",
     "text": [
      "Scraping  5  comments\n"
     ]
    },
    {
     "name": "stderr",
     "output_type": "stream",
     "text": [
      " 95%|█████████▌| 374/392 [09:52<00:43,  2.39s/it]"
     ]
    },
    {
     "name": "stdout",
     "output_type": "stream",
     "text": [
      "Scraping  2  comments\n"
     ]
    },
    {
     "name": "stderr",
     "output_type": "stream",
     "text": [
      " 96%|█████████▌| 375/392 [09:55<00:40,  2.36s/it]"
     ]
    },
    {
     "name": "stdout",
     "output_type": "stream",
     "text": [
      "Scraping  3  comments\n",
      "Unable to parse comment!\n",
      "['Noguri', 'Roadie', '2021-10-17 09:21 PM']\n"
     ]
    },
    {
     "name": "stderr",
     "output_type": "stream",
     "text": [
      " 96%|█████████▌| 376/392 [09:57<00:36,  2.28s/it]"
     ]
    },
    {
     "name": "stdout",
     "output_type": "stream",
     "text": [
      "Scraping  0  comments\n"
     ]
    },
    {
     "name": "stderr",
     "output_type": "stream",
     "text": [
      " 96%|█████████▌| 377/392 [09:59<00:35,  2.39s/it]"
     ]
    },
    {
     "name": "stdout",
     "output_type": "stream",
     "text": [
      "Scraping  0  comments\n"
     ]
    },
    {
     "name": "stderr",
     "output_type": "stream",
     "text": [
      " 96%|█████████▋| 378/392 [10:01<00:31,  2.27s/it]"
     ]
    },
    {
     "name": "stdout",
     "output_type": "stream",
     "text": [
      "Scraping  0  comments\n"
     ]
    },
    {
     "name": "stderr",
     "output_type": "stream",
     "text": [
      " 97%|█████████▋| 379/392 [10:03<00:27,  2.10s/it]"
     ]
    },
    {
     "name": "stdout",
     "output_type": "stream",
     "text": [
      "Scraping  1  comments\n"
     ]
    },
    {
     "name": "stderr",
     "output_type": "stream",
     "text": [
      " 97%|█████████▋| 380/392 [10:05<00:25,  2.10s/it]"
     ]
    },
    {
     "name": "stdout",
     "output_type": "stream",
     "text": [
      "Scraping  5  comments\n",
      "Unable to parse comment!\n",
      "['DarkSpider94', 'Casual Listener', '2017-08-07 07:21 PM']\n",
      "Unable to parse comment!\n",
      "['Jpgchief', 'Spotify Star', '2017-08-07 07:30 PM']\n",
      "Unable to parse comment!\n",
      "['heartscore', 'Community Legend', '2017-08-07 09:50 PM']\n"
     ]
    },
    {
     "name": "stderr",
     "output_type": "stream",
     "text": [
      " 97%|█████████▋| 381/392 [10:07<00:22,  2.01s/it]"
     ]
    },
    {
     "name": "stdout",
     "output_type": "stream",
     "text": [
      "Scraping  2  comments\n",
      "Unable to parse comment!\n",
      "['PotionMaster', 'Casual Listener', '2016-12-05 08:58 PM']\n"
     ]
    },
    {
     "name": "stderr",
     "output_type": "stream",
     "text": [
      " 97%|█████████▋| 382/392 [10:09<00:19,  2.00s/it]"
     ]
    },
    {
     "name": "stdout",
     "output_type": "stream",
     "text": [
      "Scraping  0  comments\n"
     ]
    },
    {
     "name": "stderr",
     "output_type": "stream",
     "text": [
      " 98%|█████████▊| 383/392 [10:11<00:18,  2.04s/it]"
     ]
    },
    {
     "name": "stdout",
     "output_type": "stream",
     "text": [
      "Scraping  0  comments\n"
     ]
    },
    {
     "name": "stderr",
     "output_type": "stream",
     "text": [
      " 98%|█████████▊| 384/392 [10:13<00:16,  2.00s/it]"
     ]
    },
    {
     "name": "stdout",
     "output_type": "stream",
     "text": [
      "Scraping  1  comments\n"
     ]
    },
    {
     "name": "stderr",
     "output_type": "stream",
     "text": [
      " 98%|█████████▊| 385/392 [10:15<00:15,  2.18s/it]"
     ]
    },
    {
     "name": "stdout",
     "output_type": "stream",
     "text": [
      "Scraping  2  comments\n",
      "Unable to parse comment!\n",
      "['egallt', 'Newbie', '2017-03-05 01:02 AM']\n",
      "Unable to parse comment!\n",
      "['architect', 'Music Fan', '2017-03-16 02:46 PM']\n"
     ]
    },
    {
     "name": "stderr",
     "output_type": "stream",
     "text": [
      " 98%|█████████▊| 386/392 [10:19<00:16,  2.67s/it]"
     ]
    },
    {
     "name": "stdout",
     "output_type": "stream",
     "text": [
      "Scraping  5  comments\n",
      "Unable to parse comment!\n",
      "['Pelzi66', 'Casual Listener', '2016-09-27 07:08 PM']\n",
      "Unable to parse comment!\n",
      "['Alejandar', 'Spotify']\n"
     ]
    },
    {
     "name": "stderr",
     "output_type": "stream",
     "text": [
      " 99%|█████████▊| 387/392 [10:21<00:12,  2.43s/it]"
     ]
    },
    {
     "name": "stdout",
     "output_type": "stream",
     "text": [
      "Scraping  5  comments\n",
      "Unable to parse comment!\n",
      "['juanaflor', 'Casual Listener', '2016-09-25 03:04 AM']\n",
      "Unable to parse comment!\n",
      "['Alejandar', 'Spotify']\n"
     ]
    },
    {
     "name": "stderr",
     "output_type": "stream",
     "text": [
      " 99%|█████████▉| 388/392 [10:24<00:10,  2.57s/it]"
     ]
    },
    {
     "name": "stdout",
     "output_type": "stream",
     "text": [
      "Scraping  4  comments\n",
      "Unable to parse comment!\n",
      "['Alejandar', 'Spotify']\n"
     ]
    },
    {
     "name": "stderr",
     "output_type": "stream",
     "text": [
      " 99%|█████████▉| 389/392 [10:26<00:07,  2.45s/it]"
     ]
    },
    {
     "name": "stdout",
     "output_type": "stream",
     "text": [
      "Scraping  3  comments\n",
      "Unable to parse comment!\n",
      "['Alejandar', 'Spotify']\n"
     ]
    },
    {
     "name": "stderr",
     "output_type": "stream",
     "text": [
      " 99%|█████████▉| 390/392 [10:28<00:04,  2.27s/it]"
     ]
    },
    {
     "name": "stdout",
     "output_type": "stream",
     "text": [
      "Scraping  3  comments\n",
      "Unable to parse comment!\n",
      "['Rockingspotify', 'Music Fan', '2016-09-25 11:07 AM']\n",
      "Unable to parse comment!\n",
      "['Alejandar', 'Spotify']\n"
     ]
    },
    {
     "name": "stderr",
     "output_type": "stream",
     "text": [
      "100%|██████████| 392/392 [10:30<00:00,  1.61s/it]\n"
     ]
    },
    {
     "name": "stdout",
     "output_type": "stream",
     "text": [
      "Scraping  1  comments\n"
     ]
    },
    {
     "name": "stderr",
     "output_type": "stream",
     "text": [
      "  0%|          | 0/648 [00:00<?, ?it/s]"
     ]
    },
    {
     "name": "stdout",
     "output_type": "stream",
     "text": [
      "Scraping  10  comments\n",
      "Scraping  10  comments\n",
      "Scraping  10  comments\n",
      "Scraping  10  comments\n",
      "Scraping  10  comments\n",
      "Scraping  10  comments\n",
      "Scraping  10  comments\n",
      "Scraping  10  comments\n",
      "Scraping  10  comments\n",
      "Scraping  10  comments\n",
      "Scraping  10  comments\n",
      "Scraping  10  comments\n",
      "Scraping  10  comments\n"
     ]
    },
    {
     "name": "stderr",
     "output_type": "stream",
     "text": [
      "  0%|          | 0/648 [00:14<?, ?it/s]\n"
     ]
    },
    {
     "ename": "KeyboardInterrupt",
     "evalue": "",
     "output_type": "error",
     "traceback": [
      "\u001b[0;31m---------------------------------------------------------------------------\u001b[0m",
      "\u001b[0;31mKeyboardInterrupt\u001b[0m                         Traceback (most recent call last)",
      "Cell \u001b[0;32mIn[4], line 83\u001b[0m\n\u001b[1;32m     79\u001b[0m \u001b[39mif\u001b[39;00m keyword \u001b[39m==\u001b[39m \u001b[39m\"\u001b[39m\u001b[39mimplemented\u001b[39m\u001b[39m\"\u001b[39m:\n\u001b[1;32m     80\u001b[0m     comment_page_url \u001b[39m=\u001b[39m link\u001b[39m.\u001b[39msplit(\u001b[39m'\u001b[39m\u001b[39m?\u001b[39m\u001b[39m'\u001b[39m)[\u001b[39m0\u001b[39m] \u001b[39m+\u001b[39m \u001b[39mf\u001b[39m\u001b[39m'\u001b[39m\u001b[39m/page/\u001b[39m\u001b[39m{\u001b[39;00mcomment_page\u001b[39m \u001b[39m\u001b[39m+\u001b[39m\u001b[39m \u001b[39m\u001b[39m1\u001b[39m\u001b[39m}\u001b[39;00m\u001b[39m#comments\u001b[39m\u001b[39m'\u001b[39m\n\u001b[0;32m---> 83\u001b[0m driver\u001b[39m.\u001b[39;49mget(comment_page_url)\n\u001b[1;32m     84\u001b[0m comment_soup \u001b[39m=\u001b[39m BeautifulSoup(driver\u001b[39m.\u001b[39mpage_source, \u001b[39m'\u001b[39m\u001b[39mhtml.parser\u001b[39m\u001b[39m'\u001b[39m)\n\u001b[1;32m     85\u001b[0m comments_list \u001b[39m=\u001b[39m comment_soup\u001b[39m.\u001b[39mfindAll(\u001b[39m'\u001b[39m\u001b[39mdiv\u001b[39m\u001b[39m'\u001b[39m, class_\u001b[39m=\u001b[39m\u001b[39m'\u001b[39m\u001b[39mlia-message-view-idea-reply-message\u001b[39m\u001b[39m'\u001b[39m)\n",
      "File \u001b[0;32m/opt/homebrew/lib/python3.11/site-packages/selenium/webdriver/remote/webdriver.py:449\u001b[0m, in \u001b[0;36mWebDriver.get\u001b[0;34m(self, url)\u001b[0m\n\u001b[1;32m    447\u001b[0m \u001b[39mdef\u001b[39;00m \u001b[39mget\u001b[39m(\u001b[39mself\u001b[39m, url: \u001b[39mstr\u001b[39m) \u001b[39m-\u001b[39m\u001b[39m>\u001b[39m \u001b[39mNone\u001b[39;00m:\n\u001b[1;32m    448\u001b[0m \u001b[39m    \u001b[39m\u001b[39m\"\"\"Loads a web page in the current browser session.\"\"\"\u001b[39;00m\n\u001b[0;32m--> 449\u001b[0m     \u001b[39mself\u001b[39;49m\u001b[39m.\u001b[39;49mexecute(Command\u001b[39m.\u001b[39;49mGET, {\u001b[39m\"\u001b[39;49m\u001b[39murl\u001b[39;49m\u001b[39m\"\u001b[39;49m: url})\n",
      "File \u001b[0;32m/opt/homebrew/lib/python3.11/site-packages/selenium/webdriver/remote/webdriver.py:438\u001b[0m, in \u001b[0;36mWebDriver.execute\u001b[0;34m(self, driver_command, params)\u001b[0m\n\u001b[1;32m    435\u001b[0m     \u001b[39melif\u001b[39;00m \u001b[39m\"\u001b[39m\u001b[39msessionId\u001b[39m\u001b[39m\"\u001b[39m \u001b[39mnot\u001b[39;00m \u001b[39min\u001b[39;00m params:\n\u001b[1;32m    436\u001b[0m         params[\u001b[39m\"\u001b[39m\u001b[39msessionId\u001b[39m\u001b[39m\"\u001b[39m] \u001b[39m=\u001b[39m \u001b[39mself\u001b[39m\u001b[39m.\u001b[39msession_id\n\u001b[0;32m--> 438\u001b[0m response \u001b[39m=\u001b[39m \u001b[39mself\u001b[39;49m\u001b[39m.\u001b[39;49mcommand_executor\u001b[39m.\u001b[39;49mexecute(driver_command, params)\n\u001b[1;32m    439\u001b[0m \u001b[39mif\u001b[39;00m response:\n\u001b[1;32m    440\u001b[0m     \u001b[39mself\u001b[39m\u001b[39m.\u001b[39merror_handler\u001b[39m.\u001b[39mcheck_response(response)\n",
      "File \u001b[0;32m/opt/homebrew/lib/python3.11/site-packages/selenium/webdriver/remote/remote_connection.py:290\u001b[0m, in \u001b[0;36mRemoteConnection.execute\u001b[0;34m(self, command, params)\u001b[0m\n\u001b[1;32m    288\u001b[0m data \u001b[39m=\u001b[39m utils\u001b[39m.\u001b[39mdump_json(params)\n\u001b[1;32m    289\u001b[0m url \u001b[39m=\u001b[39m \u001b[39mf\u001b[39m\u001b[39m\"\u001b[39m\u001b[39m{\u001b[39;00m\u001b[39mself\u001b[39m\u001b[39m.\u001b[39m_url\u001b[39m}\u001b[39;00m\u001b[39m{\u001b[39;00mpath\u001b[39m}\u001b[39;00m\u001b[39m\"\u001b[39m\n\u001b[0;32m--> 290\u001b[0m \u001b[39mreturn\u001b[39;00m \u001b[39mself\u001b[39;49m\u001b[39m.\u001b[39;49m_request(command_info[\u001b[39m0\u001b[39;49m], url, body\u001b[39m=\u001b[39;49mdata)\n",
      "File \u001b[0;32m/opt/homebrew/lib/python3.11/site-packages/selenium/webdriver/remote/remote_connection.py:311\u001b[0m, in \u001b[0;36mRemoteConnection._request\u001b[0;34m(self, method, url, body)\u001b[0m\n\u001b[1;32m    308\u001b[0m     body \u001b[39m=\u001b[39m \u001b[39mNone\u001b[39;00m\n\u001b[1;32m    310\u001b[0m \u001b[39mif\u001b[39;00m \u001b[39mself\u001b[39m\u001b[39m.\u001b[39mkeep_alive:\n\u001b[0;32m--> 311\u001b[0m     response \u001b[39m=\u001b[39m \u001b[39mself\u001b[39;49m\u001b[39m.\u001b[39;49m_conn\u001b[39m.\u001b[39;49mrequest(method, url, body\u001b[39m=\u001b[39;49mbody, headers\u001b[39m=\u001b[39;49mheaders)\n\u001b[1;32m    312\u001b[0m     statuscode \u001b[39m=\u001b[39m response\u001b[39m.\u001b[39mstatus\n\u001b[1;32m    313\u001b[0m \u001b[39melse\u001b[39;00m:\n",
      "File \u001b[0;32m/opt/homebrew/lib/python3.11/site-packages/urllib3/request.py:78\u001b[0m, in \u001b[0;36mRequestMethods.request\u001b[0;34m(self, method, url, fields, headers, **urlopen_kw)\u001b[0m\n\u001b[1;32m     74\u001b[0m     \u001b[39mreturn\u001b[39;00m \u001b[39mself\u001b[39m\u001b[39m.\u001b[39mrequest_encode_url(\n\u001b[1;32m     75\u001b[0m         method, url, fields\u001b[39m=\u001b[39mfields, headers\u001b[39m=\u001b[39mheaders, \u001b[39m*\u001b[39m\u001b[39m*\u001b[39murlopen_kw\n\u001b[1;32m     76\u001b[0m     )\n\u001b[1;32m     77\u001b[0m \u001b[39melse\u001b[39;00m:\n\u001b[0;32m---> 78\u001b[0m     \u001b[39mreturn\u001b[39;00m \u001b[39mself\u001b[39;49m\u001b[39m.\u001b[39;49mrequest_encode_body(\n\u001b[1;32m     79\u001b[0m         method, url, fields\u001b[39m=\u001b[39;49mfields, headers\u001b[39m=\u001b[39;49mheaders, \u001b[39m*\u001b[39;49m\u001b[39m*\u001b[39;49murlopen_kw\n\u001b[1;32m     80\u001b[0m     )\n",
      "File \u001b[0;32m/opt/homebrew/lib/python3.11/site-packages/urllib3/request.py:170\u001b[0m, in \u001b[0;36mRequestMethods.request_encode_body\u001b[0;34m(self, method, url, fields, headers, encode_multipart, multipart_boundary, **urlopen_kw)\u001b[0m\n\u001b[1;32m    167\u001b[0m extra_kw[\u001b[39m\"\u001b[39m\u001b[39mheaders\u001b[39m\u001b[39m\"\u001b[39m]\u001b[39m.\u001b[39mupdate(headers)\n\u001b[1;32m    168\u001b[0m extra_kw\u001b[39m.\u001b[39mupdate(urlopen_kw)\n\u001b[0;32m--> 170\u001b[0m \u001b[39mreturn\u001b[39;00m \u001b[39mself\u001b[39;49m\u001b[39m.\u001b[39;49murlopen(method, url, \u001b[39m*\u001b[39;49m\u001b[39m*\u001b[39;49mextra_kw)\n",
      "File \u001b[0;32m/opt/homebrew/lib/python3.11/site-packages/urllib3/poolmanager.py:376\u001b[0m, in \u001b[0;36mPoolManager.urlopen\u001b[0;34m(self, method, url, redirect, **kw)\u001b[0m\n\u001b[1;32m    374\u001b[0m     response \u001b[39m=\u001b[39m conn\u001b[39m.\u001b[39murlopen(method, url, \u001b[39m*\u001b[39m\u001b[39m*\u001b[39mkw)\n\u001b[1;32m    375\u001b[0m \u001b[39melse\u001b[39;00m:\n\u001b[0;32m--> 376\u001b[0m     response \u001b[39m=\u001b[39m conn\u001b[39m.\u001b[39;49murlopen(method, u\u001b[39m.\u001b[39;49mrequest_uri, \u001b[39m*\u001b[39;49m\u001b[39m*\u001b[39;49mkw)\n\u001b[1;32m    378\u001b[0m redirect_location \u001b[39m=\u001b[39m redirect \u001b[39mand\u001b[39;00m response\u001b[39m.\u001b[39mget_redirect_location()\n\u001b[1;32m    379\u001b[0m \u001b[39mif\u001b[39;00m \u001b[39mnot\u001b[39;00m redirect_location:\n",
      "File \u001b[0;32m/opt/homebrew/lib/python3.11/site-packages/urllib3/connectionpool.py:703\u001b[0m, in \u001b[0;36mHTTPConnectionPool.urlopen\u001b[0;34m(self, method, url, body, headers, retries, redirect, assert_same_host, timeout, pool_timeout, release_conn, chunked, body_pos, **response_kw)\u001b[0m\n\u001b[1;32m    700\u001b[0m     \u001b[39mself\u001b[39m\u001b[39m.\u001b[39m_prepare_proxy(conn)\n\u001b[1;32m    702\u001b[0m \u001b[39m# Make the request on the httplib connection object.\u001b[39;00m\n\u001b[0;32m--> 703\u001b[0m httplib_response \u001b[39m=\u001b[39m \u001b[39mself\u001b[39;49m\u001b[39m.\u001b[39;49m_make_request(\n\u001b[1;32m    704\u001b[0m     conn,\n\u001b[1;32m    705\u001b[0m     method,\n\u001b[1;32m    706\u001b[0m     url,\n\u001b[1;32m    707\u001b[0m     timeout\u001b[39m=\u001b[39;49mtimeout_obj,\n\u001b[1;32m    708\u001b[0m     body\u001b[39m=\u001b[39;49mbody,\n\u001b[1;32m    709\u001b[0m     headers\u001b[39m=\u001b[39;49mheaders,\n\u001b[1;32m    710\u001b[0m     chunked\u001b[39m=\u001b[39;49mchunked,\n\u001b[1;32m    711\u001b[0m )\n\u001b[1;32m    713\u001b[0m \u001b[39m# If we're going to release the connection in ``finally:``, then\u001b[39;00m\n\u001b[1;32m    714\u001b[0m \u001b[39m# the response doesn't need to know about the connection. Otherwise\u001b[39;00m\n\u001b[1;32m    715\u001b[0m \u001b[39m# it will also try to release it and we'll have a double-release\u001b[39;00m\n\u001b[1;32m    716\u001b[0m \u001b[39m# mess.\u001b[39;00m\n\u001b[1;32m    717\u001b[0m response_conn \u001b[39m=\u001b[39m conn \u001b[39mif\u001b[39;00m \u001b[39mnot\u001b[39;00m release_conn \u001b[39melse\u001b[39;00m \u001b[39mNone\u001b[39;00m\n",
      "File \u001b[0;32m/opt/homebrew/lib/python3.11/site-packages/urllib3/connectionpool.py:449\u001b[0m, in \u001b[0;36mHTTPConnectionPool._make_request\u001b[0;34m(self, conn, method, url, timeout, chunked, **httplib_request_kw)\u001b[0m\n\u001b[1;32m    444\u001b[0m             httplib_response \u001b[39m=\u001b[39m conn\u001b[39m.\u001b[39mgetresponse()\n\u001b[1;32m    445\u001b[0m         \u001b[39mexcept\u001b[39;00m \u001b[39mBaseException\u001b[39;00m \u001b[39mas\u001b[39;00m e:\n\u001b[1;32m    446\u001b[0m             \u001b[39m# Remove the TypeError from the exception chain in\u001b[39;00m\n\u001b[1;32m    447\u001b[0m             \u001b[39m# Python 3 (including for exceptions like SystemExit).\u001b[39;00m\n\u001b[1;32m    448\u001b[0m             \u001b[39m# Otherwise it looks like a bug in the code.\u001b[39;00m\n\u001b[0;32m--> 449\u001b[0m             six\u001b[39m.\u001b[39;49mraise_from(e, \u001b[39mNone\u001b[39;49;00m)\n\u001b[1;32m    450\u001b[0m \u001b[39mexcept\u001b[39;00m (SocketTimeout, BaseSSLError, SocketError) \u001b[39mas\u001b[39;00m e:\n\u001b[1;32m    451\u001b[0m     \u001b[39mself\u001b[39m\u001b[39m.\u001b[39m_raise_timeout(err\u001b[39m=\u001b[39me, url\u001b[39m=\u001b[39murl, timeout_value\u001b[39m=\u001b[39mread_timeout)\n",
      "File \u001b[0;32m<string>:3\u001b[0m, in \u001b[0;36mraise_from\u001b[0;34m(value, from_value)\u001b[0m\n",
      "File \u001b[0;32m/opt/homebrew/lib/python3.11/site-packages/urllib3/connectionpool.py:444\u001b[0m, in \u001b[0;36mHTTPConnectionPool._make_request\u001b[0;34m(self, conn, method, url, timeout, chunked, **httplib_request_kw)\u001b[0m\n\u001b[1;32m    441\u001b[0m \u001b[39mexcept\u001b[39;00m \u001b[39mTypeError\u001b[39;00m:\n\u001b[1;32m    442\u001b[0m     \u001b[39m# Python 3\u001b[39;00m\n\u001b[1;32m    443\u001b[0m     \u001b[39mtry\u001b[39;00m:\n\u001b[0;32m--> 444\u001b[0m         httplib_response \u001b[39m=\u001b[39m conn\u001b[39m.\u001b[39;49mgetresponse()\n\u001b[1;32m    445\u001b[0m     \u001b[39mexcept\u001b[39;00m \u001b[39mBaseException\u001b[39;00m \u001b[39mas\u001b[39;00m e:\n\u001b[1;32m    446\u001b[0m         \u001b[39m# Remove the TypeError from the exception chain in\u001b[39;00m\n\u001b[1;32m    447\u001b[0m         \u001b[39m# Python 3 (including for exceptions like SystemExit).\u001b[39;00m\n\u001b[1;32m    448\u001b[0m         \u001b[39m# Otherwise it looks like a bug in the code.\u001b[39;00m\n\u001b[1;32m    449\u001b[0m         six\u001b[39m.\u001b[39mraise_from(e, \u001b[39mNone\u001b[39;00m)\n",
      "File \u001b[0;32m/opt/homebrew/Cellar/python@3.11/3.11.2_1/Frameworks/Python.framework/Versions/3.11/lib/python3.11/http/client.py:1374\u001b[0m, in \u001b[0;36mHTTPConnection.getresponse\u001b[0;34m(self)\u001b[0m\n\u001b[1;32m   1372\u001b[0m \u001b[39mtry\u001b[39;00m:\n\u001b[1;32m   1373\u001b[0m     \u001b[39mtry\u001b[39;00m:\n\u001b[0;32m-> 1374\u001b[0m         response\u001b[39m.\u001b[39;49mbegin()\n\u001b[1;32m   1375\u001b[0m     \u001b[39mexcept\u001b[39;00m \u001b[39mConnectionError\u001b[39;00m:\n\u001b[1;32m   1376\u001b[0m         \u001b[39mself\u001b[39m\u001b[39m.\u001b[39mclose()\n",
      "File \u001b[0;32m/opt/homebrew/Cellar/python@3.11/3.11.2_1/Frameworks/Python.framework/Versions/3.11/lib/python3.11/http/client.py:318\u001b[0m, in \u001b[0;36mHTTPResponse.begin\u001b[0;34m(self)\u001b[0m\n\u001b[1;32m    316\u001b[0m \u001b[39m# read until we get a non-100 response\u001b[39;00m\n\u001b[1;32m    317\u001b[0m \u001b[39mwhile\u001b[39;00m \u001b[39mTrue\u001b[39;00m:\n\u001b[0;32m--> 318\u001b[0m     version, status, reason \u001b[39m=\u001b[39m \u001b[39mself\u001b[39;49m\u001b[39m.\u001b[39;49m_read_status()\n\u001b[1;32m    319\u001b[0m     \u001b[39mif\u001b[39;00m status \u001b[39m!=\u001b[39m CONTINUE:\n\u001b[1;32m    320\u001b[0m         \u001b[39mbreak\u001b[39;00m\n",
      "File \u001b[0;32m/opt/homebrew/Cellar/python@3.11/3.11.2_1/Frameworks/Python.framework/Versions/3.11/lib/python3.11/http/client.py:279\u001b[0m, in \u001b[0;36mHTTPResponse._read_status\u001b[0;34m(self)\u001b[0m\n\u001b[1;32m    278\u001b[0m \u001b[39mdef\u001b[39;00m \u001b[39m_read_status\u001b[39m(\u001b[39mself\u001b[39m):\n\u001b[0;32m--> 279\u001b[0m     line \u001b[39m=\u001b[39m \u001b[39mstr\u001b[39m(\u001b[39mself\u001b[39m\u001b[39m.\u001b[39mfp\u001b[39m.\u001b[39mreadline(_MAXLINE \u001b[39m+\u001b[39m \u001b[39m1\u001b[39m), \u001b[39m\"\u001b[39m\u001b[39miso-8859-1\u001b[39m\u001b[39m\"\u001b[39m)\n\u001b[1;32m    280\u001b[0m     \u001b[39mif\u001b[39;00m \u001b[39mlen\u001b[39m(line) \u001b[39m>\u001b[39m _MAXLINE:\n\u001b[1;32m    281\u001b[0m         \u001b[39mraise\u001b[39;00m LineTooLong(\u001b[39m\"\u001b[39m\u001b[39mstatus line\u001b[39m\u001b[39m\"\u001b[39m)\n",
      "File \u001b[0;32m/opt/homebrew/Cellar/python@3.11/3.11.2_1/Frameworks/Python.framework/Versions/3.11/lib/python3.11/socket.py:706\u001b[0m, in \u001b[0;36mSocketIO.readinto\u001b[0;34m(self, b)\u001b[0m\n\u001b[1;32m    704\u001b[0m \u001b[39mwhile\u001b[39;00m \u001b[39mTrue\u001b[39;00m:\n\u001b[1;32m    705\u001b[0m     \u001b[39mtry\u001b[39;00m:\n\u001b[0;32m--> 706\u001b[0m         \u001b[39mreturn\u001b[39;00m \u001b[39mself\u001b[39;49m\u001b[39m.\u001b[39;49m_sock\u001b[39m.\u001b[39;49mrecv_into(b)\n\u001b[1;32m    707\u001b[0m     \u001b[39mexcept\u001b[39;00m timeout:\n\u001b[1;32m    708\u001b[0m         \u001b[39mself\u001b[39m\u001b[39m.\u001b[39m_timeout_occurred \u001b[39m=\u001b[39m \u001b[39mTrue\u001b[39;00m\n",
      "\u001b[0;31mKeyboardInterrupt\u001b[0m: "
     ]
    }
   ],
   "source": [
    "from datetime import date, timedelta\n",
    "\n",
    "today = date.today() - timedelta(days = 1)\n",
    "\n",
    "df = pd.DataFrame(columns=['keyword', 'title', 'author', 'body', 'time', 'date', 'status', 'votes', 'num_comments', 'num_comment_pages', 'link', 'has_status_update', 'status_message', 'status_update_date'])\n",
    "df2 = pd.DataFrame(columns=['keyword', 'title', 'comment_date', 'username', 'rank', 'text', 'likes', 'is_official_comment'])\n",
    "comments_list = []\n",
    "no_author = []\n",
    "idx = 0\n",
    "idx2 = 68894\n",
    "\n",
    "link_dir = 'idea_links'\n",
    "\n",
    "# Go thorugh all files in directory\n",
    "for link_file in os.listdir(link_dir):\n",
    "    if link_file == 'implemented_post_links.txt':\n",
    "        continue\n",
    "\n",
    "    # Format keyword from file name\n",
    "    keyword = link_file.split('_')[0]\n",
    "    \n",
    "    # Open file\n",
    "    with open(os.path.join(link_dir, link_file)) as f:\n",
    "        links = f.read().split('\\n')\n",
    "        \n",
    "    # Iterate over all links in file\n",
    "    for link in tqdm(links):\n",
    "        if link == '': continue\n",
    "        if idx < 135: \n",
    "            idx = idx + 1\n",
    "            continue\n",
    "            \n",
    "        # Parse linkG\n",
    "        driver.get(link)\n",
    "        soup = BeautifulSoup(driver.page_source, 'html.parser')\n",
    "        \n",
    "        # ONLY FOR IMPLEMENTED POSTS\n",
    "        # fetch official status\n",
    "\n",
    "        try:\n",
    "            status_component = soup.find('div', class_=\"lia-status-comment-body\").getText()\n",
    "            has_status_update = True\n",
    "            status_component = status_component.replace(\"\\t\", \" \")\n",
    "            status_component = status_component.replace(\"\\n\", \" \")\n",
    "            status_message = status_component\n",
    "            status_date = status_message.split()[2]\n",
    "            # print(status_date)\n",
    "\n",
    "        except:\n",
    "            has_status_update = False\n",
    "            status_message = ''\n",
    "            status_date = ''\n",
    "\n",
    "        \n",
    "        # Retrieve the title\n",
    "        try:\n",
    "            title = ' '.join(soup.find('div', class_='lia-message-subject').getText().split())\n",
    "        except:\n",
    "            # No permission to view link\n",
    "            continue\n",
    "\n",
    "        body = ' '.join(soup.find('div', class_='lia-message-body-content').getText().split())\n",
    "\n",
    "\n",
    "        # Retrieve the number of comment pages\n",
    "        try:\n",
    "            num_comment_pages = int(soup.find('li', class_=re.compile('lia-paging-page-last lia-js-data-pageNum-[0-9]+'))['class'][-1].split('-')[-1])\n",
    "        except:\n",
    "            num_comment_pages = 1\n",
    "\n",
    "\n",
    "        ## data model for comments\n",
    "        ## array of {comment_date, comment_time, poster_username, poster_rank, comment_text, like_count, is_official_comment}\n",
    "        # Comments scraping logic\n",
    "\n",
    "        for comment_page in range(num_comment_pages):\n",
    "            comment_page_url = f'{link}/page/{comment_page + 1}#comments'\n",
    "            \n",
    "            if keyword == \"implemented\":\n",
    "                comment_page_url = link.split('?')[0] + f'/page/{comment_page + 1}#comments'\n",
    "                \n",
    "\n",
    "            driver.get(comment_page_url)\n",
    "            comment_soup = BeautifulSoup(driver.page_source, 'html.parser')\n",
    "            comments_list = comment_soup.findAll('div', class_='lia-message-view-idea-reply-message')\n",
    "            author_rank = comment_soup.findAll('div', class_='lia-message-author-rank')\n",
    "            author_username = comment_soup.findAll('span', class_='UserName')\n",
    "            \n",
    "            print(\"Scraping \", len(comments_list) , \" comments\")\n",
    "\n",
    "            for comment in comments_list:\n",
    "                try:\n",
    "                    raw_text = \" \".join(comment.getText().strip().split(\"\\n\"))\n",
    "                    raw_text = raw_text.replace(\"Mark as Read Mark as New     Bookmark     Permalink Print     Report Inappropriate Content\", \"\")\n",
    "                    raw_text = raw_text.replace(\"\\u200e\", \"\")\n",
    "                    parsed_text =  [p.strip() for p in re.split(r'\\s{2,}', raw_text) if len(p.strip()) > 0]\n",
    "                    parsed_text.pop()\n",
    "\n",
    "                    username = parsed_text[0]\n",
    "                    rank = parsed_text[1]\n",
    "                    timestamp = parsed_text[2]\n",
    "                    likes = parsed_text[-1]\n",
    "\n",
    "                    is_official_comment = False\n",
    "\n",
    "                    if rank == 'Spotify':\n",
    "                        is_official_comment = True\n",
    "\n",
    "                    if parsed_text[3].startswith(\"Status changed to\"):\n",
    "                        is_official_comment = True\n",
    "                    \n",
    "                    comment = parsed_text[3]\n",
    "\n",
    "                    if (len(parsed_text) > 5):\n",
    "                        copy_parsed_text = parsed_text\n",
    "                        copy_parsed_text.pop()\n",
    "                        copy_parsed_text.pop(0)\n",
    "                        copy_parsed_text.pop(0)\n",
    "                        copy_parsed_text.pop(0)\n",
    "                        comment = \" \".join(copy_parsed_text)\n",
    "                        \n",
    "                    df2_new = pd.DataFrame({\n",
    "                        'keyword':keyword, 'title': title, 'comment_date': timestamp, 'username': username, 'rank': rank, 'text': comment, 'likes': likes, 'is_official_comment': is_official_comment\n",
    "                    }, index=[idx2])\n",
    "                    \n",
    "                    df2_new.to_csv('all-comments-' + today.strftime(\"%b-%d-%Y\") + '.csv', mode='a', header=False)\n",
    "\n",
    "                except:\n",
    "                    print(\"Unable to parse comment!\")\n",
    "                    print(parsed_text)\n",
    "                \n",
    "                df2 = pd.concat([df2, df2_new])\n",
    "                idx2 += 1\n",
    "\n",
    "\n",
    "        # Locate author section\n",
    "        try:\n",
    "            author_span = soup.find('span', {'class':\n",
    "                                             ['lia-message-byline lia-message-byline-author-date lia-component-byline-author-date lia-component-message-view-widget-byline-author-date',\n",
    "                                              re.compile('lia-user-name lia-user-rank-.* lia-component-message-view-widget-author-username'),\n",
    "                                             ]})\n",
    "\n",
    "            # If there is an author, find here\n",
    "            try:\n",
    "                author = author_span.find('a', class_='lia-link-navigation lia-page-link lia-user-name-link')['aria-label']\n",
    "                author = author.split('View Profile of ')[1]\n",
    "            # Otherwise, author was removed. Value is 'user-removed'\n",
    "            except:\n",
    "                author = author_span.find('span', class_='anon-user').getText()\n",
    "        except:\n",
    "            continue\n",
    "\n",
    "        # Locate date and time\n",
    "        try:\n",
    "            date = soup.find('span', class_='local-date').getText()\n",
    "            time = soup.find('span', class_='local-time').getText()\n",
    "        except:\n",
    "            stamp = soup.find('span', class_='local-friendly-date')['title']\n",
    "            date = stamp.split()[0]\n",
    "            time = stamp.split()[1] + ' ' + stamp.split()[2]\n",
    "        \n",
    "        # Locate post status\n",
    "        try:\n",
    "            status_span = soup.find('span', class_=re.compile('MessageStatus lia-status lia-status-idea-.* lia-status-completed lia-component-message-status lia-component-message-view-widget-message-status'))\n",
    "                                                    \n",
    "            status = status_span.find('a', class_='lia-link-navigation message-status-link').getText()\n",
    "        except:\n",
    "            status = soup.find('span', class_='lia-img-message-type-solved lia-fa-message lia-fa-type lia-fa-solved lia-fa')\n",
    "            if status != None:\n",
    "                status = status['title']\n",
    "\n",
    "        # If there is a vote count, find it\n",
    "        try:\n",
    "            votes = soup.find('span', class_='MessageKudosCount lia-component-kudos-widget-message-kudos-count').getText()\n",
    "            votes = int(votes.replace(',', ''))\n",
    "        # Otherwise, set votes to -1\n",
    "        except:\n",
    "            votes = -1\n",
    "\n",
    "        # Update dataframe with new data\n",
    "        df_new = pd.DataFrame({\n",
    "            'keyword':keyword, 'title': title, 'author': author, 'body': body, 'time': time, 'date': date,\n",
    "            'status': keyword, 'votes': votes, 'num_comments':num_comment_pages*10, 'num_comment_pages':num_comment_pages, 'link': link,\n",
    "            'has_status_update': has_status_update, 'status_message': status_message, 'status_update_date': status_date\n",
    "        }, index=[idx + 320])\n",
    "\n",
    "        df = pd.concat([df, df_new])\n",
    "\n",
    "        idx = idx + 1\n",
    "\n",
    "        df_new.to_csv('all-posts-' + today.strftime(\"%b-%d-%Y\") + '.csv', mode='a', header=False)\n",
    "\n"
   ]
  },
  {
   "cell_type": "markdown",
   "id": "smooth-lawyer",
   "metadata": {},
   "source": [
    "#### Filter out non-english comments"
   ]
  },
  {
   "cell_type": "code",
   "execution_count": null,
   "id": "comfortable-thing",
   "metadata": {},
   "outputs": [],
   "source": [
    "def get_lang(row):\n",
    "    try:\n",
    "        return detect(row['body'])\n",
    "    except:\n",
    "        print(row['link'])\n",
    "        return None\n",
    "    \n",
    "df['lang'] = df.apply(lambda row: get_lang(row), axis=1)"
   ]
  },
  {
   "cell_type": "code",
   "execution_count": null,
   "id": "interesting-conference",
   "metadata": {},
   "outputs": [],
   "source": [
    "df = df.loc[df['lang'] == 'en']\n",
    "df"
   ]
  },
  {
   "cell_type": "markdown",
   "id": "induced-activation",
   "metadata": {},
   "source": [
    "# Write to file\n",
    "\n",
    "Dataframe contains one column per useful attribute. If there is no status, the value is None. If there is no vote count, the value is -1."
   ]
  },
  {
   "cell_type": "code",
   "execution_count": null,
   "id": "experimental-construction",
   "metadata": {},
   "outputs": [],
   "source": [
    "from datetime import date\n",
    "\n",
    "today = date.today()\n",
    "\n",
    "df = df.drop_duplicates(subset='body')\n",
    "df.to_csv('posts-en-' + today.strftime(\"%b-%d-%Y\") + '.csv')\n",
    "df2.to_csv('comments-en-' + today.strftime(\"%b-%d-%Y\") + '.csv')"
   ]
  },
  {
   "cell_type": "code",
   "execution_count": null,
   "metadata": {},
   "outputs": [],
   "source": []
  },
  {
   "cell_type": "code",
   "execution_count": null,
   "id": "40405cca",
   "metadata": {},
   "outputs": [],
   "source": []
  },
  {
   "cell_type": "code",
   "execution_count": null,
   "id": "5fb654c6",
   "metadata": {},
   "outputs": [],
   "source": []
  },
  {
   "cell_type": "code",
   "execution_count": null,
   "id": "90dfa5f9",
   "metadata": {},
   "outputs": [],
   "source": []
  },
  {
   "cell_type": "code",
   "execution_count": null,
   "id": "7dcae37c",
   "metadata": {},
   "outputs": [],
   "source": []
  },
  {
   "cell_type": "code",
   "execution_count": null,
   "id": "6d1de105",
   "metadata": {},
   "outputs": [],
   "source": []
  },
  {
   "cell_type": "code",
   "execution_count": null,
   "id": "3c791107",
   "metadata": {},
   "outputs": [],
   "source": []
  },
  {
   "cell_type": "code",
   "execution_count": null,
   "id": "8a614e78",
   "metadata": {},
   "outputs": [],
   "source": []
  },
  {
   "cell_type": "code",
   "execution_count": null,
   "id": "45c10a28",
   "metadata": {},
   "outputs": [],
   "source": []
  }
 ],
 "metadata": {
  "kernelspec": {
   "display_name": "Python 3 (ipykernel)",
   "language": "python",
   "name": "python3"
  },
  "language_info": {
   "codemirror_mode": {
    "name": "ipython",
    "version": 3
   },
   "file_extension": ".py",
   "mimetype": "text/x-python",
   "name": "python",
   "nbconvert_exporter": "python",
   "pygments_lexer": "ipython3",
   "version": "3.11.2"
  }
 },
 "nbformat": 4,
 "nbformat_minor": 5
}
