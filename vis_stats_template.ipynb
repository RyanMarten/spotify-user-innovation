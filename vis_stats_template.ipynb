{
 "cells": [
  {
   "cell_type": "code",
   "execution_count": 2,
   "id": "58917372",
   "metadata": {},
   "outputs": [],
   "source": [
    "import numpy as np\n",
    "import pandas as pd"
   ]
  },
  {
   "cell_type": "code",
   "execution_count": 3,
   "id": "09a4d97d",
   "metadata": {},
   "outputs": [],
   "source": [
    "# scraped csv file\n",
    "# header format: 0,keyword,title,author,body,time,date,status,votes,num_comments,num_comment_pages,link,lang\n",
    "file = 'posts-en.csv'"
   ]
  },
  {
   "cell_type": "code",
   "execution_count": 4,
   "id": "609d4da0",
   "metadata": {},
   "outputs": [
    {
     "name": "stdout",
     "output_type": "stream",
     "text": [
      "Index(['Unnamed: 0', 'keyword', 'title', 'author', 'body', 'time', 'date',\n",
      "       'status', 'votes', 'num_comments', 'num_comment_pages', 'link', 'lang'],\n",
      "      dtype='object')\n",
      "# of Posts: 911\n"
     ]
    }
   ],
   "source": [
    "df_posts = pd.read_csv(file)\n",
    "print(df_posts.columns)\n",
    "print(f'# of Posts: {df_posts.shape[0]}')"
   ]
  },
  {
   "cell_type": "code",
   "execution_count": 5,
   "id": "dec434c6",
   "metadata": {},
   "outputs": [],
   "source": [
    "def compute_avg(df = df_posts, column = 'votes', keyword = 'implemented'):\n",
    "    '''\n",
    "    df: pandas dataframe of scraped csv\n",
    "    column: choose from - body, votes, num_comments, num_comment_pages\n",
    "    keyword: choose from - implemented, closed, live, or all\n",
    "    ----\n",
    "    return: computes the average of the specified column data\n",
    "    '''\n",
    "    if keyword != 'all':\n",
    "        df_key = df[(df['keyword'] == keyword)]\n",
    "    else:\n",
    "        df_key = df\n",
    "\n",
    "    if column == 'body':\n",
    "        # computes the length of the body by word count\n",
    "        return df_key[column].apply(lambda x: len(x.split())).mean()\n",
    "    else:\n",
    "        return df_key[column].mean()"
   ]
  },
  {
   "cell_type": "code",
   "execution_count": null,
   "id": "46400c29",
   "metadata": {},
   "outputs": [],
   "source": []
  }
 ],
 "metadata": {
  "kernelspec": {
   "display_name": "Python 3 (ipykernel)",
   "language": "python",
   "name": "python3"
  },
  "language_info": {
   "codemirror_mode": {
    "name": "ipython",
    "version": 3
   },
   "file_extension": ".py",
   "mimetype": "text/x-python",
   "name": "python",
   "nbconvert_exporter": "python",
   "pygments_lexer": "ipython3",
   "version": "3.10.11"
  }
 },
 "nbformat": 4,
 "nbformat_minor": 5
}
